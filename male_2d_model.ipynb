{
  "nbformat": 4,
  "nbformat_minor": 0,
  "metadata": {
    "colab": {
      "name": "male_2d_model.ipynb",
      "provenance": [],
      "authorship_tag": "ABX9TyM/A+GLPNkepAWIe5doR+uc",
      "include_colab_link": true
    },
    "kernelspec": {
      "name": "python3",
      "display_name": "Python 3"
    },
    "accelerator": "GPU"
  },
  "cells": [
    {
      "cell_type": "markdown",
      "metadata": {
        "id": "view-in-github",
        "colab_type": "text"
      },
      "source": [
        "<a href=\"https://colab.research.google.com/github/puneat/Audio_Sentiment/blob/puneet/male_2d_model.ipynb\" target=\"_parent\"><img src=\"https://colab.research.google.com/assets/colab-badge.svg\" alt=\"Open In Colab\"/></a>"
      ]
    },
    {
      "cell_type": "code",
      "metadata": {
        "id": "sgO6_mMfRVmW",
        "colab_type": "code",
        "colab": {}
      },
      "source": [
        "from google.colab import drive\n",
        "drive.mount('/gdrive', force_remount=True)"
      ],
      "execution_count": null,
      "outputs": []
    },
    {
      "cell_type": "code",
      "metadata": {
        "_cell_guid": "79c7e3d0-c299-4dcb-8224-4455121ee9b0",
        "_uuid": "d629ff2d2480ee46fbb7e2d37f6b5fab8052498a",
        "id": "s_IdA4makRmI",
        "colab_type": "code",
        "colab": {
          "base_uri": "https://localhost:8080/",
          "height": 66
        },
        "outputId": "2dcbd2d9-be6f-4386-96aa-80d1bfaf0255"
      },
      "source": [
        "# Keras\n",
        "import keras\n",
        "from keras import regularizers\n",
        "from keras.preprocessing import sequence\n",
        "from keras.preprocessing.text import Tokenizer\n",
        "from keras.preprocessing.sequence import pad_sequences\n",
        "from keras.models import Sequential, Model, model_from_json\n",
        "from keras.layers import Dense, Embedding, LSTM\n",
        "from keras.layers import Input, Flatten, Dropout, Activation, BatchNormalization\n",
        "from keras.layers import Conv1D, MaxPooling1D, AveragePooling1D\n",
        "from keras.utils import np_utils, to_categorical\n",
        "from keras.callbacks import (EarlyStopping, LearningRateScheduler,\n",
        "                             ModelCheckpoint, TensorBoard, ReduceLROnPlateau)\n",
        "from keras import losses, models, optimizers\n",
        "from keras.activations import relu, softmax\n",
        "from keras.layers import (Convolution2D, GlobalAveragePooling2D, BatchNormalization, Flatten, Dropout,\n",
        "                          GlobalMaxPool2D, MaxPool2D, concatenate, Activation, Input, Dense)\n",
        "\n",
        "# sklearn\n",
        "from sklearn.metrics import confusion_matrix, accuracy_score\n",
        "from sklearn.model_selection import train_test_split\n",
        "from sklearn.preprocessing import LabelEncoder\n",
        "\n",
        "# Other  \n",
        "from tqdm import tqdm, tqdm_pandas\n",
        "import scipy\n",
        "from scipy.stats import skew\n",
        "import librosa\n",
        "import librosa.display\n",
        "import json\n",
        "import numpy as np\n",
        "import matplotlib.pyplot as plt\n",
        "import tensorflow as tf\n",
        "from matplotlib.pyplot import specgram\n",
        "import pandas as pd\n",
        "import seaborn as sns\n",
        "import glob \n",
        "import os\n",
        "import sys\n",
        "import IPython.display as ipd  # To play sound in the notebook\n",
        "import warnings\n",
        "# ignore warnings \n",
        "if not sys.warnoptions:\n",
        "    warnings.simplefilter(\"ignore\")"
      ],
      "execution_count": null,
      "outputs": [
        {
          "output_type": "stream",
          "text": [
            "Using TensorFlow backend.\n",
            "/usr/local/lib/python3.6/dist-packages/statsmodels/tools/_testing.py:19: FutureWarning: pandas.util.testing is deprecated. Use the functions in the public API at pandas.testing instead.\n",
            "  import pandas.util.testing as tm\n"
          ],
          "name": "stderr"
        }
      ]
    },
    {
      "cell_type": "code",
      "metadata": {
        "id": "hlzWGoYm57me",
        "colab_type": "code",
        "colab": {
          "base_uri": "https://localhost:8080/",
          "height": 197
        },
        "outputId": "6125f6f5-1da1-430b-82da-9c8251aec2be"
      },
      "source": [
        "ref = pd.read_csv(\"/gdrive/My Drive/Audio_files/Combined_Dataframes/male_df.csv\")\n",
        "ref.head()"
      ],
      "execution_count": null,
      "outputs": [
        {
          "output_type": "execute_result",
          "data": {
            "text/html": [
              "<div>\n",
              "<style scoped>\n",
              "    .dataframe tbody tr th:only-of-type {\n",
              "        vertical-align: middle;\n",
              "    }\n",
              "\n",
              "    .dataframe tbody tr th {\n",
              "        vertical-align: top;\n",
              "    }\n",
              "\n",
              "    .dataframe thead th {\n",
              "        text-align: right;\n",
              "    }\n",
              "</style>\n",
              "<table border=\"1\" class=\"dataframe\">\n",
              "  <thead>\n",
              "    <tr style=\"text-align: right;\">\n",
              "      <th></th>\n",
              "      <th>labels</th>\n",
              "      <th>source</th>\n",
              "      <th>path</th>\n",
              "    </tr>\n",
              "  </thead>\n",
              "  <tbody>\n",
              "    <tr>\n",
              "      <th>0</th>\n",
              "      <td>female_fear</td>\n",
              "      <td>TESS</td>\n",
              "      <td>/gdrive/My Drive/Audio_files/female_final/TESS...</td>\n",
              "    </tr>\n",
              "    <tr>\n",
              "      <th>1</th>\n",
              "      <td>female_fear</td>\n",
              "      <td>TESS</td>\n",
              "      <td>/gdrive/My Drive/Audio_files/female_final/TESS...</td>\n",
              "    </tr>\n",
              "    <tr>\n",
              "      <th>2</th>\n",
              "      <td>female_fear</td>\n",
              "      <td>TESS</td>\n",
              "      <td>/gdrive/My Drive/Audio_files/female_final/TESS...</td>\n",
              "    </tr>\n",
              "    <tr>\n",
              "      <th>3</th>\n",
              "      <td>female_fear</td>\n",
              "      <td>TESS</td>\n",
              "      <td>/gdrive/My Drive/Audio_files/female_final/TESS...</td>\n",
              "    </tr>\n",
              "    <tr>\n",
              "      <th>4</th>\n",
              "      <td>female_fear</td>\n",
              "      <td>TESS</td>\n",
              "      <td>/gdrive/My Drive/Audio_files/female_final/TESS...</td>\n",
              "    </tr>\n",
              "  </tbody>\n",
              "</table>\n",
              "</div>"
            ],
            "text/plain": [
              "        labels source                                               path\n",
              "0  female_fear   TESS  /gdrive/My Drive/Audio_files/female_final/TESS...\n",
              "1  female_fear   TESS  /gdrive/My Drive/Audio_files/female_final/TESS...\n",
              "2  female_fear   TESS  /gdrive/My Drive/Audio_files/female_final/TESS...\n",
              "3  female_fear   TESS  /gdrive/My Drive/Audio_files/female_final/TESS...\n",
              "4  female_fear   TESS  /gdrive/My Drive/Audio_files/female_final/TESS..."
            ]
          },
          "metadata": {
            "tags": []
          },
          "execution_count": 4
        }
      ]
    },
    {
      "cell_type": "code",
      "metadata": {
        "id": "aUR345uf-Ys5",
        "colab_type": "code",
        "colab": {}
      },
      "source": [
        "result=np.load('/gdrive/My Drive/Audio_files/Combined_Dataframes/male_2d_aug.npy')"
      ],
      "execution_count": null,
      "outputs": []
    },
    {
      "cell_type": "code",
      "metadata": {
        "id": "Uixbj2K1l1lk",
        "colab_type": "code",
        "colab": {
          "base_uri": "https://localhost:8080/",
          "height": 33
        },
        "outputId": "b0b79bca-9f98-4d89-d899-63083be87aa9"
      },
      "source": [
        "result.shape"
      ],
      "execution_count": null,
      "outputs": [
        {
          "output_type": "execute_result",
          "data": {
            "text/plain": [
              "(42174, 30, 216, 1)"
            ]
          },
          "metadata": {
            "tags": []
          },
          "execution_count": 6
        }
      ]
    },
    {
      "cell_type": "code",
      "metadata": {
        "id": "lovlFsbfdh-4",
        "colab_type": "code",
        "colab": {}
      },
      "source": [
        "frames=[ref,ref,ref,ref,ref,ref];\n",
        "df_label=pd.concat(frames);"
      ],
      "execution_count": null,
      "outputs": []
    },
    {
      "cell_type": "code",
      "metadata": {
        "id": "BZOiLBmSbEZi",
        "colab_type": "code",
        "colab": {}
      },
      "source": [
        "nclass = 7\n",
        "inp = Input(shape=(30,216,1))  #2D matrix of 30 MFCC bands by 216 audio length.\n",
        "x = Convolution2D(32, (4,10), padding=\"same\")(inp)\n",
        "x = BatchNormalization()(x)\n",
        "x = Activation(\"relu\")(x)\n",
        "x = MaxPool2D()(x)\n",
        "x = Dropout(rate=0.2)(x)\n",
        "    \n",
        "x = Convolution2D(32, (4,10), padding=\"same\")(x)\n",
        "x = BatchNormalization()(x)\n",
        "x = Activation(\"relu\")(x)\n",
        "x = MaxPool2D()(x)\n",
        "x = Dropout(rate=0.2)(x)\n",
        "    \n",
        "x = Convolution2D(32, (4,10), padding=\"same\")(x)\n",
        "x = BatchNormalization()(x)\n",
        "x = Activation(\"relu\")(x)\n",
        "x = MaxPool2D()(x)\n",
        "x = Dropout(rate=0.2)(x)\n",
        "    \n",
        "x = Convolution2D(32, (4,10), padding=\"same\")(x)\n",
        "x = BatchNormalization()(x)\n",
        "x = Activation(\"relu\")(x)\n",
        "x = MaxPool2D()(x)\n",
        "x = Dropout(rate=0.2)(x)\n",
        "    \n",
        "x = Flatten()(x)\n",
        "x = Dense(64)(x)\n",
        "x = Dropout(rate=0.2)(x)\n",
        "x = BatchNormalization()(x)\n",
        "x = Activation(\"relu\")(x)\n",
        "x = Dropout(rate=0.2)(x)\n",
        "    \n",
        "out = Dense(nclass, activation=softmax)(x)\n",
        "model = models.Model(inputs=inp, outputs=out)\n",
        "    \n",
        "opt = optimizers.Adam(0.001)\n",
        "model.compile(optimizer=opt, loss=losses.categorical_crossentropy, metrics=['acc'])"
      ],
      "execution_count": null,
      "outputs": []
    },
    {
      "cell_type": "code",
      "metadata": {
        "id": "vI8KTyzYkRmY",
        "colab_type": "code",
        "colab": {}
      },
      "source": [
        "# Split between train and test \n",
        "X_train, X_test, y_train, y_test = train_test_split(result\n",
        "                                                    , df_label.labels\n",
        "                                                    , test_size=0.20\n",
        "                                                    , shuffle=True\n",
        "                                                    , random_state=42\n",
        "                                                   )"
      ],
      "execution_count": null,
      "outputs": []
    },
    {
      "cell_type": "code",
      "metadata": {
        "id": "tyEuaOoAuRKh",
        "colab_type": "code",
        "colab": {}
      },
      "source": [
        "# one hot encode the target \n",
        "lb = LabelEncoder()\n",
        "y_train = np_utils.to_categorical(lb.fit_transform(y_train))\n",
        "y_test = np_utils.to_categorical(lb.fit_transform(y_test))"
      ],
      "execution_count": null,
      "outputs": []
    },
    {
      "cell_type": "code",
      "metadata": {
        "id": "-lKUj25RuRQJ",
        "colab_type": "code",
        "colab": {}
      },
      "source": [
        "# Normalization as per the standard NN process\n",
        "mean = np.mean(X_train, axis=0)\n",
        "std = np.std(X_train, axis=0)\n",
        "\n",
        "X_train = (X_train - mean)/std\n",
        "X_test = (X_test - mean)/std"
      ],
      "execution_count": null,
      "outputs": []
    },
    {
      "cell_type": "code",
      "metadata": {
        "id": "rpZCxDGxeSfh",
        "colab_type": "code",
        "colab": {
          "base_uri": "https://localhost:8080/",
          "height": 1000
        },
        "outputId": "8afe5360-436c-4bf6-ac96-ac1b5ebf2860"
      },
      "source": [
        "model_history = model.fit(X_train, y_train, validation_data=(X_test, y_test), batch_size=100, verbose = 1, epochs=50)"
      ],
      "execution_count": null,
      "outputs": [
        {
          "output_type": "stream",
          "text": [
            "Train on 24624 samples, validate on 6156 samples\n",
            "Epoch 1/50\n",
            "24624/24624 [==============================] - 33s 1ms/step - loss: 1.0014 - accuracy: 0.6285 - val_loss: 0.9475 - val_accuracy: 0.6535\n",
            "Epoch 2/50\n",
            "24624/24624 [==============================] - 31s 1ms/step - loss: 0.9637 - accuracy: 0.6372 - val_loss: 1.0404 - val_accuracy: 0.5960\n",
            "Epoch 3/50\n",
            "24624/24624 [==============================] - 31s 1ms/step - loss: 0.9227 - accuracy: 0.6559 - val_loss: 1.0225 - val_accuracy: 0.6200\n",
            "Epoch 4/50\n",
            "24624/24624 [==============================] - 31s 1ms/step - loss: 0.8839 - accuracy: 0.6702 - val_loss: 0.8617 - val_accuracy: 0.6702\n",
            "Epoch 5/50\n",
            "24624/24624 [==============================] - 31s 1ms/step - loss: 0.8659 - accuracy: 0.6793 - val_loss: 0.8534 - val_accuracy: 0.6824\n",
            "Epoch 6/50\n",
            "24624/24624 [==============================] - 31s 1ms/step - loss: 0.8389 - accuracy: 0.6907 - val_loss: 0.8799 - val_accuracy: 0.6839\n",
            "Epoch 7/50\n",
            "24624/24624 [==============================] - 31s 1ms/step - loss: 0.8170 - accuracy: 0.7007 - val_loss: 0.8234 - val_accuracy: 0.6979\n",
            "Epoch 8/50\n",
            "24624/24624 [==============================] - 31s 1ms/step - loss: 0.7900 - accuracy: 0.7094 - val_loss: 0.8419 - val_accuracy: 0.6871\n",
            "Epoch 9/50\n",
            "24624/24624 [==============================] - 31s 1ms/step - loss: 0.7726 - accuracy: 0.7162 - val_loss: 0.7533 - val_accuracy: 0.7305\n",
            "Epoch 10/50\n",
            "24624/24624 [==============================] - 31s 1ms/step - loss: 0.7541 - accuracy: 0.7243 - val_loss: 0.7909 - val_accuracy: 0.7053\n",
            "Epoch 11/50\n",
            "24624/24624 [==============================] - 31s 1ms/step - loss: 0.7302 - accuracy: 0.7310 - val_loss: 0.7900 - val_accuracy: 0.7238\n",
            "Epoch 12/50\n",
            "24624/24624 [==============================] - 31s 1ms/step - loss: 0.7153 - accuracy: 0.7416 - val_loss: 0.7315 - val_accuracy: 0.7299\n",
            "Epoch 13/50\n",
            "24624/24624 [==============================] - 31s 1ms/step - loss: 0.6944 - accuracy: 0.7420 - val_loss: 0.7320 - val_accuracy: 0.7351\n",
            "Epoch 14/50\n",
            "24624/24624 [==============================] - 31s 1ms/step - loss: 0.6822 - accuracy: 0.7506 - val_loss: 0.6577 - val_accuracy: 0.7635\n",
            "Epoch 15/50\n",
            "24624/24624 [==============================] - 31s 1ms/step - loss: 0.6689 - accuracy: 0.7547 - val_loss: 0.7001 - val_accuracy: 0.7438\n",
            "Epoch 16/50\n",
            "24624/24624 [==============================] - 31s 1ms/step - loss: 0.6527 - accuracy: 0.7615 - val_loss: 0.6874 - val_accuracy: 0.7583\n",
            "Epoch 17/50\n",
            "24624/24624 [==============================] - 31s 1ms/step - loss: 0.6458 - accuracy: 0.7636 - val_loss: 0.6456 - val_accuracy: 0.7641\n",
            "Epoch 18/50\n",
            "24624/24624 [==============================] - 31s 1ms/step - loss: 0.6296 - accuracy: 0.7726 - val_loss: 0.6640 - val_accuracy: 0.7623\n",
            "Epoch 19/50\n",
            "24624/24624 [==============================] - 31s 1ms/step - loss: 0.6328 - accuracy: 0.7715 - val_loss: 0.6338 - val_accuracy: 0.7727\n",
            "Epoch 20/50\n",
            "24624/24624 [==============================] - 31s 1ms/step - loss: 0.6100 - accuracy: 0.7776 - val_loss: 0.6684 - val_accuracy: 0.7610\n",
            "Epoch 21/50\n",
            "24624/24624 [==============================] - 31s 1ms/step - loss: 0.6064 - accuracy: 0.7801 - val_loss: 0.6382 - val_accuracy: 0.7781\n",
            "Epoch 22/50\n",
            "24624/24624 [==============================] - 31s 1ms/step - loss: 0.5899 - accuracy: 0.7828 - val_loss: 0.5988 - val_accuracy: 0.7875\n",
            "Epoch 23/50\n",
            "24624/24624 [==============================] - 31s 1ms/step - loss: 0.5835 - accuracy: 0.7894 - val_loss: 0.6241 - val_accuracy: 0.7755\n",
            "Epoch 24/50\n",
            "24624/24624 [==============================] - 31s 1ms/step - loss: 0.5838 - accuracy: 0.7860 - val_loss: 0.5576 - val_accuracy: 0.8075\n",
            "Epoch 25/50\n",
            "24624/24624 [==============================] - 31s 1ms/step - loss: 0.5728 - accuracy: 0.7921 - val_loss: 0.6009 - val_accuracy: 0.7859\n",
            "Epoch 26/50\n",
            "24624/24624 [==============================] - 31s 1ms/step - loss: 0.5661 - accuracy: 0.7937 - val_loss: 0.6012 - val_accuracy: 0.7927\n",
            "Epoch 27/50\n",
            "24624/24624 [==============================] - 31s 1ms/step - loss: 0.5576 - accuracy: 0.7971 - val_loss: 0.5815 - val_accuracy: 0.7930\n",
            "Epoch 28/50\n",
            "24624/24624 [==============================] - 31s 1ms/step - loss: 0.5472 - accuracy: 0.8051 - val_loss: 0.5924 - val_accuracy: 0.7904\n",
            "Epoch 29/50\n",
            "24624/24624 [==============================] - 31s 1ms/step - loss: 0.5425 - accuracy: 0.8018 - val_loss: 0.5417 - val_accuracy: 0.8155\n",
            "Epoch 30/50\n",
            "24624/24624 [==============================] - 31s 1ms/step - loss: 0.5396 - accuracy: 0.8059 - val_loss: 0.5846 - val_accuracy: 0.7895\n",
            "Epoch 31/50\n",
            "24624/24624 [==============================] - 31s 1ms/step - loss: 0.5287 - accuracy: 0.8083 - val_loss: 0.6007 - val_accuracy: 0.7930\n",
            "Epoch 32/50\n",
            "24624/24624 [==============================] - 31s 1ms/step - loss: 0.5248 - accuracy: 0.8106 - val_loss: 0.6049 - val_accuracy: 0.7939\n",
            "Epoch 33/50\n",
            "24624/24624 [==============================] - 31s 1ms/step - loss: 0.5097 - accuracy: 0.8169 - val_loss: 0.5318 - val_accuracy: 0.8173\n",
            "Epoch 34/50\n",
            "24624/24624 [==============================] - 31s 1ms/step - loss: 0.5085 - accuracy: 0.8150 - val_loss: 0.5260 - val_accuracy: 0.8163\n",
            "Epoch 35/50\n",
            "24624/24624 [==============================] - 31s 1ms/step - loss: 0.5163 - accuracy: 0.8112 - val_loss: 0.5038 - val_accuracy: 0.8259\n",
            "Epoch 36/50\n",
            "24624/24624 [==============================] - 31s 1ms/step - loss: 0.5057 - accuracy: 0.8189 - val_loss: 0.5340 - val_accuracy: 0.8202\n",
            "Epoch 37/50\n",
            "24624/24624 [==============================] - 31s 1ms/step - loss: 0.5023 - accuracy: 0.8168 - val_loss: 0.5216 - val_accuracy: 0.8190\n",
            "Epoch 38/50\n",
            "24624/24624 [==============================] - 31s 1ms/step - loss: 0.4980 - accuracy: 0.8214 - val_loss: 0.5669 - val_accuracy: 0.8012\n",
            "Epoch 39/50\n",
            "24624/24624 [==============================] - 31s 1ms/step - loss: 0.4825 - accuracy: 0.8273 - val_loss: 0.5189 - val_accuracy: 0.8234\n",
            "Epoch 40/50\n",
            "24624/24624 [==============================] - 31s 1ms/step - loss: 0.4827 - accuracy: 0.8248 - val_loss: 0.5409 - val_accuracy: 0.8150\n",
            "Epoch 41/50\n",
            "24624/24624 [==============================] - 31s 1ms/step - loss: 0.4807 - accuracy: 0.8292 - val_loss: 0.5081 - val_accuracy: 0.8304\n",
            "Epoch 42/50\n",
            "24624/24624 [==============================] - 31s 1ms/step - loss: 0.4690 - accuracy: 0.8330 - val_loss: 0.5620 - val_accuracy: 0.8036\n",
            "Epoch 43/50\n",
            "24624/24624 [==============================] - 31s 1ms/step - loss: 0.4723 - accuracy: 0.8285 - val_loss: 0.5308 - val_accuracy: 0.8233\n",
            "Epoch 44/50\n",
            "24624/24624 [==============================] - 31s 1ms/step - loss: 0.4762 - accuracy: 0.8299 - val_loss: 0.5817 - val_accuracy: 0.8075\n",
            "Epoch 45/50\n",
            "24624/24624 [==============================] - 31s 1ms/step - loss: 0.4642 - accuracy: 0.8332 - val_loss: 0.5173 - val_accuracy: 0.8228\n",
            "Epoch 46/50\n",
            "24624/24624 [==============================] - 31s 1ms/step - loss: 0.4725 - accuracy: 0.8293 - val_loss: 0.6019 - val_accuracy: 0.7976\n",
            "Epoch 47/50\n",
            "24624/24624 [==============================] - 31s 1ms/step - loss: 0.4585 - accuracy: 0.8357 - val_loss: 0.4979 - val_accuracy: 0.8298\n",
            "Epoch 48/50\n",
            "24624/24624 [==============================] - 31s 1ms/step - loss: 0.4640 - accuracy: 0.8346 - val_loss: 0.5165 - val_accuracy: 0.8259\n",
            "Epoch 49/50\n",
            "24624/24624 [==============================] - 31s 1ms/step - loss: 0.4404 - accuracy: 0.8430 - val_loss: 0.5051 - val_accuracy: 0.8312\n",
            "Epoch 50/50\n",
            "24624/24624 [==============================] - 31s 1ms/step - loss: 0.4519 - accuracy: 0.8396 - val_loss: 0.6161 - val_accuracy: 0.7870\n"
          ],
          "name": "stdout"
        }
      ]
    },
    {
      "cell_type": "code",
      "metadata": {
        "id": "UKlXYzzluPtF",
        "colab_type": "code",
        "colab": {
          "base_uri": "https://localhost:8080/",
          "height": 33
        },
        "outputId": "4421b9c3-c0d4-4a0f-a26c-dadbfbca3562"
      },
      "source": [
        "cd /gdrive/My Drive/Audio_files/"
      ],
      "execution_count": null,
      "outputs": [
        {
          "output_type": "stream",
          "text": [
            "/gdrive/My Drive/Audio_files\n"
          ],
          "name": "stdout"
        }
      ]
    },
    {
      "cell_type": "code",
      "metadata": {
        "id": "GAFsohbvkYPN",
        "colab_type": "code",
        "colab": {
          "base_uri": "https://localhost:8080/",
          "height": 33
        },
        "outputId": "d724b42c-f1a1-4277-a574-206362d9fc67"
      },
      "source": [
        "# Save model and weights\n",
        "model_name = 'cnn2d_male_7870.h5'\n",
        "save_dir = os.path.join(os.getcwd(), 'saved_models')\n",
        "\n",
        "if not os.path.isdir(save_dir):\n",
        "    os.makedirs(save_dir)\n",
        "model_path = os.path.join(save_dir, model_name)\n",
        "model.save(model_path)\n",
        "print('Save model and weights at %s ' % model_path)\n",
        "\n",
        "# Save the model to disk\n",
        "model_json = model.to_json()\n",
        "with open(\"cnn2d_male_7870.json\", \"w\") as json_file:\n",
        "    json_file.write(model_json)"
      ],
      "execution_count": null,
      "outputs": [
        {
          "output_type": "stream",
          "text": [
            "Save model and weights at /gdrive/My Drive/Audio_files/saved_models/cnn2d_male_7870.h5 \n"
          ],
          "name": "stdout"
        }
      ]
    },
    {
      "cell_type": "code",
      "metadata": {
        "id": "ARwERpf6kYPU",
        "colab_type": "code",
        "colab": {
          "base_uri": "https://localhost:8080/",
          "height": 33
        },
        "outputId": "201434bf-cbb0-4962-951a-eb555a1248a7"
      },
      "source": [
        "# loading json and model architecture \n",
        "json_file = open('cnn2d_male_7870.json', 'r')\n",
        "loaded_model_json = json_file.read()\n",
        "json_file.close()\n",
        "loaded_model = model_from_json(loaded_model_json)\n",
        "\n",
        "# load weights into new model\n",
        "loaded_model.load_weights(\"saved_models/cnn2d_male_7870.h5\")\n",
        "print(\"Loaded model from disk\")"
      ],
      "execution_count": null,
      "outputs": [
        {
          "output_type": "stream",
          "text": [
            "Loaded model from disk\n"
          ],
          "name": "stdout"
        }
      ]
    },
    {
      "cell_type": "code",
      "metadata": {
        "id": "shGF8jg1gNGu",
        "colab_type": "code",
        "colab": {}
      },
      "source": [
        "class get_results:\n",
        "    \n",
        "    def __init__(self, model_history, model ,X_test, y_test, labels):\n",
        "        self.model_history = model_history\n",
        "        self.model = model\n",
        "        self.X_test = X_test\n",
        "        self.y_test = y_test             \n",
        "        self.labels = labels\n",
        "\n",
        "    def create_plot(self, model_history):\n",
        "        '''Check the logloss of both train and validation, make sure they are close and have plateau'''\n",
        "        plt.plot(model_history.history['loss'])\n",
        "        plt.plot(model_history.history['val_loss'])\n",
        "        plt.title('model loss')\n",
        "        plt.ylabel('loss')\n",
        "        plt.xlabel('epoch')\n",
        "        plt.legend(['train', 'test'], loc='upper left')\n",
        "        plt.show()\n",
        "\n",
        "    def create_results(self, model):\n",
        "        '''predict on test set and get accuracy results'''\n",
        "        opt = optimizers.Adam(0.001)\n",
        "        model.compile(loss='categorical_crossentropy', optimizer=opt, metrics=['accuracy'])\n",
        "        score = model.evaluate(X_test, y_test, verbose=0)\n",
        "        print(\"%s: %.2f%%\" % (model.metrics_names[1], score[1]*100))\n",
        "\n",
        "    def confusion_results(self, X_test, y_test, labels, model):\n",
        "        '''plot confusion matrix results'''\n",
        "        preds = model.predict(X_test, \n",
        "                                 batch_size=16, \n",
        "                                 verbose=2)\n",
        "        preds=preds.argmax(axis=1)\n",
        "        preds = preds.astype(int).flatten()\n",
        "        preds = (lb.inverse_transform((preds)))\n",
        "\n",
        "        actual = y_test.argmax(axis=1)\n",
        "        actual = actual.astype(int).flatten()\n",
        "        actual = (lb.inverse_transform((actual)))\n",
        "\n",
        "        classes = labels\n",
        "        classes.sort()    \n",
        "\n",
        "        c = confusion_matrix(actual, preds)\n",
        "        print_confusion_matrix(c, class_names = classes)\n",
        "    \n",
        "    def accuracy_results_gender(self, X_test, y_test, labels, model):\n",
        "        '''Print out the accuracy score and confusion matrix heat map of the Gender classification results'''\n",
        "    \n",
        "        preds = model.predict(X_test, \n",
        "                         batch_size=16, \n",
        "                         verbose=2)\n",
        "        preds=preds.argmax(axis=1)\n",
        "        preds = preds.astype(int).flatten()\n",
        "        preds = (lb.inverse_transform((preds)))\n",
        "\n",
        "        actual = y_test.argmax(axis=1)\n",
        "        actual = actual.astype(int).flatten()\n",
        "        actual = (lb.inverse_transform((actual)))\n",
        "        \n",
        "        # print(accuracy_score(actual, preds))\n",
        "        \n",
        "        actual = pd.DataFrame(actual).replace({\n",
        "                   , 'male_angry':'male'\n",
        "                   , 'male_fear':'male'\n",
        "                   , 'male_happy':'male'\n",
        "                   , 'male_sad':'male'\n",
        "                   , 'male_surprise':'male'\n",
        "                   , 'male_neutral':'male'\n",
        "                   , 'male_disgust':'male'\n",
        "                  })\n",
        "        preds = pd.DataFrame(preds).replace({\n",
        "               , 'male_fear':'male'\n",
        "               , 'male_happy':'male'\n",
        "               , 'male_sad':'male'\n",
        "               , 'male_surprise':'male'\n",
        "               , 'male_neutral':'male'\n",
        "               , 'male_disgust':'male'\n",
        "              })\n",
        "\n",
        "        classes = actual.loc[:,0].unique() \n",
        "        classes.sort()    \n",
        "\n",
        "        c = confusion_matrix(actual, preds)\n",
        "        print(accuracy_score(actual, preds))\n",
        "        print_confusion_matrix(c, class_names = classes)\n",
        "        \n",
        "def print_confusion_matrix(confusion_matrix, class_names, figsize = (10,7), fontsize=14):\n",
        "    '''Prints a confusion matrix, as returned by sklearn.metrics.confusion_matrix, as a heatmap.'''\n",
        "    df_cm = pd.DataFrame(\n",
        "        confusion_matrix, index=class_names, columns=class_names, \n",
        "    )\n",
        "    fig = plt.figure(figsize=figsize)\n",
        "    try:\n",
        "        heatmap = sns.heatmap(df_cm, annot=True, fmt=\"d\")\n",
        "    except ValueError:\n",
        "        raise ValueError(\"Confusion matrix values must be integers.\")\n",
        "\n",
        "    heatmap.yaxis.set_ticklabels(heatmap.yaxis.get_ticklabels(), rotation=0, ha='right', fontsize=fontsize)\n",
        "    heatmap.xaxis.set_ticklabels(heatmap.xaxis.get_ticklabels(), rotation=45, ha='right', fontsize=fontsize)\n",
        "    plt.ylabel('True label')\n",
        "    plt.xlabel('Predicted label')"
      ],
      "execution_count": null,
      "outputs": []
    },
    {
      "cell_type": "code",
      "metadata": {
        "id": "7WVEVV0kgQ3i",
        "colab_type": "code",
        "colab": {
          "base_uri": "https://localhost:8080/",
          "height": 806
        },
        "outputId": "b169ba98-522f-4934-9d88-9ad42f56b51a"
      },
      "source": [
        "results = get_results(model_history,model,X_test,y_test, ref.labels.unique())\n",
        "results.create_plot(model_history)\n",
        "results.create_results(model)\n",
        "results.confusion_results(X_test, y_test, ref.labels.unique(), model)"
      ],
      "execution_count": null,
      "outputs": [
        {
          "output_type": "display_data",
          "data": {
            "image/png": "[encoded data removed]",
            "text/plain": [
              "<Figure size 432x288 with 1 Axes>"
            ]
          },
          "metadata": {
            "tags": [],
            "needs_background": "light"
          }
        },
        {
          "output_type": "stream",
          "text": [
            "accuracy: 78.70%\n"
          ],
          "name": "stdout"
        },
        {
          "output_type": "display_data",
          "data": {
            "image/png": "[encoded data removed]",
            "text/plain": [
              "<Figure size 720x504 with 2 Axes>"
            ]
          },
          "metadata": {
            "tags": [],
            "needs_background": "light"
          }
        }
      ]
    }
  ]
}