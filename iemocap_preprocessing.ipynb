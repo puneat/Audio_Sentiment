{
  "nbformat": 4,
  "nbformat_minor": 0,
  "metadata": {
    "colab": {
      "name": "iemocap preprocessing.ipynb",
      "provenance": [],
      "authorship_tag": "ABX9TyPvk48PT1BZ0qFhAWJJH5Hw",
      "include_colab_link": true
    },
    "kernelspec": {
      "name": "python3",
      "display_name": "Python 3"
    }
  },
  "cells": [
    {
      "cell_type": "markdown",
      "metadata": {
        "id": "view-in-github",
        "colab_type": "text"
      },
      "source": [
        "<a href=\"https://colab.research.google.com/github/puneat/Audio_Sentiment/blob/master/iemocap_preprocessing.ipynb\" target=\"_parent\"><img src=\"https://colab.research.google.com/assets/colab-badge.svg\" alt=\"Open In Colab\"/></a>"
      ]
    },
    {
      "cell_type": "code",
      "metadata": {
        "id": "VJBpz_oI948c",
        "outputId": "db3ff042-16cd-4d9b-e278-8506cf8851a2",
        "colab": {
          "base_uri": "https://localhost:8080/",
          "height": 35
        }
      },
      "source": [
        "from google.colab import drive\n",
        "drive.mount('/gdrive', force_remount=True)"
      ],
      "execution_count": 1,
      "outputs": [
        {
          "output_type": "stream",
          "text": [
            "Mounted at /gdrive\n"
          ],
          "name": "stdout"
        }
      ]
    },
    {
      "cell_type": "code",
      "metadata": {
        "id": "Fu16kYX9_nub"
      },
      "source": [
        "import re\n",
        "\n",
        "# first test with one file\n",
        "file_path = '/gdrive/My Drive/ser_tcn/iemocap/Session1/dialog/EmoEvaluation/Ses01F_impro01.txt'"
      ],
      "execution_count": 2,
      "outputs": []
    },
    {
      "cell_type": "code",
      "metadata": {
        "id": "k7RP-2sB_va5"
      },
      "source": [
        "useful_regex = re.compile(r'\\[.+\\]\\n', re.IGNORECASE)"
      ],
      "execution_count": 6,
      "outputs": []
    },
    {
      "cell_type": "code",
      "metadata": {
        "id": "8mk2TXum_xoI"
      },
      "source": [
        "with open(file_path) as f:\n",
        "    file_content = f.read()\n",
        "    \n",
        "info_lines = re.findall(useful_regex, file_content)"
      ],
      "execution_count": 7,
      "outputs": []
    },
    {
      "cell_type": "code",
      "metadata": {
        "id": "tWUTQJQG_0-h",
        "outputId": "5896a7d4-2a9a-48fd-b9aa-a19b2a225fd7",
        "colab": {
          "base_uri": "https://localhost:8080/",
          "height": 179
        }
      },
      "source": [
        "for l in info_lines[1:10]:\n",
        "    print(l.strip().split('\\t'))"
      ],
      "execution_count": 8,
      "outputs": [
        {
          "output_type": "stream",
          "text": [
            "['[6.2901 - 8.2357]', 'Ses01F_impro01_F000', 'neu', '[2.5000, 2.5000, 2.5000]']\n",
            "['[10.0100 - 11.3925]', 'Ses01F_impro01_F001', 'neu', '[2.5000, 2.5000, 2.5000]']\n",
            "['[14.8872 - 18.0175]', 'Ses01F_impro01_F002', 'neu', '[2.5000, 2.5000, 2.5000]']\n",
            "['[19.2900 - 20.7875]', 'Ses01F_impro01_F003', 'xxx', '[2.5000, 3.0000, 3.0000]']\n",
            "['[21.3257 - 24.7400]', 'Ses01F_impro01_F004', 'xxx', '[2.5000, 3.0000, 2.5000]']\n",
            "['[27.4600 - 31.4900]', 'Ses01F_impro01_F005', 'neu', '[2.5000, 3.5000, 2.0000]']\n",
            "['[38.9650 - 43.5900]', 'Ses01F_impro01_F006', 'fru', '[2.0000, 3.5000, 3.5000]']\n",
            "['[46.5800 - 52.1900]', 'Ses01F_impro01_F007', 'fru', '[2.5000, 3.5000, 3.5000]']\n",
            "['[56.1600 - 58.8225]', 'Ses01F_impro01_F008', 'fru', '[2.0000, 3.5000, 3.5000]']\n"
          ],
          "name": "stdout"
        }
      ]
    },
    {
      "cell_type": "code",
      "metadata": {
        "id": "n8X-cryT_7JW"
      },
      "source": [
        "import re\n",
        "import os\n",
        "\n",
        "\n",
        "info_line = re.compile(r'\\[.+\\]\\n', re.IGNORECASE)\n",
        "\n",
        "start_times, end_times, wav_file_names, emotions, vals, acts, doms = [], [], [], [], [], [], []\n",
        "\n",
        "for sess in range(1, 6):\n",
        "    emo_evaluation_dir = '/gdrive/My Drive/ser_tcn/iemocap/Session{}/dialog/EmoEvaluation/'.format(sess)\n",
        "    evaluation_files = [l for l in os.listdir(emo_evaluation_dir) if 'Ses' in l]\n",
        "    for file in evaluation_files:\n",
        "        with open(emo_evaluation_dir + file) as f:\n",
        "            content = f.read()\n",
        "        info_lines = re.findall(info_line, content)\n",
        "        for line in info_lines[1:]:  # the first line is a header\n",
        "            start_end_time, wav_file_name, emotion, val_act_dom = line.strip().split('\\t')\n",
        "            start_time, end_time = start_end_time[1:-1].split('-')\n",
        "            val, act, dom = val_act_dom[1:-1].split(',')\n",
        "            val, act, dom = float(val), float(act), float(dom)\n",
        "            start_time, end_time = float(start_time), float(end_time)\n",
        "            start_times.append(start_time)\n",
        "            end_times.append(end_time)\n",
        "            wav_file_names.append(wav_file_name)\n",
        "            emotions.append(emotion)\n",
        "            vals.append(val)\n",
        "            acts.append(act)\n",
        "            doms.append(dom)"
      ],
      "execution_count": 9,
      "outputs": []
    },
    {
      "cell_type": "code",
      "metadata": {
        "id": "o8aCZlWuAA-v",
        "outputId": "b106181f-0ce2-47da-ba84-8fb021d32359",
        "colab": {
          "base_uri": "https://localhost:8080/",
          "height": 204
        }
      },
      "source": [
        "import pandas as pd\n",
        "\n",
        "df_iemocap = pd.DataFrame(columns=['start_time', 'end_time', 'wav_file', 'emotion', 'val', 'act', 'dom'])\n",
        "\n",
        "df_iemocap['start_time'] = start_times\n",
        "df_iemocap['end_time'] = end_times\n",
        "df_iemocap['wav_file'] = wav_file_names\n",
        "df_iemocap['emotion'] = emotions\n",
        "df_iemocap['val'] = vals\n",
        "df_iemocap['act'] = acts\n",
        "df_iemocap['dom'] = doms\n",
        "\n",
        "df_iemocap.tail()"
      ],
      "execution_count": 10,
      "outputs": [
        {
          "output_type": "execute_result",
          "data": {
            "text/html": [
              "<div>\n",
              "<style scoped>\n",
              "    .dataframe tbody tr th:only-of-type {\n",
              "        vertical-align: middle;\n",
              "    }\n",
              "\n",
              "    .dataframe tbody tr th {\n",
              "        vertical-align: top;\n",
              "    }\n",
              "\n",
              "    .dataframe thead th {\n",
              "        text-align: right;\n",
              "    }\n",
              "</style>\n",
              "<table border=\"1\" class=\"dataframe\">\n",
              "  <thead>\n",
              "    <tr style=\"text-align: right;\">\n",
              "      <th></th>\n",
              "      <th>start_time</th>\n",
              "      <th>end_time</th>\n",
              "      <th>wav_file</th>\n",
              "      <th>emotion</th>\n",
              "      <th>val</th>\n",
              "      <th>act</th>\n",
              "      <th>dom</th>\n",
              "    </tr>\n",
              "  </thead>\n",
              "  <tbody>\n",
              "    <tr>\n",
              "      <th>10034</th>\n",
              "      <td>164.3500</td>\n",
              "      <td>170.80</td>\n",
              "      <td>Ses05F_impro07_M032</td>\n",
              "      <td>exc</td>\n",
              "      <td>4.5</td>\n",
              "      <td>4.0</td>\n",
              "      <td>4.0</td>\n",
              "    </tr>\n",
              "    <tr>\n",
              "      <th>10035</th>\n",
              "      <td>171.6300</td>\n",
              "      <td>173.14</td>\n",
              "      <td>Ses05F_impro07_M033</td>\n",
              "      <td>exc</td>\n",
              "      <td>4.0</td>\n",
              "      <td>3.5</td>\n",
              "      <td>3.5</td>\n",
              "    </tr>\n",
              "    <tr>\n",
              "      <th>10036</th>\n",
              "      <td>173.6500</td>\n",
              "      <td>175.54</td>\n",
              "      <td>Ses05F_impro07_M034</td>\n",
              "      <td>exc</td>\n",
              "      <td>4.0</td>\n",
              "      <td>3.0</td>\n",
              "      <td>3.0</td>\n",
              "    </tr>\n",
              "    <tr>\n",
              "      <th>10037</th>\n",
              "      <td>175.5500</td>\n",
              "      <td>178.95</td>\n",
              "      <td>Ses05F_impro07_M035</td>\n",
              "      <td>exc</td>\n",
              "      <td>3.5</td>\n",
              "      <td>3.0</td>\n",
              "      <td>3.5</td>\n",
              "    </tr>\n",
              "    <tr>\n",
              "      <th>10038</th>\n",
              "      <td>179.0466</td>\n",
              "      <td>185.33</td>\n",
              "      <td>Ses05F_impro07_M036</td>\n",
              "      <td>exc</td>\n",
              "      <td>4.0</td>\n",
              "      <td>3.5</td>\n",
              "      <td>3.5</td>\n",
              "    </tr>\n",
              "  </tbody>\n",
              "</table>\n",
              "</div>"
            ],
            "text/plain": [
              "       start_time  end_time             wav_file emotion  val  act  dom\n",
              "10034    164.3500    170.80  Ses05F_impro07_M032     exc  4.5  4.0  4.0\n",
              "10035    171.6300    173.14  Ses05F_impro07_M033     exc  4.0  3.5  3.5\n",
              "10036    173.6500    175.54  Ses05F_impro07_M034     exc  4.0  3.0  3.0\n",
              "10037    175.5500    178.95  Ses05F_impro07_M035     exc  3.5  3.0  3.5\n",
              "10038    179.0466    185.33  Ses05F_impro07_M036     exc  4.0  3.5  3.5"
            ]
          },
          "metadata": {
            "tags": []
          },
          "execution_count": 10
        }
      ]
    },
    {
      "cell_type": "code",
      "metadata": {
        "id": "HU10-N6_ALhR",
        "outputId": "3fe58db3-bbed-40d3-c521-73147cd3942e",
        "colab": {
          "base_uri": "https://localhost:8080/",
          "height": 107
        }
      },
      "source": [
        "df_iemocap.emotion."
      ],
      "execution_count": 25,
      "outputs": [
        {
          "output_type": "execute_result",
          "data": {
            "text/plain": [
              "count     10039\n",
              "unique       11\n",
              "top         xxx\n",
              "freq       2507\n",
              "Name: emotion, dtype: object"
            ]
          },
          "metadata": {
            "tags": []
          },
          "execution_count": 25
        }
      ]
    },
    {
      "cell_type": "code",
      "metadata": {
        "id": "etLCGW4cACyu"
      },
      "source": [
        "df_iemocap.to_csv('/gdrive/My Drive/ser_tcn/iemocap/df_iemocap.csv', index=False)"
      ],
      "execution_count": 26,
      "outputs": []
    },
    {
      "cell_type": "code",
      "metadata": {
        "id": "_JOXd-3ABS5C",
        "outputId": "82f4051d-618a-4755-bf6b-4cd59327d9b0",
        "colab": {
          "base_uri": "https://localhost:8080/",
          "height": 145
        }
      },
      "source": [
        "!pip install soundfile"
      ],
      "execution_count": 2,
      "outputs": [
        {
          "output_type": "stream",
          "text": [
            "Collecting soundfile\n",
            "  Downloading https://files.pythonhosted.org/packages/eb/f2/3cbbbf3b96fb9fa91582c438b574cff3f45b29c772f94c400e2c99ef5db9/SoundFile-0.10.3.post1-py2.py3-none-any.whl\n",
            "Requirement already satisfied: cffi>=1.0 in /usr/local/lib/python3.6/dist-packages (from soundfile) (1.14.3)\n",
            "Requirement already satisfied: pycparser in /usr/local/lib/python3.6/dist-packages (from cffi>=1.0->soundfile) (2.20)\n",
            "Installing collected packages: soundfile\n",
            "Successfully installed soundfile-0.10.3.post1\n"
          ],
          "name": "stdout"
        }
      ]
    },
    {
      "cell_type": "code",
      "metadata": {
        "id": "J35tbHc-BPTo"
      },
      "source": [
        "# Try for one file first\n",
        "import librosa\n",
        "import os\n",
        "import soundfile as sf\n",
        "import numpy as np\n",
        "import matplotlib.pyplot as plt\n",
        "import matplotlib.style as ms\n",
        "from tqdm import tqdm\n",
        "import pickle\n",
        "\n",
        "import IPython.display\n",
        "import librosa.display\n",
        "ms.use('seaborn-muted')\n",
        "%matplotlib inline"
      ],
      "execution_count": 3,
      "outputs": []
    },
    {
      "cell_type": "code",
      "metadata": {
        "id": "yRCOf1D6BQSD",
        "outputId": "70ffeb8a-4eb0-4755-ea36-ffba383f575d",
        "colab": {
          "base_uri": "https://localhost:8080/",
          "height": 53
        }
      },
      "source": [
        "file_path = '/gdrive/My Drive/ser_tcn/iemocap/Session1/dialog/wav/Ses01F_impro01.wav'\n",
        "\n",
        "y, sr = librosa.load(file_path, sr=16000)\n",
        "y, sr"
      ],
      "execution_count": 4,
      "outputs": [
        {
          "output_type": "execute_result",
          "data": {
            "text/plain": [
              "(array([ 0.42692566,  0.17858887, -0.49665833, ..., -0.11756897,\n",
              "        -0.49945068, -0.29483032], dtype=float32), 16000)"
            ]
          },
          "metadata": {
            "tags": []
          },
          "execution_count": 4
        }
      ]
    },
    {
      "cell_type": "code",
      "metadata": {
        "id": "cfewNRPQBavB"
      },
      "source": [
        "import pandas as pd\n",
        "import math\n",
        "\n",
        "labels_df = pd.read_csv('/gdrive/My Drive/ser_tcn/iemocap/df_iemocap.csv')\n",
        "iemocap_dir = '/gdrive/My Drive/ser_tcn/iemocap/'"
      ],
      "execution_count": 5,
      "outputs": []
    },
    {
      "cell_type": "code",
      "metadata": {
        "id": "1yRUMWQYBbTs",
        "outputId": "f653aea7-4c7a-4a02-e64f-e6f0d48bcbdb",
        "colab": {
          "base_uri": "https://localhost:8080/",
          "height": 125
        }
      },
      "source": [
        "sr = 44100\n",
        "audio_vectors = {}\n",
        "for sess in range(1,6):  # using one session due to memory constraint, can replace [5] with range(1, 6)\n",
        "    audio_vectors = {}\n",
        "    wav_file_path = '{}Session{}/dialog/wav/'.format(iemocap_dir, sess)\n",
        "    orig_wav_files = os.listdir(wav_file_path)\n",
        "    for orig_wav_file in tqdm(orig_wav_files):\n",
        "        try:\n",
        "            orig_wav_vector, _sr = librosa.load(wav_file_path + orig_wav_file, sr=sr)\n",
        "            orig_wav_file, file_format = orig_wav_file.split('.')\n",
        "            for index, row in labels_df[labels_df['wav_file'].str.contains(orig_wav_file)].iterrows():\n",
        "                start_time, end_time, truncated_wav_file_name, emotion, val, act, dom = row['start_time'], row['end_time'], row['wav_file'], row['emotion'], row['val'], row['act'], row['dom']\n",
        "                start_frame = math.floor(start_time * sr)\n",
        "                end_frame = math.floor(end_time * sr)\n",
        "                truncated_wav_vector = orig_wav_vector[start_frame:end_frame + 1]\n",
        "                audio_vectors[truncated_wav_file_name] = truncated_wav_vector\n",
        "        except:\n",
        "            print('An exception occured for {}'.format(orig_wav_file))\n",
        "    with open('/gdrive/My Drive/ser_tcn/iemocap/audio_vectors_{}.pkl'.format(sess), 'wb') as f:\n",
        "        pickle.dump(audio_vectors, f)\n",
        "    del audio_vectors"
      ],
      "execution_count": 6,
      "outputs": [
        {
          "output_type": "stream",
          "text": [
            "100%|██████████| 28/28 [06:18<00:00, 13.52s/it]\n",
            " 23%|██▎       | 7/31 [01:09<03:11,  7.98s/it]"
          ],
          "name": "stderr"
        },
        {
          "output_type": "stream",
          "text": [
            "An exception occured for Ses02F_script01_1.pk\n"
          ],
          "name": "stdout"
        },
        {
          "output_type": "stream",
          "text": [
            "100%|██████████| 31/31 [06:02<00:00, 11.69s/it]\n",
            "100%|██████████| 32/32 [06:52<00:00, 12.90s/it]\n",
            "100%|██████████| 30/30 [06:44<00:00, 13.50s/it]\n",
            "100%|██████████| 31/31 [06:57<00:00, 13.46s/it]\n"
          ],
          "name": "stderr"
        }
      ]
    },
    {
      "cell_type": "code",
      "metadata": {
        "id": "McpeF0YBDWrd"
      },
      "source": [
        "with open('/gdrive/My Drive/ser_tcn/iemocap/audio_vectors_{}.pkl'.format(sess), 'wb') as f:\n",
        "    pickle.dump(audio_vectors, f)"
      ],
      "execution_count": 33,
      "outputs": []
    },
    {
      "cell_type": "code",
      "metadata": {
        "id": "e94-cfxHDbfp"
      },
      "source": [
        "import os\n",
        "import pickle\n",
        "import soundfile as sf\n",
        "import numpy as np\n",
        "import matplotlib.pyplot as plt\n",
        "import matplotlib.style as ms\n",
        "from tqdm import tqdm\n",
        "import librosa\n",
        "import math\n",
        "import random\n",
        "import pandas as pd\n",
        "import IPython.display\n",
        "import librosa.display\n",
        "ms.use('seaborn-muted')\n",
        "%matplotlib inline"
      ],
      "execution_count": 34,
      "outputs": []
    },
    {
      "cell_type": "code",
      "metadata": {
        "id": "Ut4RAIJcDpQ8"
      },
      "source": [
        "data_dir = '/gdrive/My Drive/ser_tcn/iemocap/'\n",
        "labels_df_path = '{}df_iemocap.csv'.format(data_dir)\n",
        "audio_vectors_path = '{}audio_vectors_5.pkl'.format(data_dir)"
      ],
      "execution_count": 17,
      "outputs": []
    },
    {
      "cell_type": "code",
      "metadata": {
        "id": "Dz0Gk3--Dq-Z"
      },
      "source": [
        "labels_df = pd.read_csv(labels_df_path)\n",
        "audio_vectors = pickle.load(open(audio_vectors_path, 'rb'))"
      ],
      "execution_count": 18,
      "outputs": []
    },
    {
      "cell_type": "code",
      "metadata": {
        "id": "Veq8Y1UuVmoH",
        "outputId": "f29d3516-1933-4c16-d21d-4fb578beb0fa",
        "colab": {
          "base_uri": "https://localhost:8080/",
          "height": 472
        }
      },
      "source": [
        "labels_df.groupby(by=['emotion']).describe()"
      ],
      "execution_count": 32,
      "outputs": [
        {
          "output_type": "execute_result",
          "data": {
            "text/html": [
              "<div>\n",
              "<style scoped>\n",
              "    .dataframe tbody tr th:only-of-type {\n",
              "        vertical-align: middle;\n",
              "    }\n",
              "\n",
              "    .dataframe tbody tr th {\n",
              "        vertical-align: top;\n",
              "    }\n",
              "\n",
              "    .dataframe thead tr th {\n",
              "        text-align: left;\n",
              "    }\n",
              "\n",
              "    .dataframe thead tr:last-of-type th {\n",
              "        text-align: right;\n",
              "    }\n",
              "</style>\n",
              "<table border=\"1\" class=\"dataframe\">\n",
              "  <thead>\n",
              "    <tr>\n",
              "      <th></th>\n",
              "      <th colspan=\"8\" halign=\"left\">start_time</th>\n",
              "      <th colspan=\"8\" halign=\"left\">end_time</th>\n",
              "      <th colspan=\"8\" halign=\"left\">val</th>\n",
              "      <th colspan=\"8\" halign=\"left\">act</th>\n",
              "      <th colspan=\"8\" halign=\"left\">dom</th>\n",
              "    </tr>\n",
              "    <tr>\n",
              "      <th></th>\n",
              "      <th>count</th>\n",
              "      <th>mean</th>\n",
              "      <th>std</th>\n",
              "      <th>min</th>\n",
              "      <th>25%</th>\n",
              "      <th>50%</th>\n",
              "      <th>75%</th>\n",
              "      <th>max</th>\n",
              "      <th>count</th>\n",
              "      <th>mean</th>\n",
              "      <th>std</th>\n",
              "      <th>min</th>\n",
              "      <th>25%</th>\n",
              "      <th>50%</th>\n",
              "      <th>75%</th>\n",
              "      <th>max</th>\n",
              "      <th>count</th>\n",
              "      <th>mean</th>\n",
              "      <th>std</th>\n",
              "      <th>min</th>\n",
              "      <th>25%</th>\n",
              "      <th>50%</th>\n",
              "      <th>75%</th>\n",
              "      <th>max</th>\n",
              "      <th>count</th>\n",
              "      <th>mean</th>\n",
              "      <th>std</th>\n",
              "      <th>min</th>\n",
              "      <th>25%</th>\n",
              "      <th>50%</th>\n",
              "      <th>75%</th>\n",
              "      <th>max</th>\n",
              "      <th>count</th>\n",
              "      <th>mean</th>\n",
              "      <th>std</th>\n",
              "      <th>min</th>\n",
              "      <th>25%</th>\n",
              "      <th>50%</th>\n",
              "      <th>75%</th>\n",
              "      <th>max</th>\n",
              "    </tr>\n",
              "    <tr>\n",
              "      <th>emotion</th>\n",
              "      <th></th>\n",
              "      <th></th>\n",
              "      <th></th>\n",
              "      <th></th>\n",
              "      <th></th>\n",
              "      <th></th>\n",
              "      <th></th>\n",
              "      <th></th>\n",
              "      <th></th>\n",
              "      <th></th>\n",
              "      <th></th>\n",
              "      <th></th>\n",
              "      <th></th>\n",
              "      <th></th>\n",
              "      <th></th>\n",
              "      <th></th>\n",
              "      <th></th>\n",
              "      <th></th>\n",
              "      <th></th>\n",
              "      <th></th>\n",
              "      <th></th>\n",
              "      <th></th>\n",
              "      <th></th>\n",
              "      <th></th>\n",
              "      <th></th>\n",
              "      <th></th>\n",
              "      <th></th>\n",
              "      <th></th>\n",
              "      <th></th>\n",
              "      <th></th>\n",
              "      <th></th>\n",
              "      <th></th>\n",
              "      <th></th>\n",
              "      <th></th>\n",
              "      <th></th>\n",
              "      <th></th>\n",
              "      <th></th>\n",
              "      <th></th>\n",
              "      <th></th>\n",
              "      <th></th>\n",
              "    </tr>\n",
              "  </thead>\n",
              "  <tbody>\n",
              "    <tr>\n",
              "      <th>ang</th>\n",
              "      <td>1103.0</td>\n",
              "      <td>169.016056</td>\n",
              "      <td>90.369474</td>\n",
              "      <td>4.9200</td>\n",
              "      <td>100.53000</td>\n",
              "      <td>160.0200</td>\n",
              "      <td>234.130000</td>\n",
              "      <td>422.8798</td>\n",
              "      <td>1103.0</td>\n",
              "      <td>173.529026</td>\n",
              "      <td>90.627717</td>\n",
              "      <td>8.2350</td>\n",
              "      <td>104.3262</td>\n",
              "      <td>163.92000</td>\n",
              "      <td>238.845000</td>\n",
              "      <td>426.0309</td>\n",
              "      <td>1103.0</td>\n",
              "      <td>1.905712</td>\n",
              "      <td>0.524000</td>\n",
              "      <td>1.0000</td>\n",
              "      <td>1.50000</td>\n",
              "      <td>2.0000</td>\n",
              "      <td>2.0000</td>\n",
              "      <td>4.0000</td>\n",
              "      <td>1103.0</td>\n",
              "      <td>3.635539</td>\n",
              "      <td>0.670917</td>\n",
              "      <td>1.5000</td>\n",
              "      <td>3.00000</td>\n",
              "      <td>3.5000</td>\n",
              "      <td>4.0000</td>\n",
              "      <td>5.0000</td>\n",
              "      <td>1103.0</td>\n",
              "      <td>3.949834</td>\n",
              "      <td>0.641306</td>\n",
              "      <td>1.0</td>\n",
              "      <td>3.50000</td>\n",
              "      <td>4.0000</td>\n",
              "      <td>4.500</td>\n",
              "      <td>5.0000</td>\n",
              "    </tr>\n",
              "    <tr>\n",
              "      <th>dis</th>\n",
              "      <td>2.0</td>\n",
              "      <td>175.565000</td>\n",
              "      <td>61.737493</td>\n",
              "      <td>131.9100</td>\n",
              "      <td>153.73750</td>\n",
              "      <td>175.5650</td>\n",
              "      <td>197.392500</td>\n",
              "      <td>219.2200</td>\n",
              "      <td>2.0</td>\n",
              "      <td>177.910000</td>\n",
              "      <td>62.098118</td>\n",
              "      <td>134.0000</td>\n",
              "      <td>155.9550</td>\n",
              "      <td>177.91000</td>\n",
              "      <td>199.865000</td>\n",
              "      <td>221.8200</td>\n",
              "      <td>2.0</td>\n",
              "      <td>2.750000</td>\n",
              "      <td>0.353553</td>\n",
              "      <td>2.5000</td>\n",
              "      <td>2.62500</td>\n",
              "      <td>2.7500</td>\n",
              "      <td>2.8750</td>\n",
              "      <td>3.0000</td>\n",
              "      <td>2.0</td>\n",
              "      <td>2.000000</td>\n",
              "      <td>0.000000</td>\n",
              "      <td>2.0000</td>\n",
              "      <td>2.00000</td>\n",
              "      <td>2.0000</td>\n",
              "      <td>2.0000</td>\n",
              "      <td>2.0000</td>\n",
              "      <td>2.0</td>\n",
              "      <td>1.750000</td>\n",
              "      <td>0.353553</td>\n",
              "      <td>1.5</td>\n",
              "      <td>1.62500</td>\n",
              "      <td>1.7500</td>\n",
              "      <td>1.875</td>\n",
              "      <td>2.0000</td>\n",
              "    </tr>\n",
              "    <tr>\n",
              "      <th>exc</th>\n",
              "      <td>1041.0</td>\n",
              "      <td>114.658044</td>\n",
              "      <td>86.655408</td>\n",
              "      <td>0.4621</td>\n",
              "      <td>38.98280</td>\n",
              "      <td>100.0200</td>\n",
              "      <td>170.130000</td>\n",
              "      <td>430.4700</td>\n",
              "      <td>1041.0</td>\n",
              "      <td>119.438977</td>\n",
              "      <td>87.494199</td>\n",
              "      <td>3.0025</td>\n",
              "      <td>43.2700</td>\n",
              "      <td>105.52000</td>\n",
              "      <td>174.990000</td>\n",
              "      <td>432.3400</td>\n",
              "      <td>1041.0</td>\n",
              "      <td>3.945085</td>\n",
              "      <td>0.627835</td>\n",
              "      <td>1.5000</td>\n",
              "      <td>3.50000</td>\n",
              "      <td>4.0000</td>\n",
              "      <td>4.5000</td>\n",
              "      <td>5.5000</td>\n",
              "      <td>1041.0</td>\n",
              "      <td>3.578370</td>\n",
              "      <td>0.608908</td>\n",
              "      <td>2.0000</td>\n",
              "      <td>3.00000</td>\n",
              "      <td>3.5000</td>\n",
              "      <td>4.0000</td>\n",
              "      <td>5.0000</td>\n",
              "      <td>1041.0</td>\n",
              "      <td>3.402578</td>\n",
              "      <td>0.764978</td>\n",
              "      <td>1.0</td>\n",
              "      <td>3.00000</td>\n",
              "      <td>3.5000</td>\n",
              "      <td>4.000</td>\n",
              "      <td>5.0000</td>\n",
              "    </tr>\n",
              "    <tr>\n",
              "      <th>fea</th>\n",
              "      <td>40.0</td>\n",
              "      <td>32.413360</td>\n",
              "      <td>46.035463</td>\n",
              "      <td>4.2888</td>\n",
              "      <td>8.74750</td>\n",
              "      <td>13.4600</td>\n",
              "      <td>22.927500</td>\n",
              "      <td>165.4700</td>\n",
              "      <td>40.0</td>\n",
              "      <td>35.139300</td>\n",
              "      <td>46.539818</td>\n",
              "      <td>6.1800</td>\n",
              "      <td>11.3900</td>\n",
              "      <td>15.72630</td>\n",
              "      <td>25.370225</td>\n",
              "      <td>170.6700</td>\n",
              "      <td>40.0</td>\n",
              "      <td>2.504165</td>\n",
              "      <td>0.644381</td>\n",
              "      <td>1.0000</td>\n",
              "      <td>2.00000</td>\n",
              "      <td>2.5000</td>\n",
              "      <td>3.0000</td>\n",
              "      <td>4.0000</td>\n",
              "      <td>40.0</td>\n",
              "      <td>3.241665</td>\n",
              "      <td>0.557197</td>\n",
              "      <td>1.5000</td>\n",
              "      <td>3.00000</td>\n",
              "      <td>3.3333</td>\n",
              "      <td>3.5000</td>\n",
              "      <td>4.5000</td>\n",
              "      <td>40.0</td>\n",
              "      <td>2.366668</td>\n",
              "      <td>0.972705</td>\n",
              "      <td>1.0</td>\n",
              "      <td>1.50000</td>\n",
              "      <td>2.3333</td>\n",
              "      <td>3.000</td>\n",
              "      <td>4.0000</td>\n",
              "    </tr>\n",
              "    <tr>\n",
              "      <th>fru</th>\n",
              "      <td>1849.0</td>\n",
              "      <td>142.968568</td>\n",
              "      <td>90.753336</td>\n",
              "      <td>3.2000</td>\n",
              "      <td>73.97130</td>\n",
              "      <td>122.2600</td>\n",
              "      <td>204.970000</td>\n",
              "      <td>425.2466</td>\n",
              "      <td>1849.0</td>\n",
              "      <td>147.678893</td>\n",
              "      <td>90.730817</td>\n",
              "      <td>5.2300</td>\n",
              "      <td>78.3647</td>\n",
              "      <td>126.21000</td>\n",
              "      <td>208.910000</td>\n",
              "      <td>429.5163</td>\n",
              "      <td>1849.0</td>\n",
              "      <td>2.262394</td>\n",
              "      <td>0.533002</td>\n",
              "      <td>1.0000</td>\n",
              "      <td>2.00000</td>\n",
              "      <td>2.0000</td>\n",
              "      <td>2.5000</td>\n",
              "      <td>4.5000</td>\n",
              "      <td>1849.0</td>\n",
              "      <td>3.184874</td>\n",
              "      <td>0.631465</td>\n",
              "      <td>1.0000</td>\n",
              "      <td>2.66670</td>\n",
              "      <td>3.0000</td>\n",
              "      <td>3.5000</td>\n",
              "      <td>5.0000</td>\n",
              "      <td>1849.0</td>\n",
              "      <td>3.321706</td>\n",
              "      <td>0.713329</td>\n",
              "      <td>1.0</td>\n",
              "      <td>3.00000</td>\n",
              "      <td>3.5000</td>\n",
              "      <td>4.000</td>\n",
              "      <td>5.0000</td>\n",
              "    </tr>\n",
              "    <tr>\n",
              "      <th>hap</th>\n",
              "      <td>595.0</td>\n",
              "      <td>176.482732</td>\n",
              "      <td>122.585770</td>\n",
              "      <td>4.8100</td>\n",
              "      <td>87.71500</td>\n",
              "      <td>153.3400</td>\n",
              "      <td>221.015000</td>\n",
              "      <td>528.9636</td>\n",
              "      <td>595.0</td>\n",
              "      <td>180.824067</td>\n",
              "      <td>122.577349</td>\n",
              "      <td>6.4400</td>\n",
              "      <td>92.2692</td>\n",
              "      <td>156.58440</td>\n",
              "      <td>224.930000</td>\n",
              "      <td>535.2345</td>\n",
              "      <td>595.0</td>\n",
              "      <td>3.951260</td>\n",
              "      <td>0.459555</td>\n",
              "      <td>2.0000</td>\n",
              "      <td>4.00000</td>\n",
              "      <td>4.0000</td>\n",
              "      <td>4.0000</td>\n",
              "      <td>5.0000</td>\n",
              "      <td>595.0</td>\n",
              "      <td>3.118488</td>\n",
              "      <td>0.611122</td>\n",
              "      <td>1.5000</td>\n",
              "      <td>2.50000</td>\n",
              "      <td>3.0000</td>\n",
              "      <td>3.5000</td>\n",
              "      <td>5.0000</td>\n",
              "      <td>595.0</td>\n",
              "      <td>2.923809</td>\n",
              "      <td>0.658380</td>\n",
              "      <td>1.5</td>\n",
              "      <td>2.50000</td>\n",
              "      <td>3.0000</td>\n",
              "      <td>3.500</td>\n",
              "      <td>5.0000</td>\n",
              "    </tr>\n",
              "    <tr>\n",
              "      <th>neu</th>\n",
              "      <td>1708.0</td>\n",
              "      <td>126.241265</td>\n",
              "      <td>95.724199</td>\n",
              "      <td>1.9734</td>\n",
              "      <td>49.39750</td>\n",
              "      <td>111.7850</td>\n",
              "      <td>178.148675</td>\n",
              "      <td>539.5758</td>\n",
              "      <td>1708.0</td>\n",
              "      <td>130.143250</td>\n",
              "      <td>95.814158</td>\n",
              "      <td>3.7200</td>\n",
              "      <td>53.7250</td>\n",
              "      <td>116.04385</td>\n",
              "      <td>182.276550</td>\n",
              "      <td>542.2691</td>\n",
              "      <td>1708.0</td>\n",
              "      <td>2.971361</td>\n",
              "      <td>0.510258</td>\n",
              "      <td>1.5000</td>\n",
              "      <td>2.50000</td>\n",
              "      <td>3.0000</td>\n",
              "      <td>3.0000</td>\n",
              "      <td>5.0000</td>\n",
              "      <td>1708.0</td>\n",
              "      <td>2.725752</td>\n",
              "      <td>0.546526</td>\n",
              "      <td>1.0000</td>\n",
              "      <td>2.50000</td>\n",
              "      <td>2.6667</td>\n",
              "      <td>3.0000</td>\n",
              "      <td>5.0000</td>\n",
              "      <td>1708.0</td>\n",
              "      <td>2.830553</td>\n",
              "      <td>0.606898</td>\n",
              "      <td>0.5</td>\n",
              "      <td>2.50000</td>\n",
              "      <td>3.0000</td>\n",
              "      <td>3.000</td>\n",
              "      <td>4.5000</td>\n",
              "    </tr>\n",
              "    <tr>\n",
              "      <th>oth</th>\n",
              "      <td>3.0</td>\n",
              "      <td>166.336433</td>\n",
              "      <td>121.965704</td>\n",
              "      <td>28.9200</td>\n",
              "      <td>118.62965</td>\n",
              "      <td>208.3393</td>\n",
              "      <td>235.044650</td>\n",
              "      <td>261.7500</td>\n",
              "      <td>3.0</td>\n",
              "      <td>171.347033</td>\n",
              "      <td>124.327954</td>\n",
              "      <td>30.7500</td>\n",
              "      <td>123.6300</td>\n",
              "      <td>216.51000</td>\n",
              "      <td>241.645550</td>\n",
              "      <td>266.7811</td>\n",
              "      <td>3.0</td>\n",
              "      <td>3.277800</td>\n",
              "      <td>1.205707</td>\n",
              "      <td>2.5000</td>\n",
              "      <td>2.58335</td>\n",
              "      <td>2.6667</td>\n",
              "      <td>3.6667</td>\n",
              "      <td>4.6667</td>\n",
              "      <td>3.0</td>\n",
              "      <td>2.611133</td>\n",
              "      <td>0.096244</td>\n",
              "      <td>2.5000</td>\n",
              "      <td>2.58335</td>\n",
              "      <td>2.6667</td>\n",
              "      <td>2.6667</td>\n",
              "      <td>2.6667</td>\n",
              "      <td>3.0</td>\n",
              "      <td>2.166667</td>\n",
              "      <td>1.013766</td>\n",
              "      <td>1.5</td>\n",
              "      <td>1.58335</td>\n",
              "      <td>1.6667</td>\n",
              "      <td>2.500</td>\n",
              "      <td>3.3333</td>\n",
              "    </tr>\n",
              "    <tr>\n",
              "      <th>sad</th>\n",
              "      <td>1084.0</td>\n",
              "      <td>178.875312</td>\n",
              "      <td>108.554189</td>\n",
              "      <td>3.1063</td>\n",
              "      <td>83.81065</td>\n",
              "      <td>178.6550</td>\n",
              "      <td>250.773300</td>\n",
              "      <td>523.7100</td>\n",
              "      <td>1084.0</td>\n",
              "      <td>184.371777</td>\n",
              "      <td>109.328819</td>\n",
              "      <td>6.0541</td>\n",
              "      <td>88.7397</td>\n",
              "      <td>182.96985</td>\n",
              "      <td>255.472450</td>\n",
              "      <td>526.5919</td>\n",
              "      <td>1084.0</td>\n",
              "      <td>2.253075</td>\n",
              "      <td>0.580687</td>\n",
              "      <td>1.0000</td>\n",
              "      <td>2.00000</td>\n",
              "      <td>2.0000</td>\n",
              "      <td>2.5000</td>\n",
              "      <td>4.0000</td>\n",
              "      <td>1084.0</td>\n",
              "      <td>2.563499</td>\n",
              "      <td>0.622903</td>\n",
              "      <td>1.0000</td>\n",
              "      <td>2.00000</td>\n",
              "      <td>2.5000</td>\n",
              "      <td>3.0000</td>\n",
              "      <td>4.5000</td>\n",
              "      <td>1084.0</td>\n",
              "      <td>2.827952</td>\n",
              "      <td>0.810631</td>\n",
              "      <td>1.0</td>\n",
              "      <td>2.33330</td>\n",
              "      <td>3.0000</td>\n",
              "      <td>3.500</td>\n",
              "      <td>5.0000</td>\n",
              "    </tr>\n",
              "    <tr>\n",
              "      <th>sur</th>\n",
              "      <td>107.0</td>\n",
              "      <td>122.737004</td>\n",
              "      <td>115.889935</td>\n",
              "      <td>9.3100</td>\n",
              "      <td>26.83000</td>\n",
              "      <td>81.7153</td>\n",
              "      <td>186.011900</td>\n",
              "      <td>437.5175</td>\n",
              "      <td>107.0</td>\n",
              "      <td>125.845853</td>\n",
              "      <td>115.920220</td>\n",
              "      <td>10.4500</td>\n",
              "      <td>29.0067</td>\n",
              "      <td>84.04000</td>\n",
              "      <td>189.888750</td>\n",
              "      <td>442.3000</td>\n",
              "      <td>107.0</td>\n",
              "      <td>2.845015</td>\n",
              "      <td>0.962915</td>\n",
              "      <td>1.3333</td>\n",
              "      <td>2.00000</td>\n",
              "      <td>2.5000</td>\n",
              "      <td>3.5000</td>\n",
              "      <td>5.0000</td>\n",
              "      <td>107.0</td>\n",
              "      <td>3.217290</td>\n",
              "      <td>0.640888</td>\n",
              "      <td>1.5000</td>\n",
              "      <td>2.66670</td>\n",
              "      <td>3.3333</td>\n",
              "      <td>3.5000</td>\n",
              "      <td>4.5000</td>\n",
              "      <td>107.0</td>\n",
              "      <td>2.854362</td>\n",
              "      <td>0.790246</td>\n",
              "      <td>1.0</td>\n",
              "      <td>2.33330</td>\n",
              "      <td>2.7500</td>\n",
              "      <td>3.500</td>\n",
              "      <td>4.5000</td>\n",
              "    </tr>\n",
              "    <tr>\n",
              "      <th>xxx</th>\n",
              "      <td>2507.0</td>\n",
              "      <td>136.201770</td>\n",
              "      <td>100.526431</td>\n",
              "      <td>1.8151</td>\n",
              "      <td>54.02500</td>\n",
              "      <td>118.7400</td>\n",
              "      <td>196.525000</td>\n",
              "      <td>499.4600</td>\n",
              "      <td>2507.0</td>\n",
              "      <td>140.367557</td>\n",
              "      <td>100.791703</td>\n",
              "      <td>4.6150</td>\n",
              "      <td>58.1950</td>\n",
              "      <td>123.08000</td>\n",
              "      <td>200.295000</td>\n",
              "      <td>502.2700</td>\n",
              "      <td>2507.0</td>\n",
              "      <td>2.875415</td>\n",
              "      <td>0.855431</td>\n",
              "      <td>1.0000</td>\n",
              "      <td>2.00000</td>\n",
              "      <td>2.6667</td>\n",
              "      <td>3.5000</td>\n",
              "      <td>5.5000</td>\n",
              "      <td>2507.0</td>\n",
              "      <td>3.038858</td>\n",
              "      <td>0.626646</td>\n",
              "      <td>1.3333</td>\n",
              "      <td>2.50000</td>\n",
              "      <td>3.0000</td>\n",
              "      <td>3.5000</td>\n",
              "      <td>5.0000</td>\n",
              "      <td>2507.0</td>\n",
              "      <td>3.182057</td>\n",
              "      <td>0.741501</td>\n",
              "      <td>0.5</td>\n",
              "      <td>2.50000</td>\n",
              "      <td>3.0000</td>\n",
              "      <td>3.500</td>\n",
              "      <td>5.0000</td>\n",
              "    </tr>\n",
              "  </tbody>\n",
              "</table>\n",
              "</div>"
            ],
            "text/plain": [
              "        start_time                          ...     dom               \n",
              "             count        mean         std  ...     50%    75%     max\n",
              "emotion                                     ...                       \n",
              "ang         1103.0  169.016056   90.369474  ...  4.0000  4.500  5.0000\n",
              "dis            2.0  175.565000   61.737493  ...  1.7500  1.875  2.0000\n",
              "exc         1041.0  114.658044   86.655408  ...  3.5000  4.000  5.0000\n",
              "fea           40.0   32.413360   46.035463  ...  2.3333  3.000  4.0000\n",
              "fru         1849.0  142.968568   90.753336  ...  3.5000  4.000  5.0000\n",
              "hap          595.0  176.482732  122.585770  ...  3.0000  3.500  5.0000\n",
              "neu         1708.0  126.241265   95.724199  ...  3.0000  3.000  4.5000\n",
              "oth            3.0  166.336433  121.965704  ...  1.6667  2.500  3.3333\n",
              "sad         1084.0  178.875312  108.554189  ...  3.0000  3.500  5.0000\n",
              "sur          107.0  122.737004  115.889935  ...  2.7500  3.500  4.5000\n",
              "xxx         2507.0  136.201770  100.526431  ...  3.0000  3.500  5.0000\n",
              "\n",
              "[11 rows x 40 columns]"
            ]
          },
          "metadata": {
            "tags": []
          },
          "execution_count": 32
        }
      ]
    },
    {
      "cell_type": "code",
      "metadata": {
        "id": "8h5RA9H5VyIb",
        "outputId": "2be19bd7-9b80-4bda-a7a3-230fee85a974",
        "colab": {
          "base_uri": "https://localhost:8080/",
          "height": 204
        }
      },
      "source": [
        "labels_df.head()"
      ],
      "execution_count": 30,
      "outputs": [
        {
          "output_type": "execute_result",
          "data": {
            "text/html": [
              "<div>\n",
              "<style scoped>\n",
              "    .dataframe tbody tr th:only-of-type {\n",
              "        vertical-align: middle;\n",
              "    }\n",
              "\n",
              "    .dataframe tbody tr th {\n",
              "        vertical-align: top;\n",
              "    }\n",
              "\n",
              "    .dataframe thead th {\n",
              "        text-align: right;\n",
              "    }\n",
              "</style>\n",
              "<table border=\"1\" class=\"dataframe\">\n",
              "  <thead>\n",
              "    <tr style=\"text-align: right;\">\n",
              "      <th></th>\n",
              "      <th>start_time</th>\n",
              "      <th>end_time</th>\n",
              "      <th>wav_file</th>\n",
              "      <th>emotion</th>\n",
              "      <th>val</th>\n",
              "      <th>act</th>\n",
              "      <th>dom</th>\n",
              "    </tr>\n",
              "  </thead>\n",
              "  <tbody>\n",
              "    <tr>\n",
              "      <th>0</th>\n",
              "      <td>3.9500</td>\n",
              "      <td>10.5900</td>\n",
              "      <td>Ses01F_impro07_F000</td>\n",
              "      <td>exc</td>\n",
              "      <td>5.0</td>\n",
              "      <td>5.0</td>\n",
              "      <td>4.5</td>\n",
              "    </tr>\n",
              "    <tr>\n",
              "      <th>1</th>\n",
              "      <td>11.3600</td>\n",
              "      <td>16.5575</td>\n",
              "      <td>Ses01F_impro07_F001</td>\n",
              "      <td>xxx</td>\n",
              "      <td>4.0</td>\n",
              "      <td>4.5</td>\n",
              "      <td>3.5</td>\n",
              "    </tr>\n",
              "    <tr>\n",
              "      <th>2</th>\n",
              "      <td>19.6100</td>\n",
              "      <td>31.6500</td>\n",
              "      <td>Ses01F_impro07_F002</td>\n",
              "      <td>exc</td>\n",
              "      <td>4.0</td>\n",
              "      <td>4.0</td>\n",
              "      <td>3.0</td>\n",
              "    </tr>\n",
              "    <tr>\n",
              "      <th>3</th>\n",
              "      <td>32.5200</td>\n",
              "      <td>34.9000</td>\n",
              "      <td>Ses01F_impro07_F003</td>\n",
              "      <td>exc</td>\n",
              "      <td>4.5</td>\n",
              "      <td>4.5</td>\n",
              "      <td>4.5</td>\n",
              "    </tr>\n",
              "    <tr>\n",
              "      <th>4</th>\n",
              "      <td>37.1625</td>\n",
              "      <td>42.4900</td>\n",
              "      <td>Ses01F_impro07_F004</td>\n",
              "      <td>exc</td>\n",
              "      <td>3.0</td>\n",
              "      <td>3.5</td>\n",
              "      <td>3.0</td>\n",
              "    </tr>\n",
              "  </tbody>\n",
              "</table>\n",
              "</div>"
            ],
            "text/plain": [
              "   start_time  end_time             wav_file emotion  val  act  dom\n",
              "0      3.9500   10.5900  Ses01F_impro07_F000     exc  5.0  5.0  4.5\n",
              "1     11.3600   16.5575  Ses01F_impro07_F001     xxx  4.0  4.5  3.5\n",
              "2     19.6100   31.6500  Ses01F_impro07_F002     exc  4.0  4.0  3.0\n",
              "3     32.5200   34.9000  Ses01F_impro07_F003     exc  4.5  4.5  4.5\n",
              "4     37.1625   42.4900  Ses01F_impro07_F004     exc  3.0  3.5  3.0"
            ]
          },
          "metadata": {
            "tags": []
          },
          "execution_count": 30
        }
      ]
    },
    {
      "cell_type": "code",
      "metadata": {
        "id": "62F8w9E3TvVv",
        "outputId": "196cf841-62ee-46bf-e039-19784666dfc4",
        "colab": {
          "base_uri": "https://localhost:8080/",
          "height": 35
        }
      },
      "source": [
        "np.mean(labels_df['end_time']-labels_df['start_time'])"
      ],
      "execution_count": 27,
      "outputs": [
        {
          "output_type": "execute_result",
          "data": {
            "text/plain": [
              "4.460108994919817"
            ]
          },
          "metadata": {
            "tags": []
          },
          "execution_count": 27
        }
      ]
    },
    {
      "cell_type": "code",
      "metadata": {
        "id": "mEkjE4_-DsQ6"
      },
      "source": [
        "random_file_name = list(audio_vectors.keys())[random.choice(range(len(audio_vectors.keys())))]\n",
        "y = audio_vectors[random_file_name]\n",
        "sr = 44100"
      ],
      "execution_count": 39,
      "outputs": []
    },
    {
      "cell_type": "code",
      "metadata": {
        "id": "VgNblBlCEc21",
        "outputId": "248eedd8-92e1-4b5a-a00e-42af68c8826b",
        "colab": {
          "base_uri": "https://localhost:8080/",
          "height": 35
        }
      },
      "source": [
        "labels_df.shape, len(audio_vectors)"
      ],
      "execution_count": 50,
      "outputs": [
        {
          "output_type": "execute_result",
          "data": {
            "text/plain": [
              "((10039, 7), 2170)"
            ]
          },
          "metadata": {
            "tags": []
          },
          "execution_count": 50
        }
      ]
    },
    {
      "cell_type": "code",
      "metadata": {
        "id": "_B3XAy46Dslr",
        "outputId": "9ac8e6be-4c82-4860-f450-195546aa5ef9",
        "colab": {
          "base_uri": "https://localhost:8080/",
          "height": 189
        }
      },
      "source": [
        "plt.figure(figsize=(15,2))\n",
        "librosa.display.waveplot(y, sr=sr, max_sr=1000, alpha=0.25, color='r')"
      ],
      "execution_count": 40,
      "outputs": [
        {
          "output_type": "execute_result",
          "data": {
            "text/plain": [
              "<matplotlib.collections.PolyCollection at 0x7f3ae479c7b8>"
            ]
          },
          "metadata": {
            "tags": []
          },
          "execution_count": 40
        },
        {
          "output_type": "display_data",
          "data": {
            "image/png": "[encoded data removed]",
            "text/plain": [
              "<Figure size 1080x144 with 1 Axes>"
            ]
          },
          "metadata": {
            "tags": [],
            "needs_background": "light"
          }
        }
      ]
    },
    {
      "cell_type": "code",
      "metadata": {
        "id": "yWbIdrZODsoU"
      },
      "source": [
        "data_dir = '/gdrive/My Drive/ser_tcn/iemocap/'\n",
        "labels_df_path = '{}df_iemocap.csv'.format(data_dir)\n",
        "labels_df = pd.read_csv(labels_df_path)"
      ],
      "execution_count": 33,
      "outputs": []
    },
    {
      "cell_type": "code",
      "metadata": {
        "id": "c0tVNOjhDsrK"
      },
      "source": [
        "mfcc = np.load('/gdrive/My Drive/ser_tcn/iemocap/iemocap_mfcc.npy')"
      ],
      "execution_count": 34,
      "outputs": []
    },
    {
      "cell_type": "code",
      "metadata": {
        "id": "qV38e48mmTb2"
      },
      "source": [
        "emotions = labels_df.emotion.values"
      ],
      "execution_count": 38,
      "outputs": []
    },
    {
      "cell_type": "code",
      "metadata": {
        "id": "xCqwD6tCm0nr",
        "outputId": "c70f54e9-747f-4f7d-c6ba-383b4b6d2598",
        "colab": {
          "base_uri": "https://localhost:8080/",
          "height": 71
        }
      },
      "source": [
        "np.unique(emotions, return_counts=True)"
      ],
      "execution_count": 43,
      "outputs": [
        {
          "output_type": "execute_result",
          "data": {
            "text/plain": [
              "(array(['ang', 'dis', 'exc', 'fea', 'fru', 'hap', 'neu', 'oth', 'sad',\n",
              "        'sur', 'xxx'], dtype=object),\n",
              " array([1103,    2, 1041,   40, 1849,  595, 1708,    3, 1084,  107, 2507]))"
            ]
          },
          "metadata": {
            "tags": []
          },
          "execution_count": 43
        }
      ]
    },
    {
      "cell_type": "code",
      "metadata": {
        "id": "TJN-RjA-nykR",
        "outputId": "968b2dfa-cd7d-4f56-f50b-4baedafc764a",
        "colab": {
          "base_uri": "https://localhost:8080/",
          "height": 35
        }
      },
      "source": [
        "mfcc[0].shape"
      ],
      "execution_count": 45,
      "outputs": [
        {
          "output_type": "execute_result",
          "data": {
            "text/plain": [
              "(128, 251, 1)"
            ]
          },
          "metadata": {
            "tags": []
          },
          "execution_count": 45
        }
      ]
    },
    {
      "cell_type": "code",
      "metadata": {
        "id": "mGUiMd0JmtSW"
      },
      "source": [
        "mfcc_less = np.empty(shape=(7380, 128, 251,1))\n",
        "labels_less = []\n",
        "cnt=0\n",
        "labels = ['ang','exc','fru','hap','neu','sad']\n",
        "for i, emo in enumerate(emotions):\n",
        "    if emo in labels:\n",
        "        if emo =='hap':\n",
        "            mfcc_less[cnt,]=mfcc[i]\n",
        "            labels_less.append(emo)\n",
        "            cnt+=1\n",
        "        mfcc_less[cnt,]=mfcc[i]\n",
        "        labels_less.append(emo)\n",
        "        cnt+=1"
      ],
      "execution_count": 47,
      "outputs": []
    },
    {
      "cell_type": "code",
      "metadata": {
        "_cell_guid": "79c7e3d0-c299-4dcb-8224-4455121ee9b0",
        "_uuid": "d629ff2d2480ee46fbb7e2d37f6b5fab8052498a",
        "id": "s_IdA4makRmI"
      },
      "source": [
        "# Keras\n",
        "import tensorflow.keras as keras\n",
        "from tensorflow.keras import regularizers\n",
        "from tensorflow.keras.preprocessing import sequence\n",
        "from tensorflow.keras.preprocessing.text import Tokenizer\n",
        "from tensorflow.keras.preprocessing.sequence import pad_sequences\n",
        "from tensorflow.keras.models import Sequential, Model, model_from_json\n",
        "from tensorflow.keras.layers import Dense, Embedding, LSTM, Reshape\n",
        "from tensorflow.keras.layers import Input, Flatten, Dropout, Activation, BatchNormalization\n",
        "from tensorflow.keras.layers import Conv1D, MaxPooling1D, AveragePooling2D\n",
        "from keras.utils import np_utils, to_categorical,plot_model\n",
        "from tensorflow.keras.callbacks import (EarlyStopping, LearningRateScheduler,\n",
        "                             ModelCheckpoint, TensorBoard, ReduceLROnPlateau)\n",
        "from tensorflow.keras import losses, models, optimizers\n",
        "from tensorflow.keras.activations import relu, softmax\n",
        "from tensorflow.keras.layers import (Convolution2D, GlobalAveragePooling2D, BatchNormalization, Flatten, Dropout,\n",
        "                          GlobalMaxPool2D, MaxPool2D, concatenate, Activation, Input, Dense)\n",
        "\n",
        "# sklearn\n",
        "from sklearn.metrics import confusion_matrix, accuracy_score\n",
        "from sklearn.model_selection import train_test_split\n",
        "from sklearn.preprocessing import LabelEncoder\n",
        "\n",
        "# Other  \n",
        "from tqdm import tqdm, tqdm_pandas\n",
        "import scipy\n",
        "from scipy.stats import skew\n",
        "import librosa\n",
        "import librosa.display\n",
        "import json\n",
        "import numpy as np\n",
        "import matplotlib.pyplot as plt\n",
        "import tensorflow as tf\n",
        "from matplotlib.pyplot import specgram\n",
        "import pandas as pd\n",
        "import seaborn as sns\n",
        "import glob \n",
        "import os\n",
        "import sys\n",
        "import IPython.display as ipd  # To play sound in the notebook\n",
        "import warnings\n",
        "warnings.filterwarnings(\"ignore\")\n",
        "warnings.filterwarnings(\"ignore\", category=DeprecationWarning) \n",
        "# ignore warnings \n",
        "if not sys.warnoptions:\n",
        "    warnings.simplefilter(\"ignore\")"
      ],
      "execution_count": 50,
      "outputs": []
    },
    {
      "cell_type": "code",
      "metadata": {
        "id": "xtN1gmjO0m0_"
      },
      "source": [
        "# Split between train and test \n",
        "X_train, X_test, y_train, y_test = train_test_split(mfcc_less,\n",
        "                                                    labels_less,\n",
        "                                                    test_size=0.20,\n",
        "                                                    shuffle=True,\n",
        "                                                    random_state=42,\n",
        "                                                    stratify=labels_less)"
      ],
      "execution_count": 52,
      "outputs": []
    },
    {
      "cell_type": "code",
      "metadata": {
        "id": "LpvoqYxcpnlw"
      },
      "source": [
        "del mfcc, labels_df"
      ],
      "execution_count": 53,
      "outputs": []
    },
    {
      "cell_type": "code",
      "metadata": {
        "id": "5A3WJGikpy6N"
      },
      "source": [
        "del mfcc_less, labels_less"
      ],
      "execution_count": 58,
      "outputs": []
    },
    {
      "cell_type": "code",
      "metadata": {
        "id": "t-2kY1q9TxdI"
      },
      "source": [
        "# one hot encode the target \n",
        "lb = LabelEncoder()\n",
        "y_train = np_utils.to_categorical(lb.fit_transform(y_train))\n",
        "y_test = np_utils.to_categorical(lb.fit_transform(y_test))"
      ],
      "execution_count": 55,
      "outputs": []
    },
    {
      "cell_type": "code",
      "metadata": {
        "id": "RTkECvJ0Qlvh",
        "outputId": "761194a0-3f7b-4212-9603-c9f2bfd714ae",
        "colab": {
          "base_uri": "https://localhost:8080/",
          "height": 35
        }
      },
      "source": [
        "y_train[0]"
      ],
      "execution_count": 56,
      "outputs": [
        {
          "output_type": "execute_result",
          "data": {
            "text/plain": [
              "array([0., 0., 1., 0., 0., 0.], dtype=float32)"
            ]
          },
          "metadata": {
            "tags": []
          },
          "execution_count": 56
        }
      ]
    },
    {
      "cell_type": "code",
      "metadata": {
        "id": "-5g-1KFpOLfP",
        "outputId": "0f558701-934c-4f57-cf03-812532424438",
        "colab": {
          "base_uri": "https://localhost:8080/",
          "height": 35
        }
      },
      "source": [
        "print('X train: ' + str(X_train.shape)+' X test: ' + str(X_test.shape) + ' y train: ' + str(y_train.shape) + ' y test: ' + str(y_test.shape))"
      ],
      "execution_count": 57,
      "outputs": [
        {
          "output_type": "stream",
          "text": [
            "X train: (5904, 128, 251, 1) X test: (1476, 128, 251, 1) y train: (5904, 6) y test: (1476, 6)\n"
          ],
          "name": "stdout"
        }
      ]
    },
    {
      "cell_type": "code",
      "metadata": {
        "id": "5ii5W2YnIB4n",
        "outputId": "c3ea7b04-15ee-44ac-eb4a-608135c356ea",
        "colab": {
          "base_uri": "https://localhost:8080/",
          "height": 470
        }
      },
      "source": [
        "!pip3 install keras-tcn"
      ],
      "execution_count": 59,
      "outputs": [
        {
          "output_type": "stream",
          "text": [
            "Collecting keras-tcn\n",
            "  Downloading https://files.pythonhosted.org/packages/a8/5b/31eed031c196dc192eddf346f053ec6a97aefa4b931164fd8665c92a9d7d/keras_tcn-3.1.1-py3-none-any.whl\n",
            "Requirement already satisfied: numpy>=1.18.1 in /usr/local/lib/python3.6/dist-packages (from keras-tcn) (1.18.5)\n",
            "Collecting keras==2.3.1\n",
            "\u001b[?25l  Downloading https://files.pythonhosted.org/packages/ad/fd/6bfe87920d7f4fd475acd28500a42482b6b84479832bdc0fe9e589a60ceb/Keras-2.3.1-py2.py3-none-any.whl (377kB)\n",
            "\u001b[K     |████████████████████████████████| 378kB 3.9MB/s \n",
            "\u001b[?25hCollecting keras-applications>=1.0.6\n",
            "\u001b[?25l  Downloading https://files.pythonhosted.org/packages/71/e3/19762fdfc62877ae9102edf6342d71b28fbfd9dea3d2f96a882ce099b03f/Keras_Applications-1.0.8-py3-none-any.whl (50kB)\n",
            "\u001b[K     |████████████████████████████████| 51kB 6.4MB/s \n",
            "\u001b[?25hRequirement already satisfied: keras-preprocessing>=1.0.5 in /usr/local/lib/python3.6/dist-packages (from keras==2.3.1->keras-tcn) (1.1.2)\n",
            "Requirement already satisfied: scipy>=0.14 in /usr/local/lib/python3.6/dist-packages (from keras==2.3.1->keras-tcn) (1.4.1)\n",
            "Requirement already satisfied: six>=1.9.0 in /usr/local/lib/python3.6/dist-packages (from keras==2.3.1->keras-tcn) (1.15.0)\n",
            "Requirement already satisfied: h5py in /usr/local/lib/python3.6/dist-packages (from keras==2.3.1->keras-tcn) (2.10.0)\n",
            "Requirement already satisfied: pyyaml in /usr/local/lib/python3.6/dist-packages (from keras==2.3.1->keras-tcn) (3.13)\n",
            "Installing collected packages: keras-applications, keras, keras-tcn\n",
            "  Found existing installation: Keras 2.4.3\n",
            "    Uninstalling Keras-2.4.3:\n",
            "      Successfully uninstalled Keras-2.4.3\n",
            "Successfully installed keras-2.3.1 keras-applications-1.0.8 keras-tcn-3.1.1\n"
          ],
          "name": "stdout"
        },
        {
          "output_type": "display_data",
          "data": {
            "application/vnd.colab-display-data+json": {
              "pip_warning": {
                "packages": [
                  "keras"
                ]
              }
            }
          },
          "metadata": {
            "tags": []
          }
        }
      ]
    },
    {
      "cell_type": "code",
      "metadata": {
        "id": "hBVY4tCLIFFl"
      },
      "source": [
        "from tcn import TCN, tcn_full_summary"
      ],
      "execution_count": 60,
      "outputs": []
    },
    {
      "cell_type": "code",
      "metadata": {
        "id": "B0nGm5Yw2h2b"
      },
      "source": [
        "X_train_T = np.transpose(X_train, (0, 2, 1, 3))\n",
        "X_test_T = np.transpose(X_test, (0, 2, 1, 3))"
      ],
      "execution_count": 61,
      "outputs": []
    },
    {
      "cell_type": "code",
      "metadata": {
        "id": "aHKGXEj2H2qH"
      },
      "source": [
        "batch_size, timesteps, input_dim = None, 251, 128\n",
        "opt = optimizers.Adam(0.001, amsgrad=True)\n",
        "i = Input(batch_shape=(batch_size, timesteps, input_dim, 1))\n",
        "\n",
        "# inp = Input(shape=(timesteps, input_dim, 1))  #2D matrix of 30 MFCC bands by 216 audio length.\n",
        "\n",
        "# X = Reshape((128000,1),name='reshape_input')(inp)\n",
        "# X = LSTM(units=216,dropout=0.2,return_sequences=True,activation='relu',stateful=False,input_shape=(30,216))(X)\n",
        "# X=Reshape((30,216,1),name='reshape')(X)  #2D matrix of 30 MFCC bands by 216 audio length.\n",
        "\n",
        "x = Convolution2D(16, kernel_size=(5,5), padding=\"same\")(i)\n",
        "x = BatchNormalization()(x)\n",
        "x = Activation(\"relu\")(x)\n",
        "x = AveragePooling2D(pool_size=(1,2), strides=(1,2))(x)\n",
        "# x = Dropout(rate=0.3)(x)\n",
        "    \n",
        "x = Convolution2D(32, kernel_size=(5,5), padding=\"same\")(x)\n",
        "x = BatchNormalization()(x)\n",
        "x = Activation(\"relu\")(x)\n",
        "x = AveragePooling2D(pool_size=(1,4), strides=(1,4))(x)\n",
        "# x = Dropout(rate=0.3)(x)\n",
        "    \n",
        "x = Convolution2D(64, kernel_size=(5,5), padding=\"same\")(x)\n",
        "x = BatchNormalization()(x)\n",
        "x = Activation(\"relu\")(x)\n",
        "x = AveragePooling2D(pool_size=(1,4), strides=(1,4))(x)\n",
        "\n",
        "x = Convolution2D(128, kernel_size=(5,5), padding=\"same\")(x)\n",
        "x = BatchNormalization()(x)\n",
        "x = Activation(\"relu\")(x)\n",
        "x = AveragePooling2D(pool_size=(1,4), strides=(1,4))(x)\n",
        "# x = Dropout(rate=0.3)(x)\n",
        "# x = GlobalAveragePooling2D()(x)    \n",
        "#x = Convolution2D(256, kernel_size=(5,1), padding=\"same\")(x)\n",
        "# x = BatchNormalization()(x)\n",
        "#x = Flatten()(x)\n",
        "x= tf.keras.backend.squeeze(x, axis=2)\n",
        "# x = Reshape((251,128))(x)\n",
        "x = TCN(return_sequences=False, nb_filters=64, kernel_size=5, nb_stacks=1,\n",
        "        dilations=[1,2,4,16,32]\n",
        "        ,padding='same', use_skip_connections=True, dropout_rate=0.5, \n",
        "        activation='relu',use_batch_norm=True)(x)\n",
        "# p = TCN(return_sequences=False,nb_filters=128, kernel_size=3, nb_stacks=5\n",
        "#          ,padding='same',use_skip_connections=True,dropout_rate=0.5,\n",
        "#          activation='relu',use_batch_norm=True)(o) \n",
        "#o = Dense(128, activation='relu')(o)\n",
        "o = Dense(6,activation='softmax')(x)\n",
        "m = Model(inputs=[i], outputs=[o])\n",
        "m.compile(optimizer=opt, loss='categorical_crossentropy',metrics=['acc'])"
      ],
      "execution_count": 79,
      "outputs": []
    },
    {
      "cell_type": "code",
      "metadata": {
        "id": "sJaqCQcX0mNB",
        "outputId": "b6cc7c11-4893-4347-897b-56e3fe0d1021",
        "colab": {
          "base_uri": "https://localhost:8080/",
          "height": 1000
        }
      },
      "source": [
        "plot_model(m, show_shapes=True)"
      ],
      "execution_count": 77,
      "outputs": [
        {
          "output_type": "execute_result",
          "data": {
            "image/png": "[encoded data removed]",
            "text/plain": [
              "<IPython.core.display.Image object>"
            ]
          },
          "metadata": {
            "tags": []
          },
          "execution_count": 77
        }
      ]
    },
    {
      "cell_type": "code",
      "metadata": {
        "id": "AzKyGxYNT2ss",
        "outputId": "31bd66d3-deed-4b2b-bc03-235c36b3d713",
        "colab": {
          "base_uri": "https://localhost:8080/",
          "height": 628
        }
      },
      "source": [
        "tf.compat.v1.logging.set_verbosity(tf.compat.v1.logging.ERROR)\n",
        "model_checkpoint = ModelCheckpoint('/gdrive/My Drive/iemocap_cnn_tcn',save_best_only=True,mode='max',monitor='val_acc',verbose=2)\n",
        "history=m.fit(X_train_T, \n",
        "              y_train,\n",
        "              epochs=200,\n",
        "              batch_size=20,\n",
        "              verbose=1,\n",
        "              validation_data=(X_test_T,y_test),\n",
        "              shuffle=True,\n",
        "              callbacks=[model_checkpoint],\n",
        "              )"
      ],
      "execution_count": 80,
      "outputs": [
        {
          "output_type": "stream",
          "text": [
            "Epoch 1/200\n",
            "296/296 [==============================] - ETA: 0s - loss: 2.8973 - acc: 0.2039\n",
            "Epoch 00001: val_acc improved from -inf to 0.22561, saving model to /gdrive/My Drive/iemocap_cnn_tcn\n",
            "296/296 [==============================] - 874s 3s/step - loss: 2.8973 - acc: 0.2039 - val_loss: 2.0762 - val_acc: 0.2256\n",
            "Epoch 2/200\n",
            "296/296 [==============================] - ETA: 0s - loss: 2.2206 - acc: 0.2038\n",
            "Epoch 00002: val_acc improved from 0.22561 to 0.25068, saving model to /gdrive/My Drive/iemocap_cnn_tcn\n",
            "296/296 [==============================] - 883s 3s/step - loss: 2.2206 - acc: 0.2038 - val_loss: 1.7633 - val_acc: 0.2507\n",
            "Epoch 3/200\n",
            "296/296 [==============================] - ETA: 0s - loss: 1.9988 - acc: 0.2122\n",
            "Epoch 00003: val_acc did not improve from 0.25068\n",
            "296/296 [==============================] - 871s 3s/step - loss: 1.9988 - acc: 0.2122 - val_loss: 1.7849 - val_acc: 0.2419\n",
            "Epoch 4/200\n",
            " 95/296 [========>.....................] - ETA: 9:09 - loss: 1.9153 - acc: 0.2347"
          ],
          "name": "stdout"
        },
        {
          "output_type": "error",
          "ename": "KeyboardInterrupt",
          "evalue": "ignored",
          "traceback": [
            "\u001b[0;31m---------------------------------------------------------------------------\u001b[0m",
            "\u001b[0;31mKeyboardInterrupt\u001b[0m                         Traceback (most recent call last)",
            "\u001b[0;32m<ipython-input-80-0c531b28c812>\u001b[0m in \u001b[0;36m<module>\u001b[0;34m()\u001b[0m\n\u001b[1;32m      8\u001b[0m               \u001b[0mvalidation_data\u001b[0m\u001b[0;34m=\u001b[0m\u001b[0;34m(\u001b[0m\u001b[0mX_test_T\u001b[0m\u001b[0;34m,\u001b[0m\u001b[0my_test\u001b[0m\u001b[0;34m)\u001b[0m\u001b[0;34m,\u001b[0m\u001b[0;34m\u001b[0m\u001b[0;34m\u001b[0m\u001b[0m\n\u001b[1;32m      9\u001b[0m               \u001b[0mshuffle\u001b[0m\u001b[0;34m=\u001b[0m\u001b[0;32mTrue\u001b[0m\u001b[0;34m,\u001b[0m\u001b[0;34m\u001b[0m\u001b[0;34m\u001b[0m\u001b[0m\n\u001b[0;32m---> 10\u001b[0;31m               \u001b[0mcallbacks\u001b[0m\u001b[0;34m=\u001b[0m\u001b[0;34m[\u001b[0m\u001b[0mmodel_checkpoint\u001b[0m\u001b[0;34m]\u001b[0m\u001b[0;34m,\u001b[0m\u001b[0;34m\u001b[0m\u001b[0;34m\u001b[0m\u001b[0m\n\u001b[0m\u001b[1;32m     11\u001b[0m               )\n",
            "\u001b[0;32m/usr/local/lib/python3.6/dist-packages/tensorflow/python/keras/engine/training.py\u001b[0m in \u001b[0;36m_method_wrapper\u001b[0;34m(self, *args, **kwargs)\u001b[0m\n\u001b[1;32m    106\u001b[0m   \u001b[0;32mdef\u001b[0m \u001b[0m_method_wrapper\u001b[0m\u001b[0;34m(\u001b[0m\u001b[0mself\u001b[0m\u001b[0;34m,\u001b[0m \u001b[0;34m*\u001b[0m\u001b[0margs\u001b[0m\u001b[0;34m,\u001b[0m \u001b[0;34m**\u001b[0m\u001b[0mkwargs\u001b[0m\u001b[0;34m)\u001b[0m\u001b[0;34m:\u001b[0m\u001b[0;34m\u001b[0m\u001b[0;34m\u001b[0m\u001b[0m\n\u001b[1;32m    107\u001b[0m     \u001b[0;32mif\u001b[0m \u001b[0;32mnot\u001b[0m \u001b[0mself\u001b[0m\u001b[0;34m.\u001b[0m\u001b[0m_in_multi_worker_mode\u001b[0m\u001b[0;34m(\u001b[0m\u001b[0;34m)\u001b[0m\u001b[0;34m:\u001b[0m  \u001b[0;31m# pylint: disable=protected-access\u001b[0m\u001b[0;34m\u001b[0m\u001b[0;34m\u001b[0m\u001b[0m\n\u001b[0;32m--> 108\u001b[0;31m       \u001b[0;32mreturn\u001b[0m \u001b[0mmethod\u001b[0m\u001b[0;34m(\u001b[0m\u001b[0mself\u001b[0m\u001b[0;34m,\u001b[0m \u001b[0;34m*\u001b[0m\u001b[0margs\u001b[0m\u001b[0;34m,\u001b[0m \u001b[0;34m**\u001b[0m\u001b[0mkwargs\u001b[0m\u001b[0;34m)\u001b[0m\u001b[0;34m\u001b[0m\u001b[0;34m\u001b[0m\u001b[0m\n\u001b[0m\u001b[1;32m    109\u001b[0m \u001b[0;34m\u001b[0m\u001b[0m\n\u001b[1;32m    110\u001b[0m     \u001b[0;31m# Running inside `run_distribute_coordinator` already.\u001b[0m\u001b[0;34m\u001b[0m\u001b[0;34m\u001b[0m\u001b[0;34m\u001b[0m\u001b[0m\n",
            "\u001b[0;32m/usr/local/lib/python3.6/dist-packages/tensorflow/python/keras/engine/training.py\u001b[0m in \u001b[0;36mfit\u001b[0;34m(self, x, y, batch_size, epochs, verbose, callbacks, validation_split, validation_data, shuffle, class_weight, sample_weight, initial_epoch, steps_per_epoch, validation_steps, validation_batch_size, validation_freq, max_queue_size, workers, use_multiprocessing)\u001b[0m\n\u001b[1;32m   1096\u001b[0m                 batch_size=batch_size):\n\u001b[1;32m   1097\u001b[0m               \u001b[0mcallbacks\u001b[0m\u001b[0;34m.\u001b[0m\u001b[0mon_train_batch_begin\u001b[0m\u001b[0;34m(\u001b[0m\u001b[0mstep\u001b[0m\u001b[0;34m)\u001b[0m\u001b[0;34m\u001b[0m\u001b[0;34m\u001b[0m\u001b[0m\n\u001b[0;32m-> 1098\u001b[0;31m               \u001b[0mtmp_logs\u001b[0m \u001b[0;34m=\u001b[0m \u001b[0mtrain_function\u001b[0m\u001b[0;34m(\u001b[0m\u001b[0miterator\u001b[0m\u001b[0;34m)\u001b[0m\u001b[0;34m\u001b[0m\u001b[0;34m\u001b[0m\u001b[0m\n\u001b[0m\u001b[1;32m   1099\u001b[0m               \u001b[0;32mif\u001b[0m \u001b[0mdata_handler\u001b[0m\u001b[0;34m.\u001b[0m\u001b[0mshould_sync\u001b[0m\u001b[0;34m:\u001b[0m\u001b[0;34m\u001b[0m\u001b[0;34m\u001b[0m\u001b[0m\n\u001b[1;32m   1100\u001b[0m                 \u001b[0mcontext\u001b[0m\u001b[0;34m.\u001b[0m\u001b[0masync_wait\u001b[0m\u001b[0;34m(\u001b[0m\u001b[0;34m)\u001b[0m\u001b[0;34m\u001b[0m\u001b[0;34m\u001b[0m\u001b[0m\n",
            "\u001b[0;32m/usr/local/lib/python3.6/dist-packages/tensorflow/python/eager/def_function.py\u001b[0m in \u001b[0;36m__call__\u001b[0;34m(self, *args, **kwds)\u001b[0m\n\u001b[1;32m    778\u001b[0m       \u001b[0;32melse\u001b[0m\u001b[0;34m:\u001b[0m\u001b[0;34m\u001b[0m\u001b[0;34m\u001b[0m\u001b[0m\n\u001b[1;32m    779\u001b[0m         \u001b[0mcompiler\u001b[0m \u001b[0;34m=\u001b[0m \u001b[0;34m\"nonXla\"\u001b[0m\u001b[0;34m\u001b[0m\u001b[0;34m\u001b[0m\u001b[0m\n\u001b[0;32m--> 780\u001b[0;31m         \u001b[0mresult\u001b[0m \u001b[0;34m=\u001b[0m \u001b[0mself\u001b[0m\u001b[0;34m.\u001b[0m\u001b[0m_call\u001b[0m\u001b[0;34m(\u001b[0m\u001b[0;34m*\u001b[0m\u001b[0margs\u001b[0m\u001b[0;34m,\u001b[0m \u001b[0;34m**\u001b[0m\u001b[0mkwds\u001b[0m\u001b[0;34m)\u001b[0m\u001b[0;34m\u001b[0m\u001b[0;34m\u001b[0m\u001b[0m\n\u001b[0m\u001b[1;32m    781\u001b[0m \u001b[0;34m\u001b[0m\u001b[0m\n\u001b[1;32m    782\u001b[0m       \u001b[0mnew_tracing_count\u001b[0m \u001b[0;34m=\u001b[0m \u001b[0mself\u001b[0m\u001b[0;34m.\u001b[0m\u001b[0m_get_tracing_count\u001b[0m\u001b[0;34m(\u001b[0m\u001b[0;34m)\u001b[0m\u001b[0;34m\u001b[0m\u001b[0;34m\u001b[0m\u001b[0m\n",
            "\u001b[0;32m/usr/local/lib/python3.6/dist-packages/tensorflow/python/eager/def_function.py\u001b[0m in \u001b[0;36m_call\u001b[0;34m(self, *args, **kwds)\u001b[0m\n\u001b[1;32m    805\u001b[0m       \u001b[0;31m# In this case we have created variables on the first call, so we run the\u001b[0m\u001b[0;34m\u001b[0m\u001b[0;34m\u001b[0m\u001b[0;34m\u001b[0m\u001b[0m\n\u001b[1;32m    806\u001b[0m       \u001b[0;31m# defunned version which is guaranteed to never create variables.\u001b[0m\u001b[0;34m\u001b[0m\u001b[0;34m\u001b[0m\u001b[0;34m\u001b[0m\u001b[0m\n\u001b[0;32m--> 807\u001b[0;31m       \u001b[0;32mreturn\u001b[0m \u001b[0mself\u001b[0m\u001b[0;34m.\u001b[0m\u001b[0m_stateless_fn\u001b[0m\u001b[0;34m(\u001b[0m\u001b[0;34m*\u001b[0m\u001b[0margs\u001b[0m\u001b[0;34m,\u001b[0m \u001b[0;34m**\u001b[0m\u001b[0mkwds\u001b[0m\u001b[0;34m)\u001b[0m  \u001b[0;31m# pylint: disable=not-callable\u001b[0m\u001b[0;34m\u001b[0m\u001b[0;34m\u001b[0m\u001b[0m\n\u001b[0m\u001b[1;32m    808\u001b[0m     \u001b[0;32melif\u001b[0m \u001b[0mself\u001b[0m\u001b[0;34m.\u001b[0m\u001b[0m_stateful_fn\u001b[0m \u001b[0;32mis\u001b[0m \u001b[0;32mnot\u001b[0m \u001b[0;32mNone\u001b[0m\u001b[0;34m:\u001b[0m\u001b[0;34m\u001b[0m\u001b[0;34m\u001b[0m\u001b[0m\n\u001b[1;32m    809\u001b[0m       \u001b[0;31m# Release the lock early so that multiple threads can perform the call\u001b[0m\u001b[0;34m\u001b[0m\u001b[0;34m\u001b[0m\u001b[0;34m\u001b[0m\u001b[0m\n",
            "\u001b[0;32m/usr/local/lib/python3.6/dist-packages/tensorflow/python/eager/function.py\u001b[0m in \u001b[0;36m__call__\u001b[0;34m(self, *args, **kwargs)\u001b[0m\n\u001b[1;32m   2827\u001b[0m     \u001b[0;32mwith\u001b[0m \u001b[0mself\u001b[0m\u001b[0;34m.\u001b[0m\u001b[0m_lock\u001b[0m\u001b[0;34m:\u001b[0m\u001b[0;34m\u001b[0m\u001b[0;34m\u001b[0m\u001b[0m\n\u001b[1;32m   2828\u001b[0m       \u001b[0mgraph_function\u001b[0m\u001b[0;34m,\u001b[0m \u001b[0margs\u001b[0m\u001b[0;34m,\u001b[0m \u001b[0mkwargs\u001b[0m \u001b[0;34m=\u001b[0m \u001b[0mself\u001b[0m\u001b[0;34m.\u001b[0m\u001b[0m_maybe_define_function\u001b[0m\u001b[0;34m(\u001b[0m\u001b[0margs\u001b[0m\u001b[0;34m,\u001b[0m \u001b[0mkwargs\u001b[0m\u001b[0;34m)\u001b[0m\u001b[0;34m\u001b[0m\u001b[0;34m\u001b[0m\u001b[0m\n\u001b[0;32m-> 2829\u001b[0;31m     \u001b[0;32mreturn\u001b[0m \u001b[0mgraph_function\u001b[0m\u001b[0;34m.\u001b[0m\u001b[0m_filtered_call\u001b[0m\u001b[0;34m(\u001b[0m\u001b[0margs\u001b[0m\u001b[0;34m,\u001b[0m \u001b[0mkwargs\u001b[0m\u001b[0;34m)\u001b[0m  \u001b[0;31m# pylint: disable=protected-access\u001b[0m\u001b[0;34m\u001b[0m\u001b[0;34m\u001b[0m\u001b[0m\n\u001b[0m\u001b[1;32m   2830\u001b[0m \u001b[0;34m\u001b[0m\u001b[0m\n\u001b[1;32m   2831\u001b[0m   \u001b[0;34m@\u001b[0m\u001b[0mproperty\u001b[0m\u001b[0;34m\u001b[0m\u001b[0;34m\u001b[0m\u001b[0m\n",
            "\u001b[0;32m/usr/local/lib/python3.6/dist-packages/tensorflow/python/eager/function.py\u001b[0m in \u001b[0;36m_filtered_call\u001b[0;34m(self, args, kwargs, cancellation_manager)\u001b[0m\n\u001b[1;32m   1846\u001b[0m                            resource_variable_ops.BaseResourceVariable))],\n\u001b[1;32m   1847\u001b[0m         \u001b[0mcaptured_inputs\u001b[0m\u001b[0;34m=\u001b[0m\u001b[0mself\u001b[0m\u001b[0;34m.\u001b[0m\u001b[0mcaptured_inputs\u001b[0m\u001b[0;34m,\u001b[0m\u001b[0;34m\u001b[0m\u001b[0;34m\u001b[0m\u001b[0m\n\u001b[0;32m-> 1848\u001b[0;31m         cancellation_manager=cancellation_manager)\n\u001b[0m\u001b[1;32m   1849\u001b[0m \u001b[0;34m\u001b[0m\u001b[0m\n\u001b[1;32m   1850\u001b[0m   \u001b[0;32mdef\u001b[0m \u001b[0m_call_flat\u001b[0m\u001b[0;34m(\u001b[0m\u001b[0mself\u001b[0m\u001b[0;34m,\u001b[0m \u001b[0margs\u001b[0m\u001b[0;34m,\u001b[0m \u001b[0mcaptured_inputs\u001b[0m\u001b[0;34m,\u001b[0m \u001b[0mcancellation_manager\u001b[0m\u001b[0;34m=\u001b[0m\u001b[0;32mNone\u001b[0m\u001b[0;34m)\u001b[0m\u001b[0;34m:\u001b[0m\u001b[0;34m\u001b[0m\u001b[0;34m\u001b[0m\u001b[0m\n",
            "\u001b[0;32m/usr/local/lib/python3.6/dist-packages/tensorflow/python/eager/function.py\u001b[0m in \u001b[0;36m_call_flat\u001b[0;34m(self, args, captured_inputs, cancellation_manager)\u001b[0m\n\u001b[1;32m   1922\u001b[0m       \u001b[0;31m# No tape is watching; skip to running the function.\u001b[0m\u001b[0;34m\u001b[0m\u001b[0;34m\u001b[0m\u001b[0;34m\u001b[0m\u001b[0m\n\u001b[1;32m   1923\u001b[0m       return self._build_call_outputs(self._inference_function.call(\n\u001b[0;32m-> 1924\u001b[0;31m           ctx, args, cancellation_manager=cancellation_manager))\n\u001b[0m\u001b[1;32m   1925\u001b[0m     forward_backward = self._select_forward_and_backward_functions(\n\u001b[1;32m   1926\u001b[0m         \u001b[0margs\u001b[0m\u001b[0;34m,\u001b[0m\u001b[0;34m\u001b[0m\u001b[0;34m\u001b[0m\u001b[0m\n",
            "\u001b[0;32m/usr/local/lib/python3.6/dist-packages/tensorflow/python/eager/function.py\u001b[0m in \u001b[0;36mcall\u001b[0;34m(self, ctx, args, cancellation_manager)\u001b[0m\n\u001b[1;32m    548\u001b[0m               \u001b[0minputs\u001b[0m\u001b[0;34m=\u001b[0m\u001b[0margs\u001b[0m\u001b[0;34m,\u001b[0m\u001b[0;34m\u001b[0m\u001b[0;34m\u001b[0m\u001b[0m\n\u001b[1;32m    549\u001b[0m               \u001b[0mattrs\u001b[0m\u001b[0;34m=\u001b[0m\u001b[0mattrs\u001b[0m\u001b[0;34m,\u001b[0m\u001b[0;34m\u001b[0m\u001b[0;34m\u001b[0m\u001b[0m\n\u001b[0;32m--> 550\u001b[0;31m               ctx=ctx)\n\u001b[0m\u001b[1;32m    551\u001b[0m         \u001b[0;32melse\u001b[0m\u001b[0;34m:\u001b[0m\u001b[0;34m\u001b[0m\u001b[0;34m\u001b[0m\u001b[0m\n\u001b[1;32m    552\u001b[0m           outputs = execute.execute_with_cancellation(\n",
            "\u001b[0;32m/usr/local/lib/python3.6/dist-packages/tensorflow/python/eager/execute.py\u001b[0m in \u001b[0;36mquick_execute\u001b[0;34m(op_name, num_outputs, inputs, attrs, ctx, name)\u001b[0m\n\u001b[1;32m     58\u001b[0m     \u001b[0mctx\u001b[0m\u001b[0;34m.\u001b[0m\u001b[0mensure_initialized\u001b[0m\u001b[0;34m(\u001b[0m\u001b[0;34m)\u001b[0m\u001b[0;34m\u001b[0m\u001b[0;34m\u001b[0m\u001b[0m\n\u001b[1;32m     59\u001b[0m     tensors = pywrap_tfe.TFE_Py_Execute(ctx._handle, device_name, op_name,\n\u001b[0;32m---> 60\u001b[0;31m                                         inputs, attrs, num_outputs)\n\u001b[0m\u001b[1;32m     61\u001b[0m   \u001b[0;32mexcept\u001b[0m \u001b[0mcore\u001b[0m\u001b[0;34m.\u001b[0m\u001b[0m_NotOkStatusException\u001b[0m \u001b[0;32mas\u001b[0m \u001b[0me\u001b[0m\u001b[0;34m:\u001b[0m\u001b[0;34m\u001b[0m\u001b[0;34m\u001b[0m\u001b[0m\n\u001b[1;32m     62\u001b[0m     \u001b[0;32mif\u001b[0m \u001b[0mname\u001b[0m \u001b[0;32mis\u001b[0m \u001b[0;32mnot\u001b[0m \u001b[0;32mNone\u001b[0m\u001b[0;34m:\u001b[0m\u001b[0;34m\u001b[0m\u001b[0;34m\u001b[0m\u001b[0m\n",
            "\u001b[0;31mKeyboardInterrupt\u001b[0m: "
          ]
        }
      ]
    }
  ]
}