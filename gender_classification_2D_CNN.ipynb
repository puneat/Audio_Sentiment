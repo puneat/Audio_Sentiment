{
  "nbformat": 4,
  "nbformat_minor": 0,
  "metadata": {
    "colab": {
      "name": "gender_classification_2D_CNN.ipynb",
      "provenance": [],
      "collapsed_sections": [],
      "authorship_tag": "ABX9TyMDs8JK9m8TicoXZC+HT40+",
      "include_colab_link": true
    },
    "kernelspec": {
      "name": "python3",
      "display_name": "Python 3"
    },
    "accelerator": "GPU"
  },
  "cells": [
    {
      "cell_type": "markdown",
      "metadata": {
        "id": "view-in-github",
        "colab_type": "text"
      },
      "source": [
        "<a href=\"https://colab.research.google.com/github/puneat/Audio_Sentiment/blob/puneet/gender_classification_2D_CNN.ipynb\" target=\"_parent\"><img src=\"https://colab.research.google.com/assets/colab-badge.svg\" alt=\"Open In Colab\"/></a>"
      ]
    },
    {
      "cell_type": "code",
      "metadata": {
        "id": "sgO6_mMfRVmW",
        "colab_type": "code",
        "colab": {
          "base_uri": "https://localhost:8080/",
          "height": 120
        },
        "outputId": "a0a33f3d-baaf-4bf7-f76a-0655a159139c"
      },
      "source": [
        "from google.colab import drive\n",
        "drive.mount('/gdrive', force_remount=True)"
      ],
      "execution_count": 1,
      "outputs": [
        {
          "output_type": "stream",
          "text": [
            "Go to this URL in a browser: https://accounts.google.com/o/oauth2/auth?client_id=947318989803-6bn6qk8qdgf4n4g3pfee6491hc0brc4i.apps.googleusercontent.com&redirect_uri=urn%3aietf%3awg%3aoauth%3a2.0%3aoob&response_type=code&scope=email%20https%3a%2f%2fwww.googleapis.com%2fauth%2fdocs.test%20https%3a%2f%2fwww.googleapis.com%2fauth%2fdrive%20https%3a%2f%2fwww.googleapis.com%2fauth%2fdrive.photos.readonly%20https%3a%2f%2fwww.googleapis.com%2fauth%2fpeopleapi.readonly\n",
            "\n",
            "Enter your authorization code:\n",
            "··········\n",
            "Mounted at /gdrive\n"
          ],
          "name": "stdout"
        }
      ]
    },
    {
      "cell_type": "code",
      "metadata": {
        "_cell_guid": "79c7e3d0-c299-4dcb-8224-4455121ee9b0",
        "_uuid": "d629ff2d2480ee46fbb7e2d37f6b5fab8052498a",
        "id": "s_IdA4makRmI",
        "colab_type": "code",
        "colab": {
          "base_uri": "https://localhost:8080/",
          "height": 66
        },
        "outputId": "36fe9bbc-7f71-44dc-a60f-c51486cd82d7"
      },
      "source": [
        "# Keras\n",
        "import keras\n",
        "from keras import regularizers\n",
        "from keras.preprocessing import sequence\n",
        "from keras.preprocessing.text import Tokenizer\n",
        "from keras.preprocessing.sequence import pad_sequences\n",
        "from keras.models import Sequential, Model, model_from_json\n",
        "from keras.layers import Dense, Embedding, LSTM\n",
        "from keras.layers import Input, Flatten, Dropout, Activation, BatchNormalization\n",
        "from keras.layers import Conv1D, MaxPooling1D, AveragePooling1D\n",
        "from keras.utils import np_utils, to_categorical\n",
        "from keras.callbacks import (EarlyStopping, LearningRateScheduler,\n",
        "                             ModelCheckpoint, TensorBoard, ReduceLROnPlateau)\n",
        "from keras import losses, models, optimizers\n",
        "from keras.activations import relu, softmax\n",
        "from keras.layers import (Convolution2D, GlobalAveragePooling2D, BatchNormalization, Flatten, Dropout,\n",
        "                          GlobalMaxPool2D, MaxPool2D, concatenate, Activation, Input, Dense)\n",
        "\n",
        "# sklearn\n",
        "from sklearn.metrics import confusion_matrix, accuracy_score\n",
        "from sklearn.model_selection import train_test_split\n",
        "from sklearn.preprocessing import LabelEncoder\n",
        "\n",
        "# Other  \n",
        "from tqdm import tqdm, tqdm_pandas\n",
        "import scipy\n",
        "from scipy.stats import skew\n",
        "import librosa\n",
        "import librosa.display\n",
        "import json\n",
        "import numpy as np\n",
        "import matplotlib.pyplot as plt\n",
        "import tensorflow as tf\n",
        "from matplotlib.pyplot import specgram\n",
        "import pandas as pd\n",
        "import seaborn as sns\n",
        "import glob \n",
        "import os\n",
        "import sys\n",
        "import IPython.display as ipd  # To play sound in the notebook\n",
        "import warnings\n",
        "# ignore warnings \n",
        "if not sys.warnoptions:\n",
        "    warnings.simplefilter(\"ignore\")"
      ],
      "execution_count": 2,
      "outputs": [
        {
          "output_type": "stream",
          "text": [
            "Using TensorFlow backend.\n",
            "/usr/local/lib/python3.6/dist-packages/statsmodels/tools/_testing.py:19: FutureWarning: pandas.util.testing is deprecated. Use the functions in the public API at pandas.testing instead.\n",
            "  import pandas.util.testing as tm\n"
          ],
          "name": "stderr"
        }
      ]
    },
    {
      "cell_type": "code",
      "metadata": {
        "id": "hlzWGoYm57me",
        "colab_type": "code",
        "colab": {}
      },
      "source": [
        "df_male= pd.read_csv('/gdrive/My Drive/Audio_files/Combined_Dataframes/gender_male.csv')"
      ],
      "execution_count": 27,
      "outputs": []
    },
    {
      "cell_type": "code",
      "metadata": {
        "id": "KEzPvhvaDk6j",
        "colab_type": "code",
        "colab": {}
      },
      "source": [
        "df_female= pd.read_csv('/gdrive/My Drive/Audio_files/Combined_Dataframes/gender_female.csv')"
      ],
      "execution_count": 28,
      "outputs": []
    },
    {
      "cell_type": "code",
      "metadata": {
        "id": "fpjMBG7H_VCN",
        "colab_type": "code",
        "colab": {
          "base_uri": "https://localhost:8080/",
          "height": 33
        },
        "outputId": "174ec4bd-c82d-46de-a3a0-da4a627c17d4"
      },
      "source": [
        "print(df_male.shape, df_female.shape)"
      ],
      "execution_count": 5,
      "outputs": [
        {
          "output_type": "stream",
          "text": [
            "(30780, 219) (42174, 219)\n"
          ],
          "name": "stdout"
        }
      ]
    },
    {
      "cell_type": "code",
      "metadata": {
        "id": "aUR345uf-Ys5",
        "colab_type": "code",
        "colab": {}
      },
      "source": [
        "gender_male=np.load('/gdrive/My Drive/Audio_files/Combined_Dataframes/male_2d_aug.npy')"
      ],
      "execution_count": 6,
      "outputs": []
    },
    {
      "cell_type": "code",
      "metadata": {
        "id": "Z0xHXqTEDoYJ",
        "colab_type": "code",
        "colab": {}
      },
      "source": [
        "gender_female=np.load('/gdrive/My Drive/Audio_files/Combined_Dataframes/female_2d_aug.npy')"
      ],
      "execution_count": 7,
      "outputs": []
    },
    {
      "cell_type": "code",
      "metadata": {
        "id": "Uixbj2K1l1lk",
        "colab_type": "code",
        "colab": {
          "base_uri": "https://localhost:8080/",
          "height": 33
        },
        "outputId": "378bbee6-66e3-485d-9a14-9163b02d9b3b"
      },
      "source": [
        "print(gender_male.shape, gender_female.shape)"
      ],
      "execution_count": 8,
      "outputs": [
        {
          "output_type": "stream",
          "text": [
            "(30780, 30, 216, 1) (42174, 30, 216, 1)\n"
          ],
          "name": "stdout"
        }
      ]
    },
    {
      "cell_type": "code",
      "metadata": {
        "id": "0dCB8rG5XdDF",
        "colab_type": "code",
        "colab": {
          "base_uri": "https://localhost:8080/",
          "height": 183
        },
        "outputId": "72b05ce0-7b89-471c-ddb4-6223684ff158"
      },
      "source": [
        "#converting class into boolean\n",
        "#male=1\n",
        "for i in range(0,df_male.shape[0]):\n",
        "  if df_male['labels'][i]=='male':\n",
        "    df_male['labels'][i]=1;\n",
        "    \n",
        "#female=2\n",
        "for i in range(0,df_female.shape[0]):\n",
        "  if df_female['labels'][i]=='female':\n",
        "    df_female['labels'][i]=2;"
      ],
      "execution_count": 8,
      "outputs": [
        {
          "output_type": "stream",
          "text": [
            "/usr/local/lib/python3.6/dist-packages/ipykernel_launcher.py:5: SettingWithCopyWarning: \n",
            "A value is trying to be set on a copy of a slice from a DataFrame\n",
            "\n",
            "See the caveats in the documentation: https://pandas.pydata.org/pandas-docs/stable/user_guide/indexing.html#returning-a-view-versus-a-copy\n",
            "  \"\"\"\n",
            "/usr/local/lib/python3.6/dist-packages/ipykernel_launcher.py:10: SettingWithCopyWarning: \n",
            "A value is trying to be set on a copy of a slice from a DataFrame\n",
            "\n",
            "See the caveats in the documentation: https://pandas.pydata.org/pandas-docs/stable/user_guide/indexing.html#returning-a-view-versus-a-copy\n",
            "  # Remove the CWD from sys.path while we load stuff.\n"
          ],
          "name": "stderr"
        }
      ]
    },
    {
      "cell_type": "code",
      "metadata": {
        "id": "dpdtVN8GADMT",
        "colab_type": "code",
        "colab": {}
      },
      "source": [
        "result=np.concatenate((gender_male,gender_female),axis=0)"
      ],
      "execution_count": 9,
      "outputs": []
    },
    {
      "cell_type": "code",
      "metadata": {
        "id": "C_Siqg27D_Ji",
        "colab_type": "code",
        "colab": {}
      },
      "source": [
        "del gender_male, gender_female"
      ],
      "execution_count": 10,
      "outputs": []
    },
    {
      "cell_type": "code",
      "metadata": {
        "id": "wXo80ftHDF41",
        "colab_type": "code",
        "colab": {
          "base_uri": "https://localhost:8080/",
          "height": 150
        },
        "outputId": "45d8b256-30d1-4892-f68f-2a9073bf01f8"
      },
      "source": [
        "!pip install -q --upgrade ipython\n",
        "!pip install -q --upgrade ipykernel"
      ],
      "execution_count": 1,
      "outputs": [
        {
          "output_type": "stream",
          "text": [
            "\u001b[K     |████████████████████████████████| 788kB 3.4MB/s \n",
            "\u001b[K     |████████████████████████████████| 358kB 12.2MB/s \n",
            "\u001b[31mERROR: jupyter-console 5.2.0 has requirement prompt-toolkit<2.0.0,>=1.0.0, but you'll have prompt-toolkit 3.0.5 which is incompatible.\u001b[0m\n",
            "\u001b[31mERROR: google-colab 1.0.0 has requirement ipython~=5.5.0, but you'll have ipython 7.16.1 which is incompatible.\u001b[0m\n",
            "\u001b[K     |████████████████████████████████| 122kB 3.5MB/s \n",
            "\u001b[31mERROR: jupyter-console 5.2.0 has requirement prompt-toolkit<2.0.0,>=1.0.0, but you'll have prompt-toolkit 3.0.5 which is incompatible.\u001b[0m\n",
            "\u001b[31mERROR: google-colab 1.0.0 has requirement ipykernel~=4.10, but you'll have ipykernel 5.3.0 which is incompatible.\u001b[0m\n",
            "\u001b[31mERROR: google-colab 1.0.0 has requirement ipython~=5.5.0, but you'll have ipython 7.16.1 which is incompatible.\u001b[0m\n",
            "\u001b[?25h"
          ],
          "name": "stdout"
        }
      ]
    },
    {
      "cell_type": "code",
      "metadata": {
        "id": "lovlFsbfdh-4",
        "colab_type": "code",
        "colab": {}
      },
      "source": [
        "frames=[df_male,df_female];\n",
        "df_label=pd.concat(frames);"
      ],
      "execution_count": 29,
      "outputs": []
    },
    {
      "cell_type": "code",
      "metadata": {
        "id": "9U3FVJ77EFwZ",
        "colab_type": "code",
        "colab": {}
      },
      "source": [
        "del df_male, df_female"
      ],
      "execution_count": 12,
      "outputs": []
    },
    {
      "cell_type": "code",
      "metadata": {
        "id": "-wtXnGAwAO5R",
        "colab_type": "code",
        "colab": {
          "base_uri": "https://localhost:8080/",
          "height": 33
        },
        "outputId": "c09206d2-d335-4b5e-a51d-ecb8488cef01"
      },
      "source": [
        "print(result.shape,df_label.shape)"
      ],
      "execution_count": 13,
      "outputs": [
        {
          "output_type": "stream",
          "text": [
            "(72954, 30, 216, 1) (72954, 219)\n"
          ],
          "name": "stdout"
        }
      ]
    },
    {
      "cell_type": "code",
      "metadata": {
        "id": "vI8KTyzYkRmY",
        "colab_type": "code",
        "colab": {}
      },
      "source": [
        "# Split between train and test \n",
        "X_train, X_test, y_train, y_test = train_test_split(result\n",
        "                                                    , df_label.labels\n",
        "                                                    , test_size=0.20\n",
        "                                                    , shuffle=True\n",
        "                                                    , random_state=42\n",
        "                                                   )"
      ],
      "execution_count": 14,
      "outputs": []
    },
    {
      "cell_type": "code",
      "metadata": {
        "id": "ICGxojxGELvi",
        "colab_type": "code",
        "colab": {}
      },
      "source": [
        "del result, df_label"
      ],
      "execution_count": 15,
      "outputs": []
    },
    {
      "cell_type": "code",
      "metadata": {
        "id": "tyEuaOoAuRKh",
        "colab_type": "code",
        "colab": {}
      },
      "source": [
        "# one hot encode the target \n",
        "lb = LabelEncoder()\n",
        "y_train = np_utils.to_categorical(lb.fit_transform(y_train))\n",
        "y_test = np_utils.to_categorical(lb.fit_transform(y_test))"
      ],
      "execution_count": 16,
      "outputs": []
    },
    {
      "cell_type": "code",
      "metadata": {
        "id": "-lKUj25RuRQJ",
        "colab_type": "code",
        "colab": {}
      },
      "source": [
        "# Normalization as per the standard NN process\n",
        "mean = np.mean(X_train, axis=0)\n",
        "std = np.std(X_train, axis=0)\n",
        "\n",
        "X_train = (X_train - mean)/std\n",
        "X_test = (X_test - mean)/std"
      ],
      "execution_count": 17,
      "outputs": []
    },
    {
      "cell_type": "code",
      "metadata": {
        "id": "BZOiLBmSbEZi",
        "colab_type": "code",
        "colab": {}
      },
      "source": [
        "nclass = 2\n",
        "inp = Input(shape=(30,216,1))  #2D matrix of 30 MFCC bands by 216 audio length.\n",
        "x = Convolution2D(64, (4,10), padding=\"same\")(inp)\n",
        "x = BatchNormalization()(x)\n",
        "x = Activation(\"relu\")(x)\n",
        "x = MaxPool2D()(x)\n",
        "x = Dropout(rate=0.2)(x)\n",
        "    \n",
        "x = Convolution2D(64, (4,10), padding=\"same\")(x)\n",
        "x = BatchNormalization()(x)\n",
        "x = Activation(\"relu\")(x)\n",
        "x = MaxPool2D()(x)\n",
        "x = Dropout(rate=0.2)(x)\n",
        "    \n",
        "x = Convolution2D(64, (4,10), padding=\"same\")(x)\n",
        "x = BatchNormalization()(x)\n",
        "x = Activation(\"relu\")(x)\n",
        "x = MaxPool2D()(x)\n",
        "x = Dropout(rate=0.2)(x)\n",
        "    \n",
        "x = Convolution2D(64, (4,10), padding=\"same\")(x)\n",
        "x = BatchNormalization()(x)\n",
        "x = Activation(\"relu\")(x)\n",
        "x = MaxPool2D()(x)\n",
        "x = Dropout(rate=0.2)(x)\n",
        "    \n",
        "x = Flatten()(x)\n",
        "x = Dense(128)(x)\n",
        "x = Dropout(rate=0.2)(x)\n",
        "x = BatchNormalization()(x)\n",
        "x = Activation(\"relu\")(x)\n",
        "x = Dropout(rate=0.2)(x)\n",
        "\n",
        "x = Dense(128)(x)\n",
        "x = Dropout(rate=0.2)(x)\n",
        "x = BatchNormalization()(x)\n",
        "x = Activation(\"relu\")(x)\n",
        "x = Dropout(rate=0.2)(x)\n",
        "\n",
        "x = Dense(128)(x)\n",
        "x = Dropout(rate=0.2)(x)\n",
        "x = BatchNormalization()(x)\n",
        "x = Activation(\"relu\")(x)\n",
        "x = Dropout(rate=0.2)(x)\n",
        "    \n",
        "out = Dense(nclass, activation=softmax)(x)\n",
        "model = models.Model(inputs=inp, outputs=out)\n",
        "    \n",
        "opt = optimizers.Adam(0.001, amsgrad=True)\n",
        "model.compile(optimizer=opt, loss=losses.categorical_crossentropy, metrics=['acc'])"
      ],
      "execution_count": 18,
      "outputs": []
    },
    {
      "cell_type": "code",
      "metadata": {
        "id": "rpZCxDGxeSfh",
        "colab_type": "code",
        "colab": {
          "base_uri": "https://localhost:8080/",
          "height": 366
        },
        "outputId": "38c1a21f-6c2c-45fd-d646-dc9d4003275e"
      },
      "source": [
        "import random\n",
        "random.seed(1)\n",
        "model_history = model.fit(X_train, y_train, validation_data=(X_test, y_test), batch_size=25, verbose = 1, epochs=10, use_multiprocessing=True )"
      ],
      "execution_count": 20,
      "outputs": [
        {
          "output_type": "stream",
          "text": [
            "Train on 58363 samples, validate on 14591 samples\n",
            "Epoch 1/10\n",
            "58363/58363 [==============================] - 70s 1ms/step - loss: 0.0738 - acc: 0.9732 - val_loss: 0.0499 - val_acc: 0.9834\n",
            "Epoch 2/10\n",
            "58363/58363 [==============================] - 69s 1ms/step - loss: 0.0590 - acc: 0.9792 - val_loss: 0.0484 - val_acc: 0.9834\n",
            "Epoch 3/10\n",
            "58363/58363 [==============================] - 69s 1ms/step - loss: 0.0515 - acc: 0.9823 - val_loss: 0.0447 - val_acc: 0.9867\n",
            "Epoch 4/10\n",
            "58363/58363 [==============================] - 68s 1ms/step - loss: 0.0440 - acc: 0.9846 - val_loss: 0.0383 - val_acc: 0.9853\n",
            "Epoch 5/10\n",
            "58363/58363 [==============================] - 69s 1ms/step - loss: 0.0357 - acc: 0.9871 - val_loss: 0.0403 - val_acc: 0.9867\n",
            "Epoch 6/10\n",
            "58363/58363 [==============================] - 70s 1ms/step - loss: 0.0315 - acc: 0.9889 - val_loss: 0.0375 - val_acc: 0.9866\n",
            "Epoch 7/10\n",
            "58363/58363 [==============================] - 70s 1ms/step - loss: 0.0284 - acc: 0.9898 - val_loss: 0.0528 - val_acc: 0.9805\n",
            "Epoch 8/10\n",
            "58363/58363 [==============================] - 69s 1ms/step - loss: 0.0243 - acc: 0.9913 - val_loss: 0.0303 - val_acc: 0.9899\n",
            "Epoch 9/10\n",
            "58363/58363 [==============================] - 69s 1ms/step - loss: 0.0224 - acc: 0.9922 - val_loss: 0.0319 - val_acc: 0.9892\n",
            "Epoch 10/10\n",
            "58363/58363 [==============================] - 70s 1ms/step - loss: 0.0207 - acc: 0.9922 - val_loss: 0.0304 - val_acc: 0.9901\n"
          ],
          "name": "stdout"
        }
      ]
    },
    {
      "cell_type": "code",
      "metadata": {
        "id": "UKlXYzzluPtF",
        "colab_type": "code",
        "colab": {
          "base_uri": "https://localhost:8080/",
          "height": 33
        },
        "outputId": "3411851b-3f29-4273-b9ca-a7a4ce2d2e85"
      },
      "source": [
        "cd /gdrive/My Drive/Audio_files/"
      ],
      "execution_count": 21,
      "outputs": [
        {
          "output_type": "stream",
          "text": [
            "/gdrive/My Drive/Audio_files\n"
          ],
          "name": "stdout"
        }
      ]
    },
    {
      "cell_type": "code",
      "metadata": {
        "id": "GAFsohbvkYPN",
        "colab_type": "code",
        "colab": {
          "base_uri": "https://localhost:8080/",
          "height": 33
        },
        "outputId": "b8c02a65-0e2e-41c0-e575-ba80382c1f3d"
      },
      "source": [
        "# Save model and weights\n",
        "model_name = 'gender_cnn2d_9901.h5'\n",
        "save_dir = os.path.join(os.getcwd(), 'saved_models')\n",
        "\n",
        "if not os.path.isdir(save_dir):\n",
        "    os.makedirs(save_dir)\n",
        "model_path = os.path.join(save_dir, model_name)\n",
        "model.save(model_path)\n",
        "print('Save model and weights at %s ' % model_path)\n",
        "\n",
        "# Save the model to disk\n",
        "model_json = model.to_json()\n",
        "with open(\"/gdrive/My Drive/Audio_files/saved_models/gender_cnn2d_9901.json\", \"w\") as json_file:\n",
        "    json_file.write(model_json)"
      ],
      "execution_count": 22,
      "outputs": [
        {
          "output_type": "stream",
          "text": [
            "Save model and weights at /gdrive/My Drive/Audio_files/saved_models/gender_cnn2d_9901.h5 \n"
          ],
          "name": "stdout"
        }
      ]
    },
    {
      "cell_type": "code",
      "metadata": {
        "id": "ARwERpf6kYPU",
        "colab_type": "code",
        "colab": {
          "base_uri": "https://localhost:8080/",
          "height": 33
        },
        "outputId": "3f3deff6-d395-4b52-9e16-48ba5c72fcaf"
      },
      "source": [
        "# loading json and model architecture \n",
        "json_file = open('/gdrive/My Drive/Audio_files/saved_models/gender_cnn2d_9901.json', 'r')\n",
        "loaded_model_json = json_file.read()\n",
        "json_file.close()\n",
        "loaded_model = model_from_json(loaded_model_json)\n",
        "\n",
        "# load weights into new model\n",
        "loaded_model.load_weights(\"saved_models/gender_cnn2d_9901.h5\")\n",
        "print(\"Loaded model from disk\")"
      ],
      "execution_count": 23,
      "outputs": [
        {
          "output_type": "stream",
          "text": [
            "Loaded model from disk\n"
          ],
          "name": "stdout"
        }
      ]
    },
    {
      "cell_type": "code",
      "metadata": {
        "id": "shGF8jg1gNGu",
        "colab_type": "code",
        "colab": {}
      },
      "source": [
        "class get_results:\n",
        "    \n",
        "    def __init__(self, model_history, model ,X_test, y_test, labels):\n",
        "        self.model_history = model_history\n",
        "        self.model = model\n",
        "        self.X_test = X_test\n",
        "        self.y_test = y_test             \n",
        "        self.labels = labels\n",
        "\n",
        "    def create_plot(self, model_history):\n",
        "        '''Check the logloss of both train and validation, make sure they are close and have plateau'''\n",
        "        plt.plot(model_history.history['loss'])\n",
        "        plt.plot(model_history.history['val_loss'])\n",
        "        plt.title('model loss')\n",
        "        plt.ylabel('loss')\n",
        "        plt.xlabel('epoch')\n",
        "        plt.legend(['train', 'test'], loc='upper left')\n",
        "        plt.show()\n",
        "\n",
        "    def create_results(self, model):\n",
        "        '''predict on test set and get accuracy results'''\n",
        "        opt = optimizers.Adam(0.001)\n",
        "        model.compile(loss='categorical_crossentropy', optimizer=opt, metrics=['accuracy'])\n",
        "        score = model.evaluate(X_test, y_test, verbose=0)\n",
        "        print(\"%s: %.2f%%\" % (model.metrics_names[1], score[1]*100))\n",
        "\n",
        "    def confusion_results(self, X_test, y_test, labels, model):\n",
        "        '''plot confusion matrix results'''\n",
        "        preds = model.predict(X_test, \n",
        "                                 batch_size=16, \n",
        "                                 verbose=2)\n",
        "        preds=preds.argmax(axis=1)\n",
        "        preds = preds.astype(int).flatten()\n",
        "        preds = (lb.inverse_transform((preds)))\n",
        "\n",
        "        actual = y_test.argmax(axis=1)\n",
        "        actual = actual.astype(int).flatten()\n",
        "        actual = (lb.inverse_transform((actual)))\n",
        "\n",
        "        classes = labels\n",
        "        classes.sort()    \n",
        "\n",
        "        c = confusion_matrix(actual, preds)\n",
        "        print_confusion_matrix(c, class_names = classes)\n",
        "    \n",
        "    def accuracy_results_gender(self, X_test, y_test, labels, model):\n",
        "        '''Print out the accuracy score and confusion matrix heat map of the Gender classification results'''\n",
        "    \n",
        "        preds = model.predict(X_test, \n",
        "                         batch_size=16, \n",
        "                         verbose=2)\n",
        "        preds=preds.argmax(axis=1)\n",
        "        preds = preds.astype(int).flatten()\n",
        "        preds = (lb.inverse_transform((preds)))\n",
        "\n",
        "        actual = y_test.argmax(axis=1)\n",
        "        actual = actual.astype(int).flatten()\n",
        "        actual = (lb.inverse_transform((actual)))\n",
        "        \n",
        "        # print(accuracy_score(actual, preds))\n",
        "  \n",
        "        classes = actual.loc[:,0].unique() \n",
        "        classes.sort()    \n",
        "\n",
        "        c = confusion_matrix(actual, preds)\n",
        "        print(accuracy_score(actual, preds))\n",
        "        print_confusion_matrix(c, class_names = classes)\n",
        "\n",
        "def print_confusion_matrix(confusion_matrix, class_names, figsize = (10,7), fontsize=14):\n",
        "    '''Prints a confusion matrix, as returned by sklearn.metrics.confusion_matrix, as a heatmap.'''\n",
        "    df_cm = pd.DataFrame(\n",
        "        confusion_matrix, index=class_names, columns=class_names, \n",
        "    )\n",
        "    fig = plt.figure(figsize=figsize)\n",
        "    try:\n",
        "        heatmap = sns.heatmap(df_cm, annot=True, fmt=\"d\")\n",
        "    except ValueError:\n",
        "        raise ValueError(\"Confusion matrix values must be integers.\")\n",
        "\n",
        "    heatmap.yaxis.set_ticklabels(heatmap.yaxis.get_ticklabels(), rotation=0, ha='right', fontsize=fontsize)\n",
        "    heatmap.xaxis.set_ticklabels(heatmap.xaxis.get_ticklabels(), rotation=45, ha='right', fontsize=fontsize)\n",
        "    plt.ylabel('True label')\n",
        "    plt.xlabel('Predicted label')"
      ],
      "execution_count": 24,
      "outputs": []
    },
    {
      "cell_type": "code",
      "metadata": {
        "id": "7WVEVV0kgQ3i",
        "colab_type": "code",
        "colab": {
          "base_uri": "https://localhost:8080/",
          "height": 771
        },
        "outputId": "d89ace74-bdf5-4220-8bb7-0183ae091254"
      },
      "source": [
        "results = get_results(model_history,model,X_test,y_test, df_label.labels.unique())\n",
        "results.create_plot(model_history)\n",
        "results.create_results(model)\n",
        "results.confusion_results(X_test, y_test, df_label.labels.unique(), model)"
      ],
      "execution_count": 30,
      "outputs": [
        {
          "output_type": "display_data",
          "data": {
            "image/png": "[encoded data removed]",
            "text/plain": [
              "<Figure size 432x288 with 1 Axes>"
            ]
          },
          "metadata": {
            "tags": [],
            "needs_background": "light"
          }
        },
        {
          "output_type": "stream",
          "text": [
            "accuracy: 99.01%\n"
          ],
          "name": "stdout"
        },
        {
          "output_type": "display_data",
          "data": {
            "image/png": "[encoded data removed]",
            "text/plain": [
              "<Figure size 720x504 with 2 Axes>"
            ]
          },
          "metadata": {
            "tags": [],
            "needs_background": "light"
          }
        }
      ]
    }
  ]
}