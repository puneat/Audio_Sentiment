{
  "nbformat": 4,
  "nbformat_minor": 0,
  "metadata": {
    "colab": {
      "name": "without_gender_combined.ipynb",
      "provenance": [],
      "authorship_tag": "ABX9TyMUV7foAgmIZglUIUCgCUsB",
      "include_colab_link": true
    },
    "kernelspec": {
      "name": "python3",
      "display_name": "Python 3"
    },
    "accelerator": "GPU"
  },
  "cells": [
    {
      "cell_type": "markdown",
      "metadata": {
        "id": "view-in-github",
        "colab_type": "text"
      },
      "source": [
        "<a href=\"https://colab.research.google.com/github/puneat/Audio_Sentiment/blob/master/without_gender_combined.ipynb\" target=\"_parent\"><img src=\"https://colab.research.google.com/assets/colab-badge.svg\" alt=\"Open In Colab\"/></a>"
      ]
    },
    {
      "cell_type": "code",
      "metadata": {
        "id": "WRi7JoGc3T3J",
        "colab_type": "code",
        "colab": {
          "base_uri": "https://localhost:8080/",
          "height": 127
        },
        "outputId": "a8a61bd1-9e2b-4768-fc82-eb1ea40805f3"
      },
      "source": [
        "from google.colab import drive\n",
        "drive.mount('/gdrive', force_remount=True)"
      ],
      "execution_count": 1,
      "outputs": [
        {
          "output_type": "stream",
          "text": [
            "Go to this URL in a browser: https://accounts.google.com/o/oauth2/auth?client_id=947318989803-6bn6qk8qdgf4n4g3pfee6491hc0brc4i.apps.googleusercontent.com&redirect_uri=urn%3aietf%3awg%3aoauth%3a2.0%3aoob&response_type=code&scope=email%20https%3a%2f%2fwww.googleapis.com%2fauth%2fdocs.test%20https%3a%2f%2fwww.googleapis.com%2fauth%2fdrive%20https%3a%2f%2fwww.googleapis.com%2fauth%2fdrive.photos.readonly%20https%3a%2f%2fwww.googleapis.com%2fauth%2fpeopleapi.readonly\n",
            "\n",
            "Enter your authorization code:\n",
            "··········\n",
            "Mounted at /gdrive\n"
          ],
          "name": "stdout"
        }
      ]
    },
    {
      "cell_type": "code",
      "metadata": {
        "_cell_guid": "79c7e3d0-c299-4dcb-8224-4455121ee9b0",
        "_uuid": "d629ff2d2480ee46fbb7e2d37f6b5fab8052498a",
        "id": "s_IdA4makRmI",
        "colab_type": "code",
        "colab": {
          "base_uri": "https://localhost:8080/",
          "height": 71
        },
        "outputId": "ef8b6d41-67a1-4e57-efa7-435b4f859b75"
      },
      "source": [
        "# Keras\n",
        "import keras\n",
        "from keras import regularizers\n",
        "from keras.preprocessing import sequence\n",
        "from keras.preprocessing.text import Tokenizer\n",
        "from keras.preprocessing.sequence import pad_sequences\n",
        "from keras.models import Sequential, Model, model_from_json\n",
        "from keras.layers import Dense, Embedding, LSTM, Reshape\n",
        "from keras.layers import Input, Flatten, Dropout, Activation, BatchNormalization\n",
        "from keras.layers import Conv1D, MaxPooling1D, AveragePooling1D\n",
        "from keras.utils import np_utils, to_categorical\n",
        "from keras.callbacks import (EarlyStopping, LearningRateScheduler,\n",
        "                             ModelCheckpoint, TensorBoard, ReduceLROnPlateau)\n",
        "from keras import losses, models, optimizers\n",
        "from keras.activations import relu, softmax\n",
        "from keras.layers import (Convolution2D, GlobalAveragePooling2D, BatchNormalization, Flatten, Dropout,\n",
        "                          GlobalMaxPool2D, MaxPool2D, concatenate, Activation, Input, Dense)\n",
        "\n",
        "# sklearn\n",
        "from sklearn.metrics import confusion_matrix, accuracy_score\n",
        "from sklearn.model_selection import train_test_split\n",
        "from sklearn.preprocessing import LabelEncoder\n",
        "\n",
        "# Other  \n",
        "from tqdm import tqdm, tqdm_pandas\n",
        "import scipy\n",
        "from scipy.stats import skew\n",
        "import librosa\n",
        "import librosa.display\n",
        "import json\n",
        "import numpy as np\n",
        "import matplotlib.pyplot as plt\n",
        "import tensorflow as tf\n",
        "from matplotlib.pyplot import specgram\n",
        "import pandas as pd\n",
        "import seaborn as sns\n",
        "import glob \n",
        "import os\n",
        "import sys\n",
        "import IPython.display as ipd  # To play sound in the notebook\n",
        "import warnings\n",
        "# ignore warnings \n",
        "if not sys.warnoptions:\n",
        "    warnings.simplefilter(\"ignore\")"
      ],
      "execution_count": 2,
      "outputs": [
        {
          "output_type": "stream",
          "text": [
            "Using TensorFlow backend.\n",
            "/usr/local/lib/python3.6/dist-packages/statsmodels/tools/_testing.py:19: FutureWarning: pandas.util.testing is deprecated. Use the functions in the public API at pandas.testing instead.\n",
            "  import pandas.util.testing as tm\n"
          ],
          "name": "stderr"
        }
      ]
    },
    {
      "cell_type": "code",
      "metadata": {
        "id": "hlzWGoYm57me",
        "colab_type": "code",
        "colab": {
          "base_uri": "https://localhost:8080/",
          "height": 204
        },
        "outputId": "5b5768c3-5380-49e7-cb9f-f75c1c025247"
      },
      "source": [
        "ref = pd.read_csv(\"/gdrive/My Drive/Audio_Sentiment/male_df.csv\")\n",
        "ref.head()"
      ],
      "execution_count": 3,
      "outputs": [
        {
          "output_type": "execute_result",
          "data": {
            "text/html": [
              "<div>\n",
              "<style scoped>\n",
              "    .dataframe tbody tr th:only-of-type {\n",
              "        vertical-align: middle;\n",
              "    }\n",
              "\n",
              "    .dataframe tbody tr th {\n",
              "        vertical-align: top;\n",
              "    }\n",
              "\n",
              "    .dataframe thead th {\n",
              "        text-align: right;\n",
              "    }\n",
              "</style>\n",
              "<table border=\"1\" class=\"dataframe\">\n",
              "  <thead>\n",
              "    <tr style=\"text-align: right;\">\n",
              "      <th></th>\n",
              "      <th>labels</th>\n",
              "      <th>source</th>\n",
              "      <th>path</th>\n",
              "    </tr>\n",
              "  </thead>\n",
              "  <tbody>\n",
              "    <tr>\n",
              "      <th>0</th>\n",
              "      <td>male_disgust</td>\n",
              "      <td>SAVEE</td>\n",
              "      <td>/gdrive/My Drive/Audio_files/male_final/SAVEE/...</td>\n",
              "    </tr>\n",
              "    <tr>\n",
              "      <th>1</th>\n",
              "      <td>male_disgust</td>\n",
              "      <td>SAVEE</td>\n",
              "      <td>/gdrive/My Drive/Audio_files/male_final/SAVEE/...</td>\n",
              "    </tr>\n",
              "    <tr>\n",
              "      <th>2</th>\n",
              "      <td>male_disgust</td>\n",
              "      <td>SAVEE</td>\n",
              "      <td>/gdrive/My Drive/Audio_files/male_final/SAVEE/...</td>\n",
              "    </tr>\n",
              "    <tr>\n",
              "      <th>3</th>\n",
              "      <td>male_disgust</td>\n",
              "      <td>SAVEE</td>\n",
              "      <td>/gdrive/My Drive/Audio_files/male_final/SAVEE/...</td>\n",
              "    </tr>\n",
              "    <tr>\n",
              "      <th>4</th>\n",
              "      <td>male_disgust</td>\n",
              "      <td>SAVEE</td>\n",
              "      <td>/gdrive/My Drive/Audio_files/male_final/SAVEE/...</td>\n",
              "    </tr>\n",
              "  </tbody>\n",
              "</table>\n",
              "</div>"
            ],
            "text/plain": [
              "         labels source                                               path\n",
              "0  male_disgust  SAVEE  /gdrive/My Drive/Audio_files/male_final/SAVEE/...\n",
              "1  male_disgust  SAVEE  /gdrive/My Drive/Audio_files/male_final/SAVEE/...\n",
              "2  male_disgust  SAVEE  /gdrive/My Drive/Audio_files/male_final/SAVEE/...\n",
              "3  male_disgust  SAVEE  /gdrive/My Drive/Audio_files/male_final/SAVEE/...\n",
              "4  male_disgust  SAVEE  /gdrive/My Drive/Audio_files/male_final/SAVEE/..."
            ]
          },
          "metadata": {
            "tags": []
          },
          "execution_count": 3
        }
      ]
    },
    {
      "cell_type": "code",
      "metadata": {
        "id": "4KcpdnU4nTds",
        "colab_type": "code",
        "colab": {}
      },
      "source": [
        "frames=[ref,ref,ref,ref,ref,ref];\n",
        "df_label=pd.concat(frames);"
      ],
      "execution_count": 4,
      "outputs": []
    },
    {
      "cell_type": "code",
      "metadata": {
        "id": "GbBhpCpYneiU",
        "colab_type": "code",
        "colab": {}
      },
      "source": [
        "male_df_label= df_label['labels'].to_numpy()"
      ],
      "execution_count": 5,
      "outputs": []
    },
    {
      "cell_type": "code",
      "metadata": {
        "id": "kVcusbYSnq2H",
        "colab_type": "code",
        "colab": {
          "base_uri": "https://localhost:8080/",
          "height": 53
        },
        "outputId": "198b3cac-296a-4d79-ff7c-ef3cee0cc3ab"
      },
      "source": [
        "np.unique(male_df_label[:])"
      ],
      "execution_count": 6,
      "outputs": [
        {
          "output_type": "execute_result",
          "data": {
            "text/plain": [
              "array(['male_angry', 'male_disgust', 'male_fear', 'male_happy',\n",
              "       'male_neutral', 'male_sad', 'male_surprise'], dtype=object)"
            ]
          },
          "metadata": {
            "tags": []
          },
          "execution_count": 6
        }
      ]
    },
    {
      "cell_type": "code",
      "metadata": {
        "id": "yPppqQnNn1J6",
        "colab_type": "code",
        "colab": {
          "base_uri": "https://localhost:8080/",
          "height": 35
        },
        "outputId": "3b417876-6573-49ca-e740-2606f27d4ba8"
      },
      "source": [
        "male_df_label.shape"
      ],
      "execution_count": 7,
      "outputs": [
        {
          "output_type": "execute_result",
          "data": {
            "text/plain": [
              "(30780,)"
            ]
          },
          "metadata": {
            "tags": []
          },
          "execution_count": 7
        }
      ]
    },
    {
      "cell_type": "code",
      "metadata": {
        "id": "_bJyXrpcnvG8",
        "colab_type": "code",
        "colab": {
          "base_uri": "https://localhost:8080/",
          "height": 35
        },
        "outputId": "16b2f463-9b2b-40bc-d4f5-4bf507ea1d25"
      },
      "source": [
        "for i in range(0,male_df_label.shape[0]):\n",
        "  if male_df_label[i]=='male_angry':\n",
        "    male_df_label[i]='angry'\n",
        "  elif male_df_label[i]=='male_disgust':\n",
        "    male_df_label[i]='disgust'\n",
        "  elif male_df_label[i]=='male_fear':\n",
        "    male_df_label[i]='fear'\n",
        "  elif male_df_label[i]=='male_happy':\n",
        "    male_df_label[i]='happy'\n",
        "  elif male_df_label[i]=='male_neutral':\n",
        "    male_df_label[i]='neutral'\n",
        "  elif male_df_label[i]=='male_sad':\n",
        "    male_df_label[i]='sad'\n",
        "  elif male_df_label[i]=='male_surprise':\n",
        "    male_df_label[i]='surprise'\n",
        "print(i)"
      ],
      "execution_count": 8,
      "outputs": [
        {
          "output_type": "stream",
          "text": [
            "30779\n"
          ],
          "name": "stdout"
        }
      ]
    },
    {
      "cell_type": "code",
      "metadata": {
        "colab_type": "code",
        "id": "XRYhA5YepjVl",
        "colab": {
          "base_uri": "https://localhost:8080/",
          "height": 204
        },
        "outputId": "0d4d8e10-afc5-47c7-e7e6-d0916c72ccff"
      },
      "source": [
        "ref = pd.read_csv(\"/gdrive/My Drive/Audio_Sentiment/female_df.csv\")\n",
        "ref.head()"
      ],
      "execution_count": 9,
      "outputs": [
        {
          "output_type": "execute_result",
          "data": {
            "text/html": [
              "<div>\n",
              "<style scoped>\n",
              "    .dataframe tbody tr th:only-of-type {\n",
              "        vertical-align: middle;\n",
              "    }\n",
              "\n",
              "    .dataframe tbody tr th {\n",
              "        vertical-align: top;\n",
              "    }\n",
              "\n",
              "    .dataframe thead th {\n",
              "        text-align: right;\n",
              "    }\n",
              "</style>\n",
              "<table border=\"1\" class=\"dataframe\">\n",
              "  <thead>\n",
              "    <tr style=\"text-align: right;\">\n",
              "      <th></th>\n",
              "      <th>labels</th>\n",
              "      <th>source</th>\n",
              "      <th>path</th>\n",
              "    </tr>\n",
              "  </thead>\n",
              "  <tbody>\n",
              "    <tr>\n",
              "      <th>0</th>\n",
              "      <td>female_fear</td>\n",
              "      <td>TESS</td>\n",
              "      <td>/gdrive/My Drive/Audio_files/female_final/TESS...</td>\n",
              "    </tr>\n",
              "    <tr>\n",
              "      <th>1</th>\n",
              "      <td>female_fear</td>\n",
              "      <td>TESS</td>\n",
              "      <td>/gdrive/My Drive/Audio_files/female_final/TESS...</td>\n",
              "    </tr>\n",
              "    <tr>\n",
              "      <th>2</th>\n",
              "      <td>female_fear</td>\n",
              "      <td>TESS</td>\n",
              "      <td>/gdrive/My Drive/Audio_files/female_final/TESS...</td>\n",
              "    </tr>\n",
              "    <tr>\n",
              "      <th>3</th>\n",
              "      <td>female_fear</td>\n",
              "      <td>TESS</td>\n",
              "      <td>/gdrive/My Drive/Audio_files/female_final/TESS...</td>\n",
              "    </tr>\n",
              "    <tr>\n",
              "      <th>4</th>\n",
              "      <td>female_fear</td>\n",
              "      <td>TESS</td>\n",
              "      <td>/gdrive/My Drive/Audio_files/female_final/TESS...</td>\n",
              "    </tr>\n",
              "  </tbody>\n",
              "</table>\n",
              "</div>"
            ],
            "text/plain": [
              "        labels source                                               path\n",
              "0  female_fear   TESS  /gdrive/My Drive/Audio_files/female_final/TESS...\n",
              "1  female_fear   TESS  /gdrive/My Drive/Audio_files/female_final/TESS...\n",
              "2  female_fear   TESS  /gdrive/My Drive/Audio_files/female_final/TESS...\n",
              "3  female_fear   TESS  /gdrive/My Drive/Audio_files/female_final/TESS...\n",
              "4  female_fear   TESS  /gdrive/My Drive/Audio_files/female_final/TESS..."
            ]
          },
          "metadata": {
            "tags": []
          },
          "execution_count": 9
        }
      ]
    },
    {
      "cell_type": "code",
      "metadata": {
        "id": "lovlFsbfdh-4",
        "colab_type": "code",
        "colab": {}
      },
      "source": [
        "frames=[ref,ref,ref,ref,ref,ref];\n",
        "df_label=pd.concat(frames);"
      ],
      "execution_count": 10,
      "outputs": []
    },
    {
      "cell_type": "code",
      "metadata": {
        "colab_type": "code",
        "id": "-8Aqp_eIpn5M",
        "colab": {}
      },
      "source": [
        "female_df_label= df_label['labels'].to_numpy()"
      ],
      "execution_count": 11,
      "outputs": []
    },
    {
      "cell_type": "code",
      "metadata": {
        "colab_type": "code",
        "id": "E1SxkyIqpn5h",
        "colab": {
          "base_uri": "https://localhost:8080/",
          "height": 53
        },
        "outputId": "28a1e15e-e565-4f50-f3b6-068eb01fce8b"
      },
      "source": [
        "np.unique(female_df_label[:])"
      ],
      "execution_count": 12,
      "outputs": [
        {
          "output_type": "execute_result",
          "data": {
            "text/plain": [
              "array(['female_angry', 'female_disgust', 'female_fear', 'female_happy',\n",
              "       'female_neutral', 'female_sad', 'female_surprise'], dtype=object)"
            ]
          },
          "metadata": {
            "tags": []
          },
          "execution_count": 12
        }
      ]
    },
    {
      "cell_type": "code",
      "metadata": {
        "colab_type": "code",
        "id": "E1Cj9x8kpn5q",
        "colab": {
          "base_uri": "https://localhost:8080/",
          "height": 35
        },
        "outputId": "8208e5b4-ed6f-4fad-b055-d9edb7499026"
      },
      "source": [
        "female_df_label.shape"
      ],
      "execution_count": 13,
      "outputs": [
        {
          "output_type": "execute_result",
          "data": {
            "text/plain": [
              "(42174,)"
            ]
          },
          "metadata": {
            "tags": []
          },
          "execution_count": 13
        }
      ]
    },
    {
      "cell_type": "code",
      "metadata": {
        "colab_type": "code",
        "id": "n11jsfZVpn5u",
        "colab": {
          "base_uri": "https://localhost:8080/",
          "height": 35
        },
        "outputId": "899a08f3-d5c3-41d2-e2ac-7a69bab789d9"
      },
      "source": [
        "for i in range(0,female_df_label.shape[0]):\n",
        "  if female_df_label[i]=='female_angry':\n",
        "    female_df_label[i]='angry'\n",
        "  elif female_df_label[i]=='female_disgust':\n",
        "    female_df_label[i]='disgust'\n",
        "  elif female_df_label[i]=='female_fear':\n",
        "    female_df_label[i]='fear'\n",
        "  elif female_df_label[i]=='female_happy':\n",
        "    female_df_label[i]='happy'\n",
        "  elif female_df_label[i]=='female_neutral':\n",
        "    female_df_label[i]='neutral'\n",
        "  elif female_df_label[i]=='female_sad':\n",
        "    female_df_label[i]='sad'\n",
        "  elif female_df_label[i]=='female_surprise':\n",
        "    female_df_label[i]='surprise'\n",
        "print(i)"
      ],
      "execution_count": 14,
      "outputs": [
        {
          "output_type": "stream",
          "text": [
            "42173\n"
          ],
          "name": "stdout"
        }
      ]
    },
    {
      "cell_type": "code",
      "metadata": {
        "id": "fVRJ28DAp8QH",
        "colab_type": "code",
        "colab": {}
      },
      "source": [
        "del ref, df_label, frames"
      ],
      "execution_count": 15,
      "outputs": []
    },
    {
      "cell_type": "code",
      "metadata": {
        "colab_type": "code",
        "id": "pjpLdYKrqgt6",
        "colab": {}
      },
      "source": [
        "female_features=np.load('/gdrive/My Drive/Audio_files/Combined_Dataframes/female_2d_mfcc_50_aug.npy')"
      ],
      "execution_count": 49,
      "outputs": []
    },
    {
      "cell_type": "code",
      "metadata": {
        "id": "aUR345uf-Ys5",
        "colab_type": "code",
        "colab": {}
      },
      "source": [
        "male_features=np.load('/gdrive/My Drive/Audio_files/Combined_Dataframes/male_2d_mfcc_50_aug.npy')"
      ],
      "execution_count": 50,
      "outputs": []
    },
    {
      "cell_type": "code",
      "metadata": {
        "id": "ztkLIDbArQaK",
        "colab_type": "code",
        "colab": {}
      },
      "source": [
        "del female_features, male_features"
      ],
      "execution_count": 51,
      "outputs": []
    },
    {
      "cell_type": "code",
      "metadata": {
        "id": "vI8KTyzYkRmY",
        "colab_type": "code",
        "colab": {}
      },
      "source": [
        "# Split between train and test \n",
        "X_train, X_test, y_train, y_test = train_test_split(np.concatenate((np.load('/gdrive/My Drive/Audio_Sentiment/female_2d_aug.npy'),\n",
        "                                                                   np.load('/gdrive/My Drive/Audio_Sentiment/male_2d_aug.npy')),axis=0)\n",
        ", np.concatenate((female_df_label,male_df_label),axis=0),\n",
        " test_size=0.20, shuffle=True, random_state=1, stratify=np.concatenate((female_df_label,male_df_label),axis=0))"
      ],
      "execution_count": 16,
      "outputs": []
    },
    {
      "cell_type": "code",
      "metadata": {
        "id": "2zuC4jZYsq2g",
        "colab_type": "code",
        "colab": {}
      },
      "source": [
        "# one hot encode the target \n",
        "lb = LabelEncoder()\n",
        "y_train = np_utils.to_categorical(lb.fit_transform(y_train))\n",
        "y_test = np_utils.to_categorical(lb.fit_transform(y_test))"
      ],
      "execution_count": 17,
      "outputs": []
    },
    {
      "cell_type": "code",
      "metadata": {
        "id": "LsRUDK-Bss-w",
        "colab_type": "code",
        "colab": {}
      },
      "source": [
        "# Normalization as per the standard NN process\n",
        "mean = np.mean(X_train, axis=0)\n",
        "std = np.std(X_train, axis=0)\n",
        "\n",
        "X_train = (X_train - mean)/std\n",
        "X_test = (X_test - mean)/std"
      ],
      "execution_count": 19,
      "outputs": []
    },
    {
      "cell_type": "code",
      "metadata": {
        "id": "Cqkehlv_syv1",
        "colab_type": "code",
        "colab": {}
      },
      "source": [
        "from sklearn import preprocessing\n",
        "X_scaler = preprocessing.StandardScaler();\n",
        "X_train = X_scaler.fit_transform(X_train); # fit_transform calls fit() and then transform()\n",
        "X_scaler.transform(X_test); #fit() already c`alled"
      ],
      "execution_count": null,
      "outputs": []
    },
    {
      "cell_type": "code",
      "metadata": {
        "colab_type": "code",
        "id": "DPEWjDczsbfZ",
        "colab": {}
      },
      "source": [
        "nclass = 7\n",
        "inp = Input(shape=(30,216,1))  #2D matrix of 30 MFCC bands by 216 audio length.\n",
        "\n",
        "X=Reshape((30,216),name='reshape_input')(inp)\n",
        "X = LSTM(units=30,dropout=0.2,return_sequences=True,activation='relu',stateful=False,input_shape=(30,216))(X)\n",
        "X=Reshape((30,30,1),name='reshape')(X)  #2D matrix of 30 MFCC bands by 216 audio length.\n",
        "\n",
        "x = Convolution2D(32, (4,10), padding=\"same\")(X)\n",
        "x = BatchNormalization()(x)\n",
        "x = Activation(\"relu\")(x)\n",
        "x = MaxPool2D()(x)\n",
        "# x = Dropout(rate=0.1)(x)\n",
        "    \n",
        "x = Convolution2D(32, (4,10), padding=\"same\")(x)\n",
        "x = BatchNormalization()(x)\n",
        "x = Activation(\"relu\")(x)\n",
        "x = MaxPool2D()(x)\n",
        "# x = Dropout(rate=0.1)(x)\n",
        "    \n",
        "x = Convolution2D(32, (4,10), padding=\"same\")(x)\n",
        "x = BatchNormalization()(x)\n",
        "x = Activation(\"relu\")(x)\n",
        "x = MaxPool2D()(x)\n",
        "# x = Dropout(rate=0.2)(x)\n",
        "    \n",
        "x = Convolution2D(32, (4,10), padding=\"same\")(x)\n",
        "x = BatchNormalization()(x)\n",
        "x = Activation(\"relu\")(x)\n",
        "x = MaxPool2D()(x)\n",
        "# x = Dropout(rate=0.1)(x)\n",
        "    \n",
        "x = Flatten()(x)\n",
        "\n",
        "x = Dense(64)(x)\n",
        "# x = Dropout(rate=0.1)(x)\n",
        "# x = BatchNormalization()(x)\n",
        "x = Activation(\"relu\")(x)\n",
        "x = Dropout(rate=0.2)(x)\n",
        "\n",
        "x = Dense(64)(x)\n",
        "# x = Dropout(rate=0.2)(x)\n",
        "# x = BatchNormalization()(x)\n",
        "x = Activation(\"relu\")(x)\n",
        "x = Dropout(rate=0.2)(x)\n",
        "    \n",
        "out = Dense(nclass, activation='softmax')(x)\n",
        "model = models.Model(inputs=inp, outputs=out)\n",
        "    \n",
        "opt = optimizers.Adam(0.001,amsgrad=True)\n",
        "model.compile(optimizer=opt, loss=losses.categorical_crossentropy, metrics=['accuracy'])"
      ],
      "execution_count": 33,
      "outputs": []
    },
    {
      "cell_type": "code",
      "metadata": {
        "id": "GwDV7NLqvdoZ",
        "colab_type": "code",
        "colab": {}
      },
      "source": [
        "model_json = model.to_json()\n",
        "with open(\"/gdrive/My Drive/Audio_Sentiment/models/json/wg_combined_2d_lstm_cnn_2.json\", \"w\") as json_file:\n",
        "    json_file.write(model_json)\n",
        "# serialize weights t o HDF5\n",
        "# model.save_weights(\"/gdrive/My Drive/Audio_files/female_cnn_3x3_mfcc50_9552.h5\")\n",
        "# print(\"Saved model to disk\")"
      ],
      "execution_count": 34,
      "outputs": []
    },
    {
      "cell_type": "code",
      "metadata": {
        "id": "QKqrcISbXga2",
        "colab_type": "code",
        "colab": {
          "base_uri": "https://localhost:8080/",
          "height": 1000
        },
        "outputId": "72b9f3a0-6cfb-4678-e27e-d5fc09255e32"
      },
      "source": [
        "model_checkpoint = ModelCheckpoint('/gdrive/My Drive/Audio_Sentiment/models/hdf5/wg_combined_2d_lstm_cnn_2.hdf5',save_best_only=True,mode='max',monitor='val_accuracy',verbose=1)\n",
        "history=model.fit(X_train,y_train,epochs=150,batch_size=100,verbose=1,validation_data=(X_test,y_test),shuffle=True,callbacks=[model_checkpoint])"
      ],
      "execution_count": 35,
      "outputs": [
        {
          "output_type": "stream",
          "text": [
            "Train on 58363 samples, validate on 14591 samples\n",
            "Epoch 1/150\n",
            "58363/58363 [==============================] - 38s 654us/step - loss: 1.5425 - accuracy: 0.3786 - val_loss: 1.2317 - val_accuracy: 0.5145\n",
            "\n",
            "Epoch 00001: val_accuracy improved from -inf to 0.51450, saving model to /gdrive/My Drive/Audio_Sentiment/models/hdf5/wg_combined_2d_lstm_cnn_2.hdf5\n",
            "Epoch 2/150\n",
            "58363/58363 [==============================] - 37s 636us/step - loss: 1.2014 - accuracy: 0.5370 - val_loss: 1.1261 - val_accuracy: 0.5576\n",
            "\n",
            "Epoch 00002: val_accuracy improved from 0.51450 to 0.55760, saving model to /gdrive/My Drive/Audio_Sentiment/models/hdf5/wg_combined_2d_lstm_cnn_2.hdf5\n",
            "Epoch 3/150\n",
            "58363/58363 [==============================] - 37s 635us/step - loss: 1.0637 - accuracy: 0.5925 - val_loss: 1.0206 - val_accuracy: 0.6004\n",
            "\n",
            "Epoch 00003: val_accuracy improved from 0.55760 to 0.60044, saving model to /gdrive/My Drive/Audio_Sentiment/models/hdf5/wg_combined_2d_lstm_cnn_2.hdf5\n",
            "Epoch 4/150\n",
            "58363/58363 [==============================] - 37s 634us/step - loss: 0.9821 - accuracy: 0.6267 - val_loss: 0.9968 - val_accuracy: 0.6135\n",
            "\n",
            "Epoch 00004: val_accuracy improved from 0.60044 to 0.61353, saving model to /gdrive/My Drive/Audio_Sentiment/models/hdf5/wg_combined_2d_lstm_cnn_2.hdf5\n",
            "Epoch 5/150\n",
            "58363/58363 [==============================] - 37s 632us/step - loss: 0.9204 - accuracy: 0.6510 - val_loss: 0.9717 - val_accuracy: 0.6321\n",
            "\n",
            "Epoch 00005: val_accuracy improved from 0.61353 to 0.63210, saving model to /gdrive/My Drive/Audio_Sentiment/models/hdf5/wg_combined_2d_lstm_cnn_2.hdf5\n",
            "Epoch 6/150\n",
            "58363/58363 [==============================] - 37s 635us/step - loss: 0.8653 - accuracy: 0.6723 - val_loss: 0.8955 - val_accuracy: 0.6538\n",
            "\n",
            "Epoch 00006: val_accuracy improved from 0.63210 to 0.65376, saving model to /gdrive/My Drive/Audio_Sentiment/models/hdf5/wg_combined_2d_lstm_cnn_2.hdf5\n",
            "Epoch 7/150\n",
            "58363/58363 [==============================] - 37s 628us/step - loss: 0.8155 - accuracy: 0.6931 - val_loss: 0.8760 - val_accuracy: 0.6664\n",
            "\n",
            "Epoch 00007: val_accuracy improved from 0.65376 to 0.66637, saving model to /gdrive/My Drive/Audio_Sentiment/models/hdf5/wg_combined_2d_lstm_cnn_2.hdf5\n",
            "Epoch 8/150\n",
            "58363/58363 [==============================] - 37s 629us/step - loss: 0.7668 - accuracy: 0.7145 - val_loss: 1.0283 - val_accuracy: 0.6216\n",
            "\n",
            "Epoch 00008: val_accuracy did not improve from 0.66637\n",
            "Epoch 9/150\n",
            "58363/58363 [==============================] - 37s 629us/step - loss: 0.7288 - accuracy: 0.7300 - val_loss: 0.8752 - val_accuracy: 0.6736\n",
            "\n",
            "Epoch 00009: val_accuracy improved from 0.66637 to 0.67357, saving model to /gdrive/My Drive/Audio_Sentiment/models/hdf5/wg_combined_2d_lstm_cnn_2.hdf5\n",
            "Epoch 10/150\n",
            "58363/58363 [==============================] - 37s 630us/step - loss: 0.6906 - accuracy: 0.7467 - val_loss: 0.8589 - val_accuracy: 0.6862\n",
            "\n",
            "Epoch 00010: val_accuracy improved from 0.67357 to 0.68618, saving model to /gdrive/My Drive/Audio_Sentiment/models/hdf5/wg_combined_2d_lstm_cnn_2.hdf5\n",
            "Epoch 11/150\n",
            "58363/58363 [==============================] - 37s 628us/step - loss: 0.6557 - accuracy: 0.7582 - val_loss: 0.8858 - val_accuracy: 0.6734\n",
            "\n",
            "Epoch 00011: val_accuracy did not improve from 0.68618\n",
            "Epoch 12/150\n",
            "58363/58363 [==============================] - 37s 627us/step - loss: 0.6174 - accuracy: 0.7745 - val_loss: 0.9240 - val_accuracy: 0.6737\n",
            "\n",
            "Epoch 00012: val_accuracy did not improve from 0.68618\n",
            "Epoch 13/150\n",
            "58363/58363 [==============================] - 37s 628us/step - loss: 0.5888 - accuracy: 0.7850 - val_loss: 0.7959 - val_accuracy: 0.7073\n",
            "\n",
            "Epoch 00013: val_accuracy improved from 0.68618 to 0.70729, saving model to /gdrive/My Drive/Audio_Sentiment/models/hdf5/wg_combined_2d_lstm_cnn_2.hdf5\n",
            "Epoch 14/150\n",
            "58363/58363 [==============================] - 37s 628us/step - loss: 0.5649 - accuracy: 0.7945 - val_loss: 0.7781 - val_accuracy: 0.7261\n",
            "\n",
            "Epoch 00014: val_accuracy improved from 0.70729 to 0.72606, saving model to /gdrive/My Drive/Audio_Sentiment/models/hdf5/wg_combined_2d_lstm_cnn_2.hdf5\n",
            "Epoch 15/150\n",
            "58363/58363 [==============================] - 37s 630us/step - loss: 0.5457 - accuracy: 0.8047 - val_loss: 0.7533 - val_accuracy: 0.7360\n",
            "\n",
            "Epoch 00015: val_accuracy improved from 0.72606 to 0.73600, saving model to /gdrive/My Drive/Audio_Sentiment/models/hdf5/wg_combined_2d_lstm_cnn_2.hdf5\n",
            "Epoch 16/150\n",
            "58363/58363 [==============================] - 37s 636us/step - loss: 0.5101 - accuracy: 0.8158 - val_loss: 0.7489 - val_accuracy: 0.7364\n",
            "\n",
            "Epoch 00016: val_accuracy improved from 0.73600 to 0.73641, saving model to /gdrive/My Drive/Audio_Sentiment/models/hdf5/wg_combined_2d_lstm_cnn_2.hdf5\n",
            "Epoch 17/150\n",
            "58363/58363 [==============================] - 37s 628us/step - loss: 0.4904 - accuracy: 0.8220 - val_loss: 0.7425 - val_accuracy: 0.7379\n",
            "\n",
            "Epoch 00017: val_accuracy improved from 0.73641 to 0.73785, saving model to /gdrive/My Drive/Audio_Sentiment/models/hdf5/wg_combined_2d_lstm_cnn_2.hdf5\n",
            "Epoch 18/150\n",
            "58363/58363 [==============================] - 37s 633us/step - loss: 0.4737 - accuracy: 0.8294 - val_loss: 0.7914 - val_accuracy: 0.7289\n",
            "\n",
            "Epoch 00018: val_accuracy did not improve from 0.73785\n",
            "Epoch 19/150\n",
            "58363/58363 [==============================] - 37s 634us/step - loss: 0.4571 - accuracy: 0.8347 - val_loss: 0.7668 - val_accuracy: 0.7446\n",
            "\n",
            "Epoch 00019: val_accuracy improved from 0.73785 to 0.74464, saving model to /gdrive/My Drive/Audio_Sentiment/models/hdf5/wg_combined_2d_lstm_cnn_2.hdf5\n",
            "Epoch 20/150\n",
            "58363/58363 [==============================] - 37s 631us/step - loss: 0.4414 - accuracy: 0.8422 - val_loss: 0.7700 - val_accuracy: 0.7416\n",
            "\n",
            "Epoch 00020: val_accuracy did not improve from 0.74464\n",
            "Epoch 21/150\n",
            "58363/58363 [==============================] - 37s 630us/step - loss: 0.4195 - accuracy: 0.8492 - val_loss: 0.7659 - val_accuracy: 0.7499\n",
            "\n",
            "Epoch 00021: val_accuracy improved from 0.74464 to 0.74991, saving model to /gdrive/My Drive/Audio_Sentiment/models/hdf5/wg_combined_2d_lstm_cnn_2.hdf5\n",
            "Epoch 22/150\n",
            "58363/58363 [==============================] - 37s 633us/step - loss: 0.4131 - accuracy: 0.8509 - val_loss: 0.7256 - val_accuracy: 0.7540\n",
            "\n",
            "Epoch 00022: val_accuracy improved from 0.74991 to 0.75396, saving model to /gdrive/My Drive/Audio_Sentiment/models/hdf5/wg_combined_2d_lstm_cnn_2.hdf5\n",
            "Epoch 23/150\n",
            "58363/58363 [==============================] - 37s 630us/step - loss: 0.3983 - accuracy: 0.8574 - val_loss: 0.7524 - val_accuracy: 0.7542\n",
            "\n",
            "Epoch 00023: val_accuracy improved from 0.75396 to 0.75416, saving model to /gdrive/My Drive/Audio_Sentiment/models/hdf5/wg_combined_2d_lstm_cnn_2.hdf5\n",
            "Epoch 24/150\n",
            "58363/58363 [==============================] - 37s 630us/step - loss: 0.3851 - accuracy: 0.8622 - val_loss: 0.7745 - val_accuracy: 0.7421\n",
            "\n",
            "Epoch 00024: val_accuracy did not improve from 0.75416\n",
            "Epoch 25/150\n",
            "58363/58363 [==============================] - 37s 635us/step - loss: 0.3707 - accuracy: 0.8682 - val_loss: 0.7673 - val_accuracy: 0.7537\n",
            "\n",
            "Epoch 00025: val_accuracy did not improve from 0.75416\n",
            "Epoch 26/150\n",
            "58363/58363 [==============================] - 37s 633us/step - loss: 0.3612 - accuracy: 0.8721 - val_loss: 0.8440 - val_accuracy: 0.7479\n",
            "\n",
            "Epoch 00026: val_accuracy did not improve from 0.75416\n",
            "Epoch 27/150\n",
            "58363/58363 [==============================] - 37s 631us/step - loss: 0.3452 - accuracy: 0.8784 - val_loss: 0.7733 - val_accuracy: 0.7560\n",
            "\n",
            "Epoch 00027: val_accuracy improved from 0.75416 to 0.75601, saving model to /gdrive/My Drive/Audio_Sentiment/models/hdf5/wg_combined_2d_lstm_cnn_2.hdf5\n",
            "Epoch 28/150\n",
            "58363/58363 [==============================] - 37s 630us/step - loss: 0.3380 - accuracy: 0.8794 - val_loss: 0.7266 - val_accuracy: 0.7705\n",
            "\n",
            "Epoch 00028: val_accuracy improved from 0.75601 to 0.77054, saving model to /gdrive/My Drive/Audio_Sentiment/models/hdf5/wg_combined_2d_lstm_cnn_2.hdf5\n",
            "Epoch 29/150\n",
            "58363/58363 [==============================] - 37s 629us/step - loss: 0.3327 - accuracy: 0.8830 - val_loss: 0.7353 - val_accuracy: 0.7664\n",
            "\n",
            "Epoch 00029: val_accuracy did not improve from 0.77054\n",
            "Epoch 30/150\n",
            "58363/58363 [==============================] - 36s 622us/step - loss: 0.3192 - accuracy: 0.8875 - val_loss: 0.7655 - val_accuracy: 0.7629\n",
            "\n",
            "Epoch 00030: val_accuracy did not improve from 0.77054\n",
            "Epoch 31/150\n",
            "58363/58363 [==============================] - 37s 635us/step - loss: 0.3140 - accuracy: 0.8887 - val_loss: 0.7360 - val_accuracy: 0.7764\n",
            "\n",
            "Epoch 00031: val_accuracy improved from 0.77054 to 0.77644, saving model to /gdrive/My Drive/Audio_Sentiment/models/hdf5/wg_combined_2d_lstm_cnn_2.hdf5\n",
            "Epoch 32/150\n",
            "58363/58363 [==============================] - 37s 629us/step - loss: 0.3070 - accuracy: 0.8913 - val_loss: 0.7838 - val_accuracy: 0.7636\n",
            "\n",
            "Epoch 00032: val_accuracy did not improve from 0.77644\n",
            "Epoch 33/150\n",
            "58363/58363 [==============================] - 37s 626us/step - loss: 0.3036 - accuracy: 0.8930 - val_loss: 0.8900 - val_accuracy: 0.7500\n",
            "\n",
            "Epoch 00033: val_accuracy did not improve from 0.77644\n",
            "Epoch 34/150\n",
            "58363/58363 [==============================] - 37s 631us/step - loss: 0.2893 - accuracy: 0.8974 - val_loss: 0.8154 - val_accuracy: 0.7639\n",
            "\n",
            "Epoch 00034: val_accuracy did not improve from 0.77644\n",
            "Epoch 35/150\n",
            "58363/58363 [==============================] - 37s 630us/step - loss: 0.2918 - accuracy: 0.8954 - val_loss: 0.7774 - val_accuracy: 0.7760\n",
            "\n",
            "Epoch 00035: val_accuracy did not improve from 0.77644\n",
            "Epoch 36/150\n",
            "58363/58363 [==============================] - 37s 632us/step - loss: 0.2769 - accuracy: 0.9022 - val_loss: 0.7643 - val_accuracy: 0.7668\n",
            "\n",
            "Epoch 00036: val_accuracy did not improve from 0.77644\n",
            "Epoch 37/150\n",
            "58363/58363 [==============================] - 37s 626us/step - loss: 0.2741 - accuracy: 0.9038 - val_loss: 0.7529 - val_accuracy: 0.7782\n",
            "\n",
            "Epoch 00037: val_accuracy improved from 0.77644 to 0.77815, saving model to /gdrive/My Drive/Audio_Sentiment/models/hdf5/wg_combined_2d_lstm_cnn_2.hdf5\n",
            "Epoch 38/150\n",
            "58363/58363 [==============================] - 36s 622us/step - loss: 0.2683 - accuracy: 0.9051 - val_loss: 0.7638 - val_accuracy: 0.7792\n",
            "\n",
            "Epoch 00038: val_accuracy improved from 0.77815 to 0.77918, saving model to /gdrive/My Drive/Audio_Sentiment/models/hdf5/wg_combined_2d_lstm_cnn_2.hdf5\n",
            "Epoch 39/150\n",
            "58363/58363 [==============================] - 36s 622us/step - loss: 0.2641 - accuracy: 0.9071 - val_loss: 0.8626 - val_accuracy: 0.7510\n",
            "\n",
            "Epoch 00039: val_accuracy did not improve from 0.77918\n",
            "Epoch 40/150\n",
            "58363/58363 [==============================] - 36s 625us/step - loss: 0.2600 - accuracy: 0.9086 - val_loss: 0.7747 - val_accuracy: 0.7738\n",
            "\n",
            "Epoch 00040: val_accuracy did not improve from 0.77918\n",
            "Epoch 41/150\n",
            "58363/58363 [==============================] - 36s 624us/step - loss: 0.2556 - accuracy: 0.9106 - val_loss: 0.8229 - val_accuracy: 0.7708\n",
            "\n",
            "Epoch 00041: val_accuracy did not improve from 0.77918\n",
            "Epoch 42/150\n",
            "58363/58363 [==============================] - 37s 627us/step - loss: 0.2459 - accuracy: 0.9131 - val_loss: 0.8489 - val_accuracy: 0.7712\n",
            "\n",
            "Epoch 00042: val_accuracy did not improve from 0.77918\n",
            "Epoch 43/150\n",
            "58363/58363 [==============================] - 36s 624us/step - loss: 0.2433 - accuracy: 0.9145 - val_loss: 0.7907 - val_accuracy: 0.7803\n",
            "\n",
            "Epoch 00043: val_accuracy improved from 0.77918 to 0.78028, saving model to /gdrive/My Drive/Audio_Sentiment/models/hdf5/wg_combined_2d_lstm_cnn_2.hdf5\n",
            "Epoch 44/150\n",
            "58363/58363 [==============================] - 37s 630us/step - loss: 0.2421 - accuracy: 0.9152 - val_loss: 0.8220 - val_accuracy: 0.7741\n",
            "\n",
            "Epoch 00044: val_accuracy did not improve from 0.78028\n",
            "Epoch 45/150\n",
            "58363/58363 [==============================] - 36s 624us/step - loss: 0.2356 - accuracy: 0.9174 - val_loss: 0.8461 - val_accuracy: 0.7742\n",
            "\n",
            "Epoch 00045: val_accuracy did not improve from 0.78028\n",
            "Epoch 46/150\n",
            "58363/58363 [==============================] - 36s 620us/step - loss: 0.2300 - accuracy: 0.9182 - val_loss: 0.7729 - val_accuracy: 0.7870\n",
            "\n",
            "Epoch 00046: val_accuracy improved from 0.78028 to 0.78699, saving model to /gdrive/My Drive/Audio_Sentiment/models/hdf5/wg_combined_2d_lstm_cnn_2.hdf5\n",
            "Epoch 47/150\n",
            "58363/58363 [==============================] - 36s 625us/step - loss: 0.2277 - accuracy: 0.9207 - val_loss: 0.8143 - val_accuracy: 0.7842\n",
            "\n",
            "Epoch 00047: val_accuracy did not improve from 0.78699\n",
            "Epoch 48/150\n",
            "58363/58363 [==============================] - 36s 620us/step - loss: 0.2220 - accuracy: 0.9225 - val_loss: 0.8333 - val_accuracy: 0.7761\n",
            "\n",
            "Epoch 00048: val_accuracy did not improve from 0.78699\n",
            "Epoch 49/150\n",
            "58363/58363 [==============================] - 36s 621us/step - loss: 0.2134 - accuracy: 0.9254 - val_loss: 0.8302 - val_accuracy: 0.7734\n",
            "\n",
            "Epoch 00049: val_accuracy did not improve from 0.78699\n",
            "Epoch 50/150\n",
            "58363/58363 [==============================] - 36s 622us/step - loss: 0.2146 - accuracy: 0.9261 - val_loss: 0.8102 - val_accuracy: 0.7853\n",
            "\n",
            "Epoch 00050: val_accuracy did not improve from 0.78699\n",
            "Epoch 51/150\n",
            "58363/58363 [==============================] - 36s 624us/step - loss: 0.2126 - accuracy: 0.9262 - val_loss: 0.8146 - val_accuracy: 0.7793\n",
            "\n",
            "Epoch 00051: val_accuracy did not improve from 0.78699\n",
            "Epoch 52/150\n",
            "58363/58363 [==============================] - 36s 624us/step - loss: 0.2103 - accuracy: 0.9270 - val_loss: 0.8023 - val_accuracy: 0.7836\n",
            "\n",
            "Epoch 00052: val_accuracy did not improve from 0.78699\n",
            "Epoch 53/150\n",
            "58363/58363 [==============================] - 36s 620us/step - loss: 0.2094 - accuracy: 0.9270 - val_loss: 0.8306 - val_accuracy: 0.7832\n",
            "\n",
            "Epoch 00053: val_accuracy did not improve from 0.78699\n",
            "Epoch 54/150\n",
            "58363/58363 [==============================] - 36s 625us/step - loss: 0.1994 - accuracy: 0.9307 - val_loss: 0.8957 - val_accuracy: 0.7698\n",
            "\n",
            "Epoch 00054: val_accuracy did not improve from 0.78699\n",
            "Epoch 55/150\n",
            "58363/58363 [==============================] - 36s 624us/step - loss: 0.1969 - accuracy: 0.9317 - val_loss: 0.8883 - val_accuracy: 0.7723\n",
            "\n",
            "Epoch 00055: val_accuracy did not improve from 0.78699\n",
            "Epoch 56/150\n",
            "58363/58363 [==============================] - 36s 620us/step - loss: 0.1989 - accuracy: 0.9301 - val_loss: 0.8076 - val_accuracy: 0.7880\n",
            "\n",
            "Epoch 00056: val_accuracy improved from 0.78699 to 0.78802, saving model to /gdrive/My Drive/Audio_Sentiment/models/hdf5/wg_combined_2d_lstm_cnn_2.hdf5\n",
            "Epoch 57/150\n",
            "58363/58363 [==============================] - 36s 624us/step - loss: 0.1913 - accuracy: 0.9330 - val_loss: 0.8604 - val_accuracy: 0.7766\n",
            "\n",
            "Epoch 00057: val_accuracy did not improve from 0.78802\n",
            "Epoch 58/150\n",
            "58363/58363 [==============================] - 36s 622us/step - loss: 0.1893 - accuracy: 0.9330 - val_loss: 0.8342 - val_accuracy: 0.7805\n",
            "\n",
            "Epoch 00058: val_accuracy did not improve from 0.78802\n",
            "Epoch 59/150\n",
            "58363/58363 [==============================] - 36s 614us/step - loss: 0.1857 - accuracy: 0.9357 - val_loss: 0.8460 - val_accuracy: 0.7803\n",
            "\n",
            "Epoch 00059: val_accuracy did not improve from 0.78802\n",
            "Epoch 60/150\n",
            "58363/58363 [==============================] - 36s 622us/step - loss: 0.1873 - accuracy: 0.9350 - val_loss: 0.8359 - val_accuracy: 0.7819\n",
            "\n",
            "Epoch 00060: val_accuracy did not improve from 0.78802\n",
            "Epoch 61/150\n",
            "58363/58363 [==============================] - 36s 624us/step - loss: 0.1846 - accuracy: 0.9356 - val_loss: 0.8232 - val_accuracy: 0.7886\n",
            "\n",
            "Epoch 00061: val_accuracy improved from 0.78802 to 0.78857, saving model to /gdrive/My Drive/Audio_Sentiment/models/hdf5/wg_combined_2d_lstm_cnn_2.hdf5\n",
            "Epoch 62/150\n",
            "58363/58363 [==============================] - 37s 628us/step - loss: 0.1794 - accuracy: 0.9380 - val_loss: 0.8732 - val_accuracy: 0.7818\n",
            "\n",
            "Epoch 00062: val_accuracy did not improve from 0.78857\n",
            "Epoch 63/150\n",
            "58363/58363 [==============================] - 36s 618us/step - loss: 0.1818 - accuracy: 0.9372 - val_loss: 0.8588 - val_accuracy: 0.7820\n",
            "\n",
            "Epoch 00063: val_accuracy did not improve from 0.78857\n",
            "Epoch 64/150\n",
            "58363/58363 [==============================] - 36s 623us/step - loss: 0.1775 - accuracy: 0.9383 - val_loss: 0.8493 - val_accuracy: 0.7914\n",
            "\n",
            "Epoch 00064: val_accuracy improved from 0.78857 to 0.79138, saving model to /gdrive/My Drive/Audio_Sentiment/models/hdf5/wg_combined_2d_lstm_cnn_2.hdf5\n",
            "Epoch 65/150\n",
            "58363/58363 [==============================] - 36s 618us/step - loss: 0.1744 - accuracy: 0.9399 - val_loss: 0.8906 - val_accuracy: 0.7838\n",
            "\n",
            "Epoch 00065: val_accuracy did not improve from 0.79138\n",
            "Epoch 66/150\n",
            "58363/58363 [==============================] - 36s 622us/step - loss: 0.1761 - accuracy: 0.9404 - val_loss: 0.8350 - val_accuracy: 0.7951\n",
            "\n",
            "Epoch 00066: val_accuracy improved from 0.79138 to 0.79515, saving model to /gdrive/My Drive/Audio_Sentiment/models/hdf5/wg_combined_2d_lstm_cnn_2.hdf5\n",
            "Epoch 67/150\n",
            "58363/58363 [==============================] - 37s 626us/step - loss: 0.1704 - accuracy: 0.9406 - val_loss: 0.8424 - val_accuracy: 0.7898\n",
            "\n",
            "Epoch 00067: val_accuracy did not improve from 0.79515\n",
            "Epoch 68/150\n",
            "58363/58363 [==============================] - 36s 619us/step - loss: 0.1677 - accuracy: 0.9423 - val_loss: 0.8634 - val_accuracy: 0.7871\n",
            "\n",
            "Epoch 00068: val_accuracy did not improve from 0.79515\n",
            "Epoch 69/150\n",
            "58363/58363 [==============================] - 37s 626us/step - loss: 0.1656 - accuracy: 0.9427 - val_loss: 0.8589 - val_accuracy: 0.7930\n",
            "\n",
            "Epoch 00069: val_accuracy did not improve from 0.79515\n",
            "Epoch 70/150\n",
            "58363/58363 [==============================] - 37s 626us/step - loss: 0.1631 - accuracy: 0.9428 - val_loss: 0.8486 - val_accuracy: 0.7886\n",
            "\n",
            "Epoch 00070: val_accuracy did not improve from 0.79515\n",
            "Epoch 71/150\n",
            "58363/58363 [==============================] - 36s 624us/step - loss: 0.1605 - accuracy: 0.9441 - val_loss: 0.8446 - val_accuracy: 0.7871\n",
            "\n",
            "Epoch 00071: val_accuracy did not improve from 0.79515\n",
            "Epoch 72/150\n",
            "58363/58363 [==============================] - 36s 619us/step - loss: 0.1584 - accuracy: 0.9443 - val_loss: 0.8774 - val_accuracy: 0.7893\n",
            "\n",
            "Epoch 00072: val_accuracy did not improve from 0.79515\n",
            "Epoch 73/150\n",
            "58363/58363 [==============================] - 37s 626us/step - loss: 0.1561 - accuracy: 0.9451 - val_loss: 0.8838 - val_accuracy: 0.7809\n",
            "\n",
            "Epoch 00073: val_accuracy did not improve from 0.79515\n",
            "Epoch 74/150\n",
            "58363/58363 [==============================] - 36s 625us/step - loss: 0.1539 - accuracy: 0.9475 - val_loss: 0.8660 - val_accuracy: 0.7936\n",
            "\n",
            "Epoch 00074: val_accuracy did not improve from 0.79515\n",
            "Epoch 75/150\n",
            "58363/58363 [==============================] - 36s 620us/step - loss: 0.1510 - accuracy: 0.9477 - val_loss: 0.8845 - val_accuracy: 0.7843\n",
            "\n",
            "Epoch 00075: val_accuracy did not improve from 0.79515\n",
            "Epoch 76/150\n",
            "58363/58363 [==============================] - 36s 623us/step - loss: 0.1515 - accuracy: 0.9482 - val_loss: 0.9986 - val_accuracy: 0.7655\n",
            "\n",
            "Epoch 00076: val_accuracy did not improve from 0.79515\n",
            "Epoch 77/150\n",
            "58363/58363 [==============================] - 36s 622us/step - loss: 0.1558 - accuracy: 0.9472 - val_loss: 0.9042 - val_accuracy: 0.7837\n",
            "\n",
            "Epoch 00077: val_accuracy did not improve from 0.79515\n",
            "Epoch 78/150\n",
            "58363/58363 [==============================] - 36s 624us/step - loss: 0.1483 - accuracy: 0.9490 - val_loss: 0.9419 - val_accuracy: 0.7785\n",
            "\n",
            "Epoch 00078: val_accuracy did not improve from 0.79515\n",
            "Epoch 79/150\n",
            "58363/58363 [==============================] - 36s 623us/step - loss: 0.1443 - accuracy: 0.9503 - val_loss: 0.8925 - val_accuracy: 0.7882\n",
            "\n",
            "Epoch 00079: val_accuracy did not improve from 0.79515\n",
            "Epoch 80/150\n",
            "58363/58363 [==============================] - 36s 621us/step - loss: 0.1460 - accuracy: 0.9506 - val_loss: 0.8698 - val_accuracy: 0.7932\n",
            "\n",
            "Epoch 00080: val_accuracy did not improve from 0.79515\n",
            "Epoch 81/150\n",
            "58363/58363 [==============================] - 36s 618us/step - loss: 0.1482 - accuracy: 0.9493 - val_loss: 0.8838 - val_accuracy: 0.7891\n",
            "\n",
            "Epoch 00081: val_accuracy did not improve from 0.79515\n",
            "Epoch 82/150\n",
            "58363/58363 [==============================] - 37s 628us/step - loss: 0.1403 - accuracy: 0.9519 - val_loss: 0.9391 - val_accuracy: 0.7864\n",
            "\n",
            "Epoch 00082: val_accuracy did not improve from 0.79515\n",
            "Epoch 83/150\n",
            "58363/58363 [==============================] - 36s 622us/step - loss: 0.1396 - accuracy: 0.9518 - val_loss: 0.9546 - val_accuracy: 0.7854\n",
            "\n",
            "Epoch 00083: val_accuracy did not improve from 0.79515\n",
            "Epoch 84/150\n",
            "58363/58363 [==============================] - 36s 619us/step - loss: 0.1351 - accuracy: 0.9541 - val_loss: 1.0212 - val_accuracy: 0.7739\n",
            "\n",
            "Epoch 00084: val_accuracy did not improve from 0.79515\n",
            "Epoch 85/150\n",
            "58363/58363 [==============================] - 36s 620us/step - loss: 0.1395 - accuracy: 0.9511 - val_loss: 0.9418 - val_accuracy: 0.7790\n",
            "\n",
            "Epoch 00085: val_accuracy did not improve from 0.79515\n",
            "Epoch 86/150\n",
            "58363/58363 [==============================] - 36s 625us/step - loss: 0.1364 - accuracy: 0.9531 - val_loss: 0.8967 - val_accuracy: 0.7904\n",
            "\n",
            "Epoch 00086: val_accuracy did not improve from 0.79515\n",
            "Epoch 87/150\n",
            "58363/58363 [==============================] - 36s 621us/step - loss: 0.1329 - accuracy: 0.9544 - val_loss: 0.9164 - val_accuracy: 0.7919\n",
            "\n",
            "Epoch 00087: val_accuracy did not improve from 0.79515\n",
            "Epoch 88/150\n",
            "58363/58363 [==============================] - 36s 616us/step - loss: 0.1336 - accuracy: 0.9541 - val_loss: 0.9436 - val_accuracy: 0.7929\n",
            "\n",
            "Epoch 00088: val_accuracy did not improve from 0.79515\n",
            "Epoch 89/150\n",
            "58363/58363 [==============================] - 36s 624us/step - loss: 0.1289 - accuracy: 0.9563 - val_loss: 0.9477 - val_accuracy: 0.7908\n",
            "\n",
            "Epoch 00089: val_accuracy did not improve from 0.79515\n",
            "Epoch 90/150\n",
            "58363/58363 [==============================] - 36s 619us/step - loss: 0.1293 - accuracy: 0.9556 - val_loss: 0.9233 - val_accuracy: 0.7928\n",
            "\n",
            "Epoch 00090: val_accuracy did not improve from 0.79515\n",
            "Epoch 91/150\n",
            "58363/58363 [==============================] - 36s 625us/step - loss: 0.1270 - accuracy: 0.9563 - val_loss: 0.9616 - val_accuracy: 0.7943\n",
            "\n",
            "Epoch 00091: val_accuracy did not improve from 0.79515\n",
            "Epoch 92/150\n",
            "58363/58363 [==============================] - 36s 617us/step - loss: 0.1289 - accuracy: 0.9553 - val_loss: 0.9442 - val_accuracy: 0.7938\n",
            "\n",
            "Epoch 00092: val_accuracy did not improve from 0.79515\n",
            "Epoch 93/150\n",
            "58363/58363 [==============================] - 37s 626us/step - loss: 0.1251 - accuracy: 0.9576 - val_loss: 0.9045 - val_accuracy: 0.7947\n",
            "\n",
            "Epoch 00093: val_accuracy did not improve from 0.79515\n",
            "Epoch 94/150\n",
            "58363/58363 [==============================] - 36s 617us/step - loss: 0.1277 - accuracy: 0.9556 - val_loss: 0.9714 - val_accuracy: 0.7906\n",
            "\n",
            "Epoch 00094: val_accuracy did not improve from 0.79515\n",
            "Epoch 95/150\n",
            "58363/58363 [==============================] - 36s 622us/step - loss: 0.1190 - accuracy: 0.9593 - val_loss: 0.9432 - val_accuracy: 0.7882\n",
            "\n",
            "Epoch 00095: val_accuracy did not improve from 0.79515\n",
            "Epoch 96/150\n",
            "58363/58363 [==============================] - 36s 623us/step - loss: 0.1266 - accuracy: 0.9571 - val_loss: 0.9519 - val_accuracy: 0.7970\n",
            "\n",
            "Epoch 00096: val_accuracy improved from 0.79515 to 0.79700, saving model to /gdrive/My Drive/Audio_Sentiment/models/hdf5/wg_combined_2d_lstm_cnn_2.hdf5\n",
            "Epoch 97/150\n",
            "58363/58363 [==============================] - 37s 626us/step - loss: 0.1239 - accuracy: 0.9586 - val_loss: 0.9423 - val_accuracy: 0.7855\n",
            "\n",
            "Epoch 00097: val_accuracy did not improve from 0.79700\n",
            "Epoch 98/150\n",
            "58363/58363 [==============================] - 36s 624us/step - loss: 0.1190 - accuracy: 0.9592 - val_loss: 0.9382 - val_accuracy: 0.7890\n",
            "\n",
            "Epoch 00098: val_accuracy did not improve from 0.79700\n",
            "Epoch 99/150\n",
            "58363/58363 [==============================] - 36s 624us/step - loss: 0.1189 - accuracy: 0.9589 - val_loss: 0.9205 - val_accuracy: 0.7942\n",
            "\n",
            "Epoch 00099: val_accuracy did not improve from 0.79700\n",
            "Epoch 100/150\n",
            "58363/58363 [==============================] - 36s 625us/step - loss: 0.1220 - accuracy: 0.9586 - val_loss: 0.9078 - val_accuracy: 0.7917\n",
            "\n",
            "Epoch 00100: val_accuracy did not improve from 0.79700\n",
            "Epoch 101/150\n",
            "58363/58363 [==============================] - 36s 619us/step - loss: 0.1159 - accuracy: 0.9597 - val_loss: 0.9410 - val_accuracy: 0.7975\n",
            "\n",
            "Epoch 00101: val_accuracy improved from 0.79700 to 0.79755, saving model to /gdrive/My Drive/Audio_Sentiment/models/hdf5/wg_combined_2d_lstm_cnn_2.hdf5\n",
            "Epoch 102/150\n",
            "58363/58363 [==============================] - 37s 628us/step - loss: 0.1174 - accuracy: 0.9590 - val_loss: 0.9526 - val_accuracy: 0.7918\n",
            "\n",
            "Epoch 00102: val_accuracy did not improve from 0.79755\n",
            "Epoch 103/150\n",
            "58363/58363 [==============================] - 36s 624us/step - loss: 0.1185 - accuracy: 0.9595 - val_loss: 0.9438 - val_accuracy: 0.7945\n",
            "\n",
            "Epoch 00103: val_accuracy did not improve from 0.79755\n",
            "Epoch 104/150\n",
            "58363/58363 [==============================] - 36s 620us/step - loss: 0.1132 - accuracy: 0.9616 - val_loss: 0.9780 - val_accuracy: 0.7948\n",
            "\n",
            "Epoch 00104: val_accuracy did not improve from 0.79755\n",
            "Epoch 105/150\n",
            "58363/58363 [==============================] - 36s 622us/step - loss: 0.1158 - accuracy: 0.9598 - val_loss: 0.9783 - val_accuracy: 0.7905\n",
            "\n",
            "Epoch 00105: val_accuracy did not improve from 0.79755\n",
            "Epoch 106/150\n",
            "58363/58363 [==============================] - 37s 626us/step - loss: 0.1139 - accuracy: 0.9610 - val_loss: 1.0015 - val_accuracy: 0.7861\n",
            "\n",
            "Epoch 00106: val_accuracy did not improve from 0.79755\n",
            "Epoch 107/150\n",
            "58363/58363 [==============================] - 36s 624us/step - loss: 0.1077 - accuracy: 0.9640 - val_loss: 0.9513 - val_accuracy: 0.7944\n",
            "\n",
            "Epoch 00107: val_accuracy did not improve from 0.79755\n",
            "Epoch 108/150\n",
            "58363/58363 [==============================] - 36s 623us/step - loss: 0.1126 - accuracy: 0.9609 - val_loss: 0.9755 - val_accuracy: 0.7958\n",
            "\n",
            "Epoch 00108: val_accuracy did not improve from 0.79755\n",
            "Epoch 109/150\n",
            "58363/58363 [==============================] - 37s 629us/step - loss: 0.1109 - accuracy: 0.9629 - val_loss: 0.9591 - val_accuracy: 0.7906\n",
            "\n",
            "Epoch 00109: val_accuracy did not improve from 0.79755\n",
            "Epoch 110/150\n",
            "58363/58363 [==============================] - 36s 620us/step - loss: 0.1063 - accuracy: 0.9638 - val_loss: 0.9871 - val_accuracy: 0.7879\n",
            "\n",
            "Epoch 00110: val_accuracy did not improve from 0.79755\n",
            "Epoch 111/150\n",
            "58363/58363 [==============================] - 37s 627us/step - loss: 0.1095 - accuracy: 0.9628 - val_loss: 0.9699 - val_accuracy: 0.7917\n",
            "\n",
            "Epoch 00111: val_accuracy did not improve from 0.79755\n",
            "Epoch 112/150\n",
            "58363/58363 [==============================] - 36s 622us/step - loss: 0.1099 - accuracy: 0.9623 - val_loss: 0.9238 - val_accuracy: 0.7917\n",
            "\n",
            "Epoch 00112: val_accuracy did not improve from 0.79755\n",
            "Epoch 113/150\n",
            "58363/58363 [==============================] - 36s 622us/step - loss: 0.1088 - accuracy: 0.9629 - val_loss: 1.0052 - val_accuracy: 0.7940\n",
            "\n",
            "Epoch 00113: val_accuracy did not improve from 0.79755\n",
            "Epoch 114/150\n",
            "58363/58363 [==============================] - 36s 621us/step - loss: 0.1090 - accuracy: 0.9626 - val_loss: 1.0148 - val_accuracy: 0.7882\n",
            "\n",
            "Epoch 00114: val_accuracy did not improve from 0.79755\n",
            "Epoch 115/150\n",
            "58363/58363 [==============================] - 36s 622us/step - loss: 0.1055 - accuracy: 0.9641 - val_loss: 0.9845 - val_accuracy: 0.7927\n",
            "\n",
            "Epoch 00115: val_accuracy did not improve from 0.79755\n",
            "Epoch 116/150\n",
            "58363/58363 [==============================] - 36s 624us/step - loss: 0.1073 - accuracy: 0.9634 - val_loss: 0.9851 - val_accuracy: 0.7905\n",
            "\n",
            "Epoch 00116: val_accuracy did not improve from 0.79755\n",
            "Epoch 117/150\n",
            "58363/58363 [==============================] - 36s 622us/step - loss: 0.1025 - accuracy: 0.9651 - val_loss: 0.9732 - val_accuracy: 0.7964\n",
            "\n",
            "Epoch 00117: val_accuracy did not improve from 0.79755\n",
            "Epoch 118/150\n",
            "58363/58363 [==============================] - 36s 622us/step - loss: 0.1031 - accuracy: 0.9651 - val_loss: 0.9897 - val_accuracy: 0.7919\n",
            "\n",
            "Epoch 00118: val_accuracy did not improve from 0.79755\n",
            "Epoch 119/150\n",
            "58363/58363 [==============================] - 36s 624us/step - loss: 0.1042 - accuracy: 0.9650 - val_loss: 1.0227 - val_accuracy: 0.7929\n",
            "\n",
            "Epoch 00119: val_accuracy did not improve from 0.79755\n",
            "Epoch 120/150\n",
            "58363/58363 [==============================] - 36s 622us/step - loss: 0.1035 - accuracy: 0.9639 - val_loss: 0.9523 - val_accuracy: 0.7950\n",
            "\n",
            "Epoch 00120: val_accuracy did not improve from 0.79755\n",
            "Epoch 121/150\n",
            "58363/58363 [==============================] - 36s 620us/step - loss: 0.1026 - accuracy: 0.9648 - val_loss: 0.9703 - val_accuracy: 0.7908\n",
            "\n",
            "Epoch 00121: val_accuracy did not improve from 0.79755\n",
            "Epoch 122/150\n",
            "58363/58363 [==============================] - 36s 622us/step - loss: 0.0972 - accuracy: 0.9676 - val_loss: 1.0102 - val_accuracy: 0.7959\n",
            "\n",
            "Epoch 00122: val_accuracy did not improve from 0.79755\n",
            "Epoch 123/150\n",
            "58363/58363 [==============================] - 36s 617us/step - loss: 0.1004 - accuracy: 0.9664 - val_loss: 0.9837 - val_accuracy: 0.7882\n",
            "\n",
            "Epoch 00123: val_accuracy did not improve from 0.79755\n",
            "Epoch 124/150\n",
            "58363/58363 [==============================] - 36s 623us/step - loss: 0.0956 - accuracy: 0.9679 - val_loss: 1.0602 - val_accuracy: 0.7914\n",
            "\n",
            "Epoch 00124: val_accuracy did not improve from 0.79755\n",
            "Epoch 125/150\n",
            "58363/58363 [==============================] - 36s 624us/step - loss: 0.1016 - accuracy: 0.9654 - val_loss: 1.0170 - val_accuracy: 0.7947\n",
            "\n",
            "Epoch 00125: val_accuracy did not improve from 0.79755\n",
            "Epoch 126/150\n",
            "58363/58363 [==============================] - 36s 622us/step - loss: 0.0953 - accuracy: 0.9678 - val_loss: 1.0163 - val_accuracy: 0.7938\n",
            "\n",
            "Epoch 00126: val_accuracy did not improve from 0.79755\n",
            "Epoch 127/150\n",
            "58363/58363 [==============================] - 36s 621us/step - loss: 0.0984 - accuracy: 0.9661 - val_loss: 0.9761 - val_accuracy: 0.7938\n",
            "\n",
            "Epoch 00127: val_accuracy did not improve from 0.79755\n",
            "Epoch 128/150\n",
            "58363/58363 [==============================] - 36s 624us/step - loss: 0.0985 - accuracy: 0.9663 - val_loss: 1.0005 - val_accuracy: 0.7970\n",
            "\n",
            "Epoch 00128: val_accuracy did not improve from 0.79755\n",
            "Epoch 129/150\n",
            "58363/58363 [==============================] - 37s 626us/step - loss: 0.0930 - accuracy: 0.9675 - val_loss: 1.0023 - val_accuracy: 0.7976\n",
            "\n",
            "Epoch 00129: val_accuracy improved from 0.79755 to 0.79761, saving model to /gdrive/My Drive/Audio_Sentiment/models/hdf5/wg_combined_2d_lstm_cnn_2.hdf5\n",
            "Epoch 130/150\n",
            "58363/58363 [==============================] - 36s 619us/step - loss: 0.0999 - accuracy: 0.9664 - val_loss: 0.9491 - val_accuracy: 0.7943\n",
            "\n",
            "Epoch 00130: val_accuracy did not improve from 0.79761\n",
            "Epoch 131/150\n",
            "58363/58363 [==============================] - 36s 622us/step - loss: 0.0949 - accuracy: 0.9679 - val_loss: 1.0158 - val_accuracy: 0.7963\n",
            "\n",
            "Epoch 00131: val_accuracy did not improve from 0.79761\n",
            "Epoch 132/150\n",
            "58363/58363 [==============================] - 36s 619us/step - loss: 0.0935 - accuracy: 0.9682 - val_loss: 0.9766 - val_accuracy: 0.7999\n",
            "\n",
            "Epoch 00132: val_accuracy improved from 0.79761 to 0.79988, saving model to /gdrive/My Drive/Audio_Sentiment/models/hdf5/wg_combined_2d_lstm_cnn_2.hdf5\n",
            "Epoch 133/150\n",
            "58363/58363 [==============================] - 37s 627us/step - loss: 0.0976 - accuracy: 0.9670 - val_loss: 1.0225 - val_accuracy: 0.7920\n",
            "\n",
            "Epoch 00133: val_accuracy did not improve from 0.79988\n",
            "Epoch 134/150\n",
            "58363/58363 [==============================] - 36s 622us/step - loss: 0.0911 - accuracy: 0.9696 - val_loss: 0.9990 - val_accuracy: 0.8008\n",
            "\n",
            "Epoch 00134: val_accuracy improved from 0.79988 to 0.80084, saving model to /gdrive/My Drive/Audio_Sentiment/models/hdf5/wg_combined_2d_lstm_cnn_2.hdf5\n",
            "Epoch 135/150\n",
            "58363/58363 [==============================] - 36s 623us/step - loss: 0.0913 - accuracy: 0.9689 - val_loss: 1.0344 - val_accuracy: 0.7995\n",
            "\n",
            "Epoch 00135: val_accuracy did not improve from 0.80084\n",
            "Epoch 136/150\n",
            "58363/58363 [==============================] - 36s 620us/step - loss: 0.0932 - accuracy: 0.9684 - val_loss: 0.9858 - val_accuracy: 0.7954\n",
            "\n",
            "Epoch 00136: val_accuracy did not improve from 0.80084\n",
            "Epoch 137/150\n",
            "58363/58363 [==============================] - 36s 623us/step - loss: 0.0927 - accuracy: 0.9690 - val_loss: 1.0195 - val_accuracy: 0.7949\n",
            "\n",
            "Epoch 00137: val_accuracy did not improve from 0.80084\n",
            "Epoch 138/150\n",
            "58363/58363 [==============================] - 36s 624us/step - loss: 0.0989 - accuracy: 0.9677 - val_loss: 0.9603 - val_accuracy: 0.8024\n",
            "\n",
            "Epoch 00138: val_accuracy improved from 0.80084 to 0.80241, saving model to /gdrive/My Drive/Audio_Sentiment/models/hdf5/wg_combined_2d_lstm_cnn_2.hdf5\n",
            "Epoch 139/150\n",
            "58363/58363 [==============================] - 36s 624us/step - loss: 0.0937 - accuracy: 0.9691 - val_loss: 1.0187 - val_accuracy: 0.7971\n",
            "\n",
            "Epoch 00139: val_accuracy did not improve from 0.80241\n",
            "Epoch 140/150\n",
            "58363/58363 [==============================] - 36s 622us/step - loss: 0.0877 - accuracy: 0.9701 - val_loss: 0.9974 - val_accuracy: 0.8020\n",
            "\n",
            "Epoch 00140: val_accuracy did not improve from 0.80241\n",
            "Epoch 141/150\n",
            "58363/58363 [==============================] - 36s 621us/step - loss: 0.0889 - accuracy: 0.9697 - val_loss: 0.9974 - val_accuracy: 0.7981\n",
            "\n",
            "Epoch 00141: val_accuracy did not improve from 0.80241\n",
            "Epoch 142/150\n",
            "58363/58363 [==============================] - 37s 627us/step - loss: 0.0944 - accuracy: 0.9680 - val_loss: 1.0077 - val_accuracy: 0.7975\n",
            "\n",
            "Epoch 00142: val_accuracy did not improve from 0.80241\n",
            "Epoch 143/150\n",
            "58363/58363 [==============================] - 36s 623us/step - loss: 0.0882 - accuracy: 0.9701 - val_loss: 1.0508 - val_accuracy: 0.7925\n",
            "\n",
            "Epoch 00143: val_accuracy did not improve from 0.80241\n",
            "Epoch 144/150\n",
            "58363/58363 [==============================] - 36s 621us/step - loss: 0.0899 - accuracy: 0.9692 - val_loss: 1.0059 - val_accuracy: 0.7950\n",
            "\n",
            "Epoch 00144: val_accuracy did not improve from 0.80241\n",
            "Epoch 145/150\n",
            "58363/58363 [==============================] - 36s 625us/step - loss: 0.0928 - accuracy: 0.9686 - val_loss: 1.0488 - val_accuracy: 0.7904\n",
            "\n",
            "Epoch 00145: val_accuracy did not improve from 0.80241\n",
            "Epoch 146/150\n",
            "58363/58363 [==============================] - 36s 620us/step - loss: 0.0864 - accuracy: 0.9701 - val_loss: 1.0213 - val_accuracy: 0.7960\n",
            "\n",
            "Epoch 00146: val_accuracy did not improve from 0.80241\n",
            "Epoch 147/150\n",
            "58363/58363 [==============================] - 36s 621us/step - loss: 0.0878 - accuracy: 0.9698 - val_loss: 1.0193 - val_accuracy: 0.7916\n",
            "\n",
            "Epoch 00147: val_accuracy did not improve from 0.80241\n",
            "Epoch 148/150\n",
            "58363/58363 [==============================] - 36s 624us/step - loss: 0.0884 - accuracy: 0.9695 - val_loss: 1.0303 - val_accuracy: 0.7944\n",
            "\n",
            "Epoch 00148: val_accuracy did not improve from 0.80241\n",
            "Epoch 149/150\n",
            "58363/58363 [==============================] - 37s 626us/step - loss: 0.0900 - accuracy: 0.9698 - val_loss: 0.9976 - val_accuracy: 0.8016\n",
            "\n",
            "Epoch 00149: val_accuracy did not improve from 0.80241\n",
            "Epoch 150/150\n",
            "58363/58363 [==============================] - 36s 623us/step - loss: 0.0866 - accuracy: 0.9709 - val_loss: 1.0252 - val_accuracy: 0.7936\n",
            "\n",
            "Epoch 00150: val_accuracy did not improve from 0.80241\n"
          ],
          "name": "stdout"
        }
      ]
    },
    {
      "cell_type": "code",
      "metadata": {
        "id": "omG0KzJUW0Rh",
        "colab_type": "code",
        "colab": {}
      },
      "source": [
        "np.save('/gdrive/My Drive/Audio_Sentiment/wg_x_train.npy',X_train)\n",
        "np.save('/gdrive/My Drive/Audio_Sentiment/wg_y_train.npy',y_train)\n",
        "np.save('/gdrive/My Drive/Audio_Sentiment/wg_x_test.npy',X_test)\n",
        "np.save('/gdrive/My Drive/Audio_Sentiment/wg_y_test.npy',y_test)"
      ],
      "execution_count": 36,
      "outputs": []
    },
    {
      "cell_type": "code",
      "metadata": {
        "id": "-Gr_-okCrhwp",
        "colab_type": "code",
        "colab": {
          "base_uri": "https://localhost:8080/",
          "height": 517
        },
        "outputId": "5f3d4360-b23a-4d5e-b6a9-d3809a9a82ee"
      },
      "source": [
        "import matplotlib\n",
        "matplotlib.style.use('ggplot')\n",
        "plt.gcf().set_size_inches(17, 8, forward=True)\n",
        "plt.plot(history.history['loss'])\n",
        "plt.plot(history.history['val_loss'])\n",
        "plt.title('Model Loss')\n",
        "plt.ylabel('Loss')\n",
        "plt.xlabel('Epoch')\n",
        "plt.legend(['Training Loss','Validation Loss'], loc='upper right')\n",
        "plt.show()"
      ],
      "execution_count": 37,
      "outputs": [
        {
          "output_type": "display_data",
          "data": {
            "image/png": "[encoded data removed]",
            "text/plain": [
              "<Figure size 1224x576 with 1 Axes>"
            ]
          },
          "metadata": {
            "tags": []
          }
        }
      ]
    },
    {
      "cell_type": "code",
      "metadata": {
        "id": "kGB47kppsHye",
        "colab_type": "code",
        "colab": {
          "base_uri": "https://localhost:8080/",
          "height": 517
        },
        "outputId": "b2c6e715-0a45-46d4-d29b-d0f06b1a5060"
      },
      "source": [
        "import matplotlib\n",
        "matplotlib.style.use('ggplot')\n",
        "plt.gcf().set_size_inches(17, 8, forward=True)\n",
        "plt.plot(history.history['accuracy'])\n",
        "plt.plot(history.history['val_accuracy'])\n",
        "plt.title('Model Accuracy')\n",
        "plt.ylabel('Accuracy')\n",
        "plt.xlabel('Epoch')\n",
        "plt.legend(['Training Accuracy','Validation Accuracy'], loc='lower right')\n",
        "plt.show()"
      ],
      "execution_count": 38,
      "outputs": [
        {
          "output_type": "display_data",
          "data": {
            "image/png": "[encoded data removed]",
            "text/plain": [
              "<Figure size 1224x576 with 1 Axes>"
            ]
          },
          "metadata": {
            "tags": []
          }
        }
      ]
    }
  ]
}