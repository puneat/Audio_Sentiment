{
  "nbformat": 4,
  "nbformat_minor": 0,
  "metadata": {
    "colab": {
      "name": "Audio_sentiment.ipynb",
      "provenance": [],
      "authorship_tag": "ABX9TyOB6cINNwYtjEla7B3Kc2ut",
      "include_colab_link": true
    },
    "kernelspec": {
      "name": "python3",
      "display_name": "Python 3"
    },
    "accelerator": "GPU"
  },
  "cells": [
    {
      "cell_type": "markdown",
      "metadata": {
        "id": "view-in-github",
        "colab_type": "text"
      },
      "source": [
        "<a href=\"https://colab.research.google.com/github/puneat/Audio_Sentiment/blob/puneet/Audio_sentiment.ipynb\" target=\"_parent\"><img src=\"https://colab.research.google.com/assets/colab-badge.svg\" alt=\"Open In Colab\"/></a>"
      ]
    },
    {
      "cell_type": "code",
      "metadata": {
        "id": "mgVOz45mihmC",
        "colab_type": "code",
        "colab": {
          "base_uri": "https://localhost:8080/",
          "height": 127
        },
        "outputId": "7952860d-aa4f-4699-a12f-00c922c7afa9"
      },
      "source": [
        "from google.colab import drive\n",
        "drive.mount('/gdrive', force_remount=True)"
      ],
      "execution_count": null,
      "outputs": [
        {
          "output_type": "stream",
          "text": [
            "Go to this URL in a browser: https://accounts.google.com/o/oauth2/auth?client_id=947318989803-6bn6qk8qdgf4n4g3pfee6491hc0brc4i.apps.googleusercontent.com&redirect_uri=urn%3aietf%3awg%3aoauth%3a2.0%3aoob&response_type=code&scope=email%20https%3a%2f%2fwww.googleapis.com%2fauth%2fdocs.test%20https%3a%2f%2fwww.googleapis.com%2fauth%2fdrive%20https%3a%2f%2fwww.googleapis.com%2fauth%2fdrive.photos.readonly%20https%3a%2f%2fwww.googleapis.com%2fauth%2fpeopleapi.readonly\n",
            "\n",
            "Enter your authorization code:\n",
            "··········\n",
            "Mounted at /gdrive\n"
          ],
          "name": "stdout"
        }
      ]
    },
    {
      "cell_type": "code",
      "metadata": {
        "id": "9OSgGsVHzUPV",
        "colab_type": "code",
        "colab": {}
      },
      "source": [
        "# Import libraries \n",
        "import librosa\n",
        "import librosa.display\n",
        "import numpy as np\n",
        "import matplotlib.pyplot as plt\n",
        "import tensorflow as tf\n",
        "from matplotlib.pyplot import specgram\n",
        "import pandas as pd\n",
        "import glob \n",
        "from sklearn.metrics import confusion_matrix\n",
        "import IPython.display as ipd  # To play sound in the notebook\n",
        "import os\n",
        "import sys\n",
        "import warnings\n",
        "import shutil\n",
        "# ignore warnings \n",
        "if not sys.warnoptions:\n",
        "    warnings.simplefilter(\"ignore\")\n",
        "warnings.filterwarnings(\"ignore\", category=DeprecationWarning) "
      ],
      "execution_count": null,
      "outputs": []
    },
    {
      "cell_type": "code",
      "metadata": {
        "id": "GqMM_SgLzvty",
        "colab_type": "code",
        "colab": {
          "base_uri": "https://localhost:8080/",
          "height": 35
        },
        "outputId": "26134516-536d-4c30-e0c5-d70c2c0d1925"
      },
      "source": [
        "#TESS = \"/gdrive/My Drive/Audio_files/Female_audio/\"\n",
        "#RAVDESS = \n",
        "SAVEE = \"/gdrive/My Drive/Audio_files/Male_audio/SAVEE/KL/\"\n",
        "#CREMA = \n",
        "# Run one example \n",
        "dir_list = os.listdir(SAVEE)\n",
        "dir_list[0:5]"
      ],
      "execution_count": null,
      "outputs": [
        {
          "output_type": "execute_result",
          "data": {
            "text/plain": [
              "['d03.wav', 'd09.wav', 'd10.wav', 'd01.wav', 'd02.wav']"
            ]
          },
          "metadata": {
            "tags": []
          },
          "execution_count": 47
        }
      ]
    },
    {
      "cell_type": "markdown",
      "metadata": {
        "id": "Cc8sPYAFzSR2",
        "colab_type": "text"
      },
      "source": [
        "## **SAVEE**"
      ]
    },
    {
      "cell_type": "markdown",
      "metadata": {
        "id": "itYlk4j1zWhR",
        "colab_type": "text"
      },
      "source": [
        "The audio files are named in such a way that the prefix letters describes the emotion classes as follows:\n",
        "\n",
        "* 'a' = 'anger'\n",
        "* 'd' = 'disgust'\n",
        "* 'f' = 'fear'\n",
        "* 'h' = 'happiness'\n",
        "* 'n' = 'neutral'\n",
        "* 'sa' = 'sadness'\n",
        "* 'su' = 'surprise'"
      ]
    },
    {
      "cell_type": "code",
      "metadata": {
        "id": "kHHSYNvXzcPn",
        "colab_type": "code",
        "colab": {
          "base_uri": "https://localhost:8080/",
          "height": 161
        },
        "outputId": "acf49a18-043f-4d9e-baec-6b61c415c28a"
      },
      "source": [
        "# Get the data location for SAVEE\n",
        "dir_list = os.listdir(SAVEE)\n",
        "\n",
        "# parse the filename to get the emotions\n",
        "emotion=[]\n",
        "path = []\n",
        "count_a=46;\n",
        "count_d=46;\n",
        "count_f=46;\n",
        "count_h=46;\n",
        "count_n=46;\n",
        "count_sa=46;\n",
        "count_su=46;\n",
        "for i in dir_list:\n",
        "    if i[-8:-6]=='a':\n",
        "        emotion.append('male_angry');\n",
        "        if (count_a<=9):\n",
        "          shutil.copy((\"/gdrive/My Drive/Audio_files/Male_audio/SAVEE/DC/\"+i),(\"/gdrive/My Drive/Audio_files/male_final/SAVEE/a0\"+str(count_a)+\".wav\"));\n",
        "        if (count_a>=10):\n",
        "          shutil.copy((\"/gdrive/My Drive/Audio_files/Male_audio/SAVEE/DC/\"+i),(\"/gdrive/My Drive/Audio_files/male_final/SAVEE/a\"+str(count_a)+\".wav\"));\n",
        "        count_a=count_a+1;\n",
        "    elif i[-8:-6]=='d':\n",
        "        emotion.append('male_disgust')\n",
        "        if (count_d<=9):\n",
        "          shutil.copy((\"/gdrive/My Drive/Audio_files/Male_audio/SAVEE/DC/\"+i),(\"/gdrive/My Drive/Audio_files/male_final/SAVEE/d0\"+str(count_d)+\".wav\"));\n",
        "        if (count_d>=10):\n",
        "          shutil.copy((\"/gdrive/My Drive/Audio_files/Male_audio/SAVEE/DC/\"+i),(\"/gdrive/My Drive/Audio_files/male_final/SAVEE/d\"+str(count_d)+\".wav\"));\n",
        "        count_d=count_d+1;\n",
        "    elif i[-8:-6]=='f':\n",
        "        emotion.append('male_fear')\n",
        "        if (count_f<=9):\n",
        "          shutil.copy((\"/gdrive/My Drive/Audio_files/Male_audio/SAVEE/DC/\"+i),(\"/gdrive/My Drive/Audio_files/male_final/SAVEE/f0\"+str(count_f)+\".wav\"));\n",
        "        if (count_f>=10):\n",
        "          shutil.copy((\"/gdrive/My Drive/Audio_files/Male_audio/SAVEE/DC/\"+i),(\"/gdrive/My Drive/Audio_files/male_final/SAVEE/f\"+str(count_f)+\".wav\"));\n",
        "        count_f=count_f+1;\n",
        "    elif i[-8:-6]=='h':\n",
        "        emotion.append('male_happy')\n",
        "        if (count_h<=9):\n",
        "          shutil.copy((\"/gdrive/My Drive/Audio_files/Male_audio/SAVEE/DC/\"+i),(\"/gdrive/My Drive/Audio_files/male_final/SAVEE/h0\"+str(count_h)+\".wav\"));\n",
        "        if (count_h>=10):\n",
        "          shutil.copy((\"/gdrive/My Drive/Audio_files/Male_audio/SAVEE/DC/\"+i),(\"/gdrive/My Drive/Audio_files/male_final/SAVEE/h\"+str(count_h)+\".wav\"));\n",
        "        count_h=count_h+1;\n",
        "    elif i[-8:-6]=='n':\n",
        "        emotion.append('male_neutral')\n",
        "        if (count_n<=9):\n",
        "          shutil.copy((\"/gdrive/My Drive/Audio_files/Male_audio/SAVEE/DC/\"+i),(\"/gdrive/My Drive/Audio_files/male_final/SAVEE/n0\"+str(count_n)+\".wav\"));\n",
        "        if (count_n>=10):\n",
        "          shutil.copy((\"/gdrive/My Drive/Audio_files/Male_audio/SAVEE/DC/\"+i),(\"/gdrive/My Drive/Audio_files/male_final/SAVEE/n\"+str(count_n)+\".wav\"));\n",
        "        count_n=count_n+1;\n",
        "    elif i[-8:-6]=='sa':\n",
        "        emotion.append('male_sad')\n",
        "        if (count_d<=9):\n",
        "          shutil.copy((\"/gdrive/My Drive/Audio_files/Male_audio/SAVEE/DC/\"+i),(\"/gdrive/My Drive/Audio_files/male_final/SAVEE/sa0\"+str(count_sa)+\".wav\"));\n",
        "        if (count_sa>=10):\n",
        "          shutil.copy((\"/gdrive/My Drive/Audio_files/Male_audio/SAVEE/DC/\"+i),(\"/gdrive/My Drive/Audio_files/male_final/SAVEE/sa\"+str(count_sa)+\".wav\"));\n",
        "        count_sa=count_sa+1;\n",
        "    elif i[-8:-6]=='su':\n",
        "        emotion.append('male_surprise')\n",
        "        if (count_su<=9):\n",
        "          shutil.copy((\"/gdrive/My Drive/Audio_files/Male_audio/SAVEE/DC/\"+i),(\"/gdrive/My Drive/Audio_files/male_final/SAVEE/su0\"+str(count_su)+\".wav\"));\n",
        "        if (count_su>=10):\n",
        "          shutil.copy((\"/gdrive/My Drive/Audio_files/Male_audio/SAVEE/DC/\"+i),(\"/gdrive/My Drive/Audio_files/male_final/SAVEE/su\"+str(count_su)+\".wav\"));\n",
        "        count_su=count_su+1;\n",
        "    else:\n",
        "        emotion.append('male_error') \n",
        "    path.append(SAVEE + i)\n",
        "    \n",
        "# Now check out the label count distribution \n",
        "SAVEE_df = pd.DataFrame(emotion, columns = ['labels'])\n",
        "SAVEE_df['source'] = 'SAVEE'\n",
        "SAVEE_df = pd.concat([SAVEE_df, pd.DataFrame(path, columns = ['path'])], axis = 1)\n",
        "SAVEE_df.labels.value_counts()"
      ],
      "execution_count": null,
      "outputs": [
        {
          "output_type": "execute_result",
          "data": {
            "text/plain": [
              "male_neutral     30\n",
              "male_disgust     15\n",
              "male_happy       15\n",
              "male_fear        15\n",
              "male_surprise    15\n",
              "male_angry       15\n",
              "male_sad         15\n",
              "Name: labels, dtype: int64"
            ]
          },
          "metadata": {
            "tags": []
          },
          "execution_count": 48
        }
      ]
    },
    {
      "cell_type": "markdown",
      "metadata": {
        "id": "nrlDSdIw9xcT",
        "colab_type": "text"
      },
      "source": [
        "## **CREMA D**"
      ]
    },
    {
      "cell_type": "markdown",
      "metadata": {
        "id": "f4uiLsJEuZG3",
        "colab_type": "text"
      },
      "source": [
        "The Actor id is a 4 digit number at the start of the file. Each subsequent identifier is separated by an underscore (_).\n",
        "\n",
        "Actors spoke from a selection of 12 sentences (in parentheses is the three letter acronym used in the second part of the filename):\n",
        "\n",
        "* It's eleven o'clock (IEO).\n",
        "* That is exactly what happened (TIE).\n",
        "* I'm on my way to the meeting (IOM).\n",
        "* I wonder what this is about (IWW).\n",
        "* The airplane is almost full (TAI).\n",
        "* Maybe tomorrow it will be cold (MTI).\n",
        "* I would like a new alarm clock (IWL)\n",
        "* I think I have a doctor's appointment (ITH).\n",
        "* Don't forget a jacket (DFA).\n",
        "* I think I've seen this before (ITS).\n",
        "* The surface is slick (TSI).\n",
        "* We'll stop in a couple of minutes (WSI)."
      ]
    },
    {
      "cell_type": "markdown",
      "metadata": {
        "id": "LS1D0BZhul37",
        "colab_type": "text"
      },
      "source": [
        "The sentences were presented using different emotion (in parentheses is the three letter code used in the third part of the filename):\n",
        "\n",
        "* Anger (ANG)\n",
        "* Disgust (DIS)\n",
        "* Fear (FEA)\n",
        "* Happy/Joy (HAP)\n",
        "* Neutral (NEU)\n",
        "* Sad (SAD)\n",
        "\n",
        "and emotion level (in parentheses is the two letter code used in the fourth part of the filename):\n",
        "\n",
        "* Low (LO)\n",
        "* Medium (MD)\n",
        "* High (HI)\n",
        "* Unspecified (XX)"
      ]
    },
    {
      "cell_type": "markdown",
      "metadata": {
        "id": "tpxf5M3auzvc",
        "colab_type": "text"
      },
      "source": [
        "FEMALES =[1002,1003,1004,1006,1007,1008,1009,1010,1012,1013,1018,1020,1021,1024,1025,1028,1029,1030,1037,1043,1046,1047,1049,1052,1053,\n",
        "1054,1055,1056,1058,1060,1061,1063,1072,1073,1074,1075,1076,1078,1079,1082,1084,1089,1091]\n"
      ]
    },
    {
      "cell_type": "code",
      "metadata": {
        "id": "xb52N8PntEJy",
        "colab_type": "code",
        "colab": {}
      },
      "source": [
        ""
      ],
      "execution_count": null,
      "outputs": []
    }
  ]
}