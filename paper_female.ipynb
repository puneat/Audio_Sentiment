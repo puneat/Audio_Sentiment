{
  "nbformat": 4,
  "nbformat_minor": 0,
  "metadata": {
    "colab": {
      "name": "paper_female.ipynb",
      "provenance": [],
      "authorship_tag": "ABX9TyMYY5/qpzQrR8E7naIxbcd4",
      "include_colab_link": true
    },
    "kernelspec": {
      "name": "python3",
      "display_name": "Python 3"
    },
    "accelerator": "GPU"
  },
  "cells": [
    {
      "cell_type": "markdown",
      "metadata": {
        "id": "view-in-github",
        "colab_type": "text"
      },
      "source": [
        "<a href=\"https://colab.research.google.com/github/puneat/Audio_Sentiment/blob/master/paper_female.ipynb\" target=\"_parent\"><img src=\"https://colab.research.google.com/assets/colab-badge.svg\" alt=\"Open In Colab\"/></a>"
      ]
    },
    {
      "cell_type": "code",
      "metadata": {
        "id": "WRi7JoGc3T3J",
        "colab_type": "code",
        "colab": {
          "base_uri": "https://localhost:8080/",
          "height": 127
        },
        "outputId": "e0aa9b6b-03c3-4846-c70a-2b1d1f096e45"
      },
      "source": [
        "from google.colab import drive\n",
        "drive.mount('/gdrive', force_remount=True)"
      ],
      "execution_count": 1,
      "outputs": [
        {
          "output_type": "stream",
          "text": [
            "Go to this URL in a browser: https://accounts.google.com/o/oauth2/auth?client_id=947318989803-6bn6qk8qdgf4n4g3pfee6491hc0brc4i.apps.googleusercontent.com&redirect_uri=urn%3aietf%3awg%3aoauth%3a2.0%3aoob&response_type=code&scope=email%20https%3a%2f%2fwww.googleapis.com%2fauth%2fdocs.test%20https%3a%2f%2fwww.googleapis.com%2fauth%2fdrive%20https%3a%2f%2fwww.googleapis.com%2fauth%2fdrive.photos.readonly%20https%3a%2f%2fwww.googleapis.com%2fauth%2fpeopleapi.readonly\n",
            "\n",
            "Enter your authorization code:\n",
            "··········\n",
            "Mounted at /gdrive\n"
          ],
          "name": "stdout"
        }
      ]
    },
    {
      "cell_type": "code",
      "metadata": {
        "_cell_guid": "79c7e3d0-c299-4dcb-8224-4455121ee9b0",
        "_uuid": "d629ff2d2480ee46fbb7e2d37f6b5fab8052498a",
        "id": "s_IdA4makRmI",
        "colab_type": "code",
        "colab": {}
      },
      "source": [
        "# Keras\n",
        "import keras\n",
        "from keras import regularizers\n",
        "from keras.preprocessing import sequence\n",
        "from keras.preprocessing.text import Tokenizer\n",
        "from keras.preprocessing.sequence import pad_sequences\n",
        "from keras.models import Sequential, Model, model_from_json\n",
        "from keras.layers import Dense, Embedding, LSTM, Reshape\n",
        "from keras.layers import Input, Flatten, Dropout, Activation, BatchNormalization\n",
        "from keras.layers import Conv1D, MaxPooling1D, AveragePooling1D\n",
        "from keras.utils import np_utils, to_categorical\n",
        "from keras.callbacks import (EarlyStopping, LearningRateScheduler,\n",
        "                             ModelCheckpoint, TensorBoard, ReduceLROnPlateau)\n",
        "from keras import losses, models, optimizers\n",
        "from keras.activations import relu, softmax\n",
        "from keras.layers import (Convolution2D, AveragePooling2D, BatchNormalization, Flatten, Dropout,\n",
        "                          GlobalMaxPool2D, MaxPool2D, concatenate, Activation, Input, Dense)\n",
        "\n",
        "# sklearn\n",
        "from sklearn.metrics import confusion_matrix, accuracy_score\n",
        "from sklearn.model_selection import train_test_split\n",
        "from sklearn.preprocessing import LabelEncoder\n",
        "\n",
        "# Other  \n",
        "from tqdm import tqdm, tqdm_pandas\n",
        "import scipy\n",
        "from scipy.stats import skew\n",
        "import librosa\n",
        "import librosa.display\n",
        "import json\n",
        "import numpy as np\n",
        "import matplotlib.pyplot as plt\n",
        "import tensorflow as tf\n",
        "from matplotlib.pyplot import specgram\n",
        "import pandas as pd\n",
        "import seaborn as sns\n",
        "import glob \n",
        "import os\n",
        "import sys\n",
        "import IPython.display as ipd  # To play sound in the notebook\n",
        "import warnings\n",
        "# ignore warnings \n",
        "if not sys.warnoptions:\n",
        "    warnings.simplefilter(\"ignore\")"
      ],
      "execution_count": 6,
      "outputs": []
    },
    {
      "cell_type": "code",
      "metadata": {
        "id": "hlzWGoYm57me",
        "colab_type": "code",
        "colab": {
          "base_uri": "https://localhost:8080/",
          "height": 204
        },
        "outputId": "c59eaca0-19ff-4998-9c60-f24af2305324"
      },
      "source": [
        "ref = pd.read_csv(\"/gdrive/My Drive/Audio_files/Combined_Dataframes/female_df.csv\")\n",
        "ref.head()"
      ],
      "execution_count": 3,
      "outputs": [
        {
          "output_type": "execute_result",
          "data": {
            "text/html": [
              "<div>\n",
              "<style scoped>\n",
              "    .dataframe tbody tr th:only-of-type {\n",
              "        vertical-align: middle;\n",
              "    }\n",
              "\n",
              "    .dataframe tbody tr th {\n",
              "        vertical-align: top;\n",
              "    }\n",
              "\n",
              "    .dataframe thead th {\n",
              "        text-align: right;\n",
              "    }\n",
              "</style>\n",
              "<table border=\"1\" class=\"dataframe\">\n",
              "  <thead>\n",
              "    <tr style=\"text-align: right;\">\n",
              "      <th></th>\n",
              "      <th>labels</th>\n",
              "      <th>source</th>\n",
              "      <th>path</th>\n",
              "    </tr>\n",
              "  </thead>\n",
              "  <tbody>\n",
              "    <tr>\n",
              "      <th>0</th>\n",
              "      <td>female_fear</td>\n",
              "      <td>TESS</td>\n",
              "      <td>/gdrive/My Drive/Audio_files/female_final/TESS...</td>\n",
              "    </tr>\n",
              "    <tr>\n",
              "      <th>1</th>\n",
              "      <td>female_fear</td>\n",
              "      <td>TESS</td>\n",
              "      <td>/gdrive/My Drive/Audio_files/female_final/TESS...</td>\n",
              "    </tr>\n",
              "    <tr>\n",
              "      <th>2</th>\n",
              "      <td>female_fear</td>\n",
              "      <td>TESS</td>\n",
              "      <td>/gdrive/My Drive/Audio_files/female_final/TESS...</td>\n",
              "    </tr>\n",
              "    <tr>\n",
              "      <th>3</th>\n",
              "      <td>female_fear</td>\n",
              "      <td>TESS</td>\n",
              "      <td>/gdrive/My Drive/Audio_files/female_final/TESS...</td>\n",
              "    </tr>\n",
              "    <tr>\n",
              "      <th>4</th>\n",
              "      <td>female_fear</td>\n",
              "      <td>TESS</td>\n",
              "      <td>/gdrive/My Drive/Audio_files/female_final/TESS...</td>\n",
              "    </tr>\n",
              "  </tbody>\n",
              "</table>\n",
              "</div>"
            ],
            "text/plain": [
              "        labels source                                               path\n",
              "0  female_fear   TESS  /gdrive/My Drive/Audio_files/female_final/TESS...\n",
              "1  female_fear   TESS  /gdrive/My Drive/Audio_files/female_final/TESS...\n",
              "2  female_fear   TESS  /gdrive/My Drive/Audio_files/female_final/TESS...\n",
              "3  female_fear   TESS  /gdrive/My Drive/Audio_files/female_final/TESS...\n",
              "4  female_fear   TESS  /gdrive/My Drive/Audio_files/female_final/TESS..."
            ]
          },
          "metadata": {
            "tags": []
          },
          "execution_count": 3
        }
      ]
    },
    {
      "cell_type": "code",
      "metadata": {
        "id": "lovlFsbfdh-4",
        "colab_type": "code",
        "colab": {}
      },
      "source": [
        "frames=[ref,ref,ref,ref,ref,ref];\n",
        "df_label=pd.concat(frames);"
      ],
      "execution_count": 4,
      "outputs": []
    },
    {
      "cell_type": "code",
      "metadata": {
        "id": "BZOiLBmSbEZi",
        "colab_type": "code",
        "colab": {}
      },
      "source": [
        "nclass = 7\n",
        "inp = Input(shape=(50,259,1))  #2D matrix of 30 MFCC bands by 216 audio length.\n",
        "\n",
        "X=Reshape((50,259),name='reshape_input')(inp)\n",
        "X = LSTM(units=125,dropout=0.2,return_sequences=True,activation='relu',stateful=False,input_shape=(50,259))(X)\n",
        "X=Reshape((50,125,1),name='reshape')(X)  #2D matrix of 30 MFCC bands by 216 audio length.\n",
        "\n",
        "x = Convolution2D(64, (4,5), padding=\"same\")(inp)\n",
        "x = BatchNormalization()(x)\n",
        "x = Activation(\"relu\")(x)\n",
        "x = MaxPool2D()(x)\n",
        "# x = Dropout(rate=0.2)(x)\n",
        "    \n",
        "x = Convolution2D(64, (4,5), padding=\"same\")(x)\n",
        "x = BatchNormalization()(x)\n",
        "x = Activation(\"relu\")(x)\n",
        "x = MaxPool2D()(x)\n",
        "# x = Dropout(rate=0.2)(x)\n",
        "    \n",
        "x = Convolution2D(64, (4,5), padding=\"same\")(x)\n",
        "x = BatchNormalization()(x)\n",
        "x = Activation(\"relu\")(x)\n",
        "x = MaxPool2D()(x)\n",
        "# x = Dropout(rate=0.2)(x)\n",
        "    \n",
        "x = Convolution2D(64, (4,5), padding=\"same\")(x)\n",
        "x = BatchNormalization()(x)\n",
        "x = Activation(\"relu\")(x)\n",
        "x = MaxPool2D()(x)\n",
        "# x = Dropout(rate=0.2)(x)\n",
        "x=AveragePooling2D()(x)    \n",
        "x = Flatten()(x)\n",
        "# x = Dense(64)(x)\n",
        "# # x = Dropout(rate=0.2)(x)\n",
        "# # x = BatchNormalization()(x)\n",
        "# x = Activation(\"relu\")(x)\n",
        "# x = Dropout(rate=0.2)(x)\n",
        "\n",
        "# x = Dense(64)(x)\n",
        "# # x = Dropout(rate=0.2)(x)\n",
        "# # x = BatchNormalization()(x)\n",
        "# x = Activation(\"relu\")(x)\n",
        "# x = Dropout(rate=0.2)(x)\n",
        "    \n",
        "out = Dense(nclass, activation='softmax')(x)\n",
        "model = models.Model(inputs=inp, outputs=out)\n",
        "    \n",
        "opt = optimizers.Adam(0.001,amsgrad=True)\n",
        "model.compile(optimizer=opt, loss=losses.categorical_crossentropy, metrics=['accuracy'])"
      ],
      "execution_count": 14,
      "outputs": []
    },
    {
      "cell_type": "code",
      "metadata": {
        "id": "vI8KTyzYkRmY",
        "colab_type": "code",
        "colab": {}
      },
      "source": [
        "# Split between train and test \n",
        "X_train, X_test, y_train, y_test = train_test_split(np.load('/gdrive/My Drive/Audio_files/Combined_Dataframes/female_2d_mfcc_50_aug.npy')\n",
        ", df_label.labels, test_size=0.20, shuffle=True, random_state=42, stratify=df_label.labels)\n",
        "\n",
        "# one hot encode the target \n",
        "lb = LabelEncoder()\n",
        "y_train = np_utils.to_categorical(lb.fit_transform(y_train))\n",
        "y_test = np_utils.to_categorical(lb.fit_transform(y_test))\n",
        "\n",
        "# Normalization as per the standard NN process\n",
        "mean = np.mean(X_train, axis=0)\n",
        "std = np.std(X_train, axis=0)\n",
        "\n",
        "X_train = (X_train - mean)/std\n",
        "X_test = (X_test - mean)/std\n"
      ],
      "execution_count": 8,
      "outputs": []
    },
    {
      "cell_type": "code",
      "metadata": {
        "id": "Pn6am-nUqXMo",
        "colab_type": "code",
        "colab": {}
      },
      "source": [
        "del df_label, frames, ref"
      ],
      "execution_count": 9,
      "outputs": []
    },
    {
      "cell_type": "code",
      "metadata": {
        "id": "1049g1P5YTMR",
        "colab_type": "code",
        "colab": {}
      },
      "source": [
        "import numpy as np\n",
        "from keras import layers\n",
        "from keras.layers import Input, Add, Dense, Activation, ZeroPadding2D, BatchNormalization, Flatten, Conv2D, AveragePooling2D, MaxPooling2D, GlobalMaxPooling2D\n",
        "from keras.models import Model, load_model\n",
        "from keras.preprocessing import image\n",
        "from keras.utils import layer_utils\n",
        "from keras.utils.data_utils import get_file\n",
        "from keras.applications.imagenet_utils import preprocess_input\n",
        "import pydot\n",
        "from IPython.display import SVG\n",
        "from keras.utils.vis_utils import model_to_dot\n",
        "from keras.utils import plot_model\n",
        "#from resnets_utils import *\n",
        "from keras.initializers import glorot_uniform\n",
        "import scipy.misc\n",
        "from matplotlib.pyplot import imshow\n",
        "%matplotlib inline\n",
        "\n",
        "import keras.backend as K\n",
        "# K.set_image_data_format('channels_last')\n",
        "# K.set_learning_phase(1)\n",
        "import pandas as pd\n",
        "import numpy as np \n",
        "import matplotlib.pyplot as plt\n",
        "import os\n",
        "from urllib.request import urlopen,urlretrieve\n",
        "from PIL import Image\n",
        "from tqdm import tqdm_notebook\n",
        "%matplotlib inline\n",
        "from sklearn.utils import shuffle\n",
        "import cv2\n",
        "#from resnets_utils import *\n",
        "import tensorflow as tf\n",
        "from keras.models import load_model\n",
        "from sklearn.datasets import load_files   \n",
        "from keras.utils import np_utils\n",
        "from glob import glob\n",
        "from keras import applications\n",
        "from keras.preprocessing.image import ImageDataGenerator \n",
        "from keras import optimizers\n",
        "from keras.models import Sequential,Model,load_model\n",
        "from keras.layers import Dense, Dropout, Flatten, Conv2D, MaxPool2D,GlobalAveragePooling2D,GlobalMaxPooling1D\n",
        "from keras.layers import Dense, Dropout, Flatten, Conv1D, MaxPool1D,AveragePooling1D,UpSampling1D, Bidirectional\n",
        "from keras.callbacks import TensorBoard,ReduceLROnPlateau,ModelCheckpoint\n",
        "import numpy as np \n",
        "import pandas as pd\n",
        "import csv\n",
        "from pandas import DataFrame\n",
        "import matplotlib.pyplot as plt\n",
        "%matplotlib inline \n",
        "import matplotlib\n",
        "import seaborn as sns\n",
        "import warnings\n",
        "warnings.filterwarnings('ignore')\n",
        "from keras.models import Sequential\n",
        "from keras import optimizers\n",
        "from keras.layers import LeakyReLU\n",
        "from tensorflow.keras import regularizers\n",
        "import numpy as np\n",
        "from keras import layers\n",
        "from keras.layers import Input, Add, Dense, Activation, Conv1D, AveragePooling1D, MaxPooling1D,Reshape,GlobalAveragePooling1D,Dropout\n",
        "from keras.models import Model, load_model\n",
        "from keras.utils import plot_model\n",
        "import keras.backend as K\n",
        "import tensorflow as tf\n",
        "from sklearn.model_selection import train_test_split\n",
        "import seaborn as sns\n",
        "from sklearn.preprocessing import LabelEncoder\n",
        "from keras.utils import np_utils\n",
        "from sklearn.metrics import classification_report\n",
        "import pickle"
      ],
      "execution_count": 10,
      "outputs": []
    },
    {
      "cell_type": "code",
      "metadata": {
        "id": "qRpM9aXuEVzq",
        "colab_type": "code",
        "colab": {}
      },
      "source": [
        "import keras.backend.tensorflow_backend as tfback\n",
        "\n",
        "def _get_available_gpus():  \n",
        "\n",
        "    if tfback._LOCAL_DEVICES is None:  \n",
        "        devices = tf.config.list_logical_devices()  \n",
        "        tfback._LOCAL_DEVICES = [x.name for x in devices]  \n",
        "    return [x for x in tfback._LOCAL_DEVICES if 'device:gpu' in x.lower()]\n",
        "\n",
        "\n",
        "tfback._get_available_gpus = _get_available_gpus"
      ],
      "execution_count": 11,
      "outputs": []
    },
    {
      "cell_type": "code",
      "metadata": {
        "id": "eYclVqGBEZMm",
        "colab_type": "code",
        "colab": {}
      },
      "source": [
        "model_json = model.to_json()\n",
        "with open(\"/gdrive/My Drive/Audio_files/saved_models/json/g_female_2d_gap_cnn_2.json\", \"w\") as json_file:\n",
        "    json_file.write(model_json)\n",
        "# serialize weights t o HDF5\n",
        "# model.save_weights(\"/gdrive/My Drive/Audio_files/female_cnn_3x3_mfcc50_9552.h5\")\n",
        "# print(\"Saved model to disk\")"
      ],
      "execution_count": 15,
      "outputs": []
    },
    {
      "cell_type": "code",
      "metadata": {
        "id": "QKqrcISbXga2",
        "colab_type": "code",
        "colab": {
          "base_uri": "https://localhost:8080/",
          "height": 1000
        },
        "outputId": "8fa9a6c0-51ab-48a6-bd25-5a7d1682d0a7"
      },
      "source": [
        "model_checkpoint = ModelCheckpoint('/gdrive/My Drive/Audio_files/saved_models/hdf5/g_female_2d_gap_cnn_2.hdf5',save_best_only=True,mode='max' ,monitor='val_accuracy',verbose=1)\n",
        "history=model.fit(X_train,y_train,epochs=50,batch_size=100,verbose=1,validation_data=(X_test,y_test),shuffle=True,callbacks=[model_checkpoint])"
      ],
      "execution_count": 16,
      "outputs": [
        {
          "output_type": "stream",
          "text": [
            "Train on 33739 samples, validate on 8435 samples\n",
            "Epoch 1/50\n",
            "33739/33739 [==============================] - 135s 4ms/step - loss: 1.0006 - accuracy: 0.6196 - val_loss: 0.8021 - val_accuracy: 0.6941\n",
            "\n",
            "Epoch 00001: val_accuracy improved from -inf to 0.69413, saving model to /gdrive/My Drive/Audio_files/saved_models/hdf5/g_female_2d_gap_cnn_2.hdf5\n",
            "Epoch 2/50\n",
            "33739/33739 [==============================] - 131s 4ms/step - loss: 0.6198 - accuracy: 0.7734 - val_loss: 0.6957 - val_accuracy: 0.7362\n",
            "\n",
            "Epoch 00002: val_accuracy improved from 0.69413 to 0.73622, saving model to /gdrive/My Drive/Audio_files/saved_models/hdf5/g_female_2d_gap_cnn_2.hdf5\n",
            "Epoch 3/50\n",
            "33739/33739 [==============================] - 131s 4ms/step - loss: 0.4631 - accuracy: 0.8355 - val_loss: 0.6445 - val_accuracy: 0.7640\n",
            "\n",
            "Epoch 00003: val_accuracy improved from 0.73622 to 0.76396, saving model to /gdrive/My Drive/Audio_files/saved_models/hdf5/g_female_2d_gap_cnn_2.hdf5\n",
            "Epoch 4/50\n",
            "33739/33739 [==============================] - 131s 4ms/step - loss: 0.3382 - accuracy: 0.8849 - val_loss: 0.4402 - val_accuracy: 0.8368\n",
            "\n",
            "Epoch 00004: val_accuracy improved from 0.76396 to 0.83675, saving model to /gdrive/My Drive/Audio_files/saved_models/hdf5/g_female_2d_gap_cnn_2.hdf5\n",
            "Epoch 5/50\n",
            "33739/33739 [==============================] - 131s 4ms/step - loss: 0.2228 - accuracy: 0.9306 - val_loss: 0.4754 - val_accuracy: 0.8338\n",
            "\n",
            "Epoch 00005: val_accuracy did not improve from 0.83675\n",
            "Epoch 6/50\n",
            "33739/33739 [==============================] - 131s 4ms/step - loss: 0.1449 - accuracy: 0.9599 - val_loss: 0.8180 - val_accuracy: 0.7503\n",
            "\n",
            "Epoch 00006: val_accuracy did not improve from 0.83675\n",
            "Epoch 7/50\n",
            "33739/33739 [==============================] - 131s 4ms/step - loss: 0.1009 - accuracy: 0.9742 - val_loss: 0.3090 - val_accuracy: 0.8881\n",
            "\n",
            "Epoch 00007: val_accuracy improved from 0.83675 to 0.88809, saving model to /gdrive/My Drive/Audio_files/saved_models/hdf5/g_female_2d_gap_cnn_2.hdf5\n",
            "Epoch 8/50\n",
            "33739/33739 [==============================] - 131s 4ms/step - loss: 0.0597 - accuracy: 0.9876 - val_loss: 0.4188 - val_accuracy: 0.8574\n",
            "\n",
            "Epoch 00008: val_accuracy did not improve from 0.88809\n",
            "Epoch 9/50\n",
            "33739/33739 [==============================] - 131s 4ms/step - loss: 0.0298 - accuracy: 0.9965 - val_loss: 0.4244 - val_accuracy: 0.8673\n",
            "\n",
            "Epoch 00009: val_accuracy did not improve from 0.88809\n",
            "Epoch 10/50\n",
            "33739/33739 [==============================] - 131s 4ms/step - loss: 0.0138 - accuracy: 0.9994 - val_loss: 0.2554 - val_accuracy: 0.9210\n",
            "\n",
            "Epoch 00010: val_accuracy improved from 0.88809 to 0.92104, saving model to /gdrive/My Drive/Audio_files/saved_models/hdf5/g_female_2d_gap_cnn_2.hdf5\n",
            "Epoch 11/50\n",
            "33739/33739 [==============================] - 131s 4ms/step - loss: 0.0074 - accuracy: 0.9999 - val_loss: 0.1393 - val_accuracy: 0.9585\n",
            "\n",
            "Epoch 00011: val_accuracy improved from 0.92104 to 0.95851, saving model to /gdrive/My Drive/Audio_files/saved_models/hdf5/g_female_2d_gap_cnn_2.hdf5\n",
            "Epoch 12/50\n",
            "33739/33739 [==============================] - 131s 4ms/step - loss: 0.0044 - accuracy: 1.0000 - val_loss: 0.1489 - val_accuracy: 0.9577\n",
            "\n",
            "Epoch 00012: val_accuracy did not improve from 0.95851\n",
            "Epoch 13/50\n",
            "33739/33739 [==============================] - 131s 4ms/step - loss: 0.0033 - accuracy: 1.0000 - val_loss: 0.1313 - val_accuracy: 0.9606\n",
            "\n",
            "Epoch 00013: val_accuracy improved from 0.95851 to 0.96064, saving model to /gdrive/My Drive/Audio_files/saved_models/hdf5/g_female_2d_gap_cnn_2.hdf5\n",
            "Epoch 14/50\n",
            "33739/33739 [==============================] - 131s 4ms/step - loss: 0.0026 - accuracy: 1.0000 - val_loss: 0.1341 - val_accuracy: 0.9623\n",
            "\n",
            "Epoch 00014: val_accuracy improved from 0.96064 to 0.96230, saving model to /gdrive/My Drive/Audio_files/saved_models/hdf5/g_female_2d_gap_cnn_2.hdf5\n",
            "Epoch 15/50\n",
            "33739/33739 [==============================] - 131s 4ms/step - loss: 0.0022 - accuracy: 1.0000 - val_loss: 0.1313 - val_accuracy: 0.9621\n",
            "\n",
            "Epoch 00015: val_accuracy did not improve from 0.96230\n",
            "Epoch 16/50\n",
            "33739/33739 [==============================] - 131s 4ms/step - loss: 0.0019 - accuracy: 1.0000 - val_loss: 0.1319 - val_accuracy: 0.9624\n",
            "\n",
            "Epoch 00016: val_accuracy improved from 0.96230 to 0.96242, saving model to /gdrive/My Drive/Audio_files/saved_models/hdf5/g_female_2d_gap_cnn_2.hdf5\n",
            "Epoch 17/50\n",
            "33739/33739 [==============================] - 131s 4ms/step - loss: 0.0016 - accuracy: 1.0000 - val_loss: 0.1323 - val_accuracy: 0.9616\n",
            "\n",
            "Epoch 00017: val_accuracy did not improve from 0.96242\n",
            "Epoch 18/50\n",
            "33739/33739 [==============================] - 131s 4ms/step - loss: 0.0015 - accuracy: 1.0000 - val_loss: 0.1331 - val_accuracy: 0.9623\n",
            "\n",
            "Epoch 00018: val_accuracy did not improve from 0.96242\n",
            "Epoch 19/50\n",
            "33739/33739 [==============================] - 131s 4ms/step - loss: 0.0013 - accuracy: 1.0000 - val_loss: 0.1398 - val_accuracy: 0.9610\n",
            "\n",
            "Epoch 00019: val_accuracy did not improve from 0.96242\n",
            "Epoch 20/50\n",
            "33739/33739 [==============================] - 132s 4ms/step - loss: 0.0012 - accuracy: 1.0000 - val_loss: 0.1347 - val_accuracy: 0.9622\n",
            "\n",
            "Epoch 00020: val_accuracy did not improve from 0.96242\n",
            "Epoch 21/50\n",
            "33739/33739 [==============================] - 132s 4ms/step - loss: 0.0011 - accuracy: 1.0000 - val_loss: 0.1340 - val_accuracy: 0.9621\n",
            "\n",
            "Epoch 00021: val_accuracy did not improve from 0.96242\n",
            "Epoch 22/50\n",
            "33739/33739 [==============================] - 131s 4ms/step - loss: 0.0011 - accuracy: 1.0000 - val_loss: 0.1346 - val_accuracy: 0.9627\n",
            "\n",
            "Epoch 00022: val_accuracy improved from 0.96242 to 0.96266, saving model to /gdrive/My Drive/Audio_files/saved_models/hdf5/g_female_2d_gap_cnn_2.hdf5\n",
            "Epoch 23/50\n",
            "33739/33739 [==============================] - 132s 4ms/step - loss: 9.6406e-04 - accuracy: 1.0000 - val_loss: 0.1346 - val_accuracy: 0.9627\n",
            "\n",
            "Epoch 00023: val_accuracy did not improve from 0.96266\n",
            "Epoch 24/50\n",
            "33739/33739 [==============================] - 132s 4ms/step - loss: 8.9872e-04 - accuracy: 1.0000 - val_loss: 0.1339 - val_accuracy: 0.9621\n",
            "\n",
            "Epoch 00024: val_accuracy did not improve from 0.96266\n",
            "Epoch 25/50\n",
            "33739/33739 [==============================] - 132s 4ms/step - loss: 8.5222e-04 - accuracy: 1.0000 - val_loss: 0.1398 - val_accuracy: 0.9610\n",
            "\n",
            "Epoch 00025: val_accuracy did not improve from 0.96266\n",
            "Epoch 26/50\n",
            "33739/33739 [==============================] - 131s 4ms/step - loss: 8.1669e-04 - accuracy: 1.0000 - val_loss: 0.1385 - val_accuracy: 0.9612\n",
            "\n",
            "Epoch 00026: val_accuracy did not improve from 0.96266\n",
            "Epoch 27/50\n",
            "33739/33739 [==============================] - 131s 4ms/step - loss: 7.5202e-04 - accuracy: 1.0000 - val_loss: 0.1395 - val_accuracy: 0.9622\n",
            "\n",
            "Epoch 00027: val_accuracy did not improve from 0.96266\n",
            "Epoch 28/50\n",
            "33739/33739 [==============================] - 131s 4ms/step - loss: 7.2638e-04 - accuracy: 1.0000 - val_loss: 0.1395 - val_accuracy: 0.9614\n",
            "\n",
            "Epoch 00028: val_accuracy did not improve from 0.96266\n",
            "Epoch 29/50\n",
            "33739/33739 [==============================] - 131s 4ms/step - loss: 6.9495e-04 - accuracy: 1.0000 - val_loss: 0.1394 - val_accuracy: 0.9618\n",
            "\n",
            "Epoch 00029: val_accuracy did not improve from 0.96266\n",
            "Epoch 30/50\n",
            "33739/33739 [==============================] - 131s 4ms/step - loss: 6.6397e-04 - accuracy: 1.0000 - val_loss: 0.1415 - val_accuracy: 0.9609\n",
            "\n",
            "Epoch 00030: val_accuracy did not improve from 0.96266\n",
            "Epoch 31/50\n",
            "33739/33739 [==============================] - 131s 4ms/step - loss: 6.2119e-04 - accuracy: 1.0000 - val_loss: 0.1415 - val_accuracy: 0.9617\n",
            "\n",
            "Epoch 00031: val_accuracy did not improve from 0.96266\n",
            "Epoch 32/50\n",
            "33739/33739 [==============================] - 131s 4ms/step - loss: 5.9034e-04 - accuracy: 1.0000 - val_loss: 0.1378 - val_accuracy: 0.9623\n",
            "\n",
            "Epoch 00032: val_accuracy did not improve from 0.96266\n",
            "Epoch 33/50\n",
            "33739/33739 [==============================] - 131s 4ms/step - loss: 5.6925e-04 - accuracy: 1.0000 - val_loss: 0.1394 - val_accuracy: 0.9617\n",
            "\n",
            "Epoch 00033: val_accuracy did not improve from 0.96266\n",
            "Epoch 34/50\n",
            "33739/33739 [==============================] - 130s 4ms/step - loss: 5.4030e-04 - accuracy: 1.0000 - val_loss: 0.1387 - val_accuracy: 0.9617\n",
            "\n",
            "Epoch 00034: val_accuracy did not improve from 0.96266\n",
            "Epoch 35/50\n",
            "33739/33739 [==============================] - 130s 4ms/step - loss: 5.1924e-04 - accuracy: 1.0000 - val_loss: 0.1434 - val_accuracy: 0.9622\n",
            "\n",
            "Epoch 00035: val_accuracy did not improve from 0.96266\n",
            "Epoch 36/50\n",
            "33739/33739 [==============================] - 130s 4ms/step - loss: 4.9816e-04 - accuracy: 1.0000 - val_loss: 0.1431 - val_accuracy: 0.9621\n",
            "\n",
            "Epoch 00036: val_accuracy did not improve from 0.96266\n",
            "Epoch 37/50\n",
            "33739/33739 [==============================] - 130s 4ms/step - loss: 4.8093e-04 - accuracy: 1.0000 - val_loss: 0.1445 - val_accuracy: 0.9608\n",
            "\n",
            "Epoch 00037: val_accuracy did not improve from 0.96266\n",
            "Epoch 38/50\n",
            "33739/33739 [==============================] - 130s 4ms/step - loss: 4.6539e-04 - accuracy: 1.0000 - val_loss: 0.1424 - val_accuracy: 0.9617\n",
            "\n",
            "Epoch 00038: val_accuracy did not improve from 0.96266\n",
            "Epoch 39/50\n",
            "33739/33739 [==============================] - 130s 4ms/step - loss: 4.5045e-04 - accuracy: 1.0000 - val_loss: 0.1412 - val_accuracy: 0.9612\n",
            "\n",
            "Epoch 00039: val_accuracy did not improve from 0.96266\n",
            "Epoch 40/50\n",
            "33739/33739 [==============================] - 130s 4ms/step - loss: 4.3494e-04 - accuracy: 1.0000 - val_loss: 0.1445 - val_accuracy: 0.9614\n",
            "\n",
            "Epoch 00040: val_accuracy did not improve from 0.96266\n",
            "Epoch 41/50\n",
            "33739/33739 [==============================] - 130s 4ms/step - loss: 4.2333e-04 - accuracy: 1.0000 - val_loss: 0.1416 - val_accuracy: 0.9623\n",
            "\n",
            "Epoch 00041: val_accuracy did not improve from 0.96266\n",
            "Epoch 42/50\n",
            "33739/33739 [==============================] - 131s 4ms/step - loss: 4.0799e-04 - accuracy: 1.0000 - val_loss: 0.1421 - val_accuracy: 0.9628\n",
            "\n",
            "Epoch 00042: val_accuracy improved from 0.96266 to 0.96277, saving model to /gdrive/My Drive/Audio_files/saved_models/hdf5/g_female_2d_gap_cnn_2.hdf5\n",
            "Epoch 43/50\n",
            "33739/33739 [==============================] - 131s 4ms/step - loss: 3.9378e-04 - accuracy: 1.0000 - val_loss: 0.1432 - val_accuracy: 0.9627\n",
            "\n",
            "Epoch 00043: val_accuracy did not improve from 0.96277\n",
            "Epoch 44/50\n",
            "33739/33739 [==============================] - 131s 4ms/step - loss: 3.8535e-04 - accuracy: 1.0000 - val_loss: 0.1421 - val_accuracy: 0.9623\n",
            "\n",
            "Epoch 00044: val_accuracy did not improve from 0.96277\n",
            "Epoch 45/50\n",
            "33739/33739 [==============================] - 131s 4ms/step - loss: 3.6420e-04 - accuracy: 1.0000 - val_loss: 0.1422 - val_accuracy: 0.9618\n",
            "\n",
            "Epoch 00045: val_accuracy did not improve from 0.96277\n",
            "Epoch 46/50\n",
            "33739/33739 [==============================] - 131s 4ms/step - loss: 3.6591e-04 - accuracy: 1.0000 - val_loss: 0.1434 - val_accuracy: 0.9627\n",
            "\n",
            "Epoch 00046: val_accuracy did not improve from 0.96277\n",
            "Epoch 47/50\n",
            "33739/33739 [==============================] - 131s 4ms/step - loss: 3.5506e-04 - accuracy: 1.0000 - val_loss: 0.1424 - val_accuracy: 0.9624\n",
            "\n",
            "Epoch 00047: val_accuracy did not improve from 0.96277\n",
            "Epoch 48/50\n",
            "33739/33739 [==============================] - 131s 4ms/step - loss: 3.4134e-04 - accuracy: 1.0000 - val_loss: 0.1440 - val_accuracy: 0.9619\n",
            "\n",
            "Epoch 00048: val_accuracy did not improve from 0.96277\n",
            "Epoch 49/50\n",
            "33739/33739 [==============================] - 131s 4ms/step - loss: 3.3908e-04 - accuracy: 1.0000 - val_loss: 0.1433 - val_accuracy: 0.9625\n",
            "\n",
            "Epoch 00049: val_accuracy did not improve from 0.96277\n",
            "Epoch 50/50\n",
            "33739/33739 [==============================] - 131s 4ms/step - loss: 3.2491e-04 - accuracy: 1.0000 - val_loss: 0.1473 - val_accuracy: 0.9619\n",
            "\n",
            "Epoch 00050: val_accuracy did not improve from 0.96277\n"
          ],
          "name": "stdout"
        }
      ]
    },
    {
      "cell_type": "code",
      "metadata": {
        "id": "9gKfgFR14qTA",
        "colab_type": "code",
        "colab": {}
      },
      "source": [
        "plot_model(model,show_shapes=True)"
      ],
      "execution_count": null,
      "outputs": []
    },
    {
      "cell_type": "code",
      "metadata": {
        "id": "bCWMcYc7jxxI",
        "colab_type": "code",
        "colab": {
          "base_uri": "https://localhost:8080/",
          "height": 71
        },
        "outputId": "8e673407-6861-4795-bde6-1cb4c4e50de5"
      },
      "source": [
        "# load json and create model\n",
        "from keras.models import model_from_json\n",
        "json_file = open('/gdrive/My Drive/Audio_files/saved_models/json/g_female_2d_lstm_cnn_4.json', 'r')\n",
        "loaded_model_json = json_file.read()\n",
        "json_file.close()\n",
        "loaded_model = model_from_json(loaded_model_json)\n",
        "# load weights into new model\n",
        "loaded_model.load_weights(\"/gdrive/My Drive/Audio_files/saved_models/hdf5/g_female_2d_lstm_cnn_4.hdf5\")\n",
        "print(\"Loaded model from disk\")\n",
        "\n",
        "loaded_model.compile(optimizer='adam', loss=losses.categorical_crossentropy,metrics=['accuracy'])\n",
        "score = loaded_model.evaluate(X_test, y_test, batch_size=1000)\n",
        "print(score)"
      ],
      "execution_count": 6,
      "outputs": [
        {
          "output_type": "stream",
          "text": [
            "Loaded model from disk\n",
            "8435/8435 [==============================] - 317s 38ms/step\n",
            "[1.371702972784082, 0.4949614703655243]\n"
          ],
          "name": "stdout"
        }
      ]
    },
    {
      "cell_type": "code",
      "metadata": {
        "id": "24wlr3jc48W4",
        "colab_type": "code",
        "colab": {
          "base_uri": "https://localhost:8080/",
          "height": 1000
        },
        "outputId": "9016dcf8-6b0b-43f2-b4ef-5faf0bf851bf"
      },
      "source": [
        "model.summary()"
      ],
      "execution_count": 17,
      "outputs": [
        {
          "output_type": "stream",
          "text": [
            "Model: \"model_2\"\n",
            "_________________________________________________________________\n",
            "Layer (type)                 Output Shape              Param #   \n",
            "=================================================================\n",
            "input_2 (InputLayer)         (None, 50, 259, 1)        0         \n",
            "_________________________________________________________________\n",
            "conv2d_5 (Conv2D)            (None, 50, 259, 32)       1312      \n",
            "_________________________________________________________________\n",
            "batch_normalization_5 (Batch (None, 50, 259, 32)       128       \n",
            "_________________________________________________________________\n",
            "activation_7 (Activation)    (None, 50, 259, 32)       0         \n",
            "_________________________________________________________________\n",
            "max_pooling2d_5 (MaxPooling2 (None, 25, 129, 32)       0         \n",
            "_________________________________________________________________\n",
            "conv2d_6 (Conv2D)            (None, 25, 129, 32)       40992     \n",
            "_________________________________________________________________\n",
            "batch_normalization_6 (Batch (None, 25, 129, 32)       128       \n",
            "_________________________________________________________________\n",
            "activation_8 (Activation)    (None, 25, 129, 32)       0         \n",
            "_________________________________________________________________\n",
            "max_pooling2d_6 (MaxPooling2 (None, 12, 64, 32)        0         \n",
            "_________________________________________________________________\n",
            "conv2d_7 (Conv2D)            (None, 12, 64, 32)        40992     \n",
            "_________________________________________________________________\n",
            "batch_normalization_7 (Batch (None, 12, 64, 32)        128       \n",
            "_________________________________________________________________\n",
            "activation_9 (Activation)    (None, 12, 64, 32)        0         \n",
            "_________________________________________________________________\n",
            "max_pooling2d_7 (MaxPooling2 (None, 6, 32, 32)         0         \n",
            "_________________________________________________________________\n",
            "conv2d_8 (Conv2D)            (None, 6, 32, 32)         40992     \n",
            "_________________________________________________________________\n",
            "batch_normalization_8 (Batch (None, 6, 32, 32)         128       \n",
            "_________________________________________________________________\n",
            "activation_10 (Activation)   (None, 6, 32, 32)         0         \n",
            "_________________________________________________________________\n",
            "max_pooling2d_8 (MaxPooling2 (None, 3, 16, 32)         0         \n",
            "_________________________________________________________________\n",
            "flatten_2 (Flatten)          (None, 1536)              0         \n",
            "_________________________________________________________________\n",
            "dense_4 (Dense)              (None, 64)                98368     \n",
            "_________________________________________________________________\n",
            "activation_11 (Activation)   (None, 64)                0         \n",
            "_________________________________________________________________\n",
            "dropout_3 (Dropout)          (None, 64)                0         \n",
            "_________________________________________________________________\n",
            "dense_5 (Dense)              (None, 64)                4160      \n",
            "_________________________________________________________________\n",
            "activation_12 (Activation)   (None, 64)                0         \n",
            "_________________________________________________________________\n",
            "dropout_4 (Dropout)          (None, 64)                0         \n",
            "_________________________________________________________________\n",
            "dense_6 (Dense)              (None, 7)                 455       \n",
            "=================================================================\n",
            "Total params: 227,783\n",
            "Trainable params: 227,527\n",
            "Non-trainable params: 256\n",
            "_________________________________________________________________\n"
          ],
          "name": "stdout"
        }
      ]
    },
    {
      "cell_type": "code",
      "metadata": {
        "id": "jQpyz_UgV7SL",
        "colab_type": "code",
        "colab": {}
      },
      "source": [
        "np.save('/gdrive/My Drive/Audio_files/female_x_train.npy',X_train)\n",
        "np.save('/gdrive/My Drive/Audio_files/female_y_train.npy',y_train)\n",
        "np.save('/gdrive/My Drive/Audio_files/female_x_test.npy',X_test)\n",
        "np.save('/gdrive/My Drive/Audio_files/female_y_test.npy',y_test)"
      ],
      "execution_count": 18,
      "outputs": []
    },
    {
      "cell_type": "code",
      "metadata": {
        "id": "tJutOnydtYuo",
        "colab_type": "code",
        "colab": {
          "base_uri": "https://localhost:8080/",
          "height": 35
        },
        "outputId": "2950c404-6cfa-4146-a90d-5289ea0b4f62"
      },
      "source": [
        "# model_json = model.to_json()\n",
        "# with open(\"/gdrive/My Drive/Audio_files/female_cnn_3x3_mfcc50_9552.json\", \"w\") as json_file:\n",
        "#     json_file.write(model_json)\n",
        "# # serialize weights t o HDF5\n",
        "# model.save_weights(\"/gdrive/My Drive/Audio_files/female_cnn_3x3_mfcc50_9552.h5\")\n",
        "# print(\"Saved model to disk\")"
      ],
      "execution_count": null,
      "outputs": [
        {
          "output_type": "stream",
          "text": [
            "Saved model to disk\n"
          ],
          "name": "stdout"
        }
      ]
    },
    {
      "cell_type": "code",
      "metadata": {
        "id": "vIUGwlvVRovh",
        "colab_type": "code",
        "colab": {
          "base_uri": "https://localhost:8080/",
          "height": 53
        },
        "outputId": "fdec0242-a0e6-4f56-f42c-7ec8e45e91c6"
      },
      "source": [
        "x=model.evaluate(X_test,y_test)\n",
        "print(x)"
      ],
      "execution_count": 24,
      "outputs": [
        {
          "output_type": "stream",
          "text": [
            "8435/8435 [==============================] - 4s 419us/step\n",
            "[0.2571890177713651, 0.9513930082321167]\n"
          ],
          "name": "stdout"
        }
      ]
    },
    {
      "cell_type": "code",
      "metadata": {
        "id": "-Gr_-okCrhwp",
        "colab_type": "code",
        "colab": {
          "base_uri": "https://localhost:8080/",
          "height": 517
        },
        "outputId": "4a0a0826-4c4a-4c7d-b574-f1ad8d53e7e2"
      },
      "source": [
        "import matplotlib\n",
        "matplotlib.style.use('ggplot')\n",
        "plt.gcf().set_size_inches(17, 8, forward=True)\n",
        "plt.plot(history.history['loss'])\n",
        "plt.plot(history.history['val_loss'])\n",
        "plt.title('Model Loss')\n",
        "plt.ylabel('Loss')\n",
        "plt.xlabel('Epoch')\n",
        "plt.legend(['Training Loss','Validation Loss'], loc='upper right')\n",
        "plt.show()"
      ],
      "execution_count": 13,
      "outputs": [
        {
          "output_type": "display_data",
          "data": {
            "image/png": "[encoded data removed]",
            "text/plain": [
              "<Figure size 1224x576 with 1 Axes>"
            ]
          },
          "metadata": {
            "tags": []
          }
        }
      ]
    },
    {
      "cell_type": "code",
      "metadata": {
        "id": "kGB47kppsHye",
        "colab_type": "code",
        "colab": {
          "base_uri": "https://localhost:8080/",
          "height": 517
        },
        "outputId": "873148b7-dd05-4312-a59a-2d654da2a37f"
      },
      "source": [
        "import matplotlib\n",
        "matplotlib.style.use('ggplot')\n",
        "plt.gcf().set_size_inches(17, 8, forward=True)\n",
        "plt.plot(history.history['accuracy'])\n",
        "plt.plot(history.history['val_accuracy'])\n",
        "plt.title('Model Accuracy')\n",
        "plt.ylabel('Accuracy')\n",
        "plt.xlabel('Epoch')\n",
        "plt.legend(['Training Accuracy','Validation Accuracy'], loc='lower right')\n",
        "plt.show()"
      ],
      "execution_count": 14,
      "outputs": [
        {
          "output_type": "display_data",
          "data": {
            "image/png": "[encoded data removed]",
            "text/plain": [
              "<Figure size 1224x576 with 1 Axes>"
            ]
          },
          "metadata": {
            "tags": []
          }
        }
      ]
    },
    {
      "cell_type": "code",
      "metadata": {
        "id": "Rnjflzpl4JWQ",
        "colab_type": "code",
        "colab": {}
      },
      "source": [
        ""
      ],
      "execution_count": null,
      "outputs": []
    }
  ]
}