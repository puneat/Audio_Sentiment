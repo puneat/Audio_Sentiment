{
  "nbformat": 4,
  "nbformat_minor": 0,
  "metadata": {
    "colab": {
      "name": "Copy of female_25GBRAM_GPU.ipynb",
      "provenance": [],
      "collapsed_sections": [],
      "machine_shape": "hm",
      "include_colab_link": true
    },
    "kernelspec": {
      "name": "python3",
      "display_name": "Python 3"
    },
    "accelerator": "GPU"
  },
  "cells": [
    {
      "cell_type": "markdown",
      "metadata": {
        "id": "view-in-github",
        "colab_type": "text"
      },
      "source": [
        "<a href=\"https://colab.research.google.com/github/puneat/Audio_Sentiment/blob/master/Copy_of_female_25GBRAM_GPU.ipynb\" target=\"_parent\"><img src=\"https://colab.research.google.com/assets/colab-badge.svg\" alt=\"Open In Colab\"/></a>"
      ]
    },
    {
      "cell_type": "code",
      "metadata": {
        "id": "OwtFwzWeHBr3",
        "colab_type": "code",
        "colab": {
          "base_uri": "https://localhost:8080/",
          "height": 127
        },
        "outputId": "eca45acf-b33a-4e2f-d9b9-144420acdd71"
      },
      "source": [
        "from google.colab import drive\n",
        "drive.mount('/gdrive', force_remount=True)"
      ],
      "execution_count": null,
      "outputs": [
        {
          "output_type": "stream",
          "text": [
            "Go to this URL in a browser: https://accounts.google.com/o/oauth2/auth?client_id=947318989803-6bn6qk8qdgf4n4g3pfee6491hc0brc4i.apps.googleusercontent.com&redirect_uri=urn%3aietf%3awg%3aoauth%3a2.0%3aoob&response_type=code&scope=email%20https%3a%2f%2fwww.googleapis.com%2fauth%2fdocs.test%20https%3a%2f%2fwww.googleapis.com%2fauth%2fdrive%20https%3a%2f%2fwww.googleapis.com%2fauth%2fdrive.photos.readonly%20https%3a%2f%2fwww.googleapis.com%2fauth%2fpeopleapi.readonly\n",
            "\n",
            "Enter your authorization code:\n",
            "··········\n",
            "Mounted at /gdrive\n"
          ],
          "name": "stdout"
        }
      ]
    },
    {
      "cell_type": "code",
      "metadata": {
        "_cell_guid": "b1076dfc-b9ad-4769-8c92-a6c4dae69d19",
        "_uuid": "8f2839f25d086af736a60e9eeb907d3b93b6e0e5",
        "id": "7jpcrkhUG3Ph",
        "colab_type": "code",
        "colab": {
          "base_uri": "https://localhost:8080/",
          "height": 73
        },
        "outputId": "998e670d-bfeb-455d-fc96-4bb96e665b6e"
      },
      "source": [
        "# Import libraries \n",
        "import librosa\n",
        "import librosa.display\n",
        "import numpy as np\n",
        "import matplotlib.pyplot as plt\n",
        "import tensorflow as tf\n",
        "from matplotlib.pyplot import specgram\n",
        "import pandas as pd\n",
        "import glob \n",
        "from sklearn.metrics import confusion_matrix\n",
        "import IPython.display as ipd  # To play sound in the notebook\n",
        "import os\n",
        "import sys\n",
        "import warnings\n",
        "# ignore warnings \n",
        "if not sys.warnoptions:\n",
        "    warnings.simplefilter(\"ignore\")\n",
        "warnings.filterwarnings(\"ignore\", category=DeprecationWarning) \n",
        "# sklearn\n",
        "from sklearn.metrics import confusion_matrix, accuracy_score\n",
        "from sklearn.model_selection import train_test_split\n",
        "from sklearn.preprocessing import LabelEncoder\n",
        "\n",
        "# Other  \n",
        "from tqdm import tqdm, tqdm_pandas\n",
        "import scipy\n",
        "from scipy.stats import skew\n",
        "import librosa\n",
        "import librosa.display\n",
        "import json\n",
        "import numpy as np\n",
        "import matplotlib.pyplot as plt\n",
        "import tensorflow as tf\n",
        "from matplotlib.pyplot import specgram\n",
        "import pandas as pd\n",
        "import seaborn as sns\n",
        "import glob \n",
        "import os\n",
        "import sys\n",
        "import IPython.display as ipd  # To play sound in the notebook\n",
        "import warnings\n",
        "# ignore warnings \n",
        "if not sys.warnoptions:\n",
        "    warnings.simplefilter(\"ignore\")"
      ],
      "execution_count": null,
      "outputs": [
        {
          "output_type": "stream",
          "text": [
            "/usr/local/lib/python3.6/dist-packages/statsmodels/tools/_testing.py:19: FutureWarning: pandas.util.testing is deprecated. Use the functions in the public API at pandas.testing instead.\n",
            "  import pandas.util.testing as tm\n"
          ],
          "name": "stderr"
        }
      ]
    },
    {
      "cell_type": "markdown",
      "metadata": {
        "id": "KmH33xPMykV-",
        "colab_type": "text"
      },
      "source": [
        "### **LOADING DATA**"
      ]
    },
    {
      "cell_type": "code",
      "metadata": {
        "id": "jB4-yBM9G3Pm",
        "colab_type": "code",
        "colab": {
          "base_uri": "https://localhost:8080/",
          "height": 107
        },
        "outputId": "fb113bf5-0963-46c9-aa49-e322abb77257"
      },
      "source": [
        "MALE = \"/gdrive/My Drive/Audio_Sentiment/new3/male/\"\n",
        "FEMALE = \"/gdrive/My Drive/Audio_Sentiment/new3/female/\"\n",
        "\n",
        "\n",
        "# Run one example \n",
        "dir_list = os.listdir(MALE)\n",
        "dir_list[0:5]"
      ],
      "execution_count": null,
      "outputs": [
        {
          "output_type": "execute_result",
          "data": {
            "text/plain": [
              "['1272-135031-0015.flac',\n",
              " '1272-135031-0013.flac',\n",
              " '1272-135031-0014.flac',\n",
              " '1272-135031-0012.flac',\n",
              " '1272-135031-0010.flac']"
            ]
          },
          "metadata": {
            "tags": []
          },
          "execution_count": 69
        }
      ]
    },
    {
      "cell_type": "code",
      "metadata": {
        "id": "p7rKKRkCG3Pq",
        "colab_type": "code",
        "colab": {
          "base_uri": "https://localhost:8080/",
          "height": 53
        },
        "outputId": "893682d7-d6de-4c65-fd9d-a5a032e5916d"
      },
      "source": [
        "# Get the data location for SAVEE\n",
        "dir_list = os.listdir(MALE)\n",
        "\n",
        "# parse the filename to get the emotions\n",
        "emotion=[]\n",
        "path = []\n",
        "for i in dir_list:\n",
        "    emotion.append('male')\n",
        "    path.append(MALE + i)\n",
        "    \n",
        "# Now check out the label count distribution \n",
        "MALE_df = pd.DataFrame(emotion, columns = ['labels'])\n",
        "MALE_df['source'] = 'MALE'\n",
        "MALE_df = pd.concat([MALE_df, pd.DataFrame(path, columns = ['path'])], axis = 1)\n",
        "MALE_df.labels.value_counts()"
      ],
      "execution_count": null,
      "outputs": [
        {
          "output_type": "execute_result",
          "data": {
            "text/plain": [
              "male    1329\n",
              "Name: labels, dtype: int64"
            ]
          },
          "metadata": {
            "tags": []
          },
          "execution_count": 70
        }
      ]
    },
    {
      "cell_type": "code",
      "metadata": {
        "id": "wjQRHzKux_nQ",
        "colab_type": "code",
        "colab": {
          "base_uri": "https://localhost:8080/",
          "height": 53
        },
        "outputId": "cd3d80d5-8165-4902-eb69-2b15c792c382"
      },
      "source": [
        "# Get the data location for SAVEE\n",
        "dir_list = os.listdir(FEMALE)\n",
        "\n",
        "# parse the filename to get the emotions\n",
        "emotion=[]\n",
        "path = []\n",
        "for i in dir_list:\n",
        "    emotion.append('female')\n",
        "    path.append(FEMALE + i)\n",
        "    \n",
        "# Now check out the label count distribution \n",
        "FEMALE_df = pd.DataFrame(emotion, columns = ['labels'])\n",
        "FEMALE_df['source'] = 'FEMALE'\n",
        "FEMALE_df = pd.concat([FEMALE_df, pd.DataFrame(path, columns = ['path'])], axis = 1)\n",
        "FEMALE_df.labels.value_counts()"
      ],
      "execution_count": null,
      "outputs": [
        {
          "output_type": "execute_result",
          "data": {
            "text/plain": [
              "female    1374\n",
              "Name: labels, dtype: int64"
            ]
          },
          "metadata": {
            "tags": []
          },
          "execution_count": 71
        }
      ]
    },
    {
      "cell_type": "code",
      "metadata": {
        "colab_type": "code",
        "id": "73YYzZ2Twpk2",
        "colab": {
          "base_uri": "https://localhost:8080/",
          "height": 71
        },
        "outputId": "edc790c1-1927-4ce6-870d-51bbdca0fdde"
      },
      "source": [
        "df = pd.concat([MALE_df,FEMALE_df], axis = 0)\n",
        "print(df.labels.value_counts())\n",
        "df.head()\n",
        "df.to_csv(\"/gdrive/My Drive/Audio_Sentiment/gender3.csv\",index=False)"
      ],
      "execution_count": null,
      "outputs": [
        {
          "output_type": "stream",
          "text": [
            "female    1374\n",
            "male      1329\n",
            "Name: labels, dtype: int64\n"
          ],
          "name": "stdout"
        }
      ]
    },
    {
      "cell_type": "markdown",
      "metadata": {
        "id": "ZqyaDy5pyfU_",
        "colab_type": "text"
      },
      "source": [
        "### **AUGMENTATION**"
      ]
    },
    {
      "cell_type": "code",
      "metadata": {
        "id": "hlzWGoYm57me",
        "colab_type": "code",
        "colab": {
          "base_uri": "https://localhost:8080/",
          "height": 204
        },
        "outputId": "2bff2b80-4e96-4807-ae3f-c073c6461255"
      },
      "source": [
        "ref3 = pd.read_csv(\"/gdrive/My Drive/Audio_Sentiment/gender3.csv\")\n",
        "ref3.head()"
      ],
      "execution_count": null,
      "outputs": [
        {
          "output_type": "execute_result",
          "data": {
            "text/html": [
              "<div>\n",
              "<style scoped>\n",
              "    .dataframe tbody tr th:only-of-type {\n",
              "        vertical-align: middle;\n",
              "    }\n",
              "\n",
              "    .dataframe tbody tr th {\n",
              "        vertical-align: top;\n",
              "    }\n",
              "\n",
              "    .dataframe thead th {\n",
              "        text-align: right;\n",
              "    }\n",
              "</style>\n",
              "<table border=\"1\" class=\"dataframe\">\n",
              "  <thead>\n",
              "    <tr style=\"text-align: right;\">\n",
              "      <th></th>\n",
              "      <th>labels</th>\n",
              "      <th>source</th>\n",
              "      <th>path</th>\n",
              "    </tr>\n",
              "  </thead>\n",
              "  <tbody>\n",
              "    <tr>\n",
              "      <th>0</th>\n",
              "      <td>male</td>\n",
              "      <td>MALE</td>\n",
              "      <td>/gdrive/My Drive/Audio_Sentiment/new3/male/127...</td>\n",
              "    </tr>\n",
              "    <tr>\n",
              "      <th>1</th>\n",
              "      <td>male</td>\n",
              "      <td>MALE</td>\n",
              "      <td>/gdrive/My Drive/Audio_Sentiment/new3/male/127...</td>\n",
              "    </tr>\n",
              "    <tr>\n",
              "      <th>2</th>\n",
              "      <td>male</td>\n",
              "      <td>MALE</td>\n",
              "      <td>/gdrive/My Drive/Audio_Sentiment/new3/male/127...</td>\n",
              "    </tr>\n",
              "    <tr>\n",
              "      <th>3</th>\n",
              "      <td>male</td>\n",
              "      <td>MALE</td>\n",
              "      <td>/gdrive/My Drive/Audio_Sentiment/new3/male/127...</td>\n",
              "    </tr>\n",
              "    <tr>\n",
              "      <th>4</th>\n",
              "      <td>male</td>\n",
              "      <td>MALE</td>\n",
              "      <td>/gdrive/My Drive/Audio_Sentiment/new3/male/127...</td>\n",
              "    </tr>\n",
              "  </tbody>\n",
              "</table>\n",
              "</div>"
            ],
            "text/plain": [
              "  labels source                                               path\n",
              "0   male   MALE  /gdrive/My Drive/Audio_Sentiment/new3/male/127...\n",
              "1   male   MALE  /gdrive/My Drive/Audio_Sentiment/new3/male/127...\n",
              "2   male   MALE  /gdrive/My Drive/Audio_Sentiment/new3/male/127...\n",
              "3   male   MALE  /gdrive/My Drive/Audio_Sentiment/new3/male/127...\n",
              "4   male   MALE  /gdrive/My Drive/Audio_Sentiment/new3/male/127..."
            ]
          },
          "metadata": {
            "tags": []
          },
          "execution_count": 3
        }
      ]
    },
    {
      "cell_type": "code",
      "metadata": {
        "id": "ZtK_TMkBwxgo",
        "colab_type": "code",
        "colab": {}
      },
      "source": [
        "################################################################################\n",
        "''' Adding White Noise '''\n",
        "\n",
        "def noise(data):\n",
        "    #Can take any distribution from https://docs.scipy.org/doc/numpy-1.13.0/reference/routines.random.html\n",
        "    noise_amp = 0.05*np.random.uniform()*np.amax(data)   # more noise reduce the value to 0.5\n",
        "    data = data.astype('float64') + noise_amp * np.random.normal(size=data.shape[0])\n",
        "    return data\n",
        "\n",
        "################################################################################\n",
        "''' Random Shifting '''\n",
        "\n",
        "def shift(data):\n",
        "    s_range = int(np.random.uniform(low=-5, high = 5)*1000)  #default at 500\n",
        "    return np.roll(data, s_range)\n",
        "\n",
        "################################################################################\n",
        "''' Streching the Sound. This expands the audio size '''\n",
        "\n",
        "def stretch(data, rate=0.8):\n",
        "    data = librosa.effects.time_stretch(data, rate)\n",
        "    return data\n",
        "\n",
        "################################################################################    \n",
        "''' Pitch Tuning '''\n",
        "def pitch(data, sample_rate):\n",
        "    bins_per_octave = 12\n",
        "    pitch_pm = 2\n",
        "    pitch_change =  pitch_pm * 2*(np.random.uniform())   \n",
        "    data = librosa.effects.pitch_shift(data.astype('float64'), \n",
        "                                      sample_rate, n_steps=pitch_change, \n",
        "                                      bins_per_octave=bins_per_octave)\n",
        "    return data\n",
        "\n",
        "################################################################################    \n",
        "''' Dynamic Change'''\n",
        "\n",
        "def dyn_change(data):\n",
        "    #Random Value Change\n",
        "    dyn_change = np.random.uniform(low=-0.5 ,high=7)\n",
        "    return (data * dyn_change)\n",
        "\n",
        "################################################################################\n",
        "''' Speed and Pitch Tuning '''\n",
        "\n",
        "def speedNpitch(data):\n",
        "    length_change = np.random.uniform(low=0.8, high = 1)\n",
        "    speed_fac = 1.2  / length_change \n",
        "    tmp = np.interp(np.arange(0,len(data),speed_fac),np.arange(0,len(data)),data)\n",
        "    minlen = min(data.shape[0], tmp.shape[0])\n",
        "    data *= 0\n",
        "    data[0:minlen] = tmp[0:minlen]\n",
        "    return data"
      ],
      "execution_count": null,
      "outputs": []
    },
    {
      "cell_type": "code",
      "metadata": {
        "id": "1P01c9vZkRmN",
        "colab_type": "code",
        "colab": {}
      },
      "source": [
        "'''Extracting the MFCC feature as an image (Matrix format).'''\n",
        "def prepare_data(df, n):\n",
        "    X_speednpitch = np.empty(shape=(df.shape[0], n, 259, 1))\n",
        "    X_noise = np.empty(shape=(df.shape[0], n, 259, 1))\n",
        "    X_pitch = np.empty(shape=(df.shape[0], n, 259, 1))\n",
        "    X_shift = np.empty(shape=(df.shape[0], n, 259, 1))\n",
        "    X_dyn_change = np.empty(shape=(df.shape[0], n, 259, 1))\n",
        "    X_ref = np.empty(shape=(df.shape[0], n, 259, 1))\n",
        "    input_length = sampling_rate * audio_duration\n",
        "    \n",
        "    cnt = 0\n",
        "    train_cnt=0\n",
        "    test_cnt=0\n",
        "    for fname in tqdm(df.path):\n",
        "        file_path = fname\n",
        "        data, _ = librosa.load(file_path, sr=sampling_rate\n",
        "                               ,res_type=\"kaiser_fast\"\n",
        "                               ,duration=3\n",
        "                               ,offset=0.5\n",
        "                              )\n",
        "\n",
        "        # Random offset / Padding\n",
        "        if len(data) > input_length:\n",
        "            max_offset = len(data) - input_length\n",
        "            offset = np.random.randint(max_offset)\n",
        "            data = data[offset:(input_length+offset)]\n",
        "        else:\n",
        "            if input_length > len(data):\n",
        "                max_offset = input_length - len(data)\n",
        "                offset = np.random.randint(max_offset)\n",
        "            else:\n",
        "                offset = 0\n",
        "            data = np.pad(data, (offset, int(input_length) - len(data) - offset), \"constant\")\n",
        "\n",
        "        # Augmentation \n",
        "            data_speednpitch = speedNpitch(data)\n",
        "            data_noise=noise(data)\n",
        "            data_shift=shift(data)\n",
        "            data_pitch=pitch(data,sampling_rate)\n",
        "            data_dyn_change=dyn_change(data)\n",
        "\n",
        "        # MFCC extraction\n",
        "        # if cnt%5==0:\n",
        "        #     MFCC = librosa.feature.mfcc(data, sr=sampling_rate, n_mfcc=n_mfcc)\n",
        "        #     MFCC = np.expand_dims(MFCC, axis=-1)\n",
        "        #     X_test[test_cnt,] = MFCC\n",
        "        #     test_cnt=test_cnt+1\n",
        "        # elif cnt%5!=0:\n",
        "            MFCC = librosa.feature.mfcc(data_speednpitch, sr=sampling_rate, n_mfcc=n_mfcc)\n",
        "            MFCC = np.expand_dims(MFCC, axis=-1)\n",
        "            X_speednpitch[train_cnt,] = MFCC\n",
        "\n",
        "            MFCC = librosa.feature.mfcc(data_noise, sr=sampling_rate, n_mfcc=n_mfcc)\n",
        "            MFCC = np.expand_dims(MFCC, axis=-1)\n",
        "            X_noise[train_cnt,] = MFCC\n",
        "\n",
        "            MFCC = librosa.feature.mfcc(data_pitch, sr=sampling_rate, n_mfcc=n_mfcc)\n",
        "            MFCC = np.expand_dims(MFCC, axis=-1)\n",
        "            X_pitch[train_cnt,] = MFCC\n",
        "\n",
        "            MFCC = librosa.feature.mfcc(data_shift, sr=sampling_rate, n_mfcc=n_mfcc)\n",
        "            MFCC = np.expand_dims(MFCC, axis=-1)\n",
        "            X_shift[train_cnt,] = MFCC\n",
        "\n",
        "            MFCC = librosa.feature.mfcc(data_dyn_change, sr=sampling_rate, n_mfcc=n_mfcc)\n",
        "            MFCC = np.expand_dims(MFCC, axis=-1)\n",
        "            X_dyn_change[train_cnt,] = MFCC\n",
        "\n",
        "            MFCC = librosa.feature.mfcc(data, sr=sampling_rate, n_mfcc=n_mfcc)\n",
        "            MFCC = np.expand_dims(MFCC, axis=-1)\n",
        "            X_ref[train_cnt,] = MFCC\n",
        "        train_cnt=train_cnt+1  \n",
        "        #else:\n",
        "            # Log-melspectogram\n",
        "            # melspec = librosa.feature.melspectrogram(data, n_mels = n_melspec)   \n",
        "            # logspec = librosa.amplitude_to_db(melspec)\n",
        "            # logspec = np.expand_dims(logspec, axis=-1)\n",
        "            # X[cnt,] = logspec\n",
        "            \n",
        "        cnt += 1\n",
        "\n",
        "    return X_ref, X_speednpitch, X_pitch, X_shift, X_noise, X_dyn_change#, X_test"
      ],
      "execution_count": null,
      "outputs": []
    },
    {
      "cell_type": "code",
      "metadata": {
        "id": "3fablOpV6KDT",
        "colab_type": "code",
        "colab": {
          "base_uri": "https://localhost:8080/",
          "height": 35
        },
        "outputId": "7e71e237-0b7c-495c-8a34-90bf126ff5e5"
      },
      "source": [
        "sampling_rate=44100\n",
        "audio_duration=3\n",
        "n_mfcc = 50\n",
        "df_ref, df_speednpitch, df_pitch, df_shift, df_noise, df_dyn_change = prepare_data(ref3, n = n_mfcc)"
      ],
      "execution_count": null,
      "outputs": [
        {
          "output_type": "stream",
          "text": [
            "100%|██████████| 2703/2703 [40:01<00:00,  1.13it/s]\n"
          ],
          "name": "stderr"
        }
      ]
    },
    {
      "cell_type": "code",
      "metadata": {
        "id": "14biiEA5UK6O",
        "colab_type": "code",
        "colab": {}
      },
      "source": [
        "del result"
      ],
      "execution_count": null,
      "outputs": []
    },
    {
      "cell_type": "code",
      "metadata": {
        "id": "2TRNs0zT-YnK",
        "colab_type": "code",
        "colab": {
          "base_uri": "https://localhost:8080/",
          "height": 35
        },
        "outputId": "e0bd50a3-4c51-429f-87a4-075707655238"
      },
      "source": [
        "print(df_noise.shape,df_speednpitch.shape, df_pitch.shape, df_dyn_change.shape, df_shift.shape,df_ref.shape)"
      ],
      "execution_count": null,
      "outputs": [
        {
          "output_type": "stream",
          "text": [
            "(2703, 50, 259, 1) (2703, 50, 259, 1) (2703, 50, 259, 1) (2703, 50, 259, 1) (2703, 50, 259, 1) (2703, 50, 259, 1)\n"
          ],
          "name": "stdout"
        }
      ]
    },
    {
      "cell_type": "code",
      "metadata": {
        "id": "gaLfJBlpSZBh",
        "colab_type": "code",
        "colab": {}
      },
      "source": [
        "result3=np.concatenate((df_noise,df_speednpitch,df_pitch,df_shift,df_dyn_change,df_ref),axis=0)"
      ],
      "execution_count": null,
      "outputs": []
    },
    {
      "cell_type": "code",
      "metadata": {
        "id": "ORF-Q_kdSY-9",
        "colab_type": "code",
        "colab": {
          "base_uri": "https://localhost:8080/",
          "height": 35
        },
        "outputId": "7c898b0a-5579-4d8b-be32-f895e11fa611"
      },
      "source": [
        "result3.shape"
      ],
      "execution_count": null,
      "outputs": [
        {
          "output_type": "execute_result",
          "data": {
            "text/plain": [
              "(16218, 50, 259, 1)"
            ]
          },
          "metadata": {
            "tags": []
          },
          "execution_count": 9
        }
      ]
    },
    {
      "cell_type": "code",
      "metadata": {
        "id": "aUR345uf-Ys5",
        "colab_type": "code",
        "colab": {}
      },
      "source": [
        "np.save('/gdrive/My Drive/Audio_Sentiment/gender3_2d_50_aug.npy',result3)"
      ],
      "execution_count": null,
      "outputs": []
    },
    {
      "cell_type": "code",
      "metadata": {
        "id": "LyNlFks_31m3",
        "colab_type": "code",
        "colab": {}
      },
      "source": [
        "result3=np.load('/gdrive/My Drive/Audio_Sentiment/gender3_2d_50_aug.npy')"
      ],
      "execution_count": null,
      "outputs": []
    },
    {
      "cell_type": "code",
      "metadata": {
        "id": "WWXfCdJAPmsq",
        "colab_type": "code",
        "colab": {}
      },
      "source": [
        "result2=np.load('/gdrive/My Drive/Audio_Sentiment/gender2_2d_50_aug.npy')"
      ],
      "execution_count": null,
      "outputs": []
    },
    {
      "cell_type": "code",
      "metadata": {
        "id": "h3lpzZ0ES-0p",
        "colab_type": "code",
        "colab": {}
      },
      "source": [
        "result1=np.load('/gdrive/My Drive/Audio_Sentiment/gender_2d_50_aug.npy')"
      ],
      "execution_count": null,
      "outputs": []
    },
    {
      "cell_type": "code",
      "metadata": {
        "id": "9nnJh6F1PoFY",
        "colab_type": "code",
        "colab": {}
      },
      "source": [
        "final=np.concatenate((result1,result2,result3),axis=0)"
      ],
      "execution_count": null,
      "outputs": []
    },
    {
      "cell_type": "code",
      "metadata": {
        "id": "ynCknihC38km",
        "colab_type": "code",
        "colab": {}
      },
      "source": [
        "del result3,result2,result1"
      ],
      "execution_count": null,
      "outputs": []
    },
    {
      "cell_type": "markdown",
      "metadata": {
        "id": "vgDKtyDx5B7b",
        "colab_type": "text"
      },
      "source": [
        "### **MODEL**"
      ]
    },
    {
      "cell_type": "code",
      "metadata": {
        "_cell_guid": "79c7e3d0-c299-4dcb-8224-4455121ee9b0",
        "_uuid": "d629ff2d2480ee46fbb7e2d37f6b5fab8052498a",
        "id": "s_IdA4makRmI",
        "colab_type": "code",
        "colab": {
          "base_uri": "https://localhost:8080/",
          "height": 35
        },
        "outputId": "45ec2038-fdb5-41cc-fece-f394eb9b6428"
      },
      "source": [
        "# Keras\n",
        "import keras\n",
        "from keras import regularizers\n",
        "from keras.preprocessing import sequence\n",
        "from keras.preprocessing.text import Tokenizer\n",
        "from keras.preprocessing.sequence import pad_sequences\n",
        "from keras.models import Sequential, Model, model_from_json\n",
        "from keras.layers import Dense, Embedding, LSTM, Reshape\n",
        "from keras.layers import Input, Flatten, Dropout, Activation, BatchNormalization\n",
        "from keras.layers import Conv1D, MaxPooling1D, AveragePooling2D\n",
        "from keras.utils import np_utils, to_categorical\n",
        "from keras.callbacks import (EarlyStopping, LearningRateScheduler,\n",
        "                             ModelCheckpoint, TensorBoard, ReduceLROnPlateau)\n",
        "from keras import losses, models, optimizers\n",
        "from keras.activations import relu, softmax\n",
        "from keras.layers import (Convolution2D, GlobalAveragePooling2D, BatchNormalization, Flatten, Dropout,\n",
        "                          GlobalMaxPool2D, MaxPool2D, concatenate, Activation, Input, Dense)\n",
        "\n",
        "# sklearn\n",
        "from sklearn.metrics import confusion_matrix, accuracy_score\n",
        "from sklearn.model_selection import train_test_split\n",
        "from sklearn.preprocessing import LabelEncoder\n",
        "\n",
        "# Other  \n",
        "from tqdm import tqdm, tqdm_pandas\n",
        "import scipy\n",
        "from scipy.stats import skew\n",
        "import librosa\n",
        "import librosa.display\n",
        "import json\n",
        "import numpy as np\n",
        "import matplotlib.pyplot as plt\n",
        "import tensorflow as tf\n",
        "from matplotlib.pyplot import specgram\n",
        "import pandas as pd\n",
        "import seaborn as sns\n",
        "import glob \n",
        "import os\n",
        "import sys\n",
        "import IPython.display as ipd  # To play sound in the notebook\n",
        "import warnings\n",
        "# ignore warnings \n",
        "if not sys.warnoptions:\n",
        "    warnings.simplefilter(\"ignore\")"
      ],
      "execution_count": null,
      "outputs": [
        {
          "output_type": "stream",
          "text": [
            "Using TensorFlow backend.\n"
          ],
          "name": "stderr"
        }
      ]
    },
    {
      "cell_type": "code",
      "metadata": {
        "colab_type": "code",
        "id": "xUwebN-25Nmy",
        "colab": {
          "base_uri": "https://localhost:8080/",
          "height": 204
        },
        "outputId": "361ab47e-1fd4-4b84-99e7-61c0684faf57"
      },
      "source": [
        "ref1 = pd.read_csv(\"/gdrive/My Drive/Audio_Sentiment/gender.csv\")\n",
        "ref1.head()"
      ],
      "execution_count": null,
      "outputs": [
        {
          "output_type": "execute_result",
          "data": {
            "text/html": [
              "<div>\n",
              "<style scoped>\n",
              "    .dataframe tbody tr th:only-of-type {\n",
              "        vertical-align: middle;\n",
              "    }\n",
              "\n",
              "    .dataframe tbody tr th {\n",
              "        vertical-align: top;\n",
              "    }\n",
              "\n",
              "    .dataframe thead th {\n",
              "        text-align: right;\n",
              "    }\n",
              "</style>\n",
              "<table border=\"1\" class=\"dataframe\">\n",
              "  <thead>\n",
              "    <tr style=\"text-align: right;\">\n",
              "      <th></th>\n",
              "      <th>labels</th>\n",
              "      <th>source</th>\n",
              "      <th>path</th>\n",
              "    </tr>\n",
              "  </thead>\n",
              "  <tbody>\n",
              "    <tr>\n",
              "      <th>0</th>\n",
              "      <td>male</td>\n",
              "      <td>MALE</td>\n",
              "      <td>/gdrive/My Drive/Audio_Sentiment/new/male/61-7...</td>\n",
              "    </tr>\n",
              "    <tr>\n",
              "      <th>1</th>\n",
              "      <td>male</td>\n",
              "      <td>MALE</td>\n",
              "      <td>/gdrive/My Drive/Audio_Sentiment/new/male/61-7...</td>\n",
              "    </tr>\n",
              "    <tr>\n",
              "      <th>2</th>\n",
              "      <td>male</td>\n",
              "      <td>MALE</td>\n",
              "      <td>/gdrive/My Drive/Audio_Sentiment/new/male/61-7...</td>\n",
              "    </tr>\n",
              "    <tr>\n",
              "      <th>3</th>\n",
              "      <td>male</td>\n",
              "      <td>MALE</td>\n",
              "      <td>/gdrive/My Drive/Audio_Sentiment/new/male/1089...</td>\n",
              "    </tr>\n",
              "    <tr>\n",
              "      <th>4</th>\n",
              "      <td>male</td>\n",
              "      <td>MALE</td>\n",
              "      <td>/gdrive/My Drive/Audio_Sentiment/new/male/61-7...</td>\n",
              "    </tr>\n",
              "  </tbody>\n",
              "</table>\n",
              "</div>"
            ],
            "text/plain": [
              "  labels source                                               path\n",
              "0   male   MALE  /gdrive/My Drive/Audio_Sentiment/new/male/61-7...\n",
              "1   male   MALE  /gdrive/My Drive/Audio_Sentiment/new/male/61-7...\n",
              "2   male   MALE  /gdrive/My Drive/Audio_Sentiment/new/male/61-7...\n",
              "3   male   MALE  /gdrive/My Drive/Audio_Sentiment/new/male/1089...\n",
              "4   male   MALE  /gdrive/My Drive/Audio_Sentiment/new/male/61-7..."
            ]
          },
          "metadata": {
            "tags": []
          },
          "execution_count": 10
        }
      ]
    },
    {
      "cell_type": "code",
      "metadata": {
        "id": "ahQpb5k-P7IQ",
        "colab_type": "code",
        "colab": {
          "base_uri": "https://localhost:8080/",
          "height": 204
        },
        "outputId": "88de8f70-6a28-4104-ad65-a4a1ba89858f"
      },
      "source": [
        "ref2 = pd.read_csv(\"/gdrive/My Drive/Audio_Sentiment/gender2.csv\")\n",
        "ref2.head()"
      ],
      "execution_count": null,
      "outputs": [
        {
          "output_type": "execute_result",
          "data": {
            "text/html": [
              "<div>\n",
              "<style scoped>\n",
              "    .dataframe tbody tr th:only-of-type {\n",
              "        vertical-align: middle;\n",
              "    }\n",
              "\n",
              "    .dataframe tbody tr th {\n",
              "        vertical-align: top;\n",
              "    }\n",
              "\n",
              "    .dataframe thead th {\n",
              "        text-align: right;\n",
              "    }\n",
              "</style>\n",
              "<table border=\"1\" class=\"dataframe\">\n",
              "  <thead>\n",
              "    <tr style=\"text-align: right;\">\n",
              "      <th></th>\n",
              "      <th>labels</th>\n",
              "      <th>source</th>\n",
              "      <th>path</th>\n",
              "    </tr>\n",
              "  </thead>\n",
              "  <tbody>\n",
              "    <tr>\n",
              "      <th>0</th>\n",
              "      <td>male</td>\n",
              "      <td>MALE</td>\n",
              "      <td>/gdrive/My Drive/Audio_Sentiment/new2/male/693...</td>\n",
              "    </tr>\n",
              "    <tr>\n",
              "      <th>1</th>\n",
              "      <td>male</td>\n",
              "      <td>MALE</td>\n",
              "      <td>/gdrive/My Drive/Audio_Sentiment/new2/male/693...</td>\n",
              "    </tr>\n",
              "    <tr>\n",
              "      <th>2</th>\n",
              "      <td>male</td>\n",
              "      <td>MALE</td>\n",
              "      <td>/gdrive/My Drive/Audio_Sentiment/new2/male/693...</td>\n",
              "    </tr>\n",
              "    <tr>\n",
              "      <th>3</th>\n",
              "      <td>male</td>\n",
              "      <td>MALE</td>\n",
              "      <td>/gdrive/My Drive/Audio_Sentiment/new2/male/693...</td>\n",
              "    </tr>\n",
              "    <tr>\n",
              "      <th>4</th>\n",
              "      <td>male</td>\n",
              "      <td>MALE</td>\n",
              "      <td>/gdrive/My Drive/Audio_Sentiment/new2/male/693...</td>\n",
              "    </tr>\n",
              "  </tbody>\n",
              "</table>\n",
              "</div>"
            ],
            "text/plain": [
              "  labels source                                               path\n",
              "0   male   MALE  /gdrive/My Drive/Audio_Sentiment/new2/male/693...\n",
              "1   male   MALE  /gdrive/My Drive/Audio_Sentiment/new2/male/693...\n",
              "2   male   MALE  /gdrive/My Drive/Audio_Sentiment/new2/male/693...\n",
              "3   male   MALE  /gdrive/My Drive/Audio_Sentiment/new2/male/693...\n",
              "4   male   MALE  /gdrive/My Drive/Audio_Sentiment/new2/male/693..."
            ]
          },
          "metadata": {
            "tags": []
          },
          "execution_count": 11
        }
      ]
    },
    {
      "cell_type": "code",
      "metadata": {
        "id": "lovlFsbfdh-4",
        "colab_type": "code",
        "colab": {}
      },
      "source": [
        "frames=[ref1,ref1,ref1,ref1,ref1,ref1,ref2,ref2,ref2,ref2,ref2,ref2,ref3,ref3,ref3,ref3,ref3,ref3];\n",
        "df_label=pd.concat(frames);"
      ],
      "execution_count": null,
      "outputs": []
    },
    {
      "cell_type": "code",
      "metadata": {
        "id": "BZOiLBmSbEZi",
        "colab_type": "code",
        "colab": {
          "base_uri": "https://localhost:8080/",
          "height": 35
        },
        "outputId": "dbe63b23-4bd1-4dd5-b268-fd4aa2694f2d"
      },
      "source": [
        "nclass = 2\n",
        "inp = Input(shape=(50,259,1))  #2D matrix of 30 MFCC bands by 216 audio length.\n",
        "\n",
        "# X=Reshape((50,259),name='reshape_input')(inp)\n",
        "# X = LSTM(units=259,dropout=0.2,return_sequences=True,activation='relu',stateful=False,input_shape=(50,259))(X)\n",
        "# X=Reshape((50,259,1),name='reshape')(X)  #2D matrix of 30 MFCC bands by 216 audio length.\n",
        "\n",
        "x = Convolution2D(64, (4,10), padding=\"same\")(inp)\n",
        "x = BatchNormalization()(x)\n",
        "x = Activation(\"relu\")(x)\n",
        "x = MaxPool2D()(x)\n",
        "# x = Dropout(rate=0.2)(x)\n",
        "    \n",
        "x = Convolution2D(64, (4,10), padding=\"same\")(x)\n",
        "x = BatchNormalization()(x)\n",
        "x = Activation(\"relu\")(x)\n",
        "x = MaxPool2D()(x)\n",
        "# x = Dropout(rate=0.2)(x)\n",
        "    \n",
        "x = Convolution2D(64, (4,10), padding=\"same\")(x)\n",
        "x = BatchNormalization()(x)\n",
        "x = Activation(\"relu\")(x)\n",
        "x = MaxPool2D()(x)\n",
        "\n",
        "x = Convolution2D(64, (4,10), padding=\"same\")(x)\n",
        "x = BatchNormalization()(x)\n",
        "x = Activation(\"relu\")(x)\n",
        "x = MaxPool2D()(x)\n",
        "\n",
        "# x = Dropout(rate=0.2)(x)\n",
        "    \n",
        "# x = Dropout(rate=0.2)(x)\n",
        "x= AveragePooling2D()(x)\n",
        "x = Flatten()(x)\n",
        "# x = Dense(64)(x)\n",
        "# # x = Dropout(rate=0.2)(x)\n",
        "# x = BatchNormalization()(x)\n",
        "# x = Activation(\"relu\")(x)\n",
        "# x = Dropout(rate=0.2)(x)\n",
        "\n",
        "# x = Dense(64)(x)\n",
        "# # x = Dropout(rate=0.2)(x)\n",
        "# x = BatchNormalization()(x)\n",
        "# x = Activation(\"relu\")(x)\n",
        "# x = Dropout(rate=0.2)(x)\n",
        "# x=Reshape((128,1),name='reshape')(x)  #2D matrix of 30 MFCC bands by 216 audio length.\n",
        "# x = LSTM(units=50,dropout=0.2,return_sequences=False,activation='relu',stateful=False)(x)\n",
        "    \n",
        "out = Dense(nclass, activation='softmax')(x)\n",
        "model = models.Model(inputs=inp, outputs=out)\n",
        "    \n",
        "opt = optimizers.Adam(0.001,amsgrad=True)\n",
        "model.compile(optimizer=opt, loss=losses.categorical_crossentropy, metrics=['accuracy'])\n",
        "print('done')"
      ],
      "execution_count": null,
      "outputs": [
        {
          "output_type": "stream",
          "text": [
            "done\n"
          ],
          "name": "stdout"
        }
      ]
    },
    {
      "cell_type": "code",
      "metadata": {
        "id": "Y7apjZzJQMlH",
        "colab_type": "code",
        "colab": {
          "base_uri": "https://localhost:8080/",
          "height": 35
        },
        "outputId": "1133ad12-e4e8-4d8b-ff77-3cce2e9289e2"
      },
      "source": [
        "df_label.shape, final.shape"
      ],
      "execution_count": null,
      "outputs": [
        {
          "output_type": "execute_result",
          "data": {
            "text/plain": [
              "((31488, 3), (31488, 50, 259, 1))"
            ]
          },
          "metadata": {
            "tags": []
          },
          "execution_count": 21
        }
      ]
    },
    {
      "cell_type": "code",
      "metadata": {
        "id": "vI8KTyzYkRmY",
        "colab_type": "code",
        "colab": {}
      },
      "source": [
        "# Split between train and test \n",
        "X_train, X_test, y_train, y_test = train_test_split(final\n",
        ",df_label.labels, test_size=1, shuffle=True, random_state=42)"
      ],
      "execution_count": null,
      "outputs": []
    },
    {
      "cell_type": "code",
      "metadata": {
        "id": "V_5YUhdt0-Dl",
        "colab_type": "code",
        "colab": {}
      },
      "source": [
        "# one hot encode the target \n",
        "lb = LabelEncoder()\n",
        "y_train = np_utils.to_categorical(lb.fit_transform(y_train))\n",
        "y_test = np_utils.to_categorical(lb.fit_transform(y_test))\n",
        "\n",
        "# Normalization as per the standard NN process\n",
        "mean = np.mean(X_train, axis=0)\n",
        "std = np.std(X_train, axis=0)\n",
        "\n",
        "X_train = (X_train - mean)/std\n",
        "X_test = (X_test - mean)/std"
      ],
      "execution_count": null,
      "outputs": []
    },
    {
      "cell_type": "code",
      "metadata": {
        "id": "VE7wavFG5Ikx",
        "colab_type": "code",
        "colab": {
          "base_uri": "https://localhost:8080/",
          "height": 35
        },
        "outputId": "a2ce4117-ad8c-458b-b868-5bda10d92547"
      },
      "source": [
        "model_json = model.to_json()\n",
        "with open(\"/gdrive/My Drive/Audio_Sentiment/models/json/gender_newdata_5.json\", \"w\") as json_file:\n",
        "    json_file.write(model_json)\n",
        "# serialize weights t o HDF5\n",
        "model.save_weights(\"/gdrive/My Drive/Audio_Sentiment/models/gender_newdata_5.hdf5\")\n",
        "print(\"Saved model to disk\")"
      ],
      "execution_count": null,
      "outputs": [
        {
          "output_type": "stream",
          "text": [
            "Saved model to disk\n"
          ],
          "name": "stdout"
        }
      ]
    },
    {
      "cell_type": "code",
      "metadata": {
        "id": "QKqrcISbXga2",
        "colab_type": "code",
        "colab": {
          "base_uri": "https://localhost:8080/",
          "height": 1000
        },
        "outputId": "f94e067e-99bb-4bf6-a88d-d53a9942ce00"
      },
      "source": [
        "model_checkpoint = ModelCheckpoint('/gdrive/My Drive/Audio_Sentiment/models/hdf5/gender_newdata_5.hdf5',verbose=2,period=20)\n",
        "history=model.fit(X_train,y_train,initial_epoch=60,epochs=80,batch_size=16,verbose=2,shuffle=True,callbacks=[model_checkpoint])"
      ],
      "execution_count": null,
      "outputs": [
        {
          "output_type": "stream",
          "text": [
            "Epoch 61/80\n",
            " - 52s - loss: 8.2452e-06 - accuracy: 1.0000\n",
            "Epoch 62/80\n",
            " - 52s - loss: 9.3263e-06 - accuracy: 1.0000\n",
            "Epoch 63/80\n",
            " - 52s - loss: 2.1174e-05 - accuracy: 1.0000\n",
            "Epoch 64/80\n",
            " - 52s - loss: 1.0683e-05 - accuracy: 1.0000\n",
            "Epoch 65/80\n",
            " - 52s - loss: 9.8571e-06 - accuracy: 1.0000\n",
            "Epoch 66/80\n",
            " - 52s - loss: 9.7242e-06 - accuracy: 1.0000\n",
            "Epoch 67/80\n",
            " - 52s - loss: 1.0520e-05 - accuracy: 1.0000\n",
            "Epoch 68/80\n",
            " - 52s - loss: 8.4295e-06 - accuracy: 1.0000\n",
            "Epoch 69/80\n",
            " - 52s - loss: 8.9032e-06 - accuracy: 1.0000\n",
            "Epoch 70/80\n",
            " - 52s - loss: 8.1439e-06 - accuracy: 1.0000\n",
            "Epoch 71/80\n",
            " - 52s - loss: 7.5609e-06 - accuracy: 1.0000\n",
            "Epoch 72/80\n",
            " - 52s - loss: 8.2313e-06 - accuracy: 1.0000\n",
            "Epoch 73/80\n",
            " - 52s - loss: 1.0702e-05 - accuracy: 1.0000\n",
            "Epoch 74/80\n",
            " - 52s - loss: 8.1640e-06 - accuracy: 1.0000\n",
            "Epoch 75/80\n",
            " - 52s - loss: 7.2532e-06 - accuracy: 1.0000\n",
            "Epoch 76/80\n",
            " - 52s - loss: 6.7906e-06 - accuracy: 1.0000\n",
            "Epoch 77/80\n",
            " - 52s - loss: 6.9104e-06 - accuracy: 1.0000\n",
            "Epoch 78/80\n",
            " - 52s - loss: 6.8337e-06 - accuracy: 1.0000\n",
            "Epoch 79/80\n",
            " - 52s - loss: 6.3926e-06 - accuracy: 1.0000\n",
            "Epoch 80/80\n",
            " - 52s - loss: 7.9144e-06 - accuracy: 1.0000\n",
            "\n",
            "Epoch 00080: saving model to /gdrive/My Drive/Audio_Sentiment/models/hdf5/gender_newdata_5.hdf5\n"
          ],
          "name": "stdout"
        },
        {
          "output_type": "error",
          "ename": "OSError",
          "evalue": "ignored",
          "traceback": [
            "\u001b[0;31m---------------------------------------------------------------------------\u001b[0m",
            "\u001b[0;31mOSError\u001b[0m                                   Traceback (most recent call last)",
            "\u001b[0;32m<ipython-input-26-819920e91675>\u001b[0m in \u001b[0;36m<module>\u001b[0;34m()\u001b[0m\n\u001b[1;32m      1\u001b[0m \u001b[0mmodel_checkpoint\u001b[0m \u001b[0;34m=\u001b[0m \u001b[0mModelCheckpoint\u001b[0m\u001b[0;34m(\u001b[0m\u001b[0;34m'/gdrive/My Drive/Audio_Sentiment/models/hdf5/gender_newdata_5.hdf5'\u001b[0m\u001b[0;34m,\u001b[0m\u001b[0mverbose\u001b[0m\u001b[0;34m=\u001b[0m\u001b[0;36m2\u001b[0m\u001b[0;34m,\u001b[0m\u001b[0mperiod\u001b[0m\u001b[0;34m=\u001b[0m\u001b[0;36m20\u001b[0m\u001b[0;34m)\u001b[0m\u001b[0;34m\u001b[0m\u001b[0;34m\u001b[0m\u001b[0m\n\u001b[0;32m----> 2\u001b[0;31m \u001b[0mhistory\u001b[0m\u001b[0;34m=\u001b[0m\u001b[0mmodel\u001b[0m\u001b[0;34m.\u001b[0m\u001b[0mfit\u001b[0m\u001b[0;34m(\u001b[0m\u001b[0mX_train\u001b[0m\u001b[0;34m,\u001b[0m\u001b[0my_train\u001b[0m\u001b[0;34m,\u001b[0m\u001b[0minitial_epoch\u001b[0m\u001b[0;34m=\u001b[0m\u001b[0;36m60\u001b[0m\u001b[0;34m,\u001b[0m\u001b[0mepochs\u001b[0m\u001b[0;34m=\u001b[0m\u001b[0;36m80\u001b[0m\u001b[0;34m,\u001b[0m\u001b[0mbatch_size\u001b[0m\u001b[0;34m=\u001b[0m\u001b[0;36m16\u001b[0m\u001b[0;34m,\u001b[0m\u001b[0mverbose\u001b[0m\u001b[0;34m=\u001b[0m\u001b[0;36m2\u001b[0m\u001b[0;34m,\u001b[0m\u001b[0mshuffle\u001b[0m\u001b[0;34m=\u001b[0m\u001b[0;32mTrue\u001b[0m\u001b[0;34m,\u001b[0m\u001b[0mcallbacks\u001b[0m\u001b[0;34m=\u001b[0m\u001b[0;34m[\u001b[0m\u001b[0mmodel_checkpoint\u001b[0m\u001b[0;34m]\u001b[0m\u001b[0;34m)\u001b[0m\u001b[0;34m\u001b[0m\u001b[0;34m\u001b[0m\u001b[0m\n\u001b[0m",
            "\u001b[0;32m/usr/local/lib/python3.6/dist-packages/keras/engine/training.py\u001b[0m in \u001b[0;36mfit\u001b[0;34m(self, x, y, batch_size, epochs, verbose, callbacks, validation_split, validation_data, shuffle, class_weight, sample_weight, initial_epoch, steps_per_epoch, validation_steps, validation_freq, max_queue_size, workers, use_multiprocessing, **kwargs)\u001b[0m\n\u001b[1;32m   1237\u001b[0m                                         \u001b[0msteps_per_epoch\u001b[0m\u001b[0;34m=\u001b[0m\u001b[0msteps_per_epoch\u001b[0m\u001b[0;34m,\u001b[0m\u001b[0;34m\u001b[0m\u001b[0;34m\u001b[0m\u001b[0m\n\u001b[1;32m   1238\u001b[0m                                         \u001b[0mvalidation_steps\u001b[0m\u001b[0;34m=\u001b[0m\u001b[0mvalidation_steps\u001b[0m\u001b[0;34m,\u001b[0m\u001b[0;34m\u001b[0m\u001b[0;34m\u001b[0m\u001b[0m\n\u001b[0;32m-> 1239\u001b[0;31m                                         validation_freq=validation_freq)\n\u001b[0m\u001b[1;32m   1240\u001b[0m \u001b[0;34m\u001b[0m\u001b[0m\n\u001b[1;32m   1241\u001b[0m     def evaluate(self,\n",
            "\u001b[0;32m/usr/local/lib/python3.6/dist-packages/keras/engine/training_arrays.py\u001b[0m in \u001b[0;36mfit_loop\u001b[0;34m(model, fit_function, fit_inputs, out_labels, batch_size, epochs, verbose, callbacks, val_function, val_inputs, shuffle, initial_epoch, steps_per_epoch, validation_steps, validation_freq)\u001b[0m\n\u001b[1;32m    214\u001b[0m                         \u001b[0mepoch_logs\u001b[0m\u001b[0;34m[\u001b[0m\u001b[0;34m'val_'\u001b[0m \u001b[0;34m+\u001b[0m \u001b[0ml\u001b[0m\u001b[0;34m]\u001b[0m \u001b[0;34m=\u001b[0m \u001b[0mo\u001b[0m\u001b[0;34m\u001b[0m\u001b[0;34m\u001b[0m\u001b[0m\n\u001b[1;32m    215\u001b[0m \u001b[0;34m\u001b[0m\u001b[0m\n\u001b[0;32m--> 216\u001b[0;31m         \u001b[0mcallbacks\u001b[0m\u001b[0;34m.\u001b[0m\u001b[0mon_epoch_end\u001b[0m\u001b[0;34m(\u001b[0m\u001b[0mepoch\u001b[0m\u001b[0;34m,\u001b[0m \u001b[0mepoch_logs\u001b[0m\u001b[0;34m)\u001b[0m\u001b[0;34m\u001b[0m\u001b[0;34m\u001b[0m\u001b[0m\n\u001b[0m\u001b[1;32m    217\u001b[0m         \u001b[0;32mif\u001b[0m \u001b[0mcallbacks\u001b[0m\u001b[0;34m.\u001b[0m\u001b[0mmodel\u001b[0m\u001b[0;34m.\u001b[0m\u001b[0mstop_training\u001b[0m\u001b[0;34m:\u001b[0m\u001b[0;34m\u001b[0m\u001b[0;34m\u001b[0m\u001b[0m\n\u001b[1;32m    218\u001b[0m             \u001b[0;32mbreak\u001b[0m\u001b[0;34m\u001b[0m\u001b[0;34m\u001b[0m\u001b[0m\n",
            "\u001b[0;32m/usr/local/lib/python3.6/dist-packages/keras/callbacks/callbacks.py\u001b[0m in \u001b[0;36mon_epoch_end\u001b[0;34m(self, epoch, logs)\u001b[0m\n\u001b[1;32m    150\u001b[0m         \u001b[0mlogs\u001b[0m \u001b[0;34m=\u001b[0m \u001b[0mlogs\u001b[0m \u001b[0;32mor\u001b[0m \u001b[0;34m{\u001b[0m\u001b[0;34m}\u001b[0m\u001b[0;34m\u001b[0m\u001b[0;34m\u001b[0m\u001b[0m\n\u001b[1;32m    151\u001b[0m         \u001b[0;32mfor\u001b[0m \u001b[0mcallback\u001b[0m \u001b[0;32min\u001b[0m \u001b[0mself\u001b[0m\u001b[0;34m.\u001b[0m\u001b[0mcallbacks\u001b[0m\u001b[0;34m:\u001b[0m\u001b[0;34m\u001b[0m\u001b[0;34m\u001b[0m\u001b[0m\n\u001b[0;32m--> 152\u001b[0;31m             \u001b[0mcallback\u001b[0m\u001b[0;34m.\u001b[0m\u001b[0mon_epoch_end\u001b[0m\u001b[0;34m(\u001b[0m\u001b[0mepoch\u001b[0m\u001b[0;34m,\u001b[0m \u001b[0mlogs\u001b[0m\u001b[0;34m)\u001b[0m\u001b[0;34m\u001b[0m\u001b[0;34m\u001b[0m\u001b[0m\n\u001b[0m\u001b[1;32m    153\u001b[0m \u001b[0;34m\u001b[0m\u001b[0m\n\u001b[1;32m    154\u001b[0m     \u001b[0;32mdef\u001b[0m \u001b[0mon_train_batch_begin\u001b[0m\u001b[0;34m(\u001b[0m\u001b[0mself\u001b[0m\u001b[0;34m,\u001b[0m \u001b[0mbatch\u001b[0m\u001b[0;34m,\u001b[0m \u001b[0mlogs\u001b[0m\u001b[0;34m=\u001b[0m\u001b[0;32mNone\u001b[0m\u001b[0;34m)\u001b[0m\u001b[0;34m:\u001b[0m\u001b[0;34m\u001b[0m\u001b[0;34m\u001b[0m\u001b[0m\n",
            "\u001b[0;32m/usr/local/lib/python3.6/dist-packages/keras/callbacks/callbacks.py\u001b[0m in \u001b[0;36mon_epoch_end\u001b[0;34m(self, epoch, logs)\u001b[0m\n\u001b[1;32m    728\u001b[0m                     \u001b[0mself\u001b[0m\u001b[0;34m.\u001b[0m\u001b[0mmodel\u001b[0m\u001b[0;34m.\u001b[0m\u001b[0msave_weights\u001b[0m\u001b[0;34m(\u001b[0m\u001b[0mfilepath\u001b[0m\u001b[0;34m,\u001b[0m \u001b[0moverwrite\u001b[0m\u001b[0;34m=\u001b[0m\u001b[0;32mTrue\u001b[0m\u001b[0;34m)\u001b[0m\u001b[0;34m\u001b[0m\u001b[0;34m\u001b[0m\u001b[0m\n\u001b[1;32m    729\u001b[0m                 \u001b[0;32melse\u001b[0m\u001b[0;34m:\u001b[0m\u001b[0;34m\u001b[0m\u001b[0;34m\u001b[0m\u001b[0m\n\u001b[0;32m--> 730\u001b[0;31m                     \u001b[0mself\u001b[0m\u001b[0;34m.\u001b[0m\u001b[0mmodel\u001b[0m\u001b[0;34m.\u001b[0m\u001b[0msave\u001b[0m\u001b[0;34m(\u001b[0m\u001b[0mfilepath\u001b[0m\u001b[0;34m,\u001b[0m \u001b[0moverwrite\u001b[0m\u001b[0;34m=\u001b[0m\u001b[0;32mTrue\u001b[0m\u001b[0;34m)\u001b[0m\u001b[0;34m\u001b[0m\u001b[0;34m\u001b[0m\u001b[0m\n\u001b[0m\u001b[1;32m    731\u001b[0m \u001b[0;34m\u001b[0m\u001b[0m\n\u001b[1;32m    732\u001b[0m \u001b[0;34m\u001b[0m\u001b[0m\n",
            "\u001b[0;32m/usr/local/lib/python3.6/dist-packages/keras/engine/network.py\u001b[0m in \u001b[0;36msave\u001b[0;34m(self, filepath, overwrite, include_optimizer)\u001b[0m\n\u001b[1;32m   1150\u001b[0m             \u001b[0;32mraise\u001b[0m \u001b[0mNotImplementedError\u001b[0m\u001b[0;34m\u001b[0m\u001b[0;34m\u001b[0m\u001b[0m\n\u001b[1;32m   1151\u001b[0m         \u001b[0;32mfrom\u001b[0m \u001b[0;34m.\u001b[0m\u001b[0;34m.\u001b[0m\u001b[0mmodels\u001b[0m \u001b[0;32mimport\u001b[0m \u001b[0msave_model\u001b[0m\u001b[0;34m\u001b[0m\u001b[0;34m\u001b[0m\u001b[0m\n\u001b[0;32m-> 1152\u001b[0;31m         \u001b[0msave_model\u001b[0m\u001b[0;34m(\u001b[0m\u001b[0mself\u001b[0m\u001b[0;34m,\u001b[0m \u001b[0mfilepath\u001b[0m\u001b[0;34m,\u001b[0m \u001b[0moverwrite\u001b[0m\u001b[0;34m,\u001b[0m \u001b[0minclude_optimizer\u001b[0m\u001b[0;34m)\u001b[0m\u001b[0;34m\u001b[0m\u001b[0;34m\u001b[0m\u001b[0m\n\u001b[0m\u001b[1;32m   1153\u001b[0m \u001b[0;34m\u001b[0m\u001b[0m\n\u001b[1;32m   1154\u001b[0m     \u001b[0;34m@\u001b[0m\u001b[0msaving\u001b[0m\u001b[0;34m.\u001b[0m\u001b[0mallow_write_to_gcs\u001b[0m\u001b[0;34m\u001b[0m\u001b[0;34m\u001b[0m\u001b[0m\n",
            "\u001b[0;32m/usr/local/lib/python3.6/dist-packages/keras/engine/saving.py\u001b[0m in \u001b[0;36msave_wrapper\u001b[0;34m(obj, filepath, overwrite, *args, **kwargs)\u001b[0m\n\u001b[1;32m    447\u001b[0m                 \u001b[0mos\u001b[0m\u001b[0;34m.\u001b[0m\u001b[0mremove\u001b[0m\u001b[0;34m(\u001b[0m\u001b[0mtmp_filepath\u001b[0m\u001b[0;34m)\u001b[0m\u001b[0;34m\u001b[0m\u001b[0;34m\u001b[0m\u001b[0m\n\u001b[1;32m    448\u001b[0m         \u001b[0;32melse\u001b[0m\u001b[0;34m:\u001b[0m\u001b[0;34m\u001b[0m\u001b[0;34m\u001b[0m\u001b[0m\n\u001b[0;32m--> 449\u001b[0;31m             \u001b[0msave_function\u001b[0m\u001b[0;34m(\u001b[0m\u001b[0mobj\u001b[0m\u001b[0;34m,\u001b[0m \u001b[0mfilepath\u001b[0m\u001b[0;34m,\u001b[0m \u001b[0moverwrite\u001b[0m\u001b[0;34m,\u001b[0m \u001b[0;34m*\u001b[0m\u001b[0margs\u001b[0m\u001b[0;34m,\u001b[0m \u001b[0;34m**\u001b[0m\u001b[0mkwargs\u001b[0m\u001b[0;34m)\u001b[0m\u001b[0;34m\u001b[0m\u001b[0;34m\u001b[0m\u001b[0m\n\u001b[0m\u001b[1;32m    450\u001b[0m \u001b[0;34m\u001b[0m\u001b[0m\n\u001b[1;32m    451\u001b[0m     \u001b[0;32mreturn\u001b[0m \u001b[0msave_wrapper\u001b[0m\u001b[0;34m\u001b[0m\u001b[0;34m\u001b[0m\u001b[0m\n",
            "\u001b[0;32m/usr/local/lib/python3.6/dist-packages/keras/engine/saving.py\u001b[0m in \u001b[0;36msave_model\u001b[0;34m(model, filepath, overwrite, include_optimizer)\u001b[0m\n\u001b[1;32m    538\u001b[0m             \u001b[0;32mif\u001b[0m \u001b[0;32mnot\u001b[0m \u001b[0mproceed\u001b[0m\u001b[0;34m:\u001b[0m\u001b[0;34m\u001b[0m\u001b[0;34m\u001b[0m\u001b[0m\n\u001b[1;32m    539\u001b[0m                 \u001b[0;32mreturn\u001b[0m\u001b[0;34m\u001b[0m\u001b[0;34m\u001b[0m\u001b[0m\n\u001b[0;32m--> 540\u001b[0;31m         \u001b[0;32mwith\u001b[0m \u001b[0mH5Dict\u001b[0m\u001b[0;34m(\u001b[0m\u001b[0mfilepath\u001b[0m\u001b[0;34m,\u001b[0m \u001b[0mmode\u001b[0m\u001b[0;34m=\u001b[0m\u001b[0;34m'w'\u001b[0m\u001b[0;34m)\u001b[0m \u001b[0;32mas\u001b[0m \u001b[0mh5dict\u001b[0m\u001b[0;34m:\u001b[0m\u001b[0;34m\u001b[0m\u001b[0;34m\u001b[0m\u001b[0m\n\u001b[0m\u001b[1;32m    541\u001b[0m             \u001b[0m_serialize_model\u001b[0m\u001b[0;34m(\u001b[0m\u001b[0mmodel\u001b[0m\u001b[0;34m,\u001b[0m \u001b[0mh5dict\u001b[0m\u001b[0;34m,\u001b[0m \u001b[0minclude_optimizer\u001b[0m\u001b[0;34m)\u001b[0m\u001b[0;34m\u001b[0m\u001b[0;34m\u001b[0m\u001b[0m\n\u001b[1;32m    542\u001b[0m     \u001b[0;32melif\u001b[0m \u001b[0mhasattr\u001b[0m\u001b[0;34m(\u001b[0m\u001b[0mfilepath\u001b[0m\u001b[0;34m,\u001b[0m \u001b[0;34m'write'\u001b[0m\u001b[0;34m)\u001b[0m \u001b[0;32mand\u001b[0m \u001b[0mcallable\u001b[0m\u001b[0;34m(\u001b[0m\u001b[0mfilepath\u001b[0m\u001b[0;34m.\u001b[0m\u001b[0mwrite\u001b[0m\u001b[0;34m)\u001b[0m\u001b[0;34m:\u001b[0m\u001b[0;34m\u001b[0m\u001b[0;34m\u001b[0m\u001b[0m\n",
            "\u001b[0;32m/usr/local/lib/python3.6/dist-packages/keras/utils/io_utils.py\u001b[0m in \u001b[0;36m__init__\u001b[0;34m(self, path, mode)\u001b[0m\n\u001b[1;32m    189\u001b[0m             \u001b[0mself\u001b[0m\u001b[0;34m.\u001b[0m\u001b[0m_is_file\u001b[0m \u001b[0;34m=\u001b[0m \u001b[0;32mFalse\u001b[0m\u001b[0;34m\u001b[0m\u001b[0;34m\u001b[0m\u001b[0m\n\u001b[1;32m    190\u001b[0m         \u001b[0;32melif\u001b[0m \u001b[0misinstance\u001b[0m\u001b[0;34m(\u001b[0m\u001b[0mpath\u001b[0m\u001b[0;34m,\u001b[0m \u001b[0msix\u001b[0m\u001b[0;34m.\u001b[0m\u001b[0mstring_types\u001b[0m\u001b[0;34m)\u001b[0m \u001b[0;32mor\u001b[0m \u001b[0m_is_path_instance\u001b[0m\u001b[0;34m(\u001b[0m\u001b[0mpath\u001b[0m\u001b[0;34m)\u001b[0m\u001b[0;34m:\u001b[0m\u001b[0;34m\u001b[0m\u001b[0;34m\u001b[0m\u001b[0m\n\u001b[0;32m--> 191\u001b[0;31m             \u001b[0mself\u001b[0m\u001b[0;34m.\u001b[0m\u001b[0mdata\u001b[0m \u001b[0;34m=\u001b[0m \u001b[0mh5py\u001b[0m\u001b[0;34m.\u001b[0m\u001b[0mFile\u001b[0m\u001b[0;34m(\u001b[0m\u001b[0mpath\u001b[0m\u001b[0;34m,\u001b[0m \u001b[0mmode\u001b[0m\u001b[0;34m=\u001b[0m\u001b[0mmode\u001b[0m\u001b[0;34m)\u001b[0m\u001b[0;34m\u001b[0m\u001b[0;34m\u001b[0m\u001b[0m\n\u001b[0m\u001b[1;32m    192\u001b[0m             \u001b[0mself\u001b[0m\u001b[0;34m.\u001b[0m\u001b[0m_is_file\u001b[0m \u001b[0;34m=\u001b[0m \u001b[0;32mTrue\u001b[0m\u001b[0;34m\u001b[0m\u001b[0;34m\u001b[0m\u001b[0m\n\u001b[1;32m    193\u001b[0m         \u001b[0;32melif\u001b[0m \u001b[0misinstance\u001b[0m\u001b[0;34m(\u001b[0m\u001b[0mpath\u001b[0m\u001b[0;34m,\u001b[0m \u001b[0mdict\u001b[0m\u001b[0;34m)\u001b[0m\u001b[0;34m:\u001b[0m\u001b[0;34m\u001b[0m\u001b[0;34m\u001b[0m\u001b[0m\n",
            "\u001b[0;32m/usr/local/lib/python3.6/dist-packages/h5py/_hl/files.py\u001b[0m in \u001b[0;36m__init__\u001b[0;34m(self, name, mode, driver, libver, userblock_size, swmr, rdcc_nslots, rdcc_nbytes, rdcc_w0, track_order, **kwds)\u001b[0m\n\u001b[1;32m    406\u001b[0m                 fid = make_fid(name, mode, userblock_size,\n\u001b[1;32m    407\u001b[0m                                \u001b[0mfapl\u001b[0m\u001b[0;34m,\u001b[0m \u001b[0mfcpl\u001b[0m\u001b[0;34m=\u001b[0m\u001b[0mmake_fcpl\u001b[0m\u001b[0;34m(\u001b[0m\u001b[0mtrack_order\u001b[0m\u001b[0;34m=\u001b[0m\u001b[0mtrack_order\u001b[0m\u001b[0;34m)\u001b[0m\u001b[0;34m,\u001b[0m\u001b[0;34m\u001b[0m\u001b[0;34m\u001b[0m\u001b[0m\n\u001b[0;32m--> 408\u001b[0;31m                                swmr=swmr)\n\u001b[0m\u001b[1;32m    409\u001b[0m \u001b[0;34m\u001b[0m\u001b[0m\n\u001b[1;32m    410\u001b[0m             \u001b[0;32mif\u001b[0m \u001b[0misinstance\u001b[0m\u001b[0;34m(\u001b[0m\u001b[0mlibver\u001b[0m\u001b[0;34m,\u001b[0m \u001b[0mtuple\u001b[0m\u001b[0;34m)\u001b[0m\u001b[0;34m:\u001b[0m\u001b[0;34m\u001b[0m\u001b[0;34m\u001b[0m\u001b[0m\n",
            "\u001b[0;32m/usr/local/lib/python3.6/dist-packages/h5py/_hl/files.py\u001b[0m in \u001b[0;36mmake_fid\u001b[0;34m(name, mode, userblock_size, fapl, fcpl, swmr)\u001b[0m\n\u001b[1;32m    177\u001b[0m         \u001b[0mfid\u001b[0m \u001b[0;34m=\u001b[0m \u001b[0mh5f\u001b[0m\u001b[0;34m.\u001b[0m\u001b[0mcreate\u001b[0m\u001b[0;34m(\u001b[0m\u001b[0mname\u001b[0m\u001b[0;34m,\u001b[0m \u001b[0mh5f\u001b[0m\u001b[0;34m.\u001b[0m\u001b[0mACC_EXCL\u001b[0m\u001b[0;34m,\u001b[0m \u001b[0mfapl\u001b[0m\u001b[0;34m=\u001b[0m\u001b[0mfapl\u001b[0m\u001b[0;34m,\u001b[0m \u001b[0mfcpl\u001b[0m\u001b[0;34m=\u001b[0m\u001b[0mfcpl\u001b[0m\u001b[0;34m)\u001b[0m\u001b[0;34m\u001b[0m\u001b[0;34m\u001b[0m\u001b[0m\n\u001b[1;32m    178\u001b[0m     \u001b[0;32melif\u001b[0m \u001b[0mmode\u001b[0m \u001b[0;34m==\u001b[0m \u001b[0;34m'w'\u001b[0m\u001b[0;34m:\u001b[0m\u001b[0;34m\u001b[0m\u001b[0;34m\u001b[0m\u001b[0m\n\u001b[0;32m--> 179\u001b[0;31m         \u001b[0mfid\u001b[0m \u001b[0;34m=\u001b[0m \u001b[0mh5f\u001b[0m\u001b[0;34m.\u001b[0m\u001b[0mcreate\u001b[0m\u001b[0;34m(\u001b[0m\u001b[0mname\u001b[0m\u001b[0;34m,\u001b[0m \u001b[0mh5f\u001b[0m\u001b[0;34m.\u001b[0m\u001b[0mACC_TRUNC\u001b[0m\u001b[0;34m,\u001b[0m \u001b[0mfapl\u001b[0m\u001b[0;34m=\u001b[0m\u001b[0mfapl\u001b[0m\u001b[0;34m,\u001b[0m \u001b[0mfcpl\u001b[0m\u001b[0;34m=\u001b[0m\u001b[0mfcpl\u001b[0m\u001b[0;34m)\u001b[0m\u001b[0;34m\u001b[0m\u001b[0;34m\u001b[0m\u001b[0m\n\u001b[0m\u001b[1;32m    180\u001b[0m     \u001b[0;32melif\u001b[0m \u001b[0mmode\u001b[0m \u001b[0;34m==\u001b[0m \u001b[0;34m'a'\u001b[0m\u001b[0;34m:\u001b[0m\u001b[0;34m\u001b[0m\u001b[0;34m\u001b[0m\u001b[0m\n\u001b[1;32m    181\u001b[0m         \u001b[0;31m# Open in append mode (read/write).\u001b[0m\u001b[0;34m\u001b[0m\u001b[0;34m\u001b[0m\u001b[0;34m\u001b[0m\u001b[0m\n",
            "\u001b[0;32mh5py/_objects.pyx\u001b[0m in \u001b[0;36mh5py._objects.with_phil.wrapper\u001b[0;34m()\u001b[0m\n",
            "\u001b[0;32mh5py/_objects.pyx\u001b[0m in \u001b[0;36mh5py._objects.with_phil.wrapper\u001b[0;34m()\u001b[0m\n",
            "\u001b[0;32mh5py/h5f.pyx\u001b[0m in \u001b[0;36mh5py.h5f.create\u001b[0;34m()\u001b[0m\n",
            "\u001b[0;31mOSError\u001b[0m: Unable to create file (unable to open file: name = '/gdrive/My Drive/Audio_Sentiment/models/hdf5/gender_newdata_5.hdf5', errno = 5, error message = 'Input/output error', flags = 13, o_flags = 242)"
          ]
        }
      ]
    }
  ]
}