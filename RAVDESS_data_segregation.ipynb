{
  "nbformat": 4,
  "nbformat_minor": 0,
  "metadata": {
    "colab": {
      "name": "RAVDESS_data_segregation.ipynb",
      "provenance": [],
      "authorship_tag": "ABX9TyMXKciqxRFC1mBuxrZIfhPj",
      "include_colab_link": true
    },
    "kernelspec": {
      "name": "python3",
      "display_name": "Python 3"
    }
  },
  "cells": [
    {
      "cell_type": "markdown",
      "metadata": {
        "id": "view-in-github",
        "colab_type": "text"
      },
      "source": [
        "<a href=\"https://colab.research.google.com/github/pallavipandey99/Audio_Sentiment/blob/pallu/RAVDESS_data_segregation.ipynb\" target=\"_parent\"><img src=\"https://colab.research.google.com/assets/colab-badge.svg\" alt=\"Open In Colab\"/></a>"
      ]
    },
    {
      "cell_type": "code",
      "metadata": {
        "id": "3oeD5bue2p9P",
        "colab_type": "code",
        "colab": {
          "base_uri": "https://localhost:8080/",
          "height": 35
        },
        "outputId": "947451ec-61b2-4038-be84-4bfdf2847b6a"
      },
      "source": [
        "from google.colab import drive\n",
        "drive.mount('/gdrive', force_remount=True)"
      ],
      "execution_count": 58,
      "outputs": [
        {
          "output_type": "stream",
          "text": [
            "Mounted at /gdrive\n"
          ],
          "name": "stdout"
        }
      ]
    },
    {
      "cell_type": "code",
      "metadata": {
        "id": "5LwUcUWz4YiB",
        "colab_type": "code",
        "colab": {}
      },
      "source": [
        "# Import libraries \n",
        "import librosa\n",
        "import librosa.display\n",
        "import numpy as np\n",
        "import matplotlib.pyplot as plt\n",
        "import tensorflow as tf\n",
        "from matplotlib.pyplot import specgram\n",
        "import pandas as pd\n",
        "import glob \n",
        "from sklearn.metrics import confusion_matrix\n",
        "import IPython.display as ipd  # To play sound in the notebook\n",
        "import os\n",
        "import sys\n",
        "import warnings\n",
        "# ignore warnings \n",
        "if not sys.warnoptions:\n",
        "    warnings.simplefilter(\"ignore\")\n",
        "warnings.filterwarnings(\"ignore\", category=DeprecationWarning) "
      ],
      "execution_count": 59,
      "outputs": []
    },
    {
      "cell_type": "code",
      "metadata": {
        "id": "jU0PvEIG4jAD",
        "colab_type": "code",
        "colab": {
          "base_uri": "https://localhost:8080/",
          "height": 106
        },
        "outputId": "dcc6396d-2389-4470-a55e-1cbafc3b7235"
      },
      "source": [
        "#TESS = \"/gdrive/My Drive/Audio_files/Female_audio/\"\n",
        "RAVDESS_1 = \"/gdrive/My Drive/Audio_files/Male_audio/RAVDESS/Actor_01\"\n",
        "#iterating through all odd actors\n",
        " \n",
        "# Run one example \n",
        "RAVDESS_list = os.listdir(RAVDESS_1)\n",
        "RAVDESS_list[0:5]"
      ],
      "execution_count": 37,
      "outputs": [
        {
          "output_type": "execute_result",
          "data": {
            "text/plain": [
              "['03-01-01-01-01-01-01.wav',\n",
              " '03-01-02-01-02-01-01.wav',\n",
              " '03-01-01-01-02-01-01.wav',\n",
              " '03-01-01-01-01-02-01.wav',\n",
              " '03-01-01-01-02-02-01.wav']"
            ]
          },
          "metadata": {
            "tags": []
          },
          "execution_count": 37
        }
      ]
    },
    {
      "cell_type": "code",
      "metadata": {
        "id": "44pbtatV64kG",
        "colab_type": "code",
        "colab": {
          "base_uri": "https://localhost:8080/",
          "height": 35
        },
        "outputId": "b34bcbaa-1fb3-44e4-8976-ff511458a357"
      },
      "source": [
        "x=RAVDESS_list[0]\n",
        "print(x[6:8])"
      ],
      "execution_count": 38,
      "outputs": [
        {
          "output_type": "stream",
          "text": [
            "01\n"
          ],
          "name": "stdout"
        }
      ]
    },
    {
      "cell_type": "code",
      "metadata": {
        "id": "I0SqRMzO4vJE",
        "colab_type": "code",
        "colab": {}
      },
      "source": [
        "import shutil, os\n",
        "emotion=[]\n",
        "\n",
        "for i in RAVDESS_list:\n",
        "    if i[6:8]=='01':\n",
        "        emotion.append('male_neautral');\n",
        "        shutil.copy(RAVDESS_1+'/'+i , '/gdrive/My Drive/Audio_files/male_final/RAVDESS/Neutral')\n",
        "    elif i[6:8]=='02':\n",
        "        emotion.append('male_calm')\n",
        "        shutil.copy(RAVDESS_1+'/'+i , '/gdrive/My Drive/Audio_files/male_final/RAVDESS/Calm')\n",
        "    elif i[6:8]=='03':\n",
        "        emotion.append('male_happy')\n",
        "        shutil.copy(RAVDESS_1+'/'+i , '/gdrive/My Drive/Audio_files/male_final/RAVDESS/Happy')\n",
        "    elif i[6:8]=='04':\n",
        "        emotion.append('male_sad')\n",
        "        shutil.copy(RAVDESS_1+'/'+i , '/gdrive/My Drive/Audio_files/male_final/RAVDESS/Sad')\n",
        "    elif i[6:8]=='05':\n",
        "        emotion.append('male_angry')\n",
        "        shutil.copy(RAVDESS_1+'/'+i , '/gdrive/My Drive/Audio_files/male_final/RAVDESS/Angry')\n",
        "    elif i[6:8]=='07':\n",
        "        emotion.append('male_disgust')\n",
        "        shutil.copy(RAVDESS_1+'/'+i , '/gdrive/My Drive/Audio_files/male_final/RAVDESS/Disgust')\n",
        "    elif i[6:8]=='08':\n",
        "        emotion.append('male_surprise')\n",
        "        shutil.copy(RAVDESS_1+'/'+i , '/gdrive/My Drive/Audio_files/male_final/RAVDESS/Surprise')\n",
        "    else:\n",
        "        emotion.append('male_error') "
      ],
      "execution_count": 39,
      "outputs": []
    },
    {
      "cell_type": "code",
      "metadata": {
        "id": "8aHAA2rl9kfN",
        "colab_type": "code",
        "colab": {
          "base_uri": "https://localhost:8080/",
          "height": 106
        },
        "outputId": "b2061a1c-7558-443b-f207-9a5e0510902d"
      },
      "source": [
        "#Female RAVDESS\n",
        "RAVDESS = \"/gdrive/My Drive/Audio_files/Female_audio/RAVDESS/Actor_24\"\n",
        "#iterating through all even actors\n",
        "\n",
        "RAVDESS_F_list = os.listdir(RAVDESS)\n",
        "RAVDESS_F_list[0:5]"
      ],
      "execution_count": 92,
      "outputs": [
        {
          "output_type": "execute_result",
          "data": {
            "text/plain": [
              "['03-01-01-01-01-01-24.wav',\n",
              " '03-01-01-01-01-02-24.wav',\n",
              " '03-01-02-02-01-02-24.wav',\n",
              " '03-01-05-02-01-01-24.wav',\n",
              " '03-01-06-01-02-01-24.wav']"
            ]
          },
          "metadata": {
            "tags": []
          },
          "execution_count": 92
        }
      ]
    },
    {
      "cell_type": "code",
      "metadata": {
        "id": "AGGFQpN5EVtt",
        "colab_type": "code",
        "colab": {}
      },
      "source": [
        "female_emotion=[]\n",
        "# count=1\n",
        "for i in RAVDESS_F_list:\n",
        "    if i[6:8]=='01':\n",
        "      female_emotion.append('female_neutral')\n",
        "      shutil.copy((RAVDESS+'/'+i) , ('/gdrive/My Drive/Audio_files/female_final/RAVDESS/Calm/n'+str(count)+\".wav\"))\n",
        "      count+=1\n",
        "    elif i[6:8]=='02':\n",
        "        female_emotion.append('female_calm')\n",
        "        shutil.copy(RAVDESS+'/'+i , '/gdrive/My Drive/Audio_files/female_final/RAVDESS/Calm')\n",
        "    elif i[6:8]=='03':\n",
        "        female_emotion.append('female_happy')\n",
        "        shutil.copy(RAVDESS+'/'+i , '/gdrive/My Drive/Audio_files/female_final/RAVDESS/Happy')\n",
        "    elif i[6:8]=='04':\n",
        "        female_emotion.append('female_sad')\n",
        "        shutil.copy(RAVDESS+'/'+i , '/gdrive/My Drive/Audio_files/female_final/RAVDESS/Sad')\n",
        "    elif i[6:8]=='05':\n",
        "        female_emotion.append('female_angry')\n",
        "        shutil.copy(RAVDESS+'/'+i , '/gdrive/My Drive/Audio_files/female_final/RAVDESS/Angry')\n",
        "    elif i[6:8]=='07':\n",
        "        female_emotion.append('female_disgust')\n",
        "        shutil.copy(RAVDESS+'/'+i , '/gdrive/My Drive/Audio_files/female_final/RAVDESS/Disgust')\n",
        "    elif i[6:8]=='08':\n",
        "        female_emotion.append('female_surprise')\n",
        "        shutil.copy(RAVDESS+'/'+i , '/gdrive/My Drive/Audio_files/female_final/RAVDESS/Surprise')\n",
        "    else:\n",
        "        female_emotion.append('female_error') "
      ],
      "execution_count": 93,
      "outputs": []
    },
    {
      "cell_type": "code",
      "metadata": {
        "id": "zGOd-ql9FRtX",
        "colab_type": "code",
        "colab": {}
      },
      "source": [
        ""
      ],
      "execution_count": null,
      "outputs": []
    }
  ]
}