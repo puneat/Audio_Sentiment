{
  "nbformat": 4,
  "nbformat_minor": 0,
  "metadata": {
    "colab": {
      "name": "female_2d_model.ipynb",
      "provenance": [],
      "authorship_tag": "ABX9TyMZAGnD2v4062xzcGB0vB1H",
      "include_colab_link": true
    },
    "kernelspec": {
      "name": "python3",
      "display_name": "Python 3"
    },
    "accelerator": "GPU"
  },
  "cells": [
    {
      "cell_type": "markdown",
      "metadata": {
        "id": "view-in-github",
        "colab_type": "text"
      },
      "source": [
        "<a href=\"https://colab.research.google.com/github/puneat/Audio_Sentiment/blob/puneet/female_2d_model.ipynb\" target=\"_parent\"><img src=\"https://colab.research.google.com/assets/colab-badge.svg\" alt=\"Open In Colab\"/></a>"
      ]
    },
    {
      "cell_type": "code",
      "metadata": {
        "id": "WRi7JoGc3T3J",
        "colab_type": "code",
        "colab": {
          "base_uri": "https://localhost:8080/",
          "height": 120
        },
        "outputId": "de05b9cc-0cb9-4092-f660-2194a0c75819"
      },
      "source": [
        "from google.colab import drive\n",
        "drive.mount('/gdrive', force_remount=True)"
      ],
      "execution_count": 1,
      "outputs": [
        {
          "output_type": "stream",
          "text": [
            "Go to this URL in a browser: https://accounts.google.com/o/oauth2/auth?client_id=947318989803-6bn6qk8qdgf4n4g3pfee6491hc0brc4i.apps.googleusercontent.com&redirect_uri=urn%3aietf%3awg%3aoauth%3a2.0%3aoob&response_type=code&scope=email%20https%3a%2f%2fwww.googleapis.com%2fauth%2fdocs.test%20https%3a%2f%2fwww.googleapis.com%2fauth%2fdrive%20https%3a%2f%2fwww.googleapis.com%2fauth%2fdrive.photos.readonly%20https%3a%2f%2fwww.googleapis.com%2fauth%2fpeopleapi.readonly\n",
            "\n",
            "Enter your authorization code:\n",
            "··········\n",
            "Mounted at /gdrive\n"
          ],
          "name": "stdout"
        }
      ]
    },
    {
      "cell_type": "code",
      "metadata": {
        "_cell_guid": "79c7e3d0-c299-4dcb-8224-4455121ee9b0",
        "_uuid": "d629ff2d2480ee46fbb7e2d37f6b5fab8052498a",
        "id": "s_IdA4makRmI",
        "colab_type": "code",
        "colab": {
          "base_uri": "https://localhost:8080/",
          "height": 66
        },
        "outputId": "2dcbd2d9-be6f-4386-96aa-80d1bfaf0255"
      },
      "source": [
        "# Keras\n",
        "import keras\n",
        "from keras import regularizers\n",
        "from keras.preprocessing import sequence\n",
        "from keras.preprocessing.text import Tokenizer\n",
        "from keras.preprocessing.sequence import pad_sequences\n",
        "from keras.models import Sequential, Model, model_from_json\n",
        "from keras.layers import Dense, Embedding, LSTM\n",
        "from keras.layers import Input, Flatten, Dropout, Activation, BatchNormalization\n",
        "from keras.layers import Conv1D, MaxPooling1D, AveragePooling1D\n",
        "from keras.utils import np_utils, to_categorical\n",
        "from keras.callbacks import (EarlyStopping, LearningRateScheduler,\n",
        "                             ModelCheckpoint, TensorBoard, ReduceLROnPlateau)\n",
        "from keras import losses, models, optimizers\n",
        "from keras.activations import relu, softmax\n",
        "from keras.layers import (Convolution2D, GlobalAveragePooling2D, BatchNormalization, Flatten, Dropout,\n",
        "                          GlobalMaxPool2D, MaxPool2D, concatenate, Activation, Input, Dense)\n",
        "\n",
        "# sklearn\n",
        "from sklearn.metrics import confusion_matrix, accuracy_score\n",
        "from sklearn.model_selection import train_test_split\n",
        "from sklearn.preprocessing import LabelEncoder\n",
        "\n",
        "# Other  \n",
        "from tqdm import tqdm, tqdm_pandas\n",
        "import scipy\n",
        "from scipy.stats import skew\n",
        "import librosa\n",
        "import librosa.display\n",
        "import json\n",
        "import numpy as np\n",
        "import matplotlib.pyplot as plt\n",
        "import tensorflow as tf\n",
        "from matplotlib.pyplot import specgram\n",
        "import pandas as pd\n",
        "import seaborn as sns\n",
        "import glob \n",
        "import os\n",
        "import sys\n",
        "import IPython.display as ipd  # To play sound in the notebook\n",
        "import warnings\n",
        "# ignore warnings \n",
        "if not sys.warnoptions:\n",
        "    warnings.simplefilter(\"ignore\")"
      ],
      "execution_count": 2,
      "outputs": [
        {
          "output_type": "stream",
          "text": [
            "Using TensorFlow backend.\n",
            "/usr/local/lib/python3.6/dist-packages/statsmodels/tools/_testing.py:19: FutureWarning: pandas.util.testing is deprecated. Use the functions in the public API at pandas.testing instead.\n",
            "  import pandas.util.testing as tm\n"
          ],
          "name": "stderr"
        }
      ]
    },
    {
      "cell_type": "code",
      "metadata": {
        "id": "hlzWGoYm57me",
        "colab_type": "code",
        "colab": {
          "base_uri": "https://localhost:8080/",
          "height": 197
        },
        "outputId": "6125f6f5-1da1-430b-82da-9c8251aec2be"
      },
      "source": [
        "ref = pd.read_csv(\"/gdrive/My Drive/Audio_files/Combined_Dataframes/female_df.csv\")\n",
        "ref.head()"
      ],
      "execution_count": 4,
      "outputs": [
        {
          "output_type": "execute_result",
          "data": {
            "text/html": [
              "<div>\n",
              "<style scoped>\n",
              "    .dataframe tbody tr th:only-of-type {\n",
              "        vertical-align: middle;\n",
              "    }\n",
              "\n",
              "    .dataframe tbody tr th {\n",
              "        vertical-align: top;\n",
              "    }\n",
              "\n",
              "    .dataframe thead th {\n",
              "        text-align: right;\n",
              "    }\n",
              "</style>\n",
              "<table border=\"1\" class=\"dataframe\">\n",
              "  <thead>\n",
              "    <tr style=\"text-align: right;\">\n",
              "      <th></th>\n",
              "      <th>labels</th>\n",
              "      <th>source</th>\n",
              "      <th>path</th>\n",
              "    </tr>\n",
              "  </thead>\n",
              "  <tbody>\n",
              "    <tr>\n",
              "      <th>0</th>\n",
              "      <td>female_fear</td>\n",
              "      <td>TESS</td>\n",
              "      <td>/gdrive/My Drive/Audio_files/female_final/TESS...</td>\n",
              "    </tr>\n",
              "    <tr>\n",
              "      <th>1</th>\n",
              "      <td>female_fear</td>\n",
              "      <td>TESS</td>\n",
              "      <td>/gdrive/My Drive/Audio_files/female_final/TESS...</td>\n",
              "    </tr>\n",
              "    <tr>\n",
              "      <th>2</th>\n",
              "      <td>female_fear</td>\n",
              "      <td>TESS</td>\n",
              "      <td>/gdrive/My Drive/Audio_files/female_final/TESS...</td>\n",
              "    </tr>\n",
              "    <tr>\n",
              "      <th>3</th>\n",
              "      <td>female_fear</td>\n",
              "      <td>TESS</td>\n",
              "      <td>/gdrive/My Drive/Audio_files/female_final/TESS...</td>\n",
              "    </tr>\n",
              "    <tr>\n",
              "      <th>4</th>\n",
              "      <td>female_fear</td>\n",
              "      <td>TESS</td>\n",
              "      <td>/gdrive/My Drive/Audio_files/female_final/TESS...</td>\n",
              "    </tr>\n",
              "  </tbody>\n",
              "</table>\n",
              "</div>"
            ],
            "text/plain": [
              "        labels source                                               path\n",
              "0  female_fear   TESS  /gdrive/My Drive/Audio_files/female_final/TESS...\n",
              "1  female_fear   TESS  /gdrive/My Drive/Audio_files/female_final/TESS...\n",
              "2  female_fear   TESS  /gdrive/My Drive/Audio_files/female_final/TESS...\n",
              "3  female_fear   TESS  /gdrive/My Drive/Audio_files/female_final/TESS...\n",
              "4  female_fear   TESS  /gdrive/My Drive/Audio_files/female_final/TESS..."
            ]
          },
          "metadata": {
            "tags": []
          },
          "execution_count": 4
        }
      ]
    },
    {
      "cell_type": "code",
      "metadata": {
        "id": "aUR345uf-Ys5",
        "colab_type": "code",
        "colab": {}
      },
      "source": [
        "result=np.load('/gdrive/My Drive/Audio_files/Combined_Dataframes/female_2d_aug.npy')"
      ],
      "execution_count": 5,
      "outputs": []
    },
    {
      "cell_type": "code",
      "metadata": {
        "id": "Uixbj2K1l1lk",
        "colab_type": "code",
        "colab": {
          "base_uri": "https://localhost:8080/",
          "height": 33
        },
        "outputId": "b0b79bca-9f98-4d89-d899-63083be87aa9"
      },
      "source": [
        "result.shape"
      ],
      "execution_count": 6,
      "outputs": [
        {
          "output_type": "execute_result",
          "data": {
            "text/plain": [
              "(42174, 30, 216, 1)"
            ]
          },
          "metadata": {
            "tags": []
          },
          "execution_count": 6
        }
      ]
    },
    {
      "cell_type": "code",
      "metadata": {
        "id": "lovlFsbfdh-4",
        "colab_type": "code",
        "colab": {}
      },
      "source": [
        "frames=[ref,ref,ref,ref,ref,ref];\n",
        "df_label=pd.concat(frames);"
      ],
      "execution_count": 7,
      "outputs": []
    },
    {
      "cell_type": "code",
      "metadata": {
        "id": "BZOiLBmSbEZi",
        "colab_type": "code",
        "colab": {}
      },
      "source": [
        "nclass = 7\n",
        "inp = Input(shape=(30,216,1))  #2D matrix of 30 MFCC bands by 216 audio length.\n",
        "x = Convolution2D(32, (4,10), padding=\"same\")(inp)\n",
        "x = BatchNormalization()(x)\n",
        "x = Activation(\"relu\")(x)\n",
        "x = MaxPool2D()(x)\n",
        "x = Dropout(rate=0.2)(x)\n",
        "    \n",
        "x = Convolution2D(32, (4,10), padding=\"same\")(x)\n",
        "x = BatchNormalization()(x)\n",
        "x = Activation(\"relu\")(x)\n",
        "x = MaxPool2D()(x)\n",
        "x = Dropout(rate=0.2)(x)\n",
        "    \n",
        "x = Convolution2D(32, (4,10), padding=\"same\")(x)\n",
        "x = BatchNormalization()(x)\n",
        "x = Activation(\"relu\")(x)\n",
        "x = MaxPool2D()(x)\n",
        "x = Dropout(rate=0.2)(x)\n",
        "    \n",
        "x = Convolution2D(32, (4,10), padding=\"same\")(x)\n",
        "x = BatchNormalization()(x)\n",
        "x = Activation(\"relu\")(x)\n",
        "x = MaxPool2D()(x)\n",
        "x = Dropout(rate=0.2)(x)\n",
        "    \n",
        "x = Flatten()(x)\n",
        "x = Dense(64)(x)\n",
        "x = Dropout(rate=0.2)(x)\n",
        "x = BatchNormalization()(x)\n",
        "x = Activation(\"relu\")(x)\n",
        "x = Dropout(rate=0.2)(x)\n",
        "\n",
        "x = Dense(64)(x)\n",
        "x = Dropout(rate=0.2)(x)\n",
        "x = BatchNormalization()(x)\n",
        "x = Activation(\"relu\")(x)\n",
        "x = Dropout(rate=0.2)(x)\n",
        "    \n",
        "out = Dense(nclass, activation=softmax)(x)\n",
        "model = models.Model(inputs=inp, outputs=out)\n",
        "    \n",
        "opt = optimizers.Adam(0.001,amsgrad=True)\n",
        "model.compile(optimizer=opt, loss=losses.categorical_crossentropy, metrics=['acc'])"
      ],
      "execution_count": 19,
      "outputs": []
    },
    {
      "cell_type": "code",
      "metadata": {
        "id": "vI8KTyzYkRmY",
        "colab_type": "code",
        "colab": {}
      },
      "source": [
        "# Split between train and test \n",
        "X_train, X_test, y_train, y_test = train_test_split(result, df_label.labels, test_size=0.20, shuffle=True, random_state=42)\n",
        "\n",
        "# one hot encode the target \n",
        "lb = LabelEncoder()\n",
        "y_train = np_utils.to_categorical(lb.fit_transform(y_train))\n",
        "y_test = np_utils.to_categorical(lb.fit_transform(y_test))\n",
        "\n",
        "# Normalization as per the standard NN process\n",
        "mean = np.mean(X_train, axis=0)\n",
        "std = np.std(X_train, axis=0)\n",
        "\n",
        "X_train = (X_train - mean)/std\n",
        "X_test = (X_test - mean)/std\n"
      ],
      "execution_count": 10,
      "outputs": []
    },
    {
      "cell_type": "code",
      "metadata": {
        "id": "rpZCxDGxeSfh",
        "colab_type": "code",
        "colab": {
          "base_uri": "https://localhost:8080/",
          "height": 966
        },
        "outputId": "026c5f4f-aad2-4e67-bca8-069f686dc804"
      },
      "source": [
        "model_history = model.fit(X_train, y_train, validation_data=(X_test, y_test), batch_size=50, verbose = 1, epochs=50)"
      ],
      "execution_count": null,
      "outputs": [
        {
          "output_type": "stream",
          "text": [
            "Train on 33739 samples, validate on 8435 samples\n",
            "Epoch 1/50\n",
            "33739/33739 [==============================] - 22s 645us/step - loss: 1.4794 - acc: 0.4170 - val_loss: 1.1420 - val_acc: 0.5751\n",
            "Epoch 2/50\n",
            "33739/33739 [==============================] - 20s 605us/step - loss: 1.0185 - acc: 0.6153 - val_loss: 0.8474 - val_acc: 0.6766\n",
            "Epoch 3/50\n",
            "33739/33739 [==============================] - 21s 608us/step - loss: 0.8761 - acc: 0.6752 - val_loss: 0.8708 - val_acc: 0.6694\n",
            "Epoch 4/50\n",
            "33739/33739 [==============================] - 20s 605us/step - loss: 0.8003 - acc: 0.7018 - val_loss: 0.6638 - val_acc: 0.7488\n",
            "Epoch 5/50\n",
            "33739/33739 [==============================] - 20s 604us/step - loss: 0.7531 - acc: 0.7213 - val_loss: 0.6199 - val_acc: 0.7648\n",
            "Epoch 6/50\n",
            "33739/33739 [==============================] - 20s 604us/step - loss: 0.7151 - acc: 0.7378 - val_loss: 0.6441 - val_acc: 0.7552\n",
            "Epoch 7/50\n",
            "33739/33739 [==============================] - 20s 603us/step - loss: 0.6730 - acc: 0.7545 - val_loss: 0.5427 - val_acc: 0.7928\n",
            "Epoch 8/50\n",
            "33739/33739 [==============================] - 20s 603us/step - loss: 0.6415 - acc: 0.7669 - val_loss: 0.5398 - val_acc: 0.7962\n",
            "Epoch 9/50\n",
            "33739/33739 [==============================] - 20s 602us/step - loss: 0.6161 - acc: 0.7741 - val_loss: 0.4950 - val_acc: 0.8146\n",
            "Epoch 10/50\n",
            "33739/33739 [==============================] - 20s 603us/step - loss: 0.5936 - acc: 0.7863 - val_loss: 0.4986 - val_acc: 0.8128\n",
            "Epoch 11/50\n",
            "33739/33739 [==============================] - 20s 602us/step - loss: 0.5667 - acc: 0.7948 - val_loss: 0.4965 - val_acc: 0.8127\n",
            "Epoch 12/50\n",
            "33739/33739 [==============================] - 20s 603us/step - loss: 0.5546 - acc: 0.7987 - val_loss: 0.4438 - val_acc: 0.8363\n",
            "Epoch 13/50\n",
            "33739/33739 [==============================] - 20s 601us/step - loss: 0.5326 - acc: 0.8095 - val_loss: 0.4763 - val_acc: 0.8264\n",
            "Epoch 14/50\n",
            "33739/33739 [==============================] - 20s 603us/step - loss: 0.5106 - acc: 0.8174 - val_loss: 0.4014 - val_acc: 0.8556\n",
            "Epoch 15/50\n",
            "33739/33739 [==============================] - 21s 612us/step - loss: 0.5021 - acc: 0.8202 - val_loss: 0.4097 - val_acc: 0.8443\n",
            "Epoch 16/50\n",
            "33739/33739 [==============================] - 20s 602us/step - loss: 0.4863 - acc: 0.8281 - val_loss: 0.4364 - val_acc: 0.8448\n",
            "Epoch 17/50\n",
            "33739/33739 [==============================] - 20s 601us/step - loss: 0.4759 - acc: 0.8326 - val_loss: 0.3999 - val_acc: 0.8494\n",
            "Epoch 18/50\n",
            "33739/33739 [==============================] - 20s 606us/step - loss: 0.4621 - acc: 0.8367 - val_loss: 0.3703 - val_acc: 0.8660\n",
            "Epoch 19/50\n",
            "33739/33739 [==============================] - 20s 607us/step - loss: 0.4649 - acc: 0.8330 - val_loss: 0.3545 - val_acc: 0.8692\n",
            "Epoch 20/50\n",
            "33739/33739 [==============================] - 20s 603us/step - loss: 0.4444 - acc: 0.8417 - val_loss: 0.3566 - val_acc: 0.8657\n",
            "Epoch 21/50\n",
            "33739/33739 [==============================] - 20s 603us/step - loss: 0.4309 - acc: 0.8478 - val_loss: 0.3475 - val_acc: 0.8750\n",
            "Epoch 22/50\n",
            "33739/33739 [==============================] - 20s 602us/step - loss: 0.4223 - acc: 0.8499 - val_loss: 0.3552 - val_acc: 0.8697\n",
            "Epoch 23/50\n",
            "33739/33739 [==============================] - 20s 604us/step - loss: 0.4200 - acc: 0.8502 - val_loss: 0.3927 - val_acc: 0.8575\n",
            "Epoch 24/50\n",
            "33739/33739 [==============================] - 21s 609us/step - loss: 0.4099 - acc: 0.8536 - val_loss: 0.3388 - val_acc: 0.8768\n",
            "Epoch 25/50\n",
            "33739/33739 [==============================] - 21s 611us/step - loss: 0.3992 - acc: 0.8558 - val_loss: 0.3159 - val_acc: 0.8882\n",
            "Epoch 26/50\n",
            "33739/33739 [==============================] - 21s 612us/step - loss: 0.4020 - acc: 0.8595 - val_loss: 0.3607 - val_acc: 0.8696\n",
            "Epoch 27/50\n",
            "33739/33739 [==============================] - 20s 602us/step - loss: 0.3839 - acc: 0.8663 - val_loss: 0.3321 - val_acc: 0.8816\n",
            "Epoch 28/50\n",
            " 5150/33739 [===>..........................] - ETA: 15s - loss: 0.3665 - acc: 0.8730"
          ],
          "name": "stdout"
        }
      ]
    },
    {
      "cell_type": "code",
      "metadata": {
        "id": "UKlXYzzluPtF",
        "colab_type": "code",
        "colab": {
          "base_uri": "https://localhost:8080/",
          "height": 33
        },
        "outputId": "b9ec0528-ef40-4643-88ac-a831631f0194"
      },
      "source": [
        "cd /gdrive/My Drive/Audio_files/"
      ],
      "execution_count": 12,
      "outputs": [
        {
          "output_type": "stream",
          "text": [
            "/gdrive/My Drive/Audio_files\n"
          ],
          "name": "stdout"
        }
      ]
    },
    {
      "cell_type": "code",
      "metadata": {
        "id": "GAFsohbvkYPN",
        "colab_type": "code",
        "colab": {
          "base_uri": "https://localhost:8080/",
          "height": 33
        },
        "outputId": "15292742-80f8-4de6-cba2-49849e439918"
      },
      "source": [
        "# Save model and weights\n",
        "model_name = 'cnn2d_female_amsgrad.h5'\n",
        "save_dir = os.path.join(os.getcwd(), 'saved_models')\n",
        "\n",
        "if not os.path.isdir(save_dir):\n",
        "    os.makedirs(save_dir)\n",
        "model_path = os.path.join(save_dir, model_name)\n",
        "model.save(model_path)\n",
        "print('Save model and weights at %s ' % model_path)\n",
        "\n",
        "# Save the model to disk\n",
        "model_json = model.to_json()\n",
        "with open(\"cnn2d_female_amsgrad.json\", \"w\") as json_file:\n",
        "    json_file.write(model_json)"
      ],
      "execution_count": 13,
      "outputs": [
        {
          "output_type": "stream",
          "text": [
            "Save model and weights at /gdrive/My Drive/Audio_files/saved_models/cnn2d_female_amsgrad.h5 \n"
          ],
          "name": "stdout"
        }
      ]
    },
    {
      "cell_type": "code",
      "metadata": {
        "id": "ARwERpf6kYPU",
        "colab_type": "code",
        "colab": {
          "base_uri": "https://localhost:8080/",
          "height": 33
        },
        "outputId": "ea4cb831-ae5f-48f5-929e-caf142076407"
      },
      "source": [
        "# loading json and model architecture \n",
        "json_file = open('cnn2d_female_amsgrad.json', 'r')\n",
        "loaded_model_json = json_file.read()\n",
        "json_file.close()\n",
        "loaded_model = model_from_json(loaded_model_json)\n",
        "\n",
        "# load weights into new model\n",
        "loaded_model.load_weights(\"saved_models/cnn2d_female_amsgrad.h5\")\n",
        "print(\"Loaded model from disk\")\n",
        " \n",
        "# Keras optimiser\n",
        "opt = keras.optimizers.rmsprop(lr=0.00001, decay=1e-6)"
      ],
      "execution_count": 14,
      "outputs": [
        {
          "output_type": "stream",
          "text": [
            "Loaded model from disk\n"
          ],
          "name": "stdout"
        }
      ]
    },
    {
      "cell_type": "code",
      "metadata": {
        "id": "shGF8jg1gNGu",
        "colab_type": "code",
        "colab": {}
      },
      "source": [
        "class get_results:\n",
        "\n",
        "    def __init__(self, model_history, model ,X_test, y_test, labels):\n",
        "        self.model_history = model_history\n",
        "        self.model = model\n",
        "        self.X_test = X_test\n",
        "        self.y_test = y_test             \n",
        "        self.labels = labels\n",
        "\n",
        "    def create_plot(self, model_history):\n",
        "        '''Check the logloss of both train and validation, make sure they are close and have plateau'''\n",
        "        plt.plot(model_history.history['loss'])\n",
        "        plt.plot(model_history.history['val_loss'])\n",
        "        plt.title('model loss')\n",
        "        plt.ylabel('loss')\n",
        "        plt.xlabel('epoch')\n",
        "        plt.legend(['train', 'test'], loc='upper left')\n",
        "        plt.show()\n",
        "\n",
        "    def create_results(self, model):\n",
        "        '''predict on test set and get accuracy results'''\n",
        "        opt = optimizers.Adam(0.001)\n",
        "        model.compile(loss='categorical_crossentropy', optimizer=opt, metrics=['accuracy'])\n",
        "        score = model.evaluate(X_test, y_test, verbose=0)\n",
        "        print(\"%s: %.2f%%\" % (model.metrics_names[1], score[1]*100))\n",
        "\n",
        "    def confusion_results(self, X_test, y_test, labels, model):\n",
        "        '''plot confusion matrix results'''\n",
        "        preds = model.predict(X_test, \n",
        "                                 batch_size=16, \n",
        "                                 verbose=2)\n",
        "        preds=preds.argmax(axis=1)\n",
        "        preds = preds.astype(int).flatten()\n",
        "        preds = (lb.inverse_transform((preds)))\n",
        "\n",
        "        actual = y_test.argmax(axis=1)\n",
        "        actual = actual.astype(int).flatten()\n",
        "        actual = (lb.inverse_transform((actual)))\n",
        "\n",
        "        classes = labels\n",
        "        classes.sort()    \n",
        "\n",
        "        c = confusion_matrix(actual, preds)\n",
        "        print_confusion_matrix(c, class_names = classes)\n",
        "    \n",
        "    def accuracy_results_gender(self, X_test, y_test, labels, model):\n",
        "        '''Print out the accuracy score and confusion matrix heat map of the Gender classification results'''\n",
        "    \n",
        "        preds = model.predict(X_test, \n",
        "                         batch_size=16, \n",
        "                         verbose=2)\n",
        "        preds=preds.argmax(axis=1)\n",
        "        preds = preds.astype(int).flatten()\n",
        "        preds = (lb.inverse_transform((preds)))\n",
        "\n",
        "        actual = y_test.argmax(axis=1)\n",
        "        actual = actual.astype(int).flatten()\n",
        "        actual = (lb.inverse_transform((actual)))\n",
        "        \n",
        "        # print(accuracy_score(actual, preds))\n",
        "        \n",
        "        actual = pd.DataFrame(actual).replace({'female_angry':'female'\n",
        "                   , 'female_disgust':'female'\n",
        "                   , 'female_fear':'female'\n",
        "                   , 'female_happy':'female'\n",
        "                   , 'female_sad':'female'\n",
        "                   , 'female_surprise':'female'\n",
        "                   , 'female_neutral':'female'\n",
        "                  })\n",
        "        preds = pd.DataFrame(preds).replace({'female_angry':'female'\n",
        "               , 'female_disgust':'female'\n",
        "               , 'female_fear':'female'\n",
        "               , 'female_happy':'female'\n",
        "               , 'female_sad':'female'\n",
        "               , 'female_surprise':'female'\n",
        "               , 'female_neutral':'female'\n",
        "              })\n",
        "\n",
        "        classes = actual.loc[:,0].unique() \n",
        "        classes.sort()    \n",
        "\n",
        "        c = confusion_matrix(actual, preds)\n",
        "        print(accuracy_score(actual, preds))\n",
        "        print_confusion_matrix(c, class_names = classes)\n",
        "\n",
        "def print_confusion_matrix(confusion_matrix, class_names, figsize = (10,7), fontsize=14):\n",
        "    '''Prints a confusion matrix, as returned by sklearn.metrics.confusion_matrix, as a heatmap.'''\n",
        "    df_cm = pd.DataFrame(\n",
        "        confusion_matrix, index=class_names, columns=class_names, \n",
        "    )\n",
        "    fig = plt.figure(figsize=figsize)\n",
        "    try:\n",
        "        heatmap = sns.heatmap(df_cm, annot=True, fmt=\"d\")\n",
        "    except ValueError:\n",
        "        raise ValueError(\"Confusion matrix values must be integers.\")\n",
        "\n",
        "    heatmap.yaxis.set_ticklabels(heatmap.yaxis.get_ticklabels(), rotation=0, ha='right', fontsize=fontsize)\n",
        "    heatmap.xaxis.set_ticklabels(heatmap.xaxis.get_ticklabels(), rotation=45, ha='right', fontsize=fontsize)\n",
        "    plt.ylabel('True label')\n",
        "    plt.xlabel('Predicted label')"
      ],
      "execution_count": 17,
      "outputs": []
    },
    {
      "cell_type": "code",
      "metadata": {
        "id": "7WVEVV0kgQ3i",
        "colab_type": "code",
        "colab": {
          "base_uri": "https://localhost:8080/",
          "height": 816
        },
        "outputId": "06418378-f01f-40b0-8c2b-26d67cab1ab8"
      },
      "source": [
        "results = get_results(model_history,model,X_test,y_test, ref.labels.unique())\n",
        "results.create_plot(model_history)\n",
        "results.create_results(model)\n",
        "results.confusion_results(X_test, y_test, ref.labels.unique(), model)"
      ],
      "execution_count": 18,
      "outputs": [
        {
          "output_type": "display_data",
          "data": {
            "image/png": "[encoded data removed]",
            "text/plain": [
              "<Figure size 432x288 with 1 Axes>"
            ]
          },
          "metadata": {
            "tags": [],
            "needs_background": "light"
          }
        },
        {
          "output_type": "stream",
          "text": [
            "accuracy: 91.76%\n"
          ],
          "name": "stdout"
        },
        {
          "output_type": "display_data",
          "data": {
            "image/png": "[encoded data removed]",
            "text/plain": [
              "<Figure size 720x504 with 2 Axes>"
            ]
          },
          "metadata": {
            "tags": [],
            "needs_background": "light"
          }
        }
      ]
    }
  ]
}