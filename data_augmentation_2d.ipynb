{
  "nbformat": 4,
  "nbformat_minor": 0,
  "metadata": {
    "colab": {
      "name": "data_augmentation_2d.ipynb",
      "provenance": [],
      "authorship_tag": "ABX9TyNjeRYA1YY7QobtiBR6oiM8",
      "include_colab_link": true
    },
    "kernelspec": {
      "name": "python3",
      "display_name": "Python 3"
    },
    "accelerator": "GPU"
  },
  "cells": [
    {
      "cell_type": "markdown",
      "metadata": {
        "id": "view-in-github",
        "colab_type": "text"
      },
      "source": [
        "<a href=\"https://colab.research.google.com/github/puneat/Audio_Sentiment/blob/puneet/data_augmentation_2d.ipynb\" target=\"_parent\"><img src=\"https://colab.research.google.com/assets/colab-badge.svg\" alt=\"Open In Colab\"/></a>"
      ]
    },
    {
      "cell_type": "markdown",
      "metadata": {
        "id": "rCgMq3cq0qq3",
        "colab_type": "text"
      },
      "source": [
        "### **MOUNTING DRIVE SYSTEMS AND IMPORTING LIBRARIES**"
      ]
    },
    {
      "cell_type": "code",
      "metadata": {
        "id": "WRi7JoGc3T3J",
        "colab_type": "code",
        "colab": {
          "base_uri": "https://localhost:8080/",
          "height": 120
        },
        "outputId": "a64f61a7-f796-4ed9-841d-51ef6aab4413"
      },
      "source": [
        "from google.colab import drive\n",
        "drive.mount('/gdrive', force_remount=True)"
      ],
      "execution_count": 1,
      "outputs": [
        {
          "output_type": "stream",
          "text": [
            "Go to this URL in a browser: https://accounts.google.com/o/oauth2/auth?client_id=947318989803-6bn6qk8qdgf4n4g3pfee6491hc0brc4i.apps.googleusercontent.com&redirect_uri=urn%3aietf%3awg%3aoauth%3a2.0%3aoob&response_type=code&scope=email%20https%3a%2f%2fwww.googleapis.com%2fauth%2fdocs.test%20https%3a%2f%2fwww.googleapis.com%2fauth%2fdrive%20https%3a%2f%2fwww.googleapis.com%2fauth%2fdrive.photos.readonly%20https%3a%2f%2fwww.googleapis.com%2fauth%2fpeopleapi.readonly\n",
            "\n",
            "Enter your authorization code:\n",
            "··········\n",
            "Mounted at /gdrive\n"
          ],
          "name": "stdout"
        }
      ]
    },
    {
      "cell_type": "code",
      "metadata": {
        "_cell_guid": "79c7e3d0-c299-4dcb-8224-4455121ee9b0",
        "_uuid": "d629ff2d2480ee46fbb7e2d37f6b5fab8052498a",
        "id": "s_IdA4makRmI",
        "colab_type": "code",
        "colab": {
          "base_uri": "https://localhost:8080/",
          "height": 66
        },
        "outputId": "bac9779e-07ac-4d09-865a-9ee286701e74"
      },
      "source": [
        "# Keras\n",
        "import keras\n",
        "from keras import regularizers\n",
        "from keras.preprocessing import sequence\n",
        "from keras.preprocessing.text import Tokenizer\n",
        "from keras.preprocessing.sequence import pad_sequences\n",
        "from keras.models import Sequential, Model, model_from_json\n",
        "from keras.layers import Dense, Embedding, LSTM\n",
        "from keras.layers import Input, Flatten, Dropout, Activation, BatchNormalization\n",
        "from keras.layers import Conv1D, MaxPooling1D, AveragePooling1D\n",
        "from keras.utils import np_utils, to_categorical\n",
        "from keras.callbacks import (EarlyStopping, LearningRateScheduler,\n",
        "                             ModelCheckpoint, TensorBoard, ReduceLROnPlateau)\n",
        "from keras import losses, models, optimizers\n",
        "from keras.activations import relu, softmax\n",
        "from keras.layers import (Convolution2D, GlobalAveragePooling2D, BatchNormalization, Flatten, Dropout,\n",
        "                          GlobalMaxPool2D, MaxPool2D, concatenate, Activation, Input, Dense)\n",
        "\n",
        "# sklearn\n",
        "from sklearn.metrics import confusion_matrix, accuracy_score\n",
        "from sklearn.model_selection import train_test_split\n",
        "from sklearn.preprocessing import LabelEncoder\n",
        "\n",
        "# Other  \n",
        "from tqdm import tqdm, tqdm_pandas\n",
        "import scipy\n",
        "from scipy.stats import skew\n",
        "import librosa\n",
        "import librosa.display\n",
        "import json\n",
        "import numpy as np\n",
        "import matplotlib.pyplot as plt\n",
        "import tensorflow as tf\n",
        "from matplotlib.pyplot import specgram\n",
        "import pandas as pd\n",
        "import seaborn as sns\n",
        "import glob \n",
        "import os\n",
        "import sys\n",
        "import IPython.display as ipd  # To play sound in the notebook\n",
        "import warnings\n",
        "# ignore warnings \n",
        "if not sys.warnoptions:\n",
        "    warnings.simplefilter(\"ignore\")"
      ],
      "execution_count": 2,
      "outputs": [
        {
          "output_type": "stream",
          "text": [
            "Using TensorFlow backend.\n",
            "/usr/local/lib/python3.6/dist-packages/statsmodels/tools/_testing.py:19: FutureWarning: pandas.util.testing is deprecated. Use the functions in the public API at pandas.testing instead.\n",
            "  import pandas.util.testing as tm\n"
          ],
          "name": "stderr"
        }
      ]
    },
    {
      "cell_type": "markdown",
      "metadata": {
        "id": "mZWSc4-IyEBD",
        "colab_type": "text"
      },
      "source": [
        "### **DATA AUGMENTATION**"
      ]
    },
    {
      "cell_type": "code",
      "metadata": {
        "id": "ZtK_TMkBwxgo",
        "colab_type": "code",
        "colab": {}
      },
      "source": [
        "################################################################################\n",
        "''' Adding White Noise '''\n",
        "\n",
        "def noise(data):\n",
        "    #Can take any distribution from https://docs.scipy.org/doc/numpy-1.13.0/reference/routines.random.html\n",
        "    noise_amp = 0.05*np.random.uniform()*np.amax(data)   # more noise reduce the value to 0.5\n",
        "    data = data.astype('float64') + noise_amp * np.random.normal(size=data.shape[0])\n",
        "    return data\n",
        "\n",
        "################################################################################\n",
        "''' Random Shifting '''\n",
        "\n",
        "def shift(data):\n",
        "    s_range = int(np.random.uniform(low=-5, high = 5)*1000)  #default at 500\n",
        "    return np.roll(data, s_range)\n",
        "\n",
        "################################################################################\n",
        "''' Streching the Sound. This expands the audio size '''\n",
        "\n",
        "def stretch(data, rate=0.8):\n",
        "    data = librosa.effects.time_stretch(data, rate)\n",
        "    return data\n",
        "\n",
        "################################################################################    \n",
        "''' Pitch Tuning '''\n",
        "def pitch(data, sample_rate):\n",
        "    bins_per_octave = 12\n",
        "    pitch_pm = 2\n",
        "    pitch_change =  pitch_pm * 2*(np.random.uniform())   \n",
        "    data = librosa.effects.pitch_shift(data.astype('float64'), \n",
        "                                      sample_rate, n_steps=pitch_change, \n",
        "                                      bins_per_octave=bins_per_octave)\n",
        "    return data\n",
        "\n",
        "################################################################################    \n",
        "''' Dynamic Change'''\n",
        "\n",
        "def dyn_change(data):\n",
        "    Random Value Change.\n",
        "    dyn_change = np.random.uniform(low=-0.5 ,high=7)\n",
        "    return (data * dyn_change)\n",
        "\n",
        "################################################################################\n",
        "''' Speed and Pitch Tuning '''\n",
        "\n",
        "def speedNpitch(data):\n",
        "    length_change = np.random.uniform(low=0.8, high = 1)\n",
        "    speed_fac = 1.2  / length_change \n",
        "    tmp = np.interp(np.arange(0,len(data),speed_fac),np.arange(0,len(data)),data)\n",
        "    minlen = min(data.shape[0], tmp.shape[0])\n",
        "    data *= 0\n",
        "    data[0:minlen] = tmp[0:minlen]\n",
        "    return data"
      ],
      "execution_count": null,
      "outputs": []
    },
    {
      "cell_type": "markdown",
      "metadata": {
        "id": "kcB14B4jyJvq",
        "colab_type": "text"
      },
      "source": [
        "### **PREPARING 4D  NUMPY ARRAY WITH AUGMENTATIONS**"
      ]
    },
    {
      "cell_type": "code",
      "metadata": {
        "id": "1P01c9vZkRmN",
        "colab_type": "code",
        "colab": {}
      },
      "source": [
        "'''Extracting the MFCC feature as an image (Matrix format).'''\n",
        "def prepare_data(df, n):\n",
        "    X_speednpitch = np.empty(shape=(df.shape[0], n, 216, 1))\n",
        "    X_noise = np.empty(shape=(df.shape[0], n, 216, 1))\n",
        "    X_pitch = np.empty(shape=(df.shape[0], n, 216, 1))\n",
        "    X_shift = np.empty(shape=(df.shape[0], n, 216, 1))\n",
        "    X_dyn_change = np.empty(shape=(df.shape[0], n, 216, 1))\n",
        "    X_ref = np.empty(shape=(df.shape[0], n, 216, 1))\n",
        "    input_length = sampling_rate * audio_duration\n",
        "    \n",
        "    cnt = 0\n",
        "    for fname in tqdm(df.path):\n",
        "        file_path = fname\n",
        "        data, _ = librosa.load(file_path, sr=sampling_rate\n",
        "                               ,res_type=\"kaiser_fast\"\n",
        "                               ,duration=2.5\n",
        "                               ,offset=0.5\n",
        "                              )\n",
        "\n",
        "        # Random offset / Padding\n",
        "        if len(data) > input_length:\n",
        "            max_offset = len(data) - input_length\n",
        "            offset = np.random.randint(max_offset)\n",
        "            data = data[offset:(input_length+offset)]\n",
        "        else:\n",
        "            if input_length > len(data):\n",
        "                max_offset = input_length - len(data)\n",
        "                offset = np.random.randint(max_offset)\n",
        "            else:\n",
        "                offset = 0\n",
        "            data = np.pad(data, (offset, int(input_length) - len(data) - offset), \"constant\")\n",
        "\n",
        "        # Augmentation \n",
        "            data_speednpitch = speedNpitch(data)\n",
        "            data_noise=noise(data)\n",
        "            data_shift=shift(data)\n",
        "            data_pitch=pitch(data,sampling_rate)\n",
        "            data_dyn_change=dyn_change(data)\n",
        "\n",
        "        # MFCC extraction \n",
        "            MFCC = librosa.feature.mfcc(data_speednpitch, sr=sampling_rate, n_mfcc=n_mfcc)\n",
        "            MFCC = np.expand_dims(MFCC, axis=-1)\n",
        "            X_speednpitch[cnt,] = MFCC\n",
        "\n",
        "            MFCC = librosa.feature.mfcc(data_noise, sr=sampling_rate, n_mfcc=n_mfcc)\n",
        "            MFCC = np.expand_dims(MFCC, axis=-1)\n",
        "            X_noise[cnt,] = MFCC\n",
        "\n",
        "            MFCC = librosa.feature.mfcc(data_pitch, sr=sampling_rate, n_mfcc=n_mfcc)\n",
        "            MFCC = np.expand_dims(MFCC, axis=-1)\n",
        "            X_pitch[cnt,] = MFCC\n",
        "\n",
        "            MFCC = librosa.feature.mfcc(data_shift, sr=sampling_rate, n_mfcc=n_mfcc)\n",
        "            MFCC = np.expand_dims(MFCC, axis=-1)\n",
        "            X_shift[cnt,] = MFCC\n",
        "\n",
        "            MFCC = librosa.feature.mfcc(data_dyn_change, sr=sampling_rate, n_mfcc=n_mfcc)\n",
        "            MFCC = np.expand_dims(MFCC, axis=-1)\n",
        "            X_dyn_change[cnt,] = MFCC\n",
        "\n",
        "            MFCC = librosa.feature.mfcc(data, sr=sampling_rate, n_mfcc=n_mfcc)\n",
        "            MFCC = np.expand_dims(MFCC, axis=-1)\n",
        "            X_ref[cnt,] = MFCC\n",
        "  \n",
        "        #else:\n",
        "            # Log-melspectogram\n",
        "            # melspec = librosa.feature.melspectrogram(data, n_mels = n_melspec)   \n",
        "            # logspec = librosa.amplitude_to_db(melspec)\n",
        "            # logspec = np.expand_dims(logspec, axis=-1)\n",
        "            # X[cnt,] = logspec\n",
        "            \n",
        "        cnt += 1\n",
        "\n",
        "    return X_ref, X_speednpitch, X_pitch, X_shift, X_noise, X_dyn_change"
      ],
      "execution_count": 13,
      "outputs": []
    },
    {
      "cell_type": "markdown",
      "metadata": {
        "id": "u6rLjOIxys28",
        "colab_type": "text"
      },
      "source": [
        "### **MALE AUDIO AUGMENTATION**"
      ]
    },
    {
      "cell_type": "code",
      "metadata": {
        "id": "hlzWGoYm57me",
        "colab_type": "code",
        "colab": {
          "base_uri": "https://localhost:8080/",
          "height": 197
        },
        "outputId": "69b2ec8c-19ed-4b36-81d3-71a9ab620589"
      },
      "source": [
        "ref = pd.read_csv(\"/gdrive/My Drive/Audio_files/Combined_Dataframes/male_df.csv\")\n",
        "ref.head()"
      ],
      "execution_count": 9,
      "outputs": [
        {
          "output_type": "execute_result",
          "data": {
            "text/html": [
              "<div>\n",
              "<style scoped>\n",
              "    .dataframe tbody tr th:only-of-type {\n",
              "        vertical-align: middle;\n",
              "    }\n",
              "\n",
              "    .dataframe tbody tr th {\n",
              "        vertical-align: top;\n",
              "    }\n",
              "\n",
              "    .dataframe thead th {\n",
              "        text-align: right;\n",
              "    }\n",
              "</style>\n",
              "<table border=\"1\" class=\"dataframe\">\n",
              "  <thead>\n",
              "    <tr style=\"text-align: right;\">\n",
              "      <th></th>\n",
              "      <th>labels</th>\n",
              "      <th>source</th>\n",
              "      <th>path</th>\n",
              "    </tr>\n",
              "  </thead>\n",
              "  <tbody>\n",
              "    <tr>\n",
              "      <th>0</th>\n",
              "      <td>male_disgust</td>\n",
              "      <td>SAVEE</td>\n",
              "      <td>/gdrive/My Drive/Audio_files/male_final/SAVEE/...</td>\n",
              "    </tr>\n",
              "    <tr>\n",
              "      <th>1</th>\n",
              "      <td>male_disgust</td>\n",
              "      <td>SAVEE</td>\n",
              "      <td>/gdrive/My Drive/Audio_files/male_final/SAVEE/...</td>\n",
              "    </tr>\n",
              "    <tr>\n",
              "      <th>2</th>\n",
              "      <td>male_disgust</td>\n",
              "      <td>SAVEE</td>\n",
              "      <td>/gdrive/My Drive/Audio_files/male_final/SAVEE/...</td>\n",
              "    </tr>\n",
              "    <tr>\n",
              "      <th>3</th>\n",
              "      <td>male_disgust</td>\n",
              "      <td>SAVEE</td>\n",
              "      <td>/gdrive/My Drive/Audio_files/male_final/SAVEE/...</td>\n",
              "    </tr>\n",
              "    <tr>\n",
              "      <th>4</th>\n",
              "      <td>male_disgust</td>\n",
              "      <td>SAVEE</td>\n",
              "      <td>/gdrive/My Drive/Audio_files/male_final/SAVEE/...</td>\n",
              "    </tr>\n",
              "  </tbody>\n",
              "</table>\n",
              "</div>"
            ],
            "text/plain": [
              "         labels source                                               path\n",
              "0  male_disgust  SAVEE  /gdrive/My Drive/Audio_files/male_final/SAVEE/...\n",
              "1  male_disgust  SAVEE  /gdrive/My Drive/Audio_files/male_final/SAVEE/...\n",
              "2  male_disgust  SAVEE  /gdrive/My Drive/Audio_files/male_final/SAVEE/...\n",
              "3  male_disgust  SAVEE  /gdrive/My Drive/Audio_files/male_final/SAVEE/...\n",
              "4  male_disgust  SAVEE  /gdrive/My Drive/Audio_files/male_final/SAVEE/..."
            ]
          },
          "metadata": {
            "tags": []
          },
          "execution_count": 9
        }
      ]
    },
    {
      "cell_type": "code",
      "metadata": {
        "id": "3fablOpV6KDT",
        "colab_type": "code",
        "colab": {
          "base_uri": "https://localhost:8080/",
          "height": 33
        },
        "outputId": "e53e45ac-a463-4c57-b6f5-74f17b386aba"
      },
      "source": [
        "sampling_rate=44100\n",
        "audio_duration=2.5\n",
        "n_mfcc = 30\n",
        "df_ref, df_speednpitch, df_pitch, df_shift, df_noise, df_dyn_change = prepare_data(ref, n = n_mfcc)"
      ],
      "execution_count": 14,
      "outputs": [
        {
          "output_type": "stream",
          "text": [
            "100%|██████████| 5130/5130 [1:38:41<00:00,  1.15s/it]\n"
          ],
          "name": "stderr"
        }
      ]
    },
    {
      "cell_type": "code",
      "metadata": {
        "id": "2TRNs0zT-YnK",
        "colab_type": "code",
        "colab": {
          "base_uri": "https://localhost:8080/",
          "height": 33
        },
        "outputId": "346313fb-846e-4d72-8634-fa3930352566"
      },
      "source": [
        "print(df_noise.shape,df_speednpitch.shape, df_pitch.shape, df_dyn_change.shape, df_shift.shape,df_ref.shape)"
      ],
      "execution_count": 36,
      "outputs": [
        {
          "output_type": "stream",
          "text": [
            "(5130, 30, 216, 1) (5130, 30, 216, 1) (5130, 30, 216, 1) (5130, 30, 216, 1) (5130, 30, 216, 1) (5130, 30, 216, 1)\n"
          ],
          "name": "stdout"
        }
      ]
    },
    {
      "cell_type": "code",
      "metadata": {
        "id": "gaLfJBlpSZBh",
        "colab_type": "code",
        "colab": {}
      },
      "source": [
        "result=np.concatenate((df_noise,df_speednpitch,df_pitch,df_shift,df_dyn_change,df_ref),axis=0)"
      ],
      "execution_count": 37,
      "outputs": []
    },
    {
      "cell_type": "code",
      "metadata": {
        "id": "ORF-Q_kdSY-9",
        "colab_type": "code",
        "colab": {
          "base_uri": "https://localhost:8080/",
          "height": 33
        },
        "outputId": "255a9470-3afe-4f33-f5a1-411479e6169b"
      },
      "source": [
        "result.shape"
      ],
      "execution_count": 38,
      "outputs": [
        {
          "output_type": "execute_result",
          "data": {
            "text/plain": [
              "(30780, 30, 216, 1)"
            ]
          },
          "metadata": {
            "tags": []
          },
          "execution_count": 38
        }
      ]
    },
    {
      "cell_type": "code",
      "metadata": {
        "id": "aUR345uf-Ys5",
        "colab_type": "code",
        "colab": {}
      },
      "source": [
        "np.save('/gdrive/My Drive/Audio_files/Combined_Dataframes/male_2d_aug.npy',result)"
      ],
      "execution_count": 39,
      "outputs": []
    },
    {
      "cell_type": "markdown",
      "metadata": {
        "id": "svlYv4FWyzbb",
        "colab_type": "text"
      },
      "source": [
        "### **FEMALE AUDIO AUGMENTATION**"
      ]
    },
    {
      "cell_type": "code",
      "metadata": {
        "colab_type": "code",
        "id": "Ly5WcdA3y65T",
        "colab": {
          "base_uri": "https://localhost:8080/",
          "height": 197
        },
        "outputId": "d95dec1d-2798-4f69-92cb-e289c09fc8cb"
      },
      "source": [
        "ref = pd.read_csv(\"/gdrive/My Drive/Audio_files/Combined_Dataframes/female_df.csv\")\n",
        "ref.head()"
      ],
      "execution_count": null,
      "outputs": [
        {
          "output_type": "execute_result",
          "data": {
            "text/html": [
              "<div>\n",
              "<style scoped>\n",
              "    .dataframe tbody tr th:only-of-type {\n",
              "        vertical-align: middle;\n",
              "    }\n",
              "\n",
              "    .dataframe tbody tr th {\n",
              "        vertical-align: top;\n",
              "    }\n",
              "\n",
              "    .dataframe thead th {\n",
              "        text-align: right;\n",
              "    }\n",
              "</style>\n",
              "<table border=\"1\" class=\"dataframe\">\n",
              "  <thead>\n",
              "    <tr style=\"text-align: right;\">\n",
              "      <th></th>\n",
              "      <th>labels</th>\n",
              "      <th>source</th>\n",
              "      <th>path</th>\n",
              "    </tr>\n",
              "  </thead>\n",
              "  <tbody>\n",
              "    <tr>\n",
              "      <th>0</th>\n",
              "      <td>female_fear</td>\n",
              "      <td>TESS</td>\n",
              "      <td>/gdrive/My Drive/Audio_files/female_final/TESS...</td>\n",
              "    </tr>\n",
              "    <tr>\n",
              "      <th>1</th>\n",
              "      <td>female_fear</td>\n",
              "      <td>TESS</td>\n",
              "      <td>/gdrive/My Drive/Audio_files/female_final/TESS...</td>\n",
              "    </tr>\n",
              "    <tr>\n",
              "      <th>2</th>\n",
              "      <td>female_fear</td>\n",
              "      <td>TESS</td>\n",
              "      <td>/gdrive/My Drive/Audio_files/female_final/TESS...</td>\n",
              "    </tr>\n",
              "    <tr>\n",
              "      <th>3</th>\n",
              "      <td>female_fear</td>\n",
              "      <td>TESS</td>\n",
              "      <td>/gdrive/My Drive/Audio_files/female_final/TESS...</td>\n",
              "    </tr>\n",
              "    <tr>\n",
              "      <th>4</th>\n",
              "      <td>female_fear</td>\n",
              "      <td>TESS</td>\n",
              "      <td>/gdrive/My Drive/Audio_files/female_final/TESS...</td>\n",
              "    </tr>\n",
              "  </tbody>\n",
              "</table>\n",
              "</div>"
            ],
            "text/plain": [
              "        labels source                                               path\n",
              "0  female_fear   TESS  /gdrive/My Drive/Audio_files/female_final/TESS...\n",
              "1  female_fear   TESS  /gdrive/My Drive/Audio_files/female_final/TESS...\n",
              "2  female_fear   TESS  /gdrive/My Drive/Audio_files/female_final/TESS...\n",
              "3  female_fear   TESS  /gdrive/My Drive/Audio_files/female_final/TESS...\n",
              "4  female_fear   TESS  /gdrive/My Drive/Audio_files/female_final/TESS..."
            ]
          },
          "metadata": {
            "tags": []
          },
          "execution_count": 5
        }
      ]
    },
    {
      "cell_type": "code",
      "metadata": {
        "colab_type": "code",
        "id": "wcC9RQYuy65q",
        "colab": {
          "base_uri": "https://localhost:8080/",
          "height": 33
        },
        "outputId": "320f741d-48b6-4e7e-af80-3737b9f63ce5"
      },
      "source": [
        "sampling_rate=44100\n",
        "audio_duration=2.5\n",
        "n_mfcc = 30\n",
        "df_ref, df_speednpitch, df_pitch, df_shift, df_noise, df_dyn_change = prepare_data(ref, n = n_mfcc)"
      ],
      "execution_count": null,
      "outputs": [
        {
          "output_type": "stream",
          "text": [
            "100%|██████████| 7029/7029 [1:23:01<00:00,  1.41it/s]\n"
          ],
          "name": "stderr"
        }
      ]
    },
    {
      "cell_type": "code",
      "metadata": {
        "colab_type": "code",
        "id": "CcD8rFqKy652",
        "colab": {
          "base_uri": "https://localhost:8080/",
          "height": 33
        },
        "outputId": "6aea4273-63a1-4be1-b263-3d89bf872561"
      },
      "source": [
        "print(df_noise.shape,df_speednpitch.shape, df_pitch.shape, df_dyn_change.shape, df_shift.shape,df_ref.shape)"
      ],
      "execution_count": null,
      "outputs": [
        {
          "output_type": "stream",
          "text": [
            "(7029, 30, 216, 1) (7029, 30, 216, 1) (7029, 30, 216, 1) (7029, 30, 216, 1) (7029, 30, 216, 1) (7029, 30, 216, 1)\n"
          ],
          "name": "stdout"
        }
      ]
    },
    {
      "cell_type": "code",
      "metadata": {
        "colab_type": "code",
        "id": "cq7PLhNsy655",
        "colab": {}
      },
      "source": [
        "result=np.concatenate((df_noise,df_speednpitch,df_pitch,df_shift,df_dyn_change,df_ref),axis=0)"
      ],
      "execution_count": null,
      "outputs": []
    },
    {
      "cell_type": "code",
      "metadata": {
        "id": "5hedyDnoZiiP",
        "colab_type": "code",
        "colab": {
          "base_uri": "https://localhost:8080/",
          "height": 33
        },
        "outputId": "a726f0bf-038f-49e0-82bb-1b798ee54076"
      },
      "source": [
        "result.shape"
      ],
      "execution_count": null,
      "outputs": [
        {
          "output_type": "execute_result",
          "data": {
            "text/plain": [
              "(42174, 30, 216, 1)"
            ]
          },
          "metadata": {
            "tags": []
          },
          "execution_count": 12
        }
      ]
    },
    {
      "cell_type": "code",
      "metadata": {
        "id": "_zwE1L8jaKoz",
        "colab_type": "code",
        "colab": {}
      },
      "source": [
        "np.save('/gdrive/My Drive/Audio_files/Combined_Dataframes/female_2d_aug.npy', result)"
      ],
      "execution_count": null,
      "outputs": []
    }
  ]
}