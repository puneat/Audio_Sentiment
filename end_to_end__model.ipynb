{
  "nbformat": 4,
  "nbformat_minor": 0,
  "metadata": {
    "colab": {
      "name": "end-to-end__model.ipynb",
      "provenance": [],
      "authorship_tag": "ABX9TyPE3j8ldFb4Y5s9GDcdAZxb",
      "include_colab_link": true
    },
    "kernelspec": {
      "name": "python3",
      "display_name": "Python 3"
    }
  },
  "cells": [
    {
      "cell_type": "markdown",
      "metadata": {
        "id": "view-in-github",
        "colab_type": "text"
      },
      "source": [
        "<a href=\"https://colab.research.google.com/github/puneat/Audio_Sentiment/blob/master/end_to_end__model.ipynb\" target=\"_parent\"><img src=\"https://colab.research.google.com/assets/colab-badge.svg\" alt=\"Open In Colab\"/></a>"
      ]
    },
    {
      "cell_type": "code",
      "metadata": {
        "id": "MnFGqIDdTb2x",
        "colab_type": "code",
        "colab": {}
      },
      "source": [
        ""
      ],
      "execution_count": null,
      "outputs": []
    },
    {
      "cell_type": "code",
      "metadata": {
        "id": "WRi7JoGc3T3J",
        "colab_type": "code",
        "colab": {
          "base_uri": "https://localhost:8080/",
          "height": 35
        },
        "outputId": "166a45fd-4f7e-4fe1-e8d7-4babcde40f11"
      },
      "source": [
        "from google.colab import drive\n",
        "drive.mount('/gdrive', force_remount=True)"
      ],
      "execution_count": null,
      "outputs": [
        {
          "output_type": "stream",
          "text": [
            "Mounted at /gdrive\n"
          ],
          "name": "stdout"
        }
      ]
    },
    {
      "cell_type": "code",
      "metadata": {
        "_cell_guid": "79c7e3d0-c299-4dcb-8224-4455121ee9b0",
        "_uuid": "d629ff2d2480ee46fbb7e2d37f6b5fab8052498a",
        "id": "s_IdA4makRmI",
        "colab_type": "code",
        "colab": {
          "base_uri": "https://localhost:8080/",
          "height": 91
        },
        "outputId": "838c5217-f716-470c-a1c6-b684bb8feeb6"
      },
      "source": [
        "# Keras\n",
        "import keras\n",
        "from keras import regularizers\n",
        "from keras.preprocessing import sequence\n",
        "from keras.preprocessing.text import Tokenizer\n",
        "from keras.preprocessing.sequence import pad_sequences\n",
        "from keras.models import Sequential, Model, model_from_json\n",
        "from keras.layers import Dense, Embedding, LSTM, Reshape\n",
        "from keras.layers import Input, Flatten, Dropout, Activation, BatchNormalization\n",
        "from keras.layers import Conv1D, MaxPooling1D, AveragePooling1D\n",
        "from keras.utils import np_utils, to_categorical\n",
        "from keras.callbacks import (EarlyStopping, LearningRateScheduler,\n",
        "                             ModelCheckpoint, TensorBoard, ReduceLROnPlateau)\n",
        "from keras import losses, models, optimizers\n",
        "from keras.activations import relu, softmax\n",
        "from keras.layers import (Convolution2D, AveragePooling2D, BatchNormalization, Flatten, Dropout,\n",
        "                          GlobalMaxPool2D, MaxPool2D, concatenate, Activation, Input, Dense)\n",
        "\n",
        "# sklearn\n",
        "from sklearn.metrics import confusion_matrix, accuracy_score\n",
        "from sklearn.model_selection import train_test_split\n",
        "from sklearn.preprocessing import LabelEncoder\n",
        "\n",
        "# Other  \n",
        "from tqdm import tqdm, tqdm_pandas\n",
        "import scipy\n",
        "from scipy.stats import skew\n",
        "import librosa\n",
        "import librosa.display\n",
        "import json\n",
        "import numpy as np\n",
        "import matplotlib.pyplot as plt\n",
        "import tensorflow as tf\n",
        "from matplotlib.pyplot import specgram\n",
        "import pandas as pd\n",
        "import seaborn as sns\n",
        "import glob \n",
        "import os\n",
        "import sys\n",
        "import IPython.display as ipd  # To play sound in the notebook\n",
        "import warnings\n",
        "# ignore warnings \n",
        "if not sys.warnoptions:\n",
        "    warnings.simplefilter(\"ignore\")"
      ],
      "execution_count": null,
      "outputs": [
        {
          "output_type": "stream",
          "text": [
            "Using TensorFlow backend.\n",
            "/usr/local/lib/python3.6/dist-packages/statsmodels/tools/_testing.py:19: FutureWarning: pandas.util.testing is deprecated. Use the functions in the public API at pandas.testing instead.\n",
            "  import pandas.util.testing as tm\n"
          ],
          "name": "stderr"
        }
      ]
    },
    {
      "cell_type": "code",
      "metadata": {
        "id": "780l8IrJP4zV",
        "colab_type": "code",
        "colab": {}
      },
      "source": [
        "X_test_f=np.load('/gdrive/My Drive/Audio_files/female_x_test.npy')\n",
        "y_test_f=np.load('/gdrive/My Drive/Audio_files/female_y_test.npy')\n",
        "X_test_m=np.load('/gdrive/My Drive/Audio_files/male_x_test.npy')\n",
        "y_test_m=np.load('/gdrive/My Drive/Audio_files/male_y_test.npy')"
      ],
      "execution_count": null,
      "outputs": []
    },
    {
      "cell_type": "code",
      "metadata": {
        "id": "xk4yDAcIdB2D",
        "colab_type": "code",
        "colab": {}
      },
      "source": [
        "X_test=np.concatenate((X_test_f,X_test_m),axis=0)\n",
        "y_test=np.concatenate((y_test_f,y_test_m),axis=0)"
      ],
      "execution_count": null,
      "outputs": []
    },
    {
      "cell_type": "markdown",
      "metadata": {
        "id": "e8l01LD1Yf6B",
        "colab_type": "text"
      },
      "source": [
        "Gender Model"
      ]
    },
    {
      "cell_type": "code",
      "metadata": {
        "id": "LdUAXdtUTSG-",
        "colab_type": "code",
        "colab": {}
      },
      "source": [
        "# loading json and model architecture \n",
        "json_file = open('/gdrive/My Drive/Audio_files/saved_models/json/g_gender_2d_gap_cnn_final_2.json', 'r')\n",
        "gender_model_json = json_file.read()\n",
        "json_file.close()\n",
        "gender_model = model_from_json(gender_model_json)\n",
        "\n",
        "# load weights into new model\n",
        "gender_model.load_weights(\"/gdrive/My Drive/Audio_files/saved_models/hdf5/g_gender_2d_gap_cnn_final_2.hdf5\")\n",
        "print(\"Loaded model from disk\")\n",
        " \n",
        "# Keras optimiser\n",
        "opt = keras.optimizers.Adam(lr=0.001, amsgrad=True)\n",
        "gender_model.compile(loss='categorical_crossentropy', optimizer=opt, metrics=['accuracy'])\n",
        "score = gender_model.evaluate(X_test, y_test, verbose=1)\n",
        "print(\"%s: %.2f%%\" % (gender_model.metrics_names[1], score[1]*100))"
      ],
      "execution_count": null,
      "outputs": []
    },
    {
      "cell_type": "markdown",
      "metadata": {
        "id": "6fJmDjjVYiTm",
        "colab_type": "text"
      },
      "source": [
        "Female model"
      ]
    },
    {
      "cell_type": "code",
      "metadata": {
        "id": "mNvDuE5DYeKo",
        "colab_type": "code",
        "colab": {}
      },
      "source": [
        "# loading json and model architecture \n",
        "json_file = open('/gdrive/My Drive/Audio_files/saved_models/json/g_female_2d_gap_cnn_final_2.json', 'r')\n",
        "female_model_json = json_file.read()\n",
        "json_file.close()\n",
        "female_model = model_from_json(female_model_json)\n",
        "\n",
        "# load weights into new model\n",
        "loaded_model.load_weights(\"/gdrive/My Drive/Audio_files/saved_models/hdf5/g_female_2d_gap_cnn_final_2.hdf5\")\n",
        "print(\"Loaded model from disk\")\n",
        " \n",
        "# Keras optimiser\n",
        "opt = keras.optimizers.Adam(lr=0.001, amsgrad=True)\n",
        "female_model.compile(loss='categorical_crossentropy', optimizer=opt, metrics=['accuracy'])\n",
        "score = female_model.evaluate(X_test, y_test, verbose=1)\n",
        "print(\"%s: %.2f%%\" % (female_model.metrics_names[1], score[1]*100))"
      ],
      "execution_count": null,
      "outputs": []
    },
    {
      "cell_type": "markdown",
      "metadata": {
        "id": "PMaYeABrYj0l",
        "colab_type": "text"
      },
      "source": [
        "Male Model"
      ]
    },
    {
      "cell_type": "code",
      "metadata": {
        "id": "fqtaVukUYeUD",
        "colab_type": "code",
        "colab": {}
      },
      "source": [
        "# loading json and model architecture \n",
        "json_file = open('/gdrive/My Drive/Audio_files/saved_models/json/g_male_2d_gap_cnn_final.json', 'r')\n",
        "male_model_json = json_file.read()\n",
        "json_file.close()\n",
        "male_model = model_from_json(male_model_json)\n",
        "\n",
        "# load weights into new model\n",
        "male_model.load_weights(\"/gdrive/My Drive/Audio_files/saved_models/hdf5/g_male_2d_gap_cnn_final.hdf5\")\n",
        "print(\"Loaded model from disk\")\n",
        " \n",
        "# Keras optimiser\n",
        "opt = keras.optimizers.Adam(lr=0.001, amsgrad=True)\n",
        "male_model.compile(loss='categorical_crossentropy', optimizer=opt, metrics=['accuracy'])\n",
        "score = male_model.evaluate(X_test, y_test, verbose=1)\n",
        "print(\"%s: %.2f%%\" % (male_model.metrics_names[1], score[1]*100))"
      ],
      "execution_count": null,
      "outputs": []
    },
    {
      "cell_type": "code",
      "metadata": {
        "id": "SNx_YhRyME8J",
        "colab_type": "code",
        "colab": {
          "base_uri": "https://localhost:8080/",
          "height": 53
        },
        "outputId": "b443ed5c-c9e6-44d4-96d9-9c46ececdb80"
      },
      "source": [
        "preds_gender = gender_model.predict(X_test, \n",
        "                         batch_size=100, \n",
        "                         verbose=1)\n",
        "preds_gender=preds_gender.argmax(axis=1)\n",
        "preds_gender"
      ],
      "execution_count": null,
      "outputs": [
        {
          "output_type": "stream",
          "text": [
            "8435/8435 [==============================] - 3s 356us/step\n"
          ],
          "name": "stdout"
        },
        {
          "output_type": "execute_result",
          "data": {
            "text/plain": [
              "array([0, 5, 2, ..., 0, 5, 4])"
            ]
          },
          "metadata": {
            "tags": []
          },
          "execution_count": 34
        }
      ]
    },
    {
      "cell_type": "code",
      "metadata": {
        "id": "irHpgoQRekof",
        "colab_type": "code",
        "colab": {}
      },
      "source": [
        "X_test[0]"
      ],
      "execution_count": null,
      "outputs": []
    },
    {
      "cell_type": "code",
      "metadata": {
        "id": "-Ziim2e-eTHP",
        "colab_type": "code",
        "colab": {}
      },
      "source": [
        "for i in range(0,len(preds_gender)):\n",
        "  if preds_gender[i]==0:\n",
        "    preds_to_female.append(X_test[i])\n",
        "  elif preds_gender[i]==1:\n",
        "    preds_to_male.append(X_test[i])"
      ],
      "execution_count": null,
      "outputs": []
    },
    {
      "cell_type": "code",
      "metadata": {
        "id": "k9xo9sy3MGcF",
        "colab_type": "code",
        "colab": {
          "base_uri": "https://localhost:8080/",
          "height": 359
        },
        "outputId": "ab267688-83bb-4c72-e461-99e9a301de2d"
      },
      "source": [
        "# predictions \n",
        "preds_gender = preds_gender.astype(int).flatten()\n",
        "# preds = (lb.inverse_transform((preds)))\n",
        "preds_gender = pd.DataFrame({'predictedvalues': preds_gender})\n",
        "\n",
        "# Actual labels\n",
        "actual_gender=y_test.argmax(axis=1)\n",
        "actual_gender = actual_gender.astype(int).flatten()\n",
        "# actual = (lb.inverse_transform((actual)))\n",
        "actual_gender = pd.DataFrame({'actualvalues': actual_gender})\n",
        "\n",
        "finaldf_gender = actual_gender.join(preds)\n",
        "finaldf_gender[170:180]"
      ],
      "execution_count": null,
      "outputs": [
        {
          "output_type": "execute_result",
          "data": {
            "text/html": [
              "<div>\n",
              "<style scoped>\n",
              "    .dataframe tbody tr th:only-of-type {\n",
              "        vertical-align: middle;\n",
              "    }\n",
              "\n",
              "    .dataframe tbody tr th {\n",
              "        vertical-align: top;\n",
              "    }\n",
              "\n",
              "    .dataframe thead th {\n",
              "        text-align: right;\n",
              "    }\n",
              "</style>\n",
              "<table border=\"1\" class=\"dataframe\">\n",
              "  <thead>\n",
              "    <tr style=\"text-align: right;\">\n",
              "      <th></th>\n",
              "      <th>actualvalues</th>\n",
              "      <th>predictedvalues</th>\n",
              "    </tr>\n",
              "  </thead>\n",
              "  <tbody>\n",
              "    <tr>\n",
              "      <th>170</th>\n",
              "      <td>2</td>\n",
              "      <td>2</td>\n",
              "    </tr>\n",
              "    <tr>\n",
              "      <th>171</th>\n",
              "      <td>3</td>\n",
              "      <td>0</td>\n",
              "    </tr>\n",
              "    <tr>\n",
              "      <th>172</th>\n",
              "      <td>5</td>\n",
              "      <td>5</td>\n",
              "    </tr>\n",
              "    <tr>\n",
              "      <th>173</th>\n",
              "      <td>0</td>\n",
              "      <td>0</td>\n",
              "    </tr>\n",
              "    <tr>\n",
              "      <th>174</th>\n",
              "      <td>3</td>\n",
              "      <td>3</td>\n",
              "    </tr>\n",
              "    <tr>\n",
              "      <th>175</th>\n",
              "      <td>2</td>\n",
              "      <td>2</td>\n",
              "    </tr>\n",
              "    <tr>\n",
              "      <th>176</th>\n",
              "      <td>2</td>\n",
              "      <td>2</td>\n",
              "    </tr>\n",
              "    <tr>\n",
              "      <th>177</th>\n",
              "      <td>0</td>\n",
              "      <td>0</td>\n",
              "    </tr>\n",
              "    <tr>\n",
              "      <th>178</th>\n",
              "      <td>0</td>\n",
              "      <td>0</td>\n",
              "    </tr>\n",
              "    <tr>\n",
              "      <th>179</th>\n",
              "      <td>3</td>\n",
              "      <td>3</td>\n",
              "    </tr>\n",
              "  </tbody>\n",
              "</table>\n",
              "</div>"
            ],
            "text/plain": [
              "     actualvalues  predictedvalues\n",
              "170             2                2\n",
              "171             3                0\n",
              "172             5                5\n",
              "173             0                0\n",
              "174             3                3\n",
              "175             2                2\n",
              "176             2                2\n",
              "177             0                0\n",
              "178             0                0\n",
              "179             3                3"
            ]
          },
          "metadata": {
            "tags": []
          },
          "execution_count": 35
        }
      ]
    },
    {
      "cell_type": "code",
      "metadata": {
        "id": "j_ZGPQDJMISc",
        "colab_type": "code",
        "colab": {
          "base_uri": "https://localhost:8080/",
          "height": 297
        },
        "outputId": "02a06d0d-a985-4d5d-dad8-7117a73b8d55"
      },
      "source": [
        "# Write out the predictions to disk\n",
        "finaldf_gender.to_csv('/gdrive/My Drive/Audio_files/Predictions_gender.csv', index=False)\n",
        "finaldf_gender.groupby('predictedvalues').count()"
      ],
      "execution_count": null,
      "outputs": [
        {
          "output_type": "execute_result",
          "data": {
            "text/html": [
              "<div>\n",
              "<style scoped>\n",
              "    .dataframe tbody tr th:only-of-type {\n",
              "        vertical-align: middle;\n",
              "    }\n",
              "\n",
              "    .dataframe tbody tr th {\n",
              "        vertical-align: top;\n",
              "    }\n",
              "\n",
              "    .dataframe thead th {\n",
              "        text-align: right;\n",
              "    }\n",
              "</style>\n",
              "<table border=\"1\" class=\"dataframe\">\n",
              "  <thead>\n",
              "    <tr style=\"text-align: right;\">\n",
              "      <th></th>\n",
              "      <th>actualvalues</th>\n",
              "    </tr>\n",
              "    <tr>\n",
              "      <th>predictedvalues</th>\n",
              "      <th></th>\n",
              "    </tr>\n",
              "  </thead>\n",
              "  <tbody>\n",
              "    <tr>\n",
              "      <th>0</th>\n",
              "      <td>1308</td>\n",
              "    </tr>\n",
              "    <tr>\n",
              "      <th>1</th>\n",
              "      <td>1286</td>\n",
              "    </tr>\n",
              "    <tr>\n",
              "      <th>2</th>\n",
              "      <td>1316</td>\n",
              "    </tr>\n",
              "    <tr>\n",
              "      <th>3</th>\n",
              "      <td>1314</td>\n",
              "    </tr>\n",
              "    <tr>\n",
              "      <th>4</th>\n",
              "      <td>1292</td>\n",
              "    </tr>\n",
              "    <tr>\n",
              "      <th>5</th>\n",
              "      <td>1322</td>\n",
              "    </tr>\n",
              "    <tr>\n",
              "      <th>6</th>\n",
              "      <td>597</td>\n",
              "    </tr>\n",
              "  </tbody>\n",
              "</table>\n",
              "</div>"
            ],
            "text/plain": [
              "                 actualvalues\n",
              "predictedvalues              \n",
              "0                        1308\n",
              "1                        1286\n",
              "2                        1316\n",
              "3                        1314\n",
              "4                        1292\n",
              "5                        1322\n",
              "6                         597"
            ]
          },
          "metadata": {
            "tags": []
          },
          "execution_count": 36
        }
      ]
    },
    {
      "cell_type": "code",
      "metadata": {
        "id": "UrHPnwA1ML9q",
        "colab_type": "code",
        "colab": {}
      },
      "source": [
        "# the confusion matrix heat map plot\n",
        "def print_confusion_matrix(confusion_matrix, class_names, figsize = (10,7), fontsize=14):\n",
        "\n",
        "    df_cm = pd.DataFrame(\n",
        "        confusion_matrix, index=class_names, columns=class_names)\n",
        "    fig = plt.figure(figsize=figsize)\n",
        "    heatmap = sns.heatmap(df_cm, annot=True, fmt=\"d\")\n",
        "        \n",
        "    heatmap.yaxis.set_ticklabels(heatmap.yaxis.get_ticklabels(), rotation=0, ha='right', fontsize=fontsize)\n",
        "    heatmap.xaxis.set_ticklabels(heatmap.xaxis.get_ticklabels(), rotation=45, ha='right', fontsize=fontsize)\n",
        "    plt.ylabel('True label')\n",
        "    plt.xlabel('Predicted label')\n",
        "\n",
        "# Gender recode function\n",
        "def gender(row):\n",
        "    if row == 'male_angry' or 'male_fear' or 'male_happy' or 'male_sad' or 'male_surprise' or 'male_neutral' or 'male_disgust':\n",
        "        return 'male'\n"
      ],
      "execution_count": null,
      "outputs": []
    },
    {
      "cell_type": "code",
      "metadata": {
        "id": "g-XBFhdwMOT5",
        "colab_type": "code",
        "colab": {
          "base_uri": "https://localhost:8080/",
          "height": 467
        },
        "outputId": "8ed66deb-8e04-4ba7-8605-36b4022a688d"
      },
      "source": [
        "# Get the predictions file \n",
        "finaldf_gender = pd.read_csv(\"/gdrive/My Drive/Audio_files/Predictions_gender.csv\")\n",
        "classes = finaldf_gender.actualvalues.unique()\n",
        "classes.sort()    \n",
        "\n",
        "# Confusion matrix \n",
        "c = confusion_matrix(finaldf.actualvalues, finaldf.predictedvalues)\n",
        "print(accuracy_score(finaldf.actualvalues, finaldf.predictedvalues))\n",
        "print_confusion_matrix(c, class_names = classes)"
      ],
      "execution_count": null,
      "outputs": [
        {
          "output_type": "stream",
          "text": [
            "0.9688203912270302\n"
          ],
          "name": "stdout"
        },
        {
          "output_type": "display_data",
          "data": {
            "image/png": "[encoded data removed]",
            "text/plain": [
              "<Figure size 720x504 with 2 Axes>"
            ]
          },
          "metadata": {
            "tags": [],
            "needs_background": "light"
          }
        }
      ]
    },
    {
      "cell_type": "code",
      "metadata": {
        "id": "WdtXhXpjMQUy",
        "colab_type": "code",
        "colab": {
          "base_uri": "https://localhost:8080/",
          "height": 269
        },
        "outputId": "8d875a70-b3d8-48c7-a005-33d8ff35ccf6"
      },
      "source": [
        "# Classification report \n",
        "classes = finaldf.actualvalues.unique()\n",
        "classes.sort()    \n",
        "print(classification_report(finaldf.actualvalues, finaldf.predictedvalues))"
      ],
      "execution_count": null,
      "outputs": [
        {
          "output_type": "stream",
          "text": [
            "              precision    recall  f1-score   support\n",
            "\n",
            "           0       0.98      0.98      0.98      1312\n",
            "           1       0.97      0.95      0.96      1315\n",
            "           2       0.96      0.96      0.96      1315\n",
            "           3       0.97      0.97      0.97      1316\n",
            "           4       0.96      0.98      0.97      1267\n",
            "           5       0.96      0.96      0.96      1315\n",
            "           6       0.99      1.00      1.00       595\n",
            "\n",
            "    accuracy                           0.97      8435\n",
            "   macro avg       0.97      0.97      0.97      8435\n",
            "weighted avg       0.97      0.97      0.97      8435\n",
            "\n"
          ],
          "name": "stdout"
        }
      ]
    }
  ]
}